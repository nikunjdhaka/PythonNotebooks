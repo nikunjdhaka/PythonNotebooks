{
 "cells": [
  {
   "cell_type": "markdown",
   "id": "4fbf3356",
   "metadata": {},
   "source": [
    "# Git Commands"
   ]
  },
  {
   "cell_type": "code",
   "execution_count": 17,
   "id": "242d7fcb",
   "metadata": {},
   "outputs": [],
   "source": [
    "# git --version                      # Check Git version"
   ]
  },
  {
   "cell_type": "code",
   "execution_count": 18,
   "id": "0de8204d",
   "metadata": {},
   "outputs": [],
   "source": [
    "# git config --global user.name \"Your Name\"\n",
    "# git config --global user.email \"you@example.com\""
   ]
  },
  {
   "cell_type": "code",
   "execution_count": 19,
   "id": "34652bae",
   "metadata": {},
   "outputs": [],
   "source": [
    "# git config --list                  # Show all Git config"
   ]
  },
  {
   "cell_type": "code",
   "execution_count": 20,
   "id": "d3b42d63",
   "metadata": {},
   "outputs": [],
   "source": [
    "# git init                           # Initialize a new local Git repo"
   ]
  },
  {
   "cell_type": "code",
   "execution_count": 21,
   "id": "478265c3",
   "metadata": {},
   "outputs": [],
   "source": [
    "# git clone <url>                    # Clone a remote repo"
   ]
  },
  {
   "cell_type": "markdown",
   "id": "f151be15",
   "metadata": {},
   "source": [
    "## Working with Files\n",
    "#### git init -> git add . -> git commit -m \"\" -> git push"
   ]
  },
  {
   "cell_type": "code",
   "execution_count": 22,
   "id": "ffd08f0d",
   "metadata": {},
   "outputs": [],
   "source": [
    "\n",
    "\n",
    "\n",
    "# git status                         # Check status of files\n",
    "\n",
    "# git add file.txt                   # Add file to staging, makes them ready for next commit\n",
    "# git add file1.txt file2.txt file3.py\n",
    "# git add .                          # Add ALL changes\n",
    "\n",
    "# git add unwanted.txt          # Oops! Added it by mistake\n",
    "# git restore --staged unwanted.txt\n",
    "# git restore --staged .        # ustage all files that are staged by add\n",
    "\n",
    "# git commit -m \"message\"            # Commit staged changes\n",
    "# fit add . && git commit -m \"message\" \n",
    "# git commit -am \"msg\"               # Add & commit tracked files\n",
    "# git commit --amend -m \"New and better message\" \n",
    "\n",
    "# git rm file.txt                    # Delete file & stage\n",
    "# git mv old.txt new.txt             # Rename file\n",
    "\n",
    "# git remote add origin \"LINK\"       # sets up connection with github and tell the git to push it to this link\n",
    "\n",
    "# git push -u origin main\n",
    "# In Git, \"upstream\" refers to the remote branch that your local branch is tracking.\n",
    "# git push                           # in case you are already in main, can check by # git branch\n",
    "\n",
    "# git clone URL                      # bring files from remote rep to local system\n",
    "# git clone https://github.com/nikunjdhaka/python-learning.git my_folder\n",
    "# it will clone python-learning and This creates a folder named my_folder instead of python-learning.\n",
    "# It will contain all the code, commit history, and the .git folder.\n"
   ]
  },
  {
   "cell_type": "code",
   "execution_count": 23,
   "id": "4ecc5235",
   "metadata": {},
   "outputs": [],
   "source": [
    "# in case there is new file addition on remote rep\n",
    "# plus we did some changes in one of the file in local system.\n",
    "# before pushing the changed file version, we have to do git pull, to match the number of files in remote rep and local system"
   ]
  },
  {
   "cell_type": "markdown",
   "id": "3223bafa",
   "metadata": {},
   "source": [
    "## Branching"
   ]
  },
  {
   "cell_type": "code",
   "execution_count": 24,
   "id": "69484527",
   "metadata": {},
   "outputs": [],
   "source": [
    "# git branch                         # List branches\n",
    "# git branch test_1                  # Create new branch\n",
    "# git checkout test_1                # Switch to branch\n",
    "# git checkout -b dev                # Create + switch\n",
    "# git branch -d dev                  # Delete branch\n",
    "# git merge dev                      # Merge dev into current branch"
   ]
  },
  {
   "cell_type": "markdown",
   "id": "7284352d",
   "metadata": {},
   "source": [
    "## Remote Repos"
   ]
  },
  {
   "cell_type": "code",
   "execution_count": 25,
   "id": "96b28ce0",
   "metadata": {},
   "outputs": [],
   "source": [
    "# git remote -v                      # List remotes\n",
    "# git remote add origin <url>       # Link remote repo\n",
    "# git push -u origin main            # Push initial branch\n",
    "# git push                           # Push changes\n",
    "# git pull                           # Pull latest\n"
   ]
  },
  {
   "cell_type": "markdown",
   "id": "54d30afe",
   "metadata": {},
   "source": [
    "## Undoing Things"
   ]
  },
  {
   "cell_type": "code",
   "execution_count": 26,
   "id": "bb163e8e",
   "metadata": {},
   "outputs": [],
   "source": [
    "# git checkout -- file.txt           # Discard local changes\n",
    "# git reset file.txt                 # Unstage a file\n",
    "# git reset --hard                   # Discard ALL changes\n",
    "# git revert <commit_id>            # Undo a commit safely"
   ]
  },
  {
   "cell_type": "markdown",
   "id": "2cf6d9bd",
   "metadata": {},
   "source": [
    "## BASH commands"
   ]
  },
  {
   "cell_type": "code",
   "execution_count": 27,
   "id": "516717a5",
   "metadata": {},
   "outputs": [],
   "source": [
    "# ls                                                        -> List Directory Contents\n",
    "# ls -a                                                     -> List Directory Contents (Shows hidden files (like .git, .env, etc.))\n",
    "# dir                                                       -> use dir instead of ls in CMD\n",
    "\n",
    "# cd \"data science folder\"                                  -> go inside this folder \n",
    "# cd 'Data Science Folder/Python Notebooks/KNA Notebooks'   -> path to destination folder\n",
    "# cd ..                                                     -> means \"go up/back one folder\"\n",
    "# cd ../..                                                  -> means \"go up two folders\"\n",
    "# cd ../../..                                               -> means three levels up\n",
    "\n",
    "# pwd                                                       -> present working directory (where you are right now)\n",
    "\n",
    "# mkdir foldername                                          -> Create a new folder\n",
    "\n",
    "# touch file.txt                                            -> Create a new empty file\n",
    "\n",
    "# rm file.txt                                               -> Delete a file\n",
    "# rm -r foldername/                                         -> Delete a folder and its contents\n",
    "\n",
    "# source myenv/bin/activate                                 -> Activate virtual env (Linux/macOS/Git Bash)\n",
    "# myenv\\Scripts\\activate                                    -> Activate virtual env (Windows CMD)\n",
    "\n",
    "# python -m pip install termcolor                           -> bypass pip.exe and install module (after activating virtual env)"
   ]
  }
 ],
 "metadata": {
  "kernelspec": {
   "display_name": "myenv",
   "language": "python",
   "name": "python3"
  },
  "language_info": {
   "codemirror_mode": {
    "name": "ipython",
    "version": 3
   },
   "file_extension": ".py",
   "mimetype": "text/x-python",
   "name": "python",
   "nbconvert_exporter": "python",
   "pygments_lexer": "ipython3",
   "version": "3.13.5"
  }
 },
 "nbformat": 4,
 "nbformat_minor": 5
}

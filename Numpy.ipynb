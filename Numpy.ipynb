{
 "cells": [
  {
   "cell_type": "markdown",
   "metadata": {
    "id": "pgIYpcBRll0d"
   },
   "source": [
    "# Numpy"
   ]
  },
  {
   "cell_type": "markdown",
   "metadata": {},
   "source": [
    "![Numpyimage](images/Numpy_image.jpg)"
   ]
  },
  {
   "cell_type": "markdown",
   "metadata": {
    "id": "vtWJytiBlt0D"
   },
   "source": [
    "Array is collection of homogeneous data type elements\n",
    "\n",
    "Numpy is not python, its a python tool/library written in optimized C , which makes it more efficient and fast to do calculations"
   ]
  },
  {
   "cell_type": "markdown",
   "metadata": {
    "id": "HfoUIjM5oEUx"
   },
   "source": [
    "# np.array()"
   ]
  },
  {
   "cell_type": "code",
   "execution_count": 8,
   "metadata": {
    "executionInfo": {
     "elapsed": 44,
     "status": "ok",
     "timestamp": 1751748953931,
     "user": {
      "displayName": "Nikunj Dhaka",
      "userId": "07981058552825574146"
     },
     "user_tz": 420
    },
    "id": "QRt_RTmtoLt3"
   },
   "outputs": [],
   "source": [
    "import numpy as np"
   ]
  },
  {
   "cell_type": "code",
   "execution_count": 9,
   "metadata": {
    "id": "jXuKL2x0lo9u"
   },
   "outputs": [],
   "source": [
    "array_n1 = np.array([1,2,3])"
   ]
  },
  {
   "cell_type": "code",
   "execution_count": 10,
   "metadata": {
    "colab": {
     "base_uri": "https://localhost:8080/"
    },
    "executionInfo": {
     "elapsed": 10,
     "status": "ok",
     "timestamp": 1751702915137,
     "user": {
      "displayName": "Nikunj Dhaka",
      "userId": "07981058552825574146"
     },
     "user_tz": 420
    },
    "id": "JaEkOQigoKIZ",
    "outputId": "69c5d17a-496e-4fdb-f322-05609d6351ca"
   },
   "outputs": [
    {
     "name": "stdout",
     "output_type": "stream",
     "text": [
      "[1 2 3]\n",
      "<class 'numpy.ndarray'>\n",
      "<class 'numpy.int64'>\n"
     ]
    }
   ],
   "source": [
    "print(array_n1)\n",
    "print(type(array_n1))\n",
    "print(type(array_n1[0])) # by default the type is int 64\n",
    "# we have int8, 16, 32, 64 / float16, 32, 64 / complex64, 128 / np.bool_ / np.str_ / np.object_"
   ]
  },
  {
   "cell_type": "code",
   "execution_count": 11,
   "metadata": {
    "colab": {
     "base_uri": "https://localhost:8080/"
    },
    "executionInfo": {
     "elapsed": 22,
     "status": "ok",
     "timestamp": 1751702918502,
     "user": {
      "displayName": "Nikunj Dhaka",
      "userId": "07981058552825574146"
     },
     "user_tz": 420
    },
    "id": "F5xGMR_ZoR61",
    "outputId": "7fd2552e-615c-4d77-c771-6eb229ca1a66"
   },
   "outputs": [
    {
     "name": "stdout",
     "output_type": "stream",
     "text": [
      "<class 'numpy.ndarray'>\n",
      "<class 'numpy.int8'>\n"
     ]
    }
   ],
   "source": [
    "array_n2 = np.array([1,2,3], dtype=np.int8) # we have int8, 16, 32, 64 / float16, 32, 64 / complex64, 128 / np.bool_ / np.str_ / np.object_\n",
    "print(type(array_n2))\n",
    "print(type(array_n2[0]))"
   ]
  },
  {
   "cell_type": "code",
   "execution_count": 12,
   "metadata": {},
   "outputs": [
    {
     "name": "stdout",
     "output_type": "stream",
     "text": [
      "<class 'numpy.ndarray'>\n",
      "<class 'numpy.str_'>\n"
     ]
    }
   ],
   "source": [
    "array_n2_ = np.array([1,2,\"hello\"]) # just by using one string we are converting whole array of strings\n",
    "print(type(array_n2_))\n",
    "print(type(array_n2_[0])) # final array is: ['1', '2', 'hello']\n"
   ]
  },
  {
   "cell_type": "code",
   "execution_count": 14,
   "metadata": {},
   "outputs": [
    {
     "name": "stdout",
     "output_type": "stream",
     "text": [
      "<class 'numpy.ndarray'>\n",
      "<class 'int'>\n",
      "<class 'list'>\n"
     ]
    }
   ],
   "source": [
    "array_n2_1 = np.array([1,2,\"hello\", [10,20,30], {'nikunj', 'dhaka'}], dtype = np.object_)\n",
    "print(type(array_n2_1))\n",
    "print(type(array_n2_1[0])) \n",
    "print(type(array_n2_1[3])) \n",
    "# we can change the data type of the numpy array as object and make it act like a list.\n",
    "# Now it will have heterogeneous (mixed) data types objects inside\n",
    "# Internally, it behaves more like a Python list, not optimized for performance.\n",
    "# dtype=object in NumPy arrays will reduce performance compared to standard NumPy arrays with homogeneous data types\n",
    "#  -- Loss of Vectorization : NumPy's speed comes from vectorized operations using low-level C code.\n",
    "# When you use object dtype, NumPy can’t apply fast math operations directly — it has to treat each element as a generic Python object.\n",
    "#  -- More Memory Overhead : Each item is a pointer to a Python object.\n",
    "#  -- Many NumPy functions won’t work : Functions like .mean(), .sum(), or slicing may fail or behave differently with dtype=object.\n",
    "\n"
   ]
  },
  {
   "cell_type": "code",
   "execution_count": 49,
   "metadata": {
    "colab": {
     "base_uri": "https://localhost:8080/"
    },
    "executionInfo": {
     "elapsed": 18,
     "status": "ok",
     "timestamp": 1751703029043,
     "user": {
      "displayName": "Nikunj Dhaka",
      "userId": "07981058552825574146"
     },
     "user_tz": 420
    },
    "id": "iPtbSIHwoVOl",
    "outputId": "821643f4-9037-4341-9dd6-d44b49def652"
   },
   "outputs": [
    {
     "name": "stdout",
     "output_type": "stream",
     "text": [
      "[1 2 3]\n",
      "<class 'numpy.ndarray'>\n",
      "<class 'numpy.int8'>\n"
     ]
    }
   ],
   "source": [
    "# array_n2 = np.array([1,2,\"hello\"], dtype=np.int8) # This would throw an error as we cant convrt hello to any integer\n",
    "array_n2 = np.array([1,2,\"3\"], dtype=np.int8) # over here \"3\" is getting converted to int data type, internally\n",
    "print(array_n2)\n",
    "print(type(array_n2))\n",
    "print(type(array_n2[0]))"
   ]
  },
  {
   "cell_type": "code",
   "execution_count": 50,
   "metadata": {
    "colab": {
     "base_uri": "https://localhost:8080/"
    },
    "executionInfo": {
     "elapsed": 26,
     "status": "ok",
     "timestamp": 1751703029216,
     "user": {
      "displayName": "Nikunj Dhaka",
      "userId": "07981058552825574146"
     },
     "user_tz": 420
    },
    "id": "q7znNH41odUS",
    "outputId": "5af472f8-fbc6-40f8-abf9-56858f59fd2b"
   },
   "outputs": [
    {
     "name": "stdout",
     "output_type": "stream",
     "text": [
      "[1. 2. 3.]\n",
      "<class 'numpy.ndarray'>\n",
      "<class 'numpy.float16'>\n"
     ]
    }
   ],
   "source": [
    "array_n2 = np.array([1,2,\"3\"], dtype=np.float16)\n",
    "print(array_n2)\n",
    "print(type(array_n2))\n",
    "print(type(array_n2[2]))"
   ]
  },
  {
   "cell_type": "markdown",
   "metadata": {
    "id": "kh1oVj_4o0iL"
   },
   "source": [
    "# np.arange(start, stop, step)"
   ]
  },
  {
   "cell_type": "code",
   "execution_count": 51,
   "metadata": {
    "colab": {
     "base_uri": "https://localhost:8080/"
    },
    "executionInfo": {
     "elapsed": 47,
     "status": "ok",
     "timestamp": 1751703073492,
     "user": {
      "displayName": "Nikunj Dhaka",
      "userId": "07981058552825574146"
     },
     "user_tz": 420
    },
    "id": "I6LVKr-Oojbq",
    "outputId": "d6d0558f-144f-4836-8ab5-64687d5d6d7f"
   },
   "outputs": [
    {
     "name": "stdout",
     "output_type": "stream",
     "text": [
      "[0 1 2 3 4]\n",
      "[1 3 5 7 9]\n",
      "<class 'numpy.ndarray'>\n"
     ]
    }
   ],
   "source": [
    "print(np.arange(5))\n",
    "\n",
    "print(np.arange(1, 10, 2))\n",
    "\n",
    "np_arange = np.arange(1, 10, 2)\n",
    "print(type(np_arange))"
   ]
  },
  {
   "cell_type": "markdown",
   "metadata": {
    "id": "sZT2D7CAo_FU"
   },
   "source": [
    "# np.linspace(start, stop, num=x)\n",
    "\n",
    "equally spaced x numbers between start and stop"
   ]
  },
  {
   "cell_type": "code",
   "execution_count": 52,
   "metadata": {
    "colab": {
     "base_uri": "https://localhost:8080/"
    },
    "executionInfo": {
     "elapsed": 55,
     "status": "ok",
     "timestamp": 1751703104975,
     "user": {
      "displayName": "Nikunj Dhaka",
      "userId": "07981058552825574146"
     },
     "user_tz": 420
    },
    "id": "K_xJfM-yo7HA",
    "outputId": "da51d87a-5abc-49a8-c523-1a8a33b4289f"
   },
   "outputs": [
    {
     "name": "stdout",
     "output_type": "stream",
     "text": [
      "[  1.  34.  67. 100.]\n",
      "<class 'numpy.ndarray'>\n",
      "<class 'numpy.float64'>\n"
     ]
    }
   ],
   "source": [
    "np_linspace = np.linspace(1,100,4) # 1 nad 100 are included, by default dtype - float64\n",
    "print(np_linspace)\n",
    "print(type(np_linspace))\n",
    "print(type(np_linspace[0]))"
   ]
  },
  {
   "cell_type": "code",
   "execution_count": 53,
   "metadata": {},
   "outputs": [
    {
     "name": "stdout",
     "output_type": "stream",
     "text": [
      "[ 1  2  3  4  5  6  7  8  9 10]\n",
      "<class 'numpy.ndarray'>\n",
      "<class 'numpy.int16'>\n"
     ]
    }
   ],
   "source": [
    "np_linspace_1 = np.linspace(1,10,10, dtype = np.int16)\n",
    "print(np_linspace_1)\n",
    "print(type(np_linspace_1))\n",
    "print(type(np_linspace_1[0]))"
   ]
  },
  {
   "cell_type": "code",
   "execution_count": 54,
   "metadata": {
    "colab": {
     "base_uri": "https://localhost:8080/"
    },
    "executionInfo": {
     "elapsed": 14,
     "status": "ok",
     "timestamp": 1751703145123,
     "user": {
      "displayName": "Nikunj Dhaka",
      "userId": "07981058552825574146"
     },
     "user_tz": 420
    },
    "id": "rwBJ-clSpCyM",
    "outputId": "c7527b4d-ab5b-4fec-f9da-04c2de37daa7"
   },
   "outputs": [
    {
     "name": "stdout",
     "output_type": "stream",
     "text": [
      "1.0|2.0|3.0|4.0|5.0|6.0|7.0|8.0|9.0|10.0|"
     ]
    }
   ],
   "source": [
    "for i in np.linspace(1,10,10):\n",
    "    print(i, end = \"|\")"
   ]
  },
  {
   "cell_type": "markdown",
   "metadata": {
    "id": "u5R456G7pR90"
   },
   "source": [
    "# np.zeros(shape)"
   ]
  },
  {
   "cell_type": "code",
   "execution_count": 55,
   "metadata": {
    "colab": {
     "base_uri": "https://localhost:8080/"
    },
    "executionInfo": {
     "elapsed": 22,
     "status": "ok",
     "timestamp": 1751703233500,
     "user": {
      "displayName": "Nikunj Dhaka",
      "userId": "07981058552825574146"
     },
     "user_tz": 420
    },
    "id": "-KvjXgIapHGh",
    "outputId": "130a9a14-cc78-4c7f-b1a9-fc44e957e9cd"
   },
   "outputs": [
    {
     "name": "stdout",
     "output_type": "stream",
     "text": [
      "1\n",
      "[0. 0. 0. 0. 0.]\n"
     ]
    }
   ],
   "source": [
    "npz_1 = np.zeros(5)\n",
    "print(npz_1.ndim)\n",
    "print(npz_1)"
   ]
  },
  {
   "cell_type": "code",
   "execution_count": 56,
   "metadata": {
    "colab": {
     "base_uri": "https://localhost:8080/"
    },
    "executionInfo": {
     "elapsed": 39,
     "status": "ok",
     "timestamp": 1751703250178,
     "user": {
      "displayName": "Nikunj Dhaka",
      "userId": "07981058552825574146"
     },
     "user_tz": 420
    },
    "id": "FIBkC7VOpW7q",
    "outputId": "62dac1cd-d1b9-47e3-aafb-617184c3bc44"
   },
   "outputs": [
    {
     "name": "stdout",
     "output_type": "stream",
     "text": [
      "2\n",
      "[[0. 0. 0. 0.]\n",
      " [0. 0. 0. 0.]\n",
      " [0. 0. 0. 0.]\n",
      " [0. 0. 0. 0.]\n",
      " [0. 0. 0. 0.]]\n",
      "<class 'numpy.float64'>\n"
     ]
    }
   ],
   "source": [
    "npz_2 = np.zeros((5,4))\n",
    "print(npz_2.ndim)\n",
    "print(npz_2)\n",
    "print(type(npz_2[0][0])) # be default each zero is np.float64 data type "
   ]
  },
  {
   "cell_type": "code",
   "execution_count": 57,
   "metadata": {
    "colab": {
     "base_uri": "https://localhost:8080/"
    },
    "executionInfo": {
     "elapsed": 80,
     "status": "ok",
     "timestamp": 1751710243446,
     "user": {
      "displayName": "Nikunj Dhaka",
      "userId": "07981058552825574146"
     },
     "user_tz": 420
    },
    "id": "mEvFGH5-paAi",
    "outputId": "4f1ac6b5-ccac-4033-e325-c4c7f0ea7339"
   },
   "outputs": [
    {
     "name": "stdout",
     "output_type": "stream",
     "text": [
      "3\n",
      "(5, 4, 5)\n",
      "[[[0. 0. 0. 0. 0.]\n",
      "  [0. 0. 0. 0. 0.]\n",
      "  [0. 0. 0. 0. 0.]\n",
      "  [0. 0. 0. 0. 0.]]\n",
      "\n",
      " [[0. 0. 0. 0. 0.]\n",
      "  [0. 0. 0. 0. 0.]\n",
      "  [0. 0. 0. 0. 0.]\n",
      "  [0. 0. 0. 0. 0.]]\n",
      "\n",
      " [[0. 0. 0. 0. 0.]\n",
      "  [0. 0. 0. 0. 0.]\n",
      "  [0. 0. 0. 0. 0.]\n",
      "  [0. 0. 0. 0. 0.]]\n",
      "\n",
      " [[0. 0. 0. 0. 0.]\n",
      "  [0. 0. 0. 0. 0.]\n",
      "  [0. 0. 0. 0. 0.]\n",
      "  [0. 0. 0. 0. 0.]]\n",
      "\n",
      " [[0. 0. 0. 0. 0.]\n",
      "  [0. 0. 0. 0. 0.]\n",
      "  [0. 0. 0. 0. 0.]\n",
      "  [0. 0. 0. 0. 0.]]]\n"
     ]
    }
   ],
   "source": [
    "npz_3 = np.zeros((5,4,5))\n",
    "print(npz_3.ndim)\n",
    "print(npz_3.shape)\n",
    "print(npz_3)"
   ]
  },
  {
   "cell_type": "code",
   "execution_count": 58,
   "metadata": {},
   "outputs": [
    {
     "name": "stdout",
     "output_type": "stream",
     "text": [
      "[[0 0 0 0 0 0 0 0 0 0]\n",
      " [0 0 0 0 0 0 0 0 0 0]\n",
      " [0 0 0 0 0 0 0 0 0 0]\n",
      " [0 0 0 0 0 0 0 0 0 0]\n",
      " [0 0 0 0 0 0 0 0 0 0]\n",
      " [0 0 0 0 0 0 0 0 0 0]\n",
      " [0 0 0 0 0 0 0 0 0 0]]\n",
      "2\n"
     ]
    }
   ],
   "source": [
    "z = np.zeros((7,10), dtype = np.int16) # changing the data type to np.int16\n",
    "print(z)\n",
    "print(z.ndim)"
   ]
  },
  {
   "cell_type": "markdown",
   "metadata": {
    "id": "cU9-JQgmBMWV"
   },
   "source": [
    "# np.ones()\n",
    "Create an Array Filled with 1s\n",
    "\n",
    "np.ones(shape, dtype=None)\n",
    "\n",
    "Shape of the array — can be a tuple or integer\n",
    "\n",
    "(Optional) Data type of the array. Default is float64"
   ]
  },
  {
   "cell_type": "code",
   "execution_count": null,
   "metadata": {
    "colab": {
     "base_uri": "https://localhost:8080/"
    },
    "executionInfo": {
     "elapsed": 16,
     "status": "ok",
     "timestamp": 1751710390674,
     "user": {
      "displayName": "Nikunj Dhaka",
      "userId": "07981058552825574146"
     },
     "user_tz": 420
    },
    "id": "A3d3E-P1psOH",
    "outputId": "b6ecafee-f49e-4639-972c-fba6afd174b9"
   },
   "outputs": [
    {
     "name": "stdout",
     "output_type": "stream",
     "text": [
      "[[1 1 1 1]\n",
      " [1 1 1 1]\n",
      " [1 1 1 1]\n",
      " [1 1 1 1]\n",
      " [1 1 1 1]]\n"
     ]
    }
   ],
   "source": [
    "npo = np.ones((5,4), dtype=np.int8)\n",
    "print(npo)"
   ]
  },
  {
   "cell_type": "markdown",
   "metadata": {
    "id": "IGT5T32pE9AI"
   },
   "source": [
    "# np.full()\n",
    "Create an Array Filled with a Constant\n",
    "\n",
    "np.full(shape, fill_value, dtype=None)"
   ]
  },
  {
   "cell_type": "code",
   "execution_count": null,
   "metadata": {
    "colab": {
     "base_uri": "https://localhost:8080/"
    },
    "executionInfo": {
     "elapsed": 22,
     "status": "ok",
     "timestamp": 1751710541665,
     "user": {
      "displayName": "Nikunj Dhaka",
      "userId": "07981058552825574146"
     },
     "user_tz": 420
    },
    "id": "la3DM8wiEzL_",
    "outputId": "668fdd73-4887-463d-f9f6-f7f6883bb60e"
   },
   "outputs": [
    {
     "name": "stdout",
     "output_type": "stream",
     "text": [
      "[['A' 'A' 'A' 'A' 'A']\n",
      " ['A' 'A' 'A' 'A' 'A']\n",
      " ['A' 'A' 'A' 'A' 'A']\n",
      " ['A' 'A' 'A' 'A' 'A']\n",
      " ['A' 'A' 'A' 'A' 'A']]\n"
     ]
    }
   ],
   "source": [
    "npf = np.full((5,5), \"A\")\n",
    "print(npf)"
   ]
  },
  {
   "cell_type": "code",
   "execution_count": 66,
   "metadata": {},
   "outputs": [
    {
     "name": "stdout",
     "output_type": "stream",
     "text": [
      "<class 'numpy.int64'>\n",
      "[[1 1 1 1 1]\n",
      " [1 1 1 1 1]\n",
      " [1 1 1 1 1]\n",
      " [1 1 1 1 1]\n",
      " [1 1 1 1 1]]\n"
     ]
    }
   ],
   "source": [
    "# npf = np.full((5,5), \"A\", dtype=np.int16) #this will throw an error as dtype = np.int16 and fill value is str\n",
    "npf = np.full((5,5), 1)\n",
    "print(type(npf[0][0]))\n",
    "print(npf)"
   ]
  },
  {
   "cell_type": "code",
   "execution_count": null,
   "metadata": {},
   "outputs": [
    {
     "name": "stdout",
     "output_type": "stream",
     "text": [
      "<U6\n",
      "<class 'numpy.str_'>\n",
      "Nikunj\n",
      "[['Nikunj' 'Nikunj' 'Nikunj' 'Nikunj' 'Nikunj']\n",
      " ['Nikunj' 'Nikunj' 'Nikunj' 'Nikunj' 'Nikunj']\n",
      " ['Nikunj' 'Nikunj' 'Nikunj' 'Nikunj' 'Nikunj']\n",
      " ['Nikunj' 'Nikunj' 'Nikunj' 'Nikunj' 'Nikunj']\n",
      " ['Nikunj' 'Nikunj' 'Nikunj' 'Nikunj' 'Nikunj']]\n"
     ]
    }
   ],
   "source": [
    "npf = np.full((5,5), \"Nikunj\", dtype=np.str_)\n",
    "# Just the first character of the string is going to print\n",
    "# NumPy Unicode string (np.str_)\n",
    "print(npf.dtype) \n",
    "print(type(npf[0][0]))\n",
    "print(npf[0][0])\n",
    "print(npf)\n"
   ]
  },
  {
   "cell_type": "code",
   "execution_count": 85,
   "metadata": {},
   "outputs": [
    {
     "name": "stdout",
     "output_type": "stream",
     "text": [
      "<U6\n",
      "<class 'numpy.str_'>\n",
      "Nikunj\n",
      "[['Nikunj' 'Nikunj' 'Nikunj' 'Nikunj' 'Nikunj']\n",
      " ['Nikunj' 'Nikunj' 'Nikunj' 'Nikunj' 'Nikunj']\n",
      " ['Nikunj' 'Nikunj' 'Nikunj' 'Nikunj' 'Nikunj']\n",
      " ['Nikunj' 'Nikunj' 'Nikunj' 'Nikunj' 'Nikunj']\n",
      " ['Nikunj' 'Nikunj' 'Nikunj' 'Nikunj' 'Nikunj']]\n"
     ]
    }
   ],
   "source": [
    "npf = np.full((5,5), \"Nikunj\")\n",
    "# npf = np.full((5,5), \"Nikunj\", dtype = \"<U6\") # this can also be done\n",
    "print(npf.dtype) \n",
    "print(type(npf[0][0]))\n",
    "print(npf[0][0])\n",
    "print(npf)\n"
   ]
  },
  {
   "cell_type": "markdown",
   "metadata": {
    "id": "ow5XZYsoGCL8"
   },
   "source": [
    "# np.eye(n) - create an identity matrix\n",
    "\n",
    "np.eye(N, M=None, k=0, dtype=float)\n",
    "\n",
    "N - Number of rows | M - (Optional) Number of columns (default = N → square matrix)\n",
    "\n",
    "k -> 1 = upper , -1 = lower , 0 = Main Diagonal\n",
    "\n",
    "dtype => default = float\n",
    "\n",
    "create an identity matrix\n"
   ]
  },
  {
   "cell_type": "code",
   "execution_count": null,
   "metadata": {
    "colab": {
     "base_uri": "https://localhost:8080/"
    },
    "executionInfo": {
     "elapsed": 76,
     "status": "ok",
     "timestamp": 1751711939025,
     "user": {
      "displayName": "Nikunj Dhaka",
      "userId": "07981058552825574146"
     },
     "user_tz": 420
    },
    "id": "Sj0KK2OHFYKY",
    "outputId": "2ba6cdb8-e2a1-4369-829a-4ff13352058f"
   },
   "outputs": [
    {
     "name": "stdout",
     "output_type": "stream",
     "text": [
      "[[1. 0. 0. 0. 0. 0.]\n",
      " [0. 1. 0. 0. 0. 0.]\n",
      " [0. 0. 1. 0. 0. 0.]\n",
      " [0. 0. 0. 1. 0. 0.]\n",
      " [0. 0. 0. 0. 1. 0.]\n",
      " [0. 0. 0. 0. 0. 1.]]\n"
     ]
    }
   ],
   "source": [
    "npe = np.eye(6)\n",
    "print(npe)"
   ]
  },
  {
   "cell_type": "code",
   "execution_count": 92,
   "metadata": {
    "colab": {
     "base_uri": "https://localhost:8080/"
    },
    "executionInfo": {
     "elapsed": 40,
     "status": "ok",
     "timestamp": 1751712121518,
     "user": {
      "displayName": "Nikunj Dhaka",
      "userId": "07981058552825574146"
     },
     "user_tz": 420
    },
    "id": "XEY1_PEKK7aH",
    "outputId": "b454bcfc-3212-44f6-b3c6-acfa87670da8"
   },
   "outputs": [
    {
     "name": "stdout",
     "output_type": "stream",
     "text": [
      "[[0. 0. 0. 0. 1. 0.]\n",
      " [0. 0. 0. 0. 0. 1.]\n",
      " [0. 0. 0. 0. 0. 0.]]\n"
     ]
    }
   ],
   "source": [
    "npe = np.eye(3,6,4) # 4 is move diagonal to right side, if its negative diagonal will move downwards\n",
    "print(npe)"
   ]
  },
  {
   "cell_type": "code",
   "execution_count": 98,
   "metadata": {},
   "outputs": [
    {
     "name": "stdout",
     "output_type": "stream",
     "text": [
      "[[0 1 0 0 0 0]\n",
      " [0 0 1 0 0 0]\n",
      " [0 0 0 1 0 0]\n",
      " [0 0 0 0 1 0]\n",
      " [0 0 0 0 0 1]\n",
      " [0 0 0 0 0 0]]\n",
      "<class 'numpy.int16'>\n",
      "<class 'numpy.ndarray'>\n"
     ]
    }
   ],
   "source": [
    "npe = np.eye(6,6,1, dtype = np.int16) # 4 is move diagonal to right side, if its negative diagonal will move downwards\n",
    "print(npe)\n",
    "print(type(npe[0][0]))\n",
    "print(type(npe))"
   ]
  },
  {
   "cell_type": "markdown",
   "metadata": {
    "id": "OrBzi8FoJIIw"
   },
   "source": [
    "# np.empty(shape)\n",
    "it provides us what ever values were present as garbage\n",
    "\n",
    "content will be whatever random bytes already exist at that memory location\n",
    "\n",
    "Faster than np.zeros() or np.ones() — but use it only if you intend to overwrite the values."
   ]
  },
  {
   "cell_type": "code",
   "execution_count": 99,
   "metadata": {
    "colab": {
     "base_uri": "https://localhost:8080/"
    },
    "executionInfo": {
     "elapsed": 76,
     "status": "ok",
     "timestamp": 1751711637953,
     "user": {
      "displayName": "Nikunj Dhaka",
      "userId": "07981058552825574146"
     },
     "user_tz": 420
    },
    "id": "wVEnDPLBI9Gn",
    "outputId": "93873a54-6df1-4fbb-b064-b1a1893f170c"
   },
   "outputs": [
    {
     "name": "stdout",
     "output_type": "stream",
     "text": [
      "[[5.e-324 5.e-324 5.e-324 5.e-324 5.e-324]\n",
      " [5.e-324 5.e-324 5.e-324 5.e-324 5.e-324]\n",
      " [5.e-324 5.e-324 5.e-324 5.e-324 5.e-324]\n",
      " [5.e-324 5.e-324 5.e-324 5.e-324 5.e-324]\n",
      " [5.e-324 5.e-324 5.e-324 5.e-324 5.e-324]]\n"
     ]
    }
   ],
   "source": [
    "npem = np.empty((5,5))\n",
    "print(npem)"
   ]
  },
  {
   "cell_type": "code",
   "execution_count": 103,
   "metadata": {
    "colab": {
     "base_uri": "https://localhost:8080/"
    },
    "executionInfo": {
     "elapsed": 63,
     "status": "ok",
     "timestamp": 1751711638822,
     "user": {
      "displayName": "Nikunj Dhaka",
      "userId": "07981058552825574146"
     },
     "user_tz": 420
    },
    "id": "sAWXmqkQJRLg",
    "outputId": "d037bff2-56b3-41db-b389-f4b022f28e1f"
   },
   "outputs": [
    {
     "data": {
      "text/plain": [
       "array([[   0,    0,    0,    0,    0],\n",
       "       [   0,    0,    0,    0, -128],\n",
       "       [   8,  -14,   30,    2,    0],\n",
       "       [   0, -112,  119,    8,  -14],\n",
       "       [  30,    2,    0,    0,  -48]], dtype=int8)"
      ]
     },
     "execution_count": 103,
     "metadata": {},
     "output_type": "execute_result"
    }
   ],
   "source": [
    "np.empty((5,5), dtype=np.int8)"
   ]
  },
  {
   "cell_type": "code",
   "execution_count": 104,
   "metadata": {
    "colab": {
     "base_uri": "https://localhost:8080/"
    },
    "executionInfo": {
     "elapsed": 57,
     "status": "ok",
     "timestamp": 1751711639769,
     "user": {
      "displayName": "Nikunj Dhaka",
      "userId": "07981058552825574146"
     },
     "user_tz": 420
    },
    "id": "us34C8MoJXhw",
    "outputId": "4f3df6f3-64af-4be6-990b-1179bad8034e"
   },
   "outputs": [
    {
     "data": {
      "text/plain": [
       "array([[1, 1, 1, 1, 1],\n",
       "       [1, 1, 1, 1, 1],\n",
       "       [1, 1, 1, 1, 1],\n",
       "       [1, 1, 1, 1, 1],\n",
       "       [1, 1, 1, 1, 1]])"
      ]
     },
     "execution_count": 104,
     "metadata": {},
     "output_type": "execute_result"
    }
   ],
   "source": [
    "np.empty((5,5), dtype=int)\n",
    "# Use dtype=int if you don’t care about memory and want Python’s default integer size (usually 64-bit)"
   ]
  },
  {
   "cell_type": "code",
   "execution_count": 105,
   "metadata": {
    "colab": {
     "base_uri": "https://localhost:8080/"
    },
    "executionInfo": {
     "elapsed": 56,
     "status": "ok",
     "timestamp": 1751749162872,
     "user": {
      "displayName": "Nikunj Dhaka",
      "userId": "07981058552825574146"
     },
     "user_tz": 420
    },
    "id": "gjQu-YtEYEZP",
    "outputId": "54c0e538-c8e5-482e-d872-27628d8c044b"
   },
   "outputs": [
    {
     "data": {
      "text/plain": [
       "array([[5., 5., 5., 5., 5.],\n",
       "       [5., 5., 5., 5., 5.],\n",
       "       [5., 5., 5., 5., 5.],\n",
       "       [5., 5., 5., 5., 5.],\n",
       "       [5., 5., 5., 5., 5.]])"
      ]
     },
     "execution_count": 105,
     "metadata": {},
     "output_type": "execute_result"
    }
   ],
   "source": [
    "a = np.empty((5,5))\n",
    "a.fill(5)    # fills every element with 5\n",
    "# a[:] = 5 # same as above - called broadcasting technique\n",
    "a"
   ]
  },
  {
   "cell_type": "code",
   "execution_count": 115,
   "metadata": {},
   "outputs": [
    {
     "name": "stdout",
     "output_type": "stream",
     "text": [
      "<class 'numpy.str_'>\n"
     ]
    },
    {
     "data": {
      "text/plain": [
       "array([['', '', '', '', '', '', ''],\n",
       "       ['', '', '', '', '', '', ''],\n",
       "       ['', '', '', '', '4', '', ''],\n",
       "       ['', '', '', '', '', '', ''],\n",
       "       ['', '', '', '', '', '', '']], dtype='<U7')"
      ]
     },
     "execution_count": 115,
     "metadata": {},
     "output_type": "execute_result"
    }
   ],
   "source": [
    "a = np.empty((5,7), dtype=\"<U7\")\n",
    "a[2][4] = 4 # this int will get auto converted to U7 string\n",
    "print(type(a[2][4]))\n",
    "a"
   ]
  },
  {
   "cell_type": "code",
   "execution_count": 122,
   "metadata": {
    "colab": {
     "base_uri": "https://localhost:8080/"
    },
    "executionInfo": {
     "elapsed": 23,
     "status": "ok",
     "timestamp": 1751748959426,
     "user": {
      "displayName": "Nikunj Dhaka",
      "userId": "07981058552825574146"
     },
     "user_tz": 420
    },
    "id": "5623eVGbJesF",
    "outputId": "43f556b6-2fef-4a50-c711-d1c14a5134a2"
   },
   "outputs": [
    {
     "name": "stdout",
     "output_type": "stream",
     "text": [
      "0.00018590000036056153\n"
     ]
    }
   ],
   "source": [
    "import time\n",
    "\n",
    "start_e = time.perf_counter() # perf_counter() is used to get high-resolution time counter.\n",
    "np.empty((5, 5)) # empty just allocates the space and what ever garbage values are there, it shows the same. (no initialisation like np.ones)\n",
    "end_e = time.perf_counter()\n",
    "total_e = end_e - start_e\n",
    "print(total_e)"
   ]
  },
  {
   "cell_type": "markdown",
   "metadata": {
    "id": "SeZ453gzZ4ax"
   },
   "source": [
    "# np.random.rand(shape)\n",
    "\n",
    "Generates random floats in the range (0.0, 1.0)\n",
    "\n"
   ]
  },
  {
   "cell_type": "code",
   "execution_count": 123,
   "metadata": {
    "colab": {
     "base_uri": "https://localhost:8080/"
    },
    "executionInfo": {
     "elapsed": 41,
     "status": "ok",
     "timestamp": 1751749483403,
     "user": {
      "displayName": "Nikunj Dhaka",
      "userId": "07981058552825574146"
     },
     "user_tz": 420
    },
    "id": "_Ia1qhEUSb92",
    "outputId": "f43d9a38-7b74-49a4-9549-2bdf08fb99a1"
   },
   "outputs": [
    {
     "name": "stdout",
     "output_type": "stream",
     "text": [
      "[[0.73620101 0.30802282 0.45831424 0.54432379 0.21562734]\n",
      " [0.874847   0.48981848 0.25864557 0.77081944 0.80524904]\n",
      " [0.67073597 0.8749174  0.80394983 0.31997878 0.34035723]\n",
      " [0.25837845 0.03257743 0.20278682 0.18086744 0.81127637]\n",
      " [0.77259465 0.86309035 0.80642464 0.01998636 0.58332864]]\n"
     ]
    }
   ],
   "source": [
    "npr = np.random.rand(5,5)\n",
    "print(npr)"
   ]
  },
  {
   "cell_type": "code",
   "execution_count": 124,
   "metadata": {
    "colab": {
     "base_uri": "https://localhost:8080/"
    },
    "executionInfo": {
     "elapsed": 57,
     "status": "ok",
     "timestamp": 1751749739893,
     "user": {
      "displayName": "Nikunj Dhaka",
      "userId": "07981058552825574146"
     },
     "user_tz": 420
    },
    "id": "xnt0uH85Z9nF",
    "outputId": "f7ab9d08-7b8a-4514-c2e1-08e427bd7967"
   },
   "outputs": [
    {
     "name": "stdout",
     "output_type": "stream",
     "text": [
      "[5.508245458213205, 6.840438312986549, 2.612451803263929, 1.1612453414070756, 3.1623832276661834, 4.298040334882696, 5.534183910587343, 8.382926989872198, 2.399567935708279, 4.54038032403011]\n",
      "[5, 6, 2, 1, 3, 4, 5, 8, 2, 4]\n"
     ]
    }
   ],
   "source": [
    "a = np.random.rand(10)*10 # the values from 0 to 1 -> changes to 1 to 10\n",
    "a = a.tolist() # convert a NumPy array into a native Python list\n",
    "print(a)\n",
    "a = [int(i) for i in a]\n",
    "print(a)"
   ]
  },
  {
   "cell_type": "markdown",
   "metadata": {
    "id": "J5kCqcfFbCd_"
   },
   "source": [
    "# np.random.randint(start, end, number of values)\n",
    "gives random integer values\n",
    "\n",
    "end is excluisve"
   ]
  },
  {
   "cell_type": "code",
   "execution_count": 127,
   "metadata": {
    "colab": {
     "base_uri": "https://localhost:8080/"
    },
    "executionInfo": {
     "elapsed": 20,
     "status": "ok",
     "timestamp": 1751749823969,
     "user": {
      "displayName": "Nikunj Dhaka",
      "userId": "07981058552825574146"
     },
     "user_tz": 420
    },
    "id": "YiKjsYVIa2ME",
    "outputId": "99b907ea-7e07-4c78-edf0-6432de6f4275"
   },
   "outputs": [
    {
     "data": {
      "text/plain": [
       "array([5, 1, 1, 2, 8, 5, 9, 6, 2, 4], dtype=int32)"
      ]
     },
     "execution_count": 127,
     "metadata": {},
     "output_type": "execute_result"
    }
   ],
   "source": [
    "np.random.randint(1, 11, 10)"
   ]
  },
  {
   "cell_type": "markdown",
   "metadata": {
    "id": "dRNVoPlYb5_x"
   },
   "source": [
    "# numpy attributes"
   ]
  },
  {
   "cell_type": "code",
   "execution_count": 160,
   "metadata": {
    "colab": {
     "base_uri": "https://localhost:8080/"
    },
    "executionInfo": {
     "elapsed": 7,
     "status": "ok",
     "timestamp": 1751750333067,
     "user": {
      "displayName": "Nikunj Dhaka",
      "userId": "07981058552825574146"
     },
     "user_tz": 420
    },
    "id": "za9GNZA9bGVT",
    "outputId": "212949e6-faae-4e0e-da6e-32686456359a"
   },
   "outputs": [
    {
     "name": "stdout",
     "output_type": "stream",
     "text": [
      "[[1 2 3]\n",
      " [4 5 6]]\n",
      "shape of the matrix / array :  (2, 3)\n",
      "dimension of the matrix / array :  2\n",
      "data type of elements enclosed here :  int16\n"
     ]
    }
   ],
   "source": [
    "arr = np.array([[1, 2, 3], [4, 5, 6]], dtype = np.int16) # we have changed the data type, by default it is int64\n",
    "print(arr)\n",
    "print(\"shape of the matrix / array : \",arr.shape)\n",
    "print(\"dimension of the matrix / array : \",arr.ndim)\n",
    "print(\"data type of elements enclosed here : \",arr.dtype)\n"
   ]
  },
  {
   "cell_type": "markdown",
   "metadata": {
    "id": "nxzWzBxjc6q2"
   },
   "source": [
    "# ndarray.itemsize"
   ]
  },
  {
   "cell_type": "code",
   "execution_count": 165,
   "metadata": {
    "colab": {
     "base_uri": "https://localhost:8080/"
    },
    "executionInfo": {
     "elapsed": 23,
     "status": "ok",
     "timestamp": 1751750333986,
     "user": {
      "displayName": "Nikunj Dhaka",
      "userId": "07981058552825574146"
     },
     "user_tz": 420
    },
    "id": "e4p0m22tb8eQ",
    "outputId": "45703da1-9f94-47c0-83fe-c7b71455cb28"
   },
   "outputs": [
    {
     "name": "stdout",
     "output_type": "stream",
     "text": [
      "2\n",
      "12\n"
     ]
    }
   ],
   "source": [
    "print(arr.itemsize) # Size in bytes of a single element\n",
    "print(arr.nbytes) # Total memory used by the array\n",
    "\n",
    "# dtype = np.int16, which is a 16-bit (2-byte) integer.\n",
    "# Each element is 2 bytes → 6 × 2 = 12 bytes\n"
   ]
  },
  {
   "cell_type": "markdown",
   "metadata": {
    "id": "6nnxD8JRgDB2"
   },
   "source": [
    "# Transpose -> arr.T"
   ]
  },
  {
   "cell_type": "code",
   "execution_count": 39,
   "metadata": {
    "colab": {
     "base_uri": "https://localhost:8080/"
    },
    "executionInfo": {
     "elapsed": 24,
     "status": "ok",
     "timestamp": 1751751210681,
     "user": {
      "displayName": "Nikunj Dhaka",
      "userId": "07981058552825574146"
     },
     "user_tz": 420
    },
    "id": "pdt4S8l1f4Nq",
    "outputId": "27321e92-674c-4c0e-dab9-8f15f427ffcc"
   },
   "outputs": [
    {
     "name": "stdout",
     "output_type": "stream",
     "text": [
      "[[1 2 3]\n",
      " [4 5 6]]\n",
      "Shape of array (2, 3)\n",
      "\n",
      "\n",
      "[[1 4]\n",
      " [2 5]\n",
      " [3 6]]\n",
      "Shape of Transposed array (3, 2)\n"
     ]
    }
   ],
   "source": [
    "print(arr)\n",
    "print(\"Shape of array\", arr.shape)\n",
    "\n",
    "print(\"\\n\")\n",
    "\n",
    "print(arr.T)\n",
    "print(\"Shape of Transposed array\", arr.T.shape)"
   ]
  },
  {
   "cell_type": "markdown",
   "metadata": {
    "id": "50oWxpd-gnqj"
   },
   "source": [
    "# indexing and slicing"
   ]
  },
  {
   "cell_type": "code",
   "execution_count": 167,
   "metadata": {
    "colab": {
     "base_uri": "https://localhost:8080/"
    },
    "executionInfo": {
     "elapsed": 56,
     "status": "ok",
     "timestamp": 1751751264656,
     "user": {
      "displayName": "Nikunj Dhaka",
      "userId": "07981058552825574146"
     },
     "user_tz": 420
    },
    "id": "EoBOHhwNgN1f",
    "outputId": "0a272b23-40f0-4676-f284-042cc463bb3b"
   },
   "outputs": [
    {
     "name": "stdout",
     "output_type": "stream",
     "text": [
      "10\n",
      "60\n",
      "[20 30 40]\n",
      "[10 20 30]\n",
      "[10 20 30]\n",
      "[10 30 50]\n",
      "[60 50 40 30 20 10]\n"
     ]
    }
   ],
   "source": [
    "arr = np.array([10,20,30,40,50,60])\n",
    "print(arr[0])\n",
    "print(arr[-1])\n",
    "print(arr[1:4])\n",
    "print(arr[:3])\n",
    "print(arr[0:3])\n",
    "print(arr[::2]) # (start with 0 and step size 2)\n",
    "print(arr[::-1]) # reverse"
   ]
  },
  {
   "cell_type": "code",
   "execution_count": 168,
   "metadata": {
    "colab": {
     "base_uri": "https://localhost:8080/"
    },
    "executionInfo": {
     "elapsed": 46,
     "status": "ok",
     "timestamp": 1751752332114,
     "user": {
      "displayName": "Nikunj Dhaka",
      "userId": "07981058552825574146"
     },
     "user_tz": 420
    },
    "id": "FTCx9Pxxgwfz",
    "outputId": "180071b3-f785-4a1a-c9e4-fad0bf9de370"
   },
   "outputs": [
    {
     "name": "stdout",
     "output_type": "stream",
     "text": [
      "2\n",
      "[4 5 6]\n",
      "[3 6 9]\n",
      "[3 6 9]\n"
     ]
    }
   ],
   "source": [
    "mat = np.array([[1, 2, 3],\n",
    "                [4, 5, 6],\n",
    "                [7, 8, 9]])\n",
    "\n",
    "print(mat[0,1])\n",
    "print(mat[1])\n",
    "print(mat[:,2]) # all rows but column index 2\n",
    "print(mat[:,-1]) # all rows but last element of all rows"
   ]
  },
  {
   "cell_type": "code",
   "execution_count": 42,
   "metadata": {
    "colab": {
     "base_uri": "https://localhost:8080/"
    },
    "executionInfo": {
     "elapsed": 47,
     "status": "ok",
     "timestamp": 1751751328889,
     "user": {
      "displayName": "Nikunj Dhaka",
      "userId": "07981058552825574146"
     },
     "user_tz": 420
    },
    "id": "ssG-7qOQg1gW",
    "outputId": "e7ff6f21-f431-4fd3-bad3-c4513b168f51"
   },
   "outputs": [
    {
     "name": "stdout",
     "output_type": "stream",
     "text": [
      "[[2 3]\n",
      " [5 6]]\n"
     ]
    }
   ],
   "source": [
    "print(mat[0:2,1:])"
   ]
  },
  {
   "cell_type": "code",
   "execution_count": 43,
   "metadata": {
    "colab": {
     "base_uri": "https://localhost:8080/"
    },
    "executionInfo": {
     "elapsed": 28,
     "status": "ok",
     "timestamp": 1751751358831,
     "user": {
      "displayName": "Nikunj Dhaka",
      "userId": "07981058552825574146"
     },
     "user_tz": 420
    },
    "id": "eWKLe-ulhALd",
    "outputId": "c5391a50-27db-4c98-8da4-59648de70c64"
   },
   "outputs": [
    {
     "data": {
      "text/plain": [
       "array([9, 8, 7, 6, 5, 4, 3, 2, 1])"
      ]
     },
     "execution_count": 43,
     "metadata": {},
     "output_type": "execute_result"
    }
   ],
   "source": [
    "arr_temp = np.array([1,2,3,4,5,6,7,8,9])\n",
    "arr_temp[::-1]"
   ]
  },
  {
   "cell_type": "code",
   "execution_count": 169,
   "metadata": {
    "colab": {
     "base_uri": "https://localhost:8080/"
    },
    "executionInfo": {
     "elapsed": 22,
     "status": "ok",
     "timestamp": 1751751368811,
     "user": {
      "displayName": "Nikunj Dhaka",
      "userId": "07981058552825574146"
     },
     "user_tz": 420
    },
    "id": "bWPHKssyhHfs",
    "outputId": "116a2838-20d7-43c9-cfc2-5e68296c24c1"
   },
   "outputs": [
    {
     "name": "stdout",
     "output_type": "stream",
     "text": [
      "[[9 8 7]\n",
      " [6 5 4]\n",
      " [3 2 1]]\n"
     ]
    }
   ],
   "source": [
    "print(mat[::-1, ::-1]) # reverse of a matrix"
   ]
  },
  {
   "cell_type": "markdown",
   "metadata": {},
   "source": [
    "# Boolean indexing"
   ]
  },
  {
   "cell_type": "code",
   "execution_count": 170,
   "metadata": {
    "colab": {
     "base_uri": "https://localhost:8080/"
    },
    "executionInfo": {
     "elapsed": 37,
     "status": "ok",
     "timestamp": 1751752677125,
     "user": {
      "displayName": "Nikunj Dhaka",
      "userId": "07981058552825574146"
     },
     "user_tz": 420
    },
    "id": "ISL7HrSFhJ7t",
    "outputId": "c20c9c3b-17a3-49d0-f36f-565aa3d6c6dc"
   },
   "outputs": [
    {
     "name": "stdout",
     "output_type": "stream",
     "text": [
      "[False False  True  True  True]\n",
      "[15 20 25]\n",
      "[ 5 20 25]\n",
      "[50 10 15 20 25]\n"
     ]
    }
   ],
   "source": [
    "arr = np.array([5, 10, 15, 20, 25])\n",
    "print(arr>10)\n",
    "print(arr[arr>10])  # Boolean indexing\n",
    "\n",
    "# arr[arr > 10] = 99 # we can also modify the elements conditionally\n",
    "\n",
    "indx = [0,3,4]\n",
    "print(arr[indx])\n",
    "\n",
    "arr[0] = 50\n",
    "print(arr)"
   ]
  },
  {
   "cell_type": "markdown",
   "metadata": {
    "id": "s1q7rUVghmzM"
   },
   "source": [
    "# indexing with np.where()"
   ]
  },
  {
   "cell_type": "code",
   "execution_count": 171,
   "metadata": {
    "colab": {
     "base_uri": "https://localhost:8080/"
    },
    "executionInfo": {
     "elapsed": 21,
     "status": "ok",
     "timestamp": 1751751622784,
     "user": {
      "displayName": "Nikunj Dhaka",
      "userId": "07981058552825574146"
     },
     "user_tz": 420
    },
    "id": "eJdpeM2qhSky",
    "outputId": "42ca1a22-6008-4d09-db0c-f83ca77988ed"
   },
   "outputs": [
    {
     "name": "stdout",
     "output_type": "stream",
     "text": [
      "(array([3, 4]),)\n",
      "[25 30]\n"
     ]
    }
   ],
   "source": [
    "arr = np.array([10, 15, 20, 25, 30])\n",
    "\n",
    "idx = np.where(arr>20) # this will return the indexes based on condition\n",
    "print(idx)\n",
    "print(arr[idx])"
   ]
  },
  {
   "cell_type": "markdown",
   "metadata": {
    "id": "hiKl0owGiKT4"
   },
   "source": [
    "# array reshaping and resizing\n",
    "\n",
    "### reshape -  will throw error if values are insufficient\n",
    "### resize - will truncate or padd with zeros"
   ]
  },
  {
   "cell_type": "code",
   "execution_count": 173,
   "metadata": {
    "colab": {
     "base_uri": "https://localhost:8080/"
    },
    "executionInfo": {
     "elapsed": 58,
     "status": "ok",
     "timestamp": 1751751740044,
     "user": {
      "displayName": "Nikunj Dhaka",
      "userId": "07981058552825574146"
     },
     "user_tz": 420
    },
    "id": "xoRjblWXhtkF",
    "outputId": "ad57c948-057e-4f18-a4af-1617d756f0ea"
   },
   "outputs": [
    {
     "name": "stdout",
     "output_type": "stream",
     "text": [
      "[[1 2 3]\n",
      " [4 5 6]]\n",
      "\n",
      "\n",
      "[[ 1  2  3  4]\n",
      " [ 5  6  7  8]\n",
      " [ 9 10 11 12]]\n"
     ]
    }
   ],
   "source": [
    "arr = np.array([1, 2, 3, 4, 5, 6])\n",
    "\n",
    "reshaped = arr.reshape(2,3)\n",
    "print(reshaped)\n",
    "print(\"\\n\")\n",
    "arr = np.array([1, 2, 3, 4, 5, 6,7,8,9,10,11,12])\n",
    "reshaped = arr.reshape(3,-1) # -1 to auto-calculate dimensions\n",
    "print(reshaped)\n"
   ]
  },
  {
   "cell_type": "code",
   "execution_count": 57,
   "metadata": {
    "colab": {
     "base_uri": "https://localhost:8080/"
    },
    "executionInfo": {
     "elapsed": 50,
     "status": "ok",
     "timestamp": 1751751772255,
     "user": {
      "displayName": "Nikunj Dhaka",
      "userId": "07981058552825574146"
     },
     "user_tz": 420
    },
    "id": "TBT8BpKlikjr",
    "outputId": "73fbc6b9-07d1-483e-a7aa-c7521c16dc1a"
   },
   "outputs": [
    {
     "name": "stdout",
     "output_type": "stream",
     "text": [
      "[1 2 3 4]\n"
     ]
    }
   ],
   "source": [
    "a = np.array([[1, 2], [3, 4]])\n",
    "b = a.flatten()\n",
    "print(b)"
   ]
  },
  {
   "cell_type": "code",
   "execution_count": 80,
   "metadata": {
    "colab": {
     "base_uri": "https://localhost:8080/"
    },
    "executionInfo": {
     "elapsed": 46,
     "status": "ok",
     "timestamp": 1751753475720,
     "user": {
      "displayName": "Nikunj Dhaka",
      "userId": "07981058552825574146"
     },
     "user_tz": 420
    },
    "id": "bvcknnpCirsR",
    "outputId": "f9b2d640-8a1d-4f3f-ff7d-238c094875db"
   },
   "outputs": [
    {
     "name": "stdout",
     "output_type": "stream",
     "text": [
      "[[1 2 3]\n",
      " [4 0 0]]\n",
      "\n",
      "\n",
      "[[1]\n",
      " [2]]\n"
     ]
    }
   ],
   "source": [
    "a = np.array([1, 2, 3, 4])\n",
    "a.resize((2,3))\n",
    "print(a)\n",
    "print(\"\\n\")\n",
    "a.resize((2,1))\n",
    "print(a)\n"
   ]
  },
  {
   "cell_type": "code",
   "execution_count": 60,
   "metadata": {
    "executionInfo": {
     "elapsed": 46,
     "status": "ok",
     "timestamp": 1751751852881,
     "user": {
      "displayName": "Nikunj Dhaka",
      "userId": "07981058552825574146"
     },
     "user_tz": 420
    },
    "id": "wST8dXDci3Ku"
   },
   "outputs": [],
   "source": [
    "# 12, (4,5)--> 20 --> reshape will throw error\n",
    "# 12, (4,5) --> 20 --> resize, it will pad extra element with 0"
   ]
  },
  {
   "cell_type": "code",
   "execution_count": null,
   "metadata": {
    "colab": {
     "base_uri": "https://localhost:8080/"
    },
    "executionInfo": {
     "elapsed": 5,
     "status": "ok",
     "timestamp": 1751754098210,
     "user": {
      "displayName": "Nikunj Dhaka",
      "userId": "07981058552825574146"
     },
     "user_tz": 420
    },
    "id": "OsHB1S5YjAGh",
    "outputId": "c76b8a9d-9e14-4f02-b9b2-ff469c07bf2f"
   },
   "outputs": [
    {
     "name": "stdout",
     "output_type": "stream",
     "text": [
      "shape :  (2, 3, 1)\n",
      "[[[1]\n",
      "  [2]\n",
      "  [3]]\n",
      "\n",
      " [[1]\n",
      "  [2]\n",
      "  [3]]]\n",
      "\n",
      "\n",
      "shape :  (2, 3)\n",
      "[[1 2 3]\n",
      " [1 2 3]]\n"
     ]
    }
   ],
   "source": [
    "a = np.array([[[1],[2],[3]], [[1],[2],[3]]])\n",
    "print(\"shape : \", a.shape)\n",
    "print(a)\n",
    "print(\"\\n\")\n",
    "# np.squeeze(), which is used to remove axes with length 1 from a NumPy array\n",
    "# essentially simplifying the shape without losing data.\n",
    "b = np.squeeze(a)\n",
    "print(\"shape : \", b.shape)\n",
    "print(b)"
   ]
  },
  {
   "cell_type": "code",
   "execution_count": null,
   "metadata": {
    "colab": {
     "base_uri": "https://localhost:8080/"
    },
    "executionInfo": {
     "elapsed": 15,
     "status": "ok",
     "timestamp": 1751754129122,
     "user": {
      "displayName": "Nikunj Dhaka",
      "userId": "07981058552825574146"
     },
     "user_tz": 420
    },
    "id": "HbNoJtlCjcZq",
    "outputId": "140e0272-e3cb-4c0d-b7e9-3cd288e2b5c7"
   },
   "outputs": [
    {
     "name": "stdout",
     "output_type": "stream",
     "text": [
      "(1, 3, 1)\n",
      "(3, 1)\n",
      "[[1]\n",
      " [2]\n",
      " [3]]\n",
      "==========\n",
      "(1, 3)\n",
      "[[1 2 3]]\n",
      "==========\n",
      "(3,)\n",
      "[1 2 3]\n",
      "==========\n"
     ]
    }
   ],
   "source": [
    "a = np.array([[[1],[2],[3]]])\n",
    "print(a.shape)\n",
    "b = np.squeeze(a, axis=0) # removes axis 0, but only if its size is 1.\n",
    "print(b.shape)\n",
    "print(b)\n",
    "print(\"=\" * 10) # just a seprator\n",
    "c = np.squeeze(a, axis=2) # removes axis 2, but only if its size is 1.\n",
    "print(c.shape)\n",
    "print(c)\n",
    "print(\"=\" * 10) # just a seprator\n",
    "d = np.squeeze(a) # removes all the axis, where ever the size is 1.\n",
    "print(d.shape)\n",
    "print(d)\n",
    "print(\"=\" * 10) # just a seprator\n"
   ]
  },
  {
   "cell_type": "code",
   "execution_count": 90,
   "metadata": {
    "colab": {
     "base_uri": "https://localhost:8080/"
    },
    "executionInfo": {
     "elapsed": 51,
     "status": "ok",
     "timestamp": 1751754170977,
     "user": {
      "displayName": "Nikunj Dhaka",
      "userId": "07981058552825574146"
     },
     "user_tz": 420
    },
    "id": "k1X4h9tyj0p3",
    "outputId": "5d64faf9-0e70-4dee-a965-9e443062113c"
   },
   "outputs": [
    {
     "name": "stdout",
     "output_type": "stream",
     "text": [
      "[[[1]\n",
      "  [2]\n",
      "  [3]]]\n"
     ]
    }
   ],
   "source": [
    "b = np.array([b])\n",
    "print(b)"
   ]
  },
  {
   "cell_type": "code",
   "execution_count": 185,
   "metadata": {
    "colab": {
     "base_uri": "https://localhost:8080/"
    },
    "executionInfo": {
     "elapsed": 24,
     "status": "ok",
     "timestamp": 1751754192033,
     "user": {
      "displayName": "Nikunj Dhaka",
      "userId": "07981058552825574146"
     },
     "user_tz": 420
    },
    "id": "0CkJFHL6r2DD",
    "outputId": "ab1885b8-e29d-40c8-f904-f7cacf3b6dc5"
   },
   "outputs": [
    {
     "name": "stdout",
     "output_type": "stream",
     "text": [
      "[3 6 9]\n",
      "[6 6 6]\n"
     ]
    }
   ],
   "source": [
    "a = np.array([\n",
    "                [1,2,3],\n",
    "                [1,2,3],\n",
    "                [1,2,3]\n",
    "            ])\n",
    "\n",
    "print(np.sum(a, axis=0)) # column-wise Sum\n",
    "print(np.sum(a, axis=1)) # row-wise Sum"
   ]
  },
  {
   "cell_type": "markdown",
   "metadata": {
    "id": "iLLyE-IK0gIT"
   },
   "source": [
    "# numpy math operations"
   ]
  },
  {
   "cell_type": "code",
   "execution_count": 94,
   "metadata": {
    "colab": {
     "base_uri": "https://localhost:8080/"
    },
    "executionInfo": {
     "elapsed": 62,
     "status": "ok",
     "timestamp": 1751756509177,
     "user": {
      "displayName": "Nikunj Dhaka",
      "userId": "07981058552825574146"
     },
     "user_tz": 420
    },
    "id": "G_0FVus7r7Md",
    "outputId": "4d5aced5-529b-4936-e4e2-79541d75952e"
   },
   "outputs": [
    {
     "name": "stdout",
     "output_type": "stream",
     "text": [
      "[5 7 9]\n",
      "[-3 -3 -3]\n",
      "[ 4 10 18]\n",
      "[0.25 0.4  0.5 ]\n"
     ]
    }
   ],
   "source": [
    "a = np.array([1, 2, 3])\n",
    "b = np.array([4, 5, 6])\n",
    "\n",
    "print(a + b)\n",
    "print(a-b)\n",
    "print(a*b)\n",
    "print(a/b)"
   ]
  },
  {
   "cell_type": "code",
   "execution_count": 95,
   "metadata": {
    "colab": {
     "base_uri": "https://localhost:8080/"
    },
    "executionInfo": {
     "elapsed": 24,
     "status": "ok",
     "timestamp": 1751756522263,
     "user": {
      "displayName": "Nikunj Dhaka",
      "userId": "07981058552825574146"
     },
     "user_tz": 420
    },
    "id": "Ynd70mbp0miU",
    "outputId": "ed013ca1-90c7-4628-ec8c-3e6a8f1c152e"
   },
   "outputs": [
    {
     "name": "stdout",
     "output_type": "stream",
     "text": [
      "[False False False]\n",
      "[ True  True  True]\n",
      "[False False False]\n"
     ]
    }
   ],
   "source": [
    "# comparison\n",
    "\n",
    "print(a > b)\n",
    "print(a < b)\n",
    "print(a == b)"
   ]
  },
  {
   "cell_type": "code",
   "execution_count": 96,
   "metadata": {
    "colab": {
     "base_uri": "https://localhost:8080/"
    },
    "executionInfo": {
     "elapsed": 31,
     "status": "ok",
     "timestamp": 1751756572141,
     "user": {
      "displayName": "Nikunj Dhaka",
      "userId": "07981058552825574146"
     },
     "user_tz": 420
    },
    "id": "fqYk9W4c00GD",
    "outputId": "0fbe1bd8-77ca-4757-c34e-6841cef2a996"
   },
   "outputs": [
    {
     "name": "stdout",
     "output_type": "stream",
     "text": [
      "<class 'numpy.ndarray'>\n",
      "<class 'numpy.bool'>\n"
     ]
    }
   ],
   "source": [
    "ans = a > b\n",
    "print(type(ans))\n",
    "print(type(ans[0]))"
   ]
  },
  {
   "cell_type": "code",
   "execution_count": null,
   "metadata": {
    "colab": {
     "base_uri": "https://localhost:8080/"
    },
    "executionInfo": {
     "elapsed": 56,
     "status": "ok",
     "timestamp": 1751756599831,
     "user": {
      "displayName": "Nikunj Dhaka",
      "userId": "07981058552825574146"
     },
     "user_tz": 420
    },
    "id": "A7v3My8C1ARV",
    "outputId": "d6fbb751-be1f-408b-ccff-50a854e0330e"
   },
   "outputs": [
    {
     "name": "stdout",
     "output_type": "stream",
     "text": [
      "[False False  True]\n",
      "[ True False  True]\n",
      "[False  True False]\n"
     ]
    }
   ],
   "source": [
    "# logical operators -> and , or , not\n",
    "\n",
    "x = np.array([True, False, True])\n",
    "y = np.array([False, False, True])\n",
    "\n",
    "print(np.logical_and(x, y))\n",
    "print(np.logical_or(x, y))\n",
    "print(np.logical_not(x))"
   ]
  },
  {
   "cell_type": "code",
   "execution_count": 98,
   "metadata": {
    "colab": {
     "base_uri": "https://localhost:8080/"
    },
    "executionInfo": {
     "elapsed": 24,
     "status": "ok",
     "timestamp": 1751756610613,
     "user": {
      "displayName": "Nikunj Dhaka",
      "userId": "07981058552825574146"
     },
     "user_tz": 420
    },
    "id": "8tYhW9QU1HBp",
    "outputId": "4fb921f8-dda8-4673-c8fb-52972d8ff3dc"
   },
   "outputs": [
    {
     "name": "stdout",
     "output_type": "stream",
     "text": [
      "[0 0 1]\n",
      "[1 3 3]\n"
     ]
    }
   ],
   "source": [
    "# biwsise operators\n",
    "\n",
    "a = np.array([1, 2, 3])\n",
    "b = np.array([0, 1, 1])\n",
    "\n",
    "print(np.bitwise_and(a,b))\n",
    "print(np.bitwise_or(a,b))"
   ]
  },
  {
   "cell_type": "code",
   "execution_count": 99,
   "metadata": {
    "colab": {
     "base_uri": "https://localhost:8080/"
    },
    "executionInfo": {
     "elapsed": 59,
     "status": "ok",
     "timestamp": 1751756644312,
     "user": {
      "displayName": "Nikunj Dhaka",
      "userId": "07981058552825574146"
     },
     "user_tz": 420
    },
    "id": "PoE3hNDW1Jqg",
    "outputId": "957bda98-408d-4f54-df68-40a83552107f"
   },
   "outputs": [
    {
     "name": "stdout",
     "output_type": "stream",
     "text": [
      "[1 6 2]\n",
      "[      1000 1280000000     810000]\n"
     ]
    }
   ],
   "source": [
    "# modulus and power\n",
    "\n",
    "a = np.array([10, 20, 30])\n",
    "b = np.array([3, 7, 4])\n",
    "\n",
    "print(np.mod(a, b))\n",
    "print(np.power(a, b))"
   ]
  },
  {
   "cell_type": "markdown",
   "metadata": {
    "id": "4ozfYIZ01Shz"
   },
   "source": [
    "# scalar opertions"
   ]
  },
  {
   "cell_type": "code",
   "execution_count": 101,
   "metadata": {
    "colab": {
     "base_uri": "https://localhost:8080/"
    },
    "executionInfo": {
     "elapsed": 30,
     "status": "ok",
     "timestamp": 1751757470851,
     "user": {
      "displayName": "Nikunj Dhaka",
      "userId": "07981058552825574146"
     },
     "user_tz": 420
    },
    "id": "mOctLaaQ1R4k",
    "outputId": "0361f7e9-ada4-4010-e613-7268df956fab"
   },
   "outputs": [
    {
     "name": "stdout",
     "output_type": "stream",
     "text": [
      "[32. 50. 68. 86.]\n"
     ]
    }
   ],
   "source": [
    "celcius = np.array([0, 10, 20, 30])\n",
    "# to_farenheit = np.array([33.8, 33.8, 33.8, 33.8]) # broadcasting - internally this is something that happens\n",
    "# this \"* 9 / 5 + 32\" mathematical function is applied to each and every element of the array\n",
    "print(celcius * 9 / 5 + 32)"
   ]
  },
  {
   "cell_type": "markdown",
   "metadata": {
    "id": "l1pZ2n994gXg"
   },
   "source": [
    "# Common maths functions"
   ]
  },
  {
   "cell_type": "code",
   "execution_count": 102,
   "metadata": {
    "colab": {
     "base_uri": "https://localhost:8080/"
    },
    "executionInfo": {
     "elapsed": 58,
     "status": "ok",
     "timestamp": 1751757498932,
     "user": {
      "displayName": "Nikunj Dhaka",
      "userId": "07981058552825574146"
     },
     "user_tz": 420
    },
    "id": "dc8aUsyd1XfP",
    "outputId": "1e7966af-499d-416b-aac0-b2b3fc924f19"
   },
   "outputs": [
    {
     "name": "stdout",
     "output_type": "stream",
     "text": [
      "[1.         1.41421356 1.73205081 2.        ]\n",
      "[ 2.71828183  7.3890561  20.08553692 54.59815003]\n",
      "[0.         0.69314718 1.09861229 1.38629436]\n",
      "[ 0.84147098  0.90929743  0.14112001 -0.7568025 ]\n"
     ]
    }
   ],
   "source": [
    "a = np.array([1, 2, 3, 4])\n",
    "\n",
    "print(np.sqrt(a))\n",
    "print(np.exp(a)) # e^1, e^2, where e = 2.718 - > we will use this in ML (activation function: sigmoid - sigmoid = 1 / (1 + np.exp(-x)))\n",
    "print(np.log(a))\n",
    "print(np.sin(a))"
   ]
  },
  {
   "cell_type": "markdown",
   "metadata": {
    "id": "JXyaeF3_6KVT"
   },
   "source": [
    "# Aggregation functions"
   ]
  },
  {
   "cell_type": "code",
   "execution_count": 195,
   "metadata": {
    "executionInfo": {
     "elapsed": 19,
     "status": "ok",
     "timestamp": 1751757963385,
     "user": {
      "displayName": "Nikunj Dhaka",
      "userId": "07981058552825574146"
     },
     "user_tz": 420
    },
    "id": "ejcI-w1W4ih9"
   },
   "outputs": [],
   "source": [
    "a = np.array([[1, 2, 3],\n",
    "              [4, 5, 6]])"
   ]
  },
  {
   "cell_type": "code",
   "execution_count": 196,
   "metadata": {
    "colab": {
     "base_uri": "https://localhost:8080/"
    },
    "executionInfo": {
     "elapsed": 30,
     "status": "ok",
     "timestamp": 1751757963612,
     "user": {
      "displayName": "Nikunj Dhaka",
      "userId": "07981058552825574146"
     },
     "user_tz": 420
    },
    "id": "N2dOU6dQ4-vx",
    "outputId": "f6ab092a-43fa-432c-9780-ad3526e7405b"
   },
   "outputs": [
    {
     "name": "stdout",
     "output_type": "stream",
     "text": [
      "21\n",
      "[5 7 9]\n"
     ]
    }
   ],
   "source": [
    "print(np.sum(a)) # sum of all the values present in the array\n",
    "print(np.sum(a, axis=0)) # column wise sum"
   ]
  },
  {
   "cell_type": "code",
   "execution_count": 107,
   "metadata": {
    "colab": {
     "base_uri": "https://localhost:8080/"
    },
    "executionInfo": {
     "elapsed": 42,
     "status": "ok",
     "timestamp": 1751757975687,
     "user": {
      "displayName": "Nikunj Dhaka",
      "userId": "07981058552825574146"
     },
     "user_tz": 420
    },
    "id": "WTbFIPym6SU5",
    "outputId": "876b0c5b-34b5-49ff-ac67-acb23528c02d"
   },
   "outputs": [
    {
     "name": "stdout",
     "output_type": "stream",
     "text": [
      "21\n",
      "3.5\n",
      "1.707825127659933\n",
      "1\n",
      "6\n"
     ]
    }
   ],
   "source": [
    "print(np.sum(a))\n",
    "print(np.mean(a)) # average\n",
    "print(np.std(a))\n",
    "print(np.min(a))\n",
    "print(np.max(a))"
   ]
  },
  {
   "cell_type": "markdown",
   "metadata": {
    "id": "AfBEVTbh76sC"
   },
   "source": [
    "\n",
    "# element-wise multiplication"
   ]
  },
  {
   "cell_type": "code",
   "execution_count": 109,
   "metadata": {
    "colab": {
     "base_uri": "https://localhost:8080/"
    },
    "executionInfo": {
     "elapsed": 55,
     "status": "ok",
     "timestamp": 1751758399812,
     "user": {
      "displayName": "Nikunj Dhaka",
      "userId": "07981058552825574146"
     },
     "user_tz": 420
    },
    "id": "ZlRiPIQa6W7V",
    "outputId": "625f7637-948f-42ad-b427-f011684cd426"
   },
   "outputs": [
    {
     "data": {
      "text/plain": [
       "array([1000, 4000, 4500])"
      ]
     },
     "execution_count": 109,
     "metadata": {},
     "output_type": "execute_result"
    }
   ],
   "source": [
    "units = np.array([100, 200, 150])\n",
    "profit = np.array([10, 20, 30])\n",
    "\n",
    "units * profit"
   ]
  },
  {
   "cell_type": "markdown",
   "metadata": {
    "id": "_LDCGcr36ZSB"
   },
   "source": [
    "# matrix operation"
   ]
  },
  {
   "cell_type": "markdown",
   "metadata": {
    "id": "oBckhe6R7k7T"
   },
   "source": [
    "# Dot product"
   ]
  },
  {
   "cell_type": "code",
   "execution_count": 197,
   "metadata": {
    "executionInfo": {
     "elapsed": 28,
     "status": "ok",
     "timestamp": 1751759236920,
     "user": {
      "displayName": "Nikunj Dhaka",
      "userId": "07981058552825574146"
     },
     "user_tz": 420
    },
    "id": "s-pf6Su07h5N"
   },
   "outputs": [],
   "source": [
    "# sqft, bedroom, location 1 G, 0 B\n",
    "house = np.array([[1200, 3, 1],\n",
    "                  [1200, 3, 0],\n",
    "                  [1000, 3, 0],\n",
    "                  [1000, 1, 1]])\n",
    "\n",
    "w = np.array([200, 10000, 50000])"
   ]
  },
  {
   "cell_type": "code",
   "execution_count": 198,
   "metadata": {
    "colab": {
     "base_uri": "https://localhost:8080/"
    },
    "executionInfo": {
     "elapsed": 53,
     "status": "ok",
     "timestamp": 1751759237065,
     "user": {
      "displayName": "Nikunj Dhaka",
      "userId": "07981058552825574146"
     },
     "user_tz": 420
    },
    "id": "kgUlx4fU_CQR",
    "outputId": "58db3c75-ea81-4e68-a6d9-088e445ea918"
   },
   "outputs": [
    {
     "name": "stdout",
     "output_type": "stream",
     "text": [
      "(4, 3)\n",
      "(3,)\n"
     ]
    }
   ],
   "source": [
    "print(house.shape)\n",
    "print(w.shape)\n",
    "\n",
    "# w is your weight vector:\n",
    "# Represents how important each feature is.\n",
    "\n",
    "# Each sqft is worth ₹200\n",
    "# Each bedroom adds ₹10,000\n",
    "# Location G adds ₹50,000"
   ]
  },
  {
   "cell_type": "code",
   "execution_count": 199,
   "metadata": {
    "colab": {
     "base_uri": "https://localhost:8080/"
    },
    "executionInfo": {
     "elapsed": 28,
     "status": "ok",
     "timestamp": 1751759237211,
     "user": {
      "displayName": "Nikunj Dhaka",
      "userId": "07981058552825574146"
     },
     "user_tz": 420
    },
    "id": "Hb_D-3Xi_CZo",
    "outputId": "2aadfd1e-3099-4e5a-eaed-34d51037d54d"
   },
   "outputs": [
    {
     "name": "stdout",
     "output_type": "stream",
     "text": [
      "[320000 270000 230000 260000]\n"
     ]
    }
   ],
   "source": [
    "print(np.dot(house, w))"
   ]
  },
  {
   "cell_type": "code",
   "execution_count": 116,
   "metadata": {
    "colab": {
     "base_uri": "https://localhost:8080/"
    },
    "executionInfo": {
     "elapsed": 41,
     "status": "ok",
     "timestamp": 1751759287267,
     "user": {
      "displayName": "Nikunj Dhaka",
      "userId": "07981058552825574146"
     },
     "user_tz": 420
    },
    "id": "P9nO8WTK_DpU",
    "outputId": "51118c16-4cc6-44d6-e53e-bbb2f7b8ab7a"
   },
   "outputs": [
    {
     "name": "stdout",
     "output_type": "stream",
     "text": [
      "[320000 270000 230000 260000]\n"
     ]
    }
   ],
   "source": [
    "print(np.sum(house * w, axis=1)) # multiplication + sum"
   ]
  },
  {
   "cell_type": "code",
   "execution_count": 200,
   "metadata": {
    "colab": {
     "base_uri": "https://localhost:8080/"
    },
    "executionInfo": {
     "elapsed": 36,
     "status": "ok",
     "timestamp": 1751759540488,
     "user": {
      "displayName": "Nikunj Dhaka",
      "userId": "07981058552825574146"
     },
     "user_tz": 420
    },
    "id": "Cd99jW8a_XId",
    "outputId": "446e58da-30d2-4b64-8db5-a90635561280"
   },
   "outputs": [
    {
     "name": "stdout",
     "output_type": "stream",
     "text": [
      "(2, 4)\n",
      "(2, 4)\n",
      "\n",
      "[[30 30]\n",
      " [30 30]]\n"
     ]
    }
   ],
   "source": [
    "A = np.array([[1, 2, 3, 4], [1, 2, 3, 4]])\n",
    "B = np.array([[1, 2, 3, 4], [1, 2, 3, 4]])\n",
    "\n",
    "print(A.shape)\n",
    "print(B.shape)\n",
    "print()\n",
    "\n",
    "# print(np.dot(A, B)) # it will throw an error as for dot C1 should be = R2, which is not\n",
    "print(np.dot(A, B.T))\n",
    "# print(A @ B.T) # @ is also used for dot product"
   ]
  },
  {
   "cell_type": "markdown",
   "metadata": {
    "id": "6DYCOQ_tAYoC"
   },
   "source": [
    "# broadcasting\n",
    "\n",
    "Two dimensions are compatible when:\n",
    "\n",
    "They are equal, or\n",
    "\n",
    "One of them is 1"
   ]
  },
  {
   "cell_type": "code",
   "execution_count": 122,
   "metadata": {
    "colab": {
     "base_uri": "https://localhost:8080/"
    },
    "executionInfo": {
     "elapsed": 42,
     "status": "ok",
     "timestamp": 1751759659893,
     "user": {
      "displayName": "Nikunj Dhaka",
      "userId": "07981058552825574146"
     },
     "user_tz": 420
    },
    "id": "c8JvSqIMANao",
    "outputId": "a90aebed-85e5-4047-bd8e-e5f9dff0b7d1"
   },
   "outputs": [
    {
     "name": "stdout",
     "output_type": "stream",
     "text": [
      "(3,)\n",
      "(2, 1)\n",
      "\n"
     ]
    },
    {
     "data": {
      "text/plain": [
       "array([[11, 12, 13],\n",
       "       [21, 22, 23]])"
      ]
     },
     "execution_count": 122,
     "metadata": {},
     "output_type": "execute_result"
    }
   ],
   "source": [
    "a = np.array([1, 2, 3]) # (3,)\n",
    "b = np.array([[10], [20]]) # (2,1)\n",
    "\n",
    "print(a.shape)\n",
    "print(b.shape)\n",
    "print()\n",
    "\n",
    "a + b\n",
    "\n",
    "# a --> (2,3) [[1, 2, 3], [1, 2, 3]]\n",
    "# b --> [[10, 10, 10], [20, 20, 20]]"
   ]
  },
  {
   "cell_type": "markdown",
   "metadata": {
    "id": "fmYHONR6BWmE"
   },
   "source": [
    "# creating arrays from exisiting data"
   ]
  },
  {
   "cell_type": "code",
   "execution_count": 123,
   "metadata": {
    "executionInfo": {
     "elapsed": 39,
     "status": "ok",
     "timestamp": 1751759823653,
     "user": {
      "displayName": "Nikunj Dhaka",
      "userId": "07981058552825574146"
     },
     "user_tz": 420
    },
    "id": "VMJO-qgRAjJM"
   },
   "outputs": [],
   "source": [
    "a = [1,2,3,4]\n",
    "b = ([[1,2], [2,3]])\n",
    "c = (10,20,30)"
   ]
  },
  {
   "cell_type": "code",
   "execution_count": 124,
   "metadata": {
    "colab": {
     "base_uri": "https://localhost:8080/"
    },
    "executionInfo": {
     "elapsed": 44,
     "status": "ok",
     "timestamp": 1751759920415,
     "user": {
      "displayName": "Nikunj Dhaka",
      "userId": "07981058552825574146"
     },
     "user_tz": 420
    },
    "id": "CleufRLkBaFt",
    "outputId": "68ed00ee-1567-46e4-8929-5ad0caa4c4a2"
   },
   "outputs": [
    {
     "name": "stdout",
     "output_type": "stream",
     "text": [
      "[1 2 3 4] int64 <class 'list'>\n",
      "[[1 2]\n",
      " [2 3]] int64 <class 'list'>\n",
      "[10 20 30] int64 <class 'tuple'>\n"
     ]
    }
   ],
   "source": [
    "a_npy = np.array(a)\n",
    "print(a_npy, a_npy.dtype, type(a))\n",
    "b_npy = np.array(b)\n",
    "print(b_npy, b_npy.dtype, type(b))\n",
    "c_npy = np.array(c)\n",
    "print(c_npy, c_npy.dtype, type(c))"
   ]
  },
  {
   "cell_type": "markdown",
   "metadata": {
    "id": "dZFYbP4kB2Bz"
   },
   "source": [
    "# vstack and hstack"
   ]
  },
  {
   "cell_type": "code",
   "execution_count": 125,
   "metadata": {
    "colab": {
     "base_uri": "https://localhost:8080/"
    },
    "executionInfo": {
     "elapsed": 42,
     "status": "ok",
     "timestamp": 1751759972818,
     "user": {
      "displayName": "Nikunj Dhaka",
      "userId": "07981058552825574146"
     },
     "user_tz": 420
    },
    "id": "cFxV6bCpBxtX",
    "outputId": "9855dc05-9b17-4a88-c4dd-a1c6d10dceaf"
   },
   "outputs": [
    {
     "name": "stdout",
     "output_type": "stream",
     "text": [
      "[[1 2]\n",
      " [3 4]]\n",
      "\n",
      "[[1 2 3 4]]\n"
     ]
    }
   ],
   "source": [
    "# vstack\n",
    "a = np.array([[1,2]])\n",
    "b = np.array([[3,4]])\n",
    "print(np.vstack((a,b)))\n",
    "print()\n",
    "print(np.hstack((a,b)))"
   ]
  },
  {
   "cell_type": "markdown",
   "metadata": {
    "id": "43idSdN9C6W0"
   },
   "source": [
    "# np.char.<function_name>( )"
   ]
  },
  {
   "cell_type": "code",
   "execution_count": 201,
   "metadata": {
    "colab": {
     "base_uri": "https://localhost:8080/"
    },
    "executionInfo": {
     "elapsed": 69,
     "status": "ok",
     "timestamp": 1751760290112,
     "user": {
      "displayName": "Nikunj Dhaka",
      "userId": "07981058552825574146"
     },
     "user_tz": 420
    },
    "id": "jaZdhSt4B-ff",
    "outputId": "59f6f5ab-9542-4096-b732-fa18ce92efab"
   },
   "outputs": [
    {
     "name": "stdout",
     "output_type": "stream",
     "text": [
      "['hello_user' 'world_123']\n"
     ]
    }
   ],
   "source": [
    "# np.char.<function_name>()\n",
    "# 1. np.char.add()\n",
    "\n",
    "a = np.array(['hello', 'world'])\n",
    "b = np.array(['_user', '_123'])\n",
    "\n",
    "print(np.char.add(a, b))"
   ]
  },
  {
   "cell_type": "code",
   "execution_count": 127,
   "metadata": {
    "colab": {
     "base_uri": "https://localhost:8080/"
    },
    "executionInfo": {
     "elapsed": 45,
     "status": "ok",
     "timestamp": 1751760302336,
     "user": {
      "displayName": "Nikunj Dhaka",
      "userId": "07981058552825574146"
     },
     "user_tz": 420
    },
    "id": "9fql-yIIDL9v",
    "outputId": "0d176aca-981e-40a0-c004-a3b3b50a1ba6"
   },
   "outputs": [
    {
     "name": "stdout",
     "output_type": "stream",
     "text": [
      "['hellohello' 'worldworld']\n"
     ]
    }
   ],
   "source": [
    "# np.char.multiply()\n",
    "print(np.char.multiply(a, 2))"
   ]
  },
  {
   "cell_type": "code",
   "execution_count": 128,
   "metadata": {
    "colab": {
     "base_uri": "https://localhost:8080/"
    },
    "executionInfo": {
     "elapsed": 53,
     "status": "ok",
     "timestamp": 1751760317057,
     "user": {
      "displayName": "Nikunj Dhaka",
      "userId": "07981058552825574146"
     },
     "user_tz": 420
    },
    "id": "JsqJdmLgDO88",
    "outputId": "7e203b91-9178-4307-c066-596cb6bdee8e"
   },
   "outputs": [
    {
     "name": "stdout",
     "output_type": "stream",
     "text": [
      "['HELLO' 'WORLD']\n",
      "['hello' 'world']\n",
      "['Hello' 'World']\n"
     ]
    }
   ],
   "source": [
    "# np.char.upper() / lower() / capitalize()\n",
    "a = np.array(['hello', 'WORLD'])\n",
    "\n",
    "print(np.char.upper(a))\n",
    "print(np.char.lower(a))\n",
    "print(np.char.capitalize(a))"
   ]
  },
  {
   "cell_type": "code",
   "execution_count": 129,
   "metadata": {
    "colab": {
     "base_uri": "https://localhost:8080/"
    },
    "executionInfo": {
     "elapsed": 30,
     "status": "ok",
     "timestamp": 1751760326184,
     "user": {
      "displayName": "Nikunj Dhaka",
      "userId": "07981058552825574146"
     },
     "user_tz": 420
    },
    "id": "yFuODMIpDSi5",
    "outputId": "cfb4dc4b-3bdc-47fb-ba59-4eac01120f9d"
   },
   "outputs": [
    {
     "name": "stdout",
     "output_type": "stream",
     "text": [
      "['***hello***' '***WORLD***']\n"
     ]
    }
   ],
   "source": [
    "# np.char.center()\n",
    "print(np.char.center(a, 11, fillchar='*'))"
   ]
  },
  {
   "cell_type": "code",
   "execution_count": 211,
   "metadata": {
    "colab": {
     "base_uri": "https://localhost:8080/"
    },
    "executionInfo": {
     "elapsed": 32,
     "status": "ok",
     "timestamp": 1751760367788,
     "user": {
      "displayName": "Nikunj Dhaka",
      "userId": "07981058552825574146"
     },
     "user_tz": 420
    },
    "id": "EXAswq2FDUyG",
    "outputId": "532d81f9-3702-4bbf-8e2a-7c9f27e06405"
   },
   "outputs": [
    {
     "name": "stdout",
     "output_type": "stream",
     "text": [
      "['data science' 'machine learning']\n",
      "[list(['data', 'science']) list(['machine', 'learning'])]\n"
     ]
    }
   ],
   "source": [
    "a = np.array(['data_science', 'machine_learning'])\n",
    "\n",
    "# np.char.replace()\n",
    "print(np.char.replace(a, '_', ' '))\n",
    "\n",
    "# np.char.split()\n",
    "print(np.char.split(a, sep='_'))"
   ]
  },
  {
   "cell_type": "code",
   "execution_count": 212,
   "metadata": {
    "colab": {
     "base_uri": "https://localhost:8080/"
    },
    "executionInfo": {
     "elapsed": 35,
     "status": "ok",
     "timestamp": 1751760371226,
     "user": {
      "displayName": "Nikunj Dhaka",
      "userId": "07981058552825574146"
     },
     "user_tz": 420
    },
    "id": "bjfPYm8yDe72",
    "outputId": "e35f10fa-892b-4921-ed9e-fcd4177eee94"
   },
   "outputs": [
    {
     "name": "stdout",
     "output_type": "stream",
     "text": [
      "[-1  8]\n",
      "[2 2]\n",
      "[1 0]\n"
     ]
    }
   ],
   "source": [
    "# np.char.find() / np.char.count()\n",
    "\n",
    "print(np.char.find(a, 'learn'))\n",
    "print(np.char.count(a, 'a'))\n",
    "print(np.char.count(a, 'data'))"
   ]
  },
  {
   "cell_type": "markdown",
   "metadata": {
    "id": "vKaWBXMfDhzP"
   },
   "source": [
    "# statistical functions"
   ]
  },
  {
   "cell_type": "code",
   "execution_count": 132,
   "metadata": {
    "colab": {
     "base_uri": "https://localhost:8080/"
    },
    "executionInfo": {
     "elapsed": 45,
     "status": "ok",
     "timestamp": 1751760817584,
     "user": {
      "displayName": "Nikunj Dhaka",
      "userId": "07981058552825574146"
     },
     "user_tz": 420
    },
    "id": "9D6qfmVWDfwj",
    "outputId": "9acef222-e0b1-48e1-ee06-3762dbb40ed9"
   },
   "outputs": [
    {
     "name": "stdout",
     "output_type": "stream",
     "text": [
      "Mean: 3.5\n",
      "Median: 3.5\n",
      "Standard Deviation: 1.707825127659933\n",
      "Variance: 2.9166666666666665\n",
      "Min: 1\n",
      "Max: 6\n"
     ]
    }
   ],
   "source": [
    "data = np.array([1, 2, 3, 4, 5, 6])\n",
    "\n",
    "print(\"Mean:\", np.mean(data))\n",
    "print(\"Median:\", np.median(data))\n",
    "print(\"Standard Deviation:\", np.std(data))\n",
    "print(\"Variance:\", np.var(data))\n",
    "print(\"Min:\", np.min(data))\n",
    "print(\"Max:\", np.max(data))"
   ]
  },
  {
   "cell_type": "code",
   "execution_count": 136,
   "metadata": {
    "colab": {
     "base_uri": "https://localhost:8080/"
    },
    "executionInfo": {
     "elapsed": 28,
     "status": "ok",
     "timestamp": 1751761006094,
     "user": {
      "displayName": "Nikunj Dhaka",
      "userId": "07981058552825574146"
     },
     "user_tz": 420
    },
    "id": "pVHSunSWFMv6",
    "outputId": "ba6bd447-e39c-491a-974a-98239fbd31be"
   },
   "outputs": [
    {
     "name": "stdout",
     "output_type": "stream",
     "text": [
      "Argmin: 0\n",
      "Argmax: 4\n"
     ]
    }
   ],
   "source": [
    "print(\"Argmin:\", np.argmin(data)) # index of min value\n",
    "print(\"Argmax:\", np.argmax(data))"
   ]
  },
  {
   "cell_type": "code",
   "execution_count": 134,
   "metadata": {
    "colab": {
     "base_uri": "https://localhost:8080/"
    },
    "executionInfo": {
     "elapsed": 55,
     "status": "ok",
     "timestamp": 1751760857915,
     "user": {
      "displayName": "Nikunj Dhaka",
      "userId": "07981058552825574146"
     },
     "user_tz": 420
    },
    "id": "gzC8kOGkFPnc",
    "outputId": "8503d861-acd4-47f0-e62f-8cb1cb27426d"
   },
   "outputs": [
    {
     "name": "stdout",
     "output_type": "stream",
     "text": [
      "[2.5 3.5 4.5]\n",
      "[2. 5.]\n"
     ]
    }
   ],
   "source": [
    "matrix = np.array([[1, 2, 3],\n",
    "                   [4, 5, 6]])\n",
    "\n",
    "print(np.mean(matrix, axis=0))\n",
    "print(np.mean(matrix, axis=1))"
   ]
  },
  {
   "cell_type": "code",
   "execution_count": 213,
   "metadata": {
    "colab": {
     "base_uri": "https://localhost:8080/"
    },
    "executionInfo": {
     "elapsed": 54,
     "status": "ok",
     "timestamp": 1751760859892,
     "user": {
      "displayName": "Nikunj Dhaka",
      "userId": "07981058552825574146"
     },
     "user_tz": 420
    },
    "id": "vn83OMXAFWl7",
    "outputId": "0bae2712-37e8-4b02-cf16-6b9500a5dac5"
   },
   "outputs": [
    {
     "name": "stdout",
     "output_type": "stream",
     "text": [
      "5.0\n",
      "9\n"
     ]
    }
   ],
   "source": [
    "data = np.array([1, 3, 5, 7, 9])\n",
    "print(np.percentile(data, 50)) # range 1 - 100\n",
    "print(np.quantile(data, 1)) # range 0 - 1"
   ]
  },
  {
   "cell_type": "markdown",
   "metadata": {
    "id": "kNZoD1dTFZrI"
   },
   "source": [
    "# sort, search, counting functions"
   ]
  },
  {
   "cell_type": "code",
   "execution_count": 219,
   "metadata": {
    "colab": {
     "base_uri": "https://localhost:8080/"
    },
    "executionInfo": {
     "elapsed": 41,
     "status": "ok",
     "timestamp": 1751761469364,
     "user": {
      "displayName": "Nikunj Dhaka",
      "userId": "07981058552825574146"
     },
     "user_tz": 420
    },
    "id": "m-IlygZlFXEn",
    "outputId": "100057c2-d9ec-458e-b433-5226baf3a0af"
   },
   "outputs": [
    {
     "name": "stdout",
     "output_type": "stream",
     "text": [
      "Sorted: [1 1 1 1 2 3 5 6 6 8]\n",
      "Sorted indices: [3 2 5 4 7 0 8 1 9 6]\n",
      "Insert 4 position: 6\n",
      "Unique elements: [1 2 3 5 6 8]\n",
      "Count of each element: [0 4 1 1 0 1 2 0 1]\n"
     ]
    }
   ],
   "source": [
    "arr = np.array([3, 6, 1, 1, 1, 1, 8, 2, 5, 6])\n",
    "\n",
    "print(\"Sorted:\", np.sort(arr))\n",
    "print(\"Sorted indices:\", np.argsort(arr)) # tells us the index of sorted array\n",
    "print(\"Insert 4 position:\", np.searchsorted(np.sort(arr), 4)) # Finds the index where 4 should be inserted to keep the array sorted.\n",
    "print(\"Unique elements:\", np.unique(arr)) # Finds all unique values (removes duplicates) and returns sorted unique elements.\n",
    "print(\"Count of each element:\", np.bincount(arr)) # Counts the number of occurrences of each non-negative integer, where the index represents the value\n",
    "\n",
    "# min - 1\n",
    "# max - 8\n",
    "# creates an array from 0 to max element (8)\n",
    "# 0, 1, 2, 3, 4, 5, 6, 7, 8 --> len(9)"
   ]
  },
  {
   "cell_type": "code",
   "execution_count": 138,
   "metadata": {
    "colab": {
     "base_uri": "https://localhost:8080/"
    },
    "executionInfo": {
     "elapsed": 29,
     "status": "ok",
     "timestamp": 1751762386675,
     "user": {
      "displayName": "Nikunj Dhaka",
      "userId": "07981058552825574146"
     },
     "user_tz": 420
    },
    "id": "UmzYo6ZIHr33",
    "outputId": "b2139410-f857-418a-96ac-73148a048eba"
   },
   "outputs": [
    {
     "name": "stdout",
     "output_type": "stream",
     "text": [
      "1\n",
      "2\n",
      "3\n",
      "4\n"
     ]
    }
   ],
   "source": [
    "arr = np.array([1, 2, 3, 4]) # simple 1D array ieration\n",
    "for x in arr:\n",
    "    print(x)"
   ]
  },
  {
   "cell_type": "code",
   "execution_count": 139,
   "metadata": {
    "colab": {
     "base_uri": "https://localhost:8080/"
    },
    "executionInfo": {
     "elapsed": 9,
     "status": "ok",
     "timestamp": 1751762398546,
     "user": {
      "displayName": "Nikunj Dhaka",
      "userId": "07981058552825574146"
     },
     "user_tz": 420
    },
    "id": "w6cC45E5LLs5",
    "outputId": "cae672b5-588d-40e1-8f09-b0e16c6b9ddb"
   },
   "outputs": [
    {
     "name": "stdout",
     "output_type": "stream",
     "text": [
      "[1 2]\n",
      "[3 4]\n"
     ]
    }
   ],
   "source": [
    "arr_2d = np.array([[1, 2], [3, 4]])\n",
    "for x in arr_2d:\n",
    "    print(x)"
   ]
  },
  {
   "cell_type": "code",
   "execution_count": 140,
   "metadata": {
    "colab": {
     "base_uri": "https://localhost:8080/"
    },
    "executionInfo": {
     "elapsed": 12,
     "status": "ok",
     "timestamp": 1751762443378,
     "user": {
      "displayName": "Nikunj Dhaka",
      "userId": "07981058552825574146"
     },
     "user_tz": 420
    },
    "id": "hJ71lmFxLOvE",
    "outputId": "5c93398c-fdca-4e49-cf72-0b5b18223133"
   },
   "outputs": [
    {
     "name": "stdout",
     "output_type": "stream",
     "text": [
      "0\n",
      "1\n",
      "2\n",
      "3\n",
      "4\n",
      "5\n",
      "6\n",
      "7\n"
     ]
    }
   ],
   "source": [
    "arr = np.arange(8).reshape(2,2,2) # using np.nditer() - iterate over every element in 2D array\n",
    "\n",
    "for x in np.nditer(arr):\n",
    "    print(x)"
   ]
  },
  {
   "cell_type": "markdown",
   "metadata": {
    "id": "OS3-OXzHLyHD"
   },
   "source": [
    "# copy"
   ]
  },
  {
   "cell_type": "code",
   "execution_count": 143,
   "metadata": {
    "colab": {
     "base_uri": "https://localhost:8080/"
    },
    "executionInfo": {
     "elapsed": 38,
     "status": "ok",
     "timestamp": 1751762620881,
     "user": {
      "displayName": "Nikunj Dhaka",
      "userId": "07981058552825574146"
     },
     "user_tz": 420
    },
    "id": "nvWpJdg2LZrS",
    "outputId": "007bb643-68d1-4283-f6c4-1f37841e1053"
   },
   "outputs": [
    {
     "name": "stdout",
     "output_type": "stream",
     "text": [
      "136856420250128\n",
      "136856420250128\n",
      "[100   2   3]\n"
     ]
    }
   ],
   "source": [
    "a = np.array([1, 2, 3])\n",
    "b = a # it is just creating another refrence of a as b\n",
    "print(id(a))\n",
    "print(id(b))\n",
    "b[0] = 100\n",
    "print(a)"
   ]
  },
  {
   "cell_type": "code",
   "execution_count": 144,
   "metadata": {
    "colab": {
     "base_uri": "https://localhost:8080/"
    },
    "executionInfo": {
     "elapsed": 38,
     "status": "ok",
     "timestamp": 1751762621150,
     "user": {
      "displayName": "Nikunj Dhaka",
      "userId": "07981058552825574146"
     },
     "user_tz": 420
    },
    "id": "5zxCNEVmLwWg",
    "outputId": "bbbc8c7a-9334-4eb4-8cc1-e48e59881c9a"
   },
   "outputs": [
    {
     "name": "stdout",
     "output_type": "stream",
     "text": [
      "136857454811472\n",
      "136856127415248\n",
      "[1 2 3]\n"
     ]
    }
   ],
   "source": [
    "a = np.array([1, 2, 3])\n",
    "b = a.copy()\n",
    "print(id(a))\n",
    "print(id(b))\n",
    "b[0] = 100\n",
    "print(a)"
   ]
  },
  {
   "cell_type": "code",
   "execution_count": 145,
   "metadata": {
    "executionInfo": {
     "elapsed": 13,
     "status": "ok",
     "timestamp": 1751762807420,
     "user": {
      "displayName": "Nikunj Dhaka",
      "userId": "07981058552825574146"
     },
     "user_tz": 420
    },
    "id": "6B99iAEIMFEN"
   },
   "outputs": [],
   "source": [
    "a = np.array([1, 2, 3])\n",
    "\n",
    "b = a.view() # same memory refrence, no physical storage\n",
    "\n",
    "c = a.copy()"
   ]
  },
  {
   "cell_type": "code",
   "execution_count": 146,
   "metadata": {
    "colab": {
     "base_uri": "https://localhost:8080/"
    },
    "executionInfo": {
     "elapsed": 56,
     "status": "ok",
     "timestamp": 1751762879133,
     "user": {
      "displayName": "Nikunj Dhaka",
      "userId": "07981058552825574146"
     },
     "user_tz": 420
    },
    "id": "gdu4khOoMyja",
    "outputId": "e5a6588b-c771-44b3-dca4-4b88beb8dcb1"
   },
   "outputs": [
    {
     "name": "stdout",
     "output_type": "stream",
     "text": [
      "[10  2  3]\n"
     ]
    }
   ],
   "source": [
    "b[0] = 10\n",
    "print(a)"
   ]
  },
  {
   "cell_type": "code",
   "execution_count": 147,
   "metadata": {
    "colab": {
     "base_uri": "https://localhost:8080/"
    },
    "executionInfo": {
     "elapsed": 9,
     "status": "ok",
     "timestamp": 1751762884422,
     "user": {
      "displayName": "Nikunj Dhaka",
      "userId": "07981058552825574146"
     },
     "user_tz": 420
    },
    "id": "9V5LdlW9NEDJ",
    "outputId": "46342a43-b0db-425e-ebae-156a3fb648fd"
   },
   "outputs": [
    {
     "name": "stdout",
     "output_type": "stream",
     "text": [
      "[10  2  3]\n"
     ]
    }
   ],
   "source": [
    "c[0] = 20\n",
    "print(a)"
   ]
  },
  {
   "cell_type": "code",
   "execution_count": 148,
   "metadata": {
    "colab": {
     "base_uri": "https://localhost:8080/"
    },
    "executionInfo": {
     "elapsed": 65,
     "status": "ok",
     "timestamp": 1751762947260,
     "user": {
      "displayName": "Nikunj Dhaka",
      "userId": "07981058552825574146"
     },
     "user_tz": 420
    },
    "id": "qimTk20nNFWZ",
    "outputId": "5be6f8b8-2c11-4149-a3ba-3e54bd96bf44"
   },
   "outputs": [
    {
     "name": "stdout",
     "output_type": "stream",
     "text": [
      "True\n"
     ]
    }
   ],
   "source": [
    "a = np.arange(5)\n",
    "b = a[1:4] # view\n",
    "print(np.shares_memory(a, b))"
   ]
  },
  {
   "cell_type": "code",
   "execution_count": 149,
   "metadata": {
    "colab": {
     "base_uri": "https://localhost:8080/"
    },
    "executionInfo": {
     "elapsed": 63,
     "status": "ok",
     "timestamp": 1751762957505,
     "user": {
      "displayName": "Nikunj Dhaka",
      "userId": "07981058552825574146"
     },
     "user_tz": 420
    },
    "id": "UgEND8uyNUri",
    "outputId": "90aeb7ab-10c2-4d47-ef2a-da0f8c5a9903"
   },
   "outputs": [
    {
     "name": "stdout",
     "output_type": "stream",
     "text": [
      "False\n"
     ]
    }
   ],
   "source": [
    "a = np.arange(5)\n",
    "b = a[1:4].copy()\n",
    "print(np.shares_memory(a, b))"
   ]
  },
  {
   "cell_type": "code",
   "execution_count": 220,
   "metadata": {
    "colab": {
     "base_uri": "https://localhost:8080/"
    },
    "executionInfo": {
     "elapsed": 47,
     "status": "ok",
     "timestamp": 1751763124648,
     "user": {
      "displayName": "Nikunj Dhaka",
      "userId": "07981058552825574146"
     },
     "user_tz": 420
    },
    "id": "ZWsXx_5YNXLq",
    "outputId": "2b0f00b2-f7e9-4f41-cde1-ac8f823be324"
   },
   "outputs": [
    {
     "name": "stdout",
     "output_type": "stream",
     "text": [
      "[1 2 3 4]\n",
      "[1 2 3 4]\n"
     ]
    }
   ],
   "source": [
    "a = np.array([[1, 2], [3, 4]])\n",
    "print(a.ravel()) # just shares the same memory, creates a View (if possible), Faster (no copy), Changes reflect in original\n",
    "print(a.flatten()) # creates a copy, hence changes are not visible"
   ]
  },
  {
   "cell_type": "code",
   "execution_count": null,
   "metadata": {
    "id": "1sGU2PnGNYuU"
   },
   "outputs": [],
   "source": []
  }
 ],
 "metadata": {
  "colab": {
   "authorship_tag": "ABX9TyN9qDCImgbLxvPUkdUDNq0W",
   "provenance": []
  },
  "kernelspec": {
   "display_name": "myenv",
   "language": "python",
   "name": "python3"
  },
  "language_info": {
   "codemirror_mode": {
    "name": "ipython",
    "version": 3
   },
   "file_extension": ".py",
   "mimetype": "text/x-python",
   "name": "python",
   "nbconvert_exporter": "python",
   "pygments_lexer": "ipython3",
   "version": "3.13.5"
  }
 },
 "nbformat": 4,
 "nbformat_minor": 0
}

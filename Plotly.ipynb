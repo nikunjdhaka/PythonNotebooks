{
 "cells": [
  {
   "cell_type": "markdown",
   "id": "579ce82f",
   "metadata": {},
   "source": [
    "# Plotly"
   ]
  },
  {
   "cell_type": "markdown",
   "id": "c2f2e36f",
   "metadata": {
    "vscode": {
     "languageId": "html"
    }
   },
   "source": [
    "<img src=\"images/Plotly.png\" width=\"800\"/>"
   ]
  },
  {
   "cell_type": "markdown",
   "id": "4fb8a2cf",
   "metadata": {},
   "source": [
    "Plotly is a Python (and JavaScript) data visualization library that allows you to create interactive, web-based charts and dashboards.\n",
    "\n",
    "It’s especially known for:\n",
    "\n",
    "Interactivity (zoom, pan, hover)\n",
    "\n",
    "Publication-quality visuals\n",
    "\n",
    "Integration with tools like Dash, Jupyter Notebooks, and web apps\n",
    "\n"
   ]
  },
  {
   "cell_type": "markdown",
   "id": "6e77923b",
   "metadata": {},
   "source": [
    "### Built on JavaScript"
   ]
  },
  {
   "cell_type": "markdown",
   "id": "141bf572",
   "metadata": {},
   "source": [
    "### Supports Many Chart Types\n",
    "Basic: Line, bar, scatter, pie, histogram\n",
    "\n",
    "Statistical: Boxplot, violin, heatmap\n",
    "\n",
    "Advanced: 3D plots, maps (Geo/Choropleth), animations, subplots\n",
    "\n",
    "Custom dashboards with Plotly Dash"
   ]
  },
  {
   "cell_type": "code",
   "execution_count": 6,
   "id": "865b6db8",
   "metadata": {},
   "outputs": [],
   "source": [
    "import os\n",
    "import pandas as pd\n",
    "import numpy as np\n",
    "import matplotlib.pyplot as plt\n",
    "import seaborn as sns\n",
    "import plotly.express as px\n",
    "import nbformat"
   ]
  },
  {
   "cell_type": "code",
   "execution_count": 7,
   "id": "5f2415cd",
   "metadata": {},
   "outputs": [
    {
     "name": "stdout",
     "output_type": "stream",
     "text": [
      "(1067371, 8)\n",
      "Index(['Invoice', 'StockCode', 'Description', 'Quantity', 'InvoiceDate',\n",
      "       'Price', 'Customer ID', 'Country'],\n",
      "      dtype='object')\n"
     ]
    }
   ],
   "source": [
    "df_1 = pd.read_excel('./DataSets Folder/online_retail_II.xlsx', sheet_name='Year 2009-2010')\n",
    "df_2 = pd.read_excel('./DataSets Folder/online_retail_II.xlsx', sheet_name='Year 2010-2011')\n",
    "\n",
    "df = pd.concat([df_1, df_2], ignore_index=True)\n",
    "# combines the two dataframes (df_1 and df_2) into a single one (df), \n",
    "# resetting the index so it runs from 0 to N without duplicating indices.\n",
    "\n",
    "print(df.shape)\n",
    "print(df.columns)"
   ]
  },
  {
   "cell_type": "code",
   "execution_count": 8,
   "id": "5956ad73",
   "metadata": {},
   "outputs": [
    {
     "name": "stdout",
     "output_type": "stream",
     "text": [
      "<class 'pandas.core.frame.DataFrame'>\n",
      "RangeIndex: 1067371 entries, 0 to 1067370\n",
      "Data columns (total 8 columns):\n",
      " #   Column       Non-Null Count    Dtype         \n",
      "---  ------       --------------    -----         \n",
      " 0   Invoice      1067371 non-null  object        \n",
      " 1   StockCode    1067371 non-null  object        \n",
      " 2   Description  1062989 non-null  object        \n",
      " 3   Quantity     1067371 non-null  int64         \n",
      " 4   InvoiceDate  1067371 non-null  datetime64[ns]\n",
      " 5   Price        1067371 non-null  float64       \n",
      " 6   Customer ID  824364 non-null   float64       \n",
      " 7   Country      1067371 non-null  object        \n",
      "dtypes: datetime64[ns](1), float64(2), int64(1), object(4)\n",
      "memory usage: 65.1+ MB\n"
     ]
    }
   ],
   "source": [
    "df.info()"
   ]
  },
  {
   "cell_type": "markdown",
   "id": "169547c2",
   "metadata": {},
   "source": [
    "# Cleaning & Feature Engineering"
   ]
  },
  {
   "cell_type": "code",
   "execution_count": 9,
   "id": "a66b806e",
   "metadata": {},
   "outputs": [
    {
     "name": "stdout",
     "output_type": "stream",
     "text": [
      "(824364, 8)\n"
     ]
    }
   ],
   "source": [
    "df = df.dropna(subset=['InvoiceDate', 'Customer ID'])\n",
    "# Drop rows from df where either InvoiceDate or Customer ID is missing (NaN).\n",
    "print(df.shape)"
   ]
  },
  {
   "cell_type": "code",
   "execution_count": 10,
   "id": "9d3ea054",
   "metadata": {},
   "outputs": [
    {
     "name": "stdout",
     "output_type": "stream",
     "text": [
      "18744 :  rows which has cancelled invoices\n"
     ]
    },
    {
     "data": {
      "text/plain": [
       "178        C489449\n",
       "179        C489449\n",
       "180        C489449\n",
       "181        C489449\n",
       "182        C489449\n",
       "            ...   \n",
       "1065910    C581490\n",
       "1067002    C581499\n",
       "1067176    C581568\n",
       "1067177    C581569\n",
       "1067178    C581569\n",
       "Name: Invoice, Length: 18744, dtype: object"
      ]
     },
     "execution_count": 10,
     "metadata": {},
     "output_type": "execute_result"
    }
   ],
   "source": [
    "cancelled_invoice_Flags = df['Invoice'].str.startswith('C', na=False)\n",
    "# any content in Invoice column starting with C - considered cancelled invoice - return True\n",
    "# NaN will be changed to False, also correct invoice number as well to False\n",
    "cancelled_invoice_data = df[cancelled_invoice_Flags]\n",
    "print(cancelled_invoice_Flags.sum(), \":  rows which has cancelled invoices\")\n",
    "cancelled_invoice_data['Invoice']"
   ]
  },
  {
   "cell_type": "code",
   "execution_count": 11,
   "id": "a2d6051d",
   "metadata": {},
   "outputs": [
    {
     "name": "stdout",
     "output_type": "stream",
     "text": [
      "(805620, 8)\n"
     ]
    }
   ],
   "source": [
    "# lets remove the cancelled ones from main Data set\n",
    "df = df[~df['Invoice'].astype(str).str.startswith('C')]\n",
    "# df['Invoice'].astype(str) – ensures the Invoice column is treated as a string\n",
    "# .str.startswith('C') – returns True for rows where the Invoice starts with 'C'.\n",
    "# ~ – inverts the condition (i.e., select rows not starting with 'C').\n",
    "print(df.shape)"
   ]
  },
  {
   "cell_type": "code",
   "execution_count": 12,
   "id": "f460a5db",
   "metadata": {},
   "outputs": [
    {
     "name": "stdout",
     "output_type": "stream",
     "text": [
      "(805549, 8)\n"
     ]
    }
   ],
   "source": [
    "# data cleaning\n",
    "# Removes rows where the quantity is 0 or negative\n",
    "df = df[df['Quantity'] > 0]\n",
    "# Removes free, zero-priced, or negative-priced items\n",
    "df = df[df['Price'] > 0]\n",
    "# Useful for ensuring all revenue calculations are accurate\n",
    "print(df.shape)"
   ]
  },
  {
   "cell_type": "code",
   "execution_count": 13,
   "id": "cfcd4d5f",
   "metadata": {},
   "outputs": [
    {
     "data": {
      "text/html": [
       "<div>\n",
       "<style scoped>\n",
       "    .dataframe tbody tr th:only-of-type {\n",
       "        vertical-align: middle;\n",
       "    }\n",
       "\n",
       "    .dataframe tbody tr th {\n",
       "        vertical-align: top;\n",
       "    }\n",
       "\n",
       "    .dataframe thead th {\n",
       "        text-align: right;\n",
       "    }\n",
       "</style>\n",
       "<table border=\"1\" class=\"dataframe\">\n",
       "  <thead>\n",
       "    <tr style=\"text-align: right;\">\n",
       "      <th></th>\n",
       "      <th>Invoice</th>\n",
       "      <th>StockCode</th>\n",
       "      <th>Description</th>\n",
       "      <th>Quantity</th>\n",
       "      <th>InvoiceDate</th>\n",
       "      <th>Price</th>\n",
       "      <th>Customer ID</th>\n",
       "      <th>Country</th>\n",
       "      <th>Revenue</th>\n",
       "      <th>Month</th>\n",
       "    </tr>\n",
       "  </thead>\n",
       "  <tbody>\n",
       "    <tr>\n",
       "      <th>0</th>\n",
       "      <td>489434</td>\n",
       "      <td>85048</td>\n",
       "      <td>15CM CHRISTMAS GLASS BALL 20 LIGHTS</td>\n",
       "      <td>12</td>\n",
       "      <td>2009-12-01 07:45:00</td>\n",
       "      <td>6.95</td>\n",
       "      <td>13085.0</td>\n",
       "      <td>United Kingdom</td>\n",
       "      <td>83.4</td>\n",
       "      <td>2009-12</td>\n",
       "    </tr>\n",
       "    <tr>\n",
       "      <th>1</th>\n",
       "      <td>489434</td>\n",
       "      <td>79323P</td>\n",
       "      <td>PINK CHERRY LIGHTS</td>\n",
       "      <td>12</td>\n",
       "      <td>2009-12-01 07:45:00</td>\n",
       "      <td>6.75</td>\n",
       "      <td>13085.0</td>\n",
       "      <td>United Kingdom</td>\n",
       "      <td>81.0</td>\n",
       "      <td>2009-12</td>\n",
       "    </tr>\n",
       "    <tr>\n",
       "      <th>2</th>\n",
       "      <td>489434</td>\n",
       "      <td>79323W</td>\n",
       "      <td>WHITE CHERRY LIGHTS</td>\n",
       "      <td>12</td>\n",
       "      <td>2009-12-01 07:45:00</td>\n",
       "      <td>6.75</td>\n",
       "      <td>13085.0</td>\n",
       "      <td>United Kingdom</td>\n",
       "      <td>81.0</td>\n",
       "      <td>2009-12</td>\n",
       "    </tr>\n",
       "    <tr>\n",
       "      <th>3</th>\n",
       "      <td>489434</td>\n",
       "      <td>22041</td>\n",
       "      <td>RECORD FRAME 7\" SINGLE SIZE</td>\n",
       "      <td>48</td>\n",
       "      <td>2009-12-01 07:45:00</td>\n",
       "      <td>2.10</td>\n",
       "      <td>13085.0</td>\n",
       "      <td>United Kingdom</td>\n",
       "      <td>100.8</td>\n",
       "      <td>2009-12</td>\n",
       "    </tr>\n",
       "    <tr>\n",
       "      <th>4</th>\n",
       "      <td>489434</td>\n",
       "      <td>21232</td>\n",
       "      <td>STRAWBERRY CERAMIC TRINKET BOX</td>\n",
       "      <td>24</td>\n",
       "      <td>2009-12-01 07:45:00</td>\n",
       "      <td>1.25</td>\n",
       "      <td>13085.0</td>\n",
       "      <td>United Kingdom</td>\n",
       "      <td>30.0</td>\n",
       "      <td>2009-12</td>\n",
       "    </tr>\n",
       "  </tbody>\n",
       "</table>\n",
       "</div>"
      ],
      "text/plain": [
       "  Invoice StockCode                          Description  Quantity  \\\n",
       "0  489434     85048  15CM CHRISTMAS GLASS BALL 20 LIGHTS        12   \n",
       "1  489434    79323P                   PINK CHERRY LIGHTS        12   \n",
       "2  489434    79323W                  WHITE CHERRY LIGHTS        12   \n",
       "3  489434     22041         RECORD FRAME 7\" SINGLE SIZE         48   \n",
       "4  489434     21232       STRAWBERRY CERAMIC TRINKET BOX        24   \n",
       "\n",
       "          InvoiceDate  Price  Customer ID         Country  Revenue    Month  \n",
       "0 2009-12-01 07:45:00   6.95      13085.0  United Kingdom     83.4  2009-12  \n",
       "1 2009-12-01 07:45:00   6.75      13085.0  United Kingdom     81.0  2009-12  \n",
       "2 2009-12-01 07:45:00   6.75      13085.0  United Kingdom     81.0  2009-12  \n",
       "3 2009-12-01 07:45:00   2.10      13085.0  United Kingdom    100.8  2009-12  \n",
       "4 2009-12-01 07:45:00   1.25      13085.0  United Kingdom     30.0  2009-12  "
      ]
     },
     "execution_count": 13,
     "metadata": {},
     "output_type": "execute_result"
    }
   ],
   "source": [
    "# Add new features \n",
    "\n",
    "df['Revenue'] = df['Quantity'] * df['Price'] # (feature engineering)\n",
    "df['InvoiceDate'] = pd.to_datetime(df['InvoiceDate'])\n",
    "# Ensures InvoiceDate is in datetime format,essential for : Time-based filtering (e.g., by year, month),Time series analysis, Plotting trends\n",
    "df['Month'] = df['InvoiceDate'].dt.to_period('M').astype(str) # (feature engineering)\n",
    "# Creates a new column Month like \"2010-11\", \"2011-01\", etc.\n",
    "df.head()"
   ]
  },
  {
   "cell_type": "code",
   "execution_count": 14,
   "id": "6b84cda1",
   "metadata": {},
   "outputs": [
    {
     "data": {
      "text/plain": [
       "Month\n",
       "2009-12    686654.160\n",
       "2010-01    557319.062\n",
       "2010-02    506371.066\n",
       "2010-03    699608.991\n",
       "2010-04    594609.192\n",
       "Name: Revenue, dtype: float64"
      ]
     },
     "execution_count": 14,
     "metadata": {},
     "output_type": "execute_result"
    }
   ],
   "source": [
    "monthly_revenue = df.groupby('Month')['Revenue'].sum().sort_index()\n",
    "# Groups the DataFrame by the Month column you previously created using .dt.to_period('M').\n",
    "# ['Revenue'].sum() - For each month, it sums all the revenue values.\n",
    "# .sort_index() - Ensures that the months are sorted chronologically (e.g., Jan to Dec), not alphabetically.\n",
    "monthly_revenue.head()"
   ]
  },
  {
   "cell_type": "code",
   "execution_count": 15,
   "id": "ed95a054",
   "metadata": {},
   "outputs": [
    {
     "data": {
      "text/html": [
       "<div>\n",
       "<style scoped>\n",
       "    .dataframe tbody tr th:only-of-type {\n",
       "        vertical-align: middle;\n",
       "    }\n",
       "\n",
       "    .dataframe tbody tr th {\n",
       "        vertical-align: top;\n",
       "    }\n",
       "\n",
       "    .dataframe thead th {\n",
       "        text-align: right;\n",
       "    }\n",
       "</style>\n",
       "<table border=\"1\" class=\"dataframe\">\n",
       "  <thead>\n",
       "    <tr style=\"text-align: right;\">\n",
       "      <th></th>\n",
       "      <th>Quantity</th>\n",
       "      <th>Price</th>\n",
       "      <th>Revenue</th>\n",
       "      <th>Country</th>\n",
       "      <th>Month</th>\n",
       "    </tr>\n",
       "  </thead>\n",
       "  <tbody>\n",
       "    <tr>\n",
       "      <th>0</th>\n",
       "      <td>12</td>\n",
       "      <td>6.95</td>\n",
       "      <td>83.4</td>\n",
       "      <td>United Kingdom</td>\n",
       "      <td>2009-12</td>\n",
       "    </tr>\n",
       "    <tr>\n",
       "      <th>1</th>\n",
       "      <td>12</td>\n",
       "      <td>6.75</td>\n",
       "      <td>81.0</td>\n",
       "      <td>United Kingdom</td>\n",
       "      <td>2009-12</td>\n",
       "    </tr>\n",
       "    <tr>\n",
       "      <th>2</th>\n",
       "      <td>12</td>\n",
       "      <td>6.75</td>\n",
       "      <td>81.0</td>\n",
       "      <td>United Kingdom</td>\n",
       "      <td>2009-12</td>\n",
       "    </tr>\n",
       "    <tr>\n",
       "      <th>3</th>\n",
       "      <td>48</td>\n",
       "      <td>2.10</td>\n",
       "      <td>100.8</td>\n",
       "      <td>United Kingdom</td>\n",
       "      <td>2009-12</td>\n",
       "    </tr>\n",
       "    <tr>\n",
       "      <th>4</th>\n",
       "      <td>24</td>\n",
       "      <td>1.25</td>\n",
       "      <td>30.0</td>\n",
       "      <td>United Kingdom</td>\n",
       "      <td>2009-12</td>\n",
       "    </tr>\n",
       "  </tbody>\n",
       "</table>\n",
       "</div>"
      ],
      "text/plain": [
       "   Quantity  Price  Revenue         Country    Month\n",
       "0        12   6.95     83.4  United Kingdom  2009-12\n",
       "1        12   6.75     81.0  United Kingdom  2009-12\n",
       "2        12   6.75     81.0  United Kingdom  2009-12\n",
       "3        48   2.10    100.8  United Kingdom  2009-12\n",
       "4        24   1.25     30.0  United Kingdom  2009-12"
      ]
     },
     "execution_count": 15,
     "metadata": {},
     "output_type": "execute_result"
    }
   ],
   "source": [
    "df_sample = df[['Quantity', 'Price', 'Revenue', 'Country', 'Month']].copy()\n",
    "df_sample.head()"
   ]
  },
  {
   "cell_type": "code",
   "execution_count": 16,
   "id": "8c2aa77e",
   "metadata": {},
   "outputs": [
    {
     "data": {
      "text/html": [
       "<div>\n",
       "<style scoped>\n",
       "    .dataframe tbody tr th:only-of-type {\n",
       "        vertical-align: middle;\n",
       "    }\n",
       "\n",
       "    .dataframe tbody tr th {\n",
       "        vertical-align: top;\n",
       "    }\n",
       "\n",
       "    .dataframe thead th {\n",
       "        text-align: right;\n",
       "    }\n",
       "</style>\n",
       "<table border=\"1\" class=\"dataframe\">\n",
       "  <thead>\n",
       "    <tr style=\"text-align: right;\">\n",
       "      <th></th>\n",
       "      <th>Month</th>\n",
       "      <th>Revenue</th>\n",
       "    </tr>\n",
       "  </thead>\n",
       "  <tbody>\n",
       "    <tr>\n",
       "      <th>0</th>\n",
       "      <td>2009-12</td>\n",
       "      <td>686654.160</td>\n",
       "    </tr>\n",
       "    <tr>\n",
       "      <th>1</th>\n",
       "      <td>2010-01</td>\n",
       "      <td>557319.062</td>\n",
       "    </tr>\n",
       "    <tr>\n",
       "      <th>2</th>\n",
       "      <td>2010-02</td>\n",
       "      <td>506371.066</td>\n",
       "    </tr>\n",
       "    <tr>\n",
       "      <th>3</th>\n",
       "      <td>2010-03</td>\n",
       "      <td>699608.991</td>\n",
       "    </tr>\n",
       "    <tr>\n",
       "      <th>4</th>\n",
       "      <td>2010-04</td>\n",
       "      <td>594609.192</td>\n",
       "    </tr>\n",
       "  </tbody>\n",
       "</table>\n",
       "</div>"
      ],
      "text/plain": [
       "     Month     Revenue\n",
       "0  2009-12  686654.160\n",
       "1  2010-01  557319.062\n",
       "2  2010-02  506371.066\n",
       "3  2010-03  699608.991\n",
       "4  2010-04  594609.192"
      ]
     },
     "execution_count": 16,
     "metadata": {},
     "output_type": "execute_result"
    }
   ],
   "source": [
    "monthly_rev = df_sample.groupby('Month')['Revenue'].sum().reset_index()\n",
    "monthly_rev.head()"
   ]
  },
  {
   "cell_type": "markdown",
   "id": "2be72930",
   "metadata": {},
   "source": [
    "# Line Chart"
   ]
  },
  {
   "cell_type": "code",
   "execution_count": 27,
   "id": "c5c74986",
   "metadata": {},
   "outputs": [
    {
     "data": {
      "application/vnd.plotly.v1+json": {
       "config": {
        "plotlyServerURL": "https://plot.ly"
       },
       "data": [
        {
         "hovertemplate": "Month=%{x}<br>Revenue=%{y}<extra></extra>",
         "legendgroup": "",
         "line": {
          "color": "Blue",
          "dash": "solid"
         },
         "marker": {
          "color": "red",
          "symbol": "circle"
         },
         "mode": "lines+markers",
         "name": "",
         "orientation": "v",
         "showlegend": false,
         "type": "scatter",
         "x": [
          "2009-12",
          "2010-01",
          "2010-02",
          "2010-03",
          "2010-04",
          "2010-05",
          "2010-06",
          "2010-07",
          "2010-08",
          "2010-09",
          "2010-10",
          "2010-11",
          "2010-12",
          "2011-01",
          "2011-02",
          "2011-03",
          "2011-04",
          "2011-05",
          "2011-06",
          "2011-07",
          "2011-08",
          "2011-09",
          "2011-10",
          "2011-11",
          "2011-12"
         ],
         "xaxis": "x",
         "y": {
          "bdata": "H4XrUXz0JEHJdr4fDgIhQQaBlUMM6B5BHVpk+7FZJUHy0k1iYiUiQUjhepRjTyJBj8L1KLWAI0GuR+F6KQ4iQc3MzEylcCJBbxKDAP5gKUEAAAAAEKMvQRKDwApw4zFBexSux9/+KkFI4XoUymAhQWZmZmaFShtBUrgehVksIkHn+6lxQaMcQexRuB6FtSRBFK5HYbstJEHByqEFNlAiQc3MzMy/sSNBBoGVwwwULUFI4XqUrbcvQRWuR2FZujFBj8L1KAuhH0E=",
          "dtype": "f8"
         },
         "yaxis": "y"
        }
       ],
       "layout": {
        "legend": {
         "tracegroupgap": 0
        },
        "margin": {
         "t": 60
        },
        "plot_bgcolor": "Black",
        "template": {
         "data": {
          "bar": [
           {
            "error_x": {
             "color": "#2a3f5f"
            },
            "error_y": {
             "color": "#2a3f5f"
            },
            "marker": {
             "line": {
              "color": "#E5ECF6",
              "width": 0.5
             },
             "pattern": {
              "fillmode": "overlay",
              "size": 10,
              "solidity": 0.2
             }
            },
            "type": "bar"
           }
          ],
          "barpolar": [
           {
            "marker": {
             "line": {
              "color": "#E5ECF6",
              "width": 0.5
             },
             "pattern": {
              "fillmode": "overlay",
              "size": 10,
              "solidity": 0.2
             }
            },
            "type": "barpolar"
           }
          ],
          "carpet": [
           {
            "aaxis": {
             "endlinecolor": "#2a3f5f",
             "gridcolor": "white",
             "linecolor": "white",
             "minorgridcolor": "white",
             "startlinecolor": "#2a3f5f"
            },
            "baxis": {
             "endlinecolor": "#2a3f5f",
             "gridcolor": "white",
             "linecolor": "white",
             "minorgridcolor": "white",
             "startlinecolor": "#2a3f5f"
            },
            "type": "carpet"
           }
          ],
          "choropleth": [
           {
            "colorbar": {
             "outlinewidth": 0,
             "ticks": ""
            },
            "type": "choropleth"
           }
          ],
          "contour": [
           {
            "colorbar": {
             "outlinewidth": 0,
             "ticks": ""
            },
            "colorscale": [
             [
              0,
              "#0d0887"
             ],
             [
              0.1111111111111111,
              "#46039f"
             ],
             [
              0.2222222222222222,
              "#7201a8"
             ],
             [
              0.3333333333333333,
              "#9c179e"
             ],
             [
              0.4444444444444444,
              "#bd3786"
             ],
             [
              0.5555555555555556,
              "#d8576b"
             ],
             [
              0.6666666666666666,
              "#ed7953"
             ],
             [
              0.7777777777777778,
              "#fb9f3a"
             ],
             [
              0.8888888888888888,
              "#fdca26"
             ],
             [
              1,
              "#f0f921"
             ]
            ],
            "type": "contour"
           }
          ],
          "contourcarpet": [
           {
            "colorbar": {
             "outlinewidth": 0,
             "ticks": ""
            },
            "type": "contourcarpet"
           }
          ],
          "heatmap": [
           {
            "colorbar": {
             "outlinewidth": 0,
             "ticks": ""
            },
            "colorscale": [
             [
              0,
              "#0d0887"
             ],
             [
              0.1111111111111111,
              "#46039f"
             ],
             [
              0.2222222222222222,
              "#7201a8"
             ],
             [
              0.3333333333333333,
              "#9c179e"
             ],
             [
              0.4444444444444444,
              "#bd3786"
             ],
             [
              0.5555555555555556,
              "#d8576b"
             ],
             [
              0.6666666666666666,
              "#ed7953"
             ],
             [
              0.7777777777777778,
              "#fb9f3a"
             ],
             [
              0.8888888888888888,
              "#fdca26"
             ],
             [
              1,
              "#f0f921"
             ]
            ],
            "type": "heatmap"
           }
          ],
          "histogram": [
           {
            "marker": {
             "pattern": {
              "fillmode": "overlay",
              "size": 10,
              "solidity": 0.2
             }
            },
            "type": "histogram"
           }
          ],
          "histogram2d": [
           {
            "colorbar": {
             "outlinewidth": 0,
             "ticks": ""
            },
            "colorscale": [
             [
              0,
              "#0d0887"
             ],
             [
              0.1111111111111111,
              "#46039f"
             ],
             [
              0.2222222222222222,
              "#7201a8"
             ],
             [
              0.3333333333333333,
              "#9c179e"
             ],
             [
              0.4444444444444444,
              "#bd3786"
             ],
             [
              0.5555555555555556,
              "#d8576b"
             ],
             [
              0.6666666666666666,
              "#ed7953"
             ],
             [
              0.7777777777777778,
              "#fb9f3a"
             ],
             [
              0.8888888888888888,
              "#fdca26"
             ],
             [
              1,
              "#f0f921"
             ]
            ],
            "type": "histogram2d"
           }
          ],
          "histogram2dcontour": [
           {
            "colorbar": {
             "outlinewidth": 0,
             "ticks": ""
            },
            "colorscale": [
             [
              0,
              "#0d0887"
             ],
             [
              0.1111111111111111,
              "#46039f"
             ],
             [
              0.2222222222222222,
              "#7201a8"
             ],
             [
              0.3333333333333333,
              "#9c179e"
             ],
             [
              0.4444444444444444,
              "#bd3786"
             ],
             [
              0.5555555555555556,
              "#d8576b"
             ],
             [
              0.6666666666666666,
              "#ed7953"
             ],
             [
              0.7777777777777778,
              "#fb9f3a"
             ],
             [
              0.8888888888888888,
              "#fdca26"
             ],
             [
              1,
              "#f0f921"
             ]
            ],
            "type": "histogram2dcontour"
           }
          ],
          "mesh3d": [
           {
            "colorbar": {
             "outlinewidth": 0,
             "ticks": ""
            },
            "type": "mesh3d"
           }
          ],
          "parcoords": [
           {
            "line": {
             "colorbar": {
              "outlinewidth": 0,
              "ticks": ""
             }
            },
            "type": "parcoords"
           }
          ],
          "pie": [
           {
            "automargin": true,
            "type": "pie"
           }
          ],
          "scatter": [
           {
            "fillpattern": {
             "fillmode": "overlay",
             "size": 10,
             "solidity": 0.2
            },
            "type": "scatter"
           }
          ],
          "scatter3d": [
           {
            "line": {
             "colorbar": {
              "outlinewidth": 0,
              "ticks": ""
             }
            },
            "marker": {
             "colorbar": {
              "outlinewidth": 0,
              "ticks": ""
             }
            },
            "type": "scatter3d"
           }
          ],
          "scattercarpet": [
           {
            "marker": {
             "colorbar": {
              "outlinewidth": 0,
              "ticks": ""
             }
            },
            "type": "scattercarpet"
           }
          ],
          "scattergeo": [
           {
            "marker": {
             "colorbar": {
              "outlinewidth": 0,
              "ticks": ""
             }
            },
            "type": "scattergeo"
           }
          ],
          "scattergl": [
           {
            "marker": {
             "colorbar": {
              "outlinewidth": 0,
              "ticks": ""
             }
            },
            "type": "scattergl"
           }
          ],
          "scattermap": [
           {
            "marker": {
             "colorbar": {
              "outlinewidth": 0,
              "ticks": ""
             }
            },
            "type": "scattermap"
           }
          ],
          "scattermapbox": [
           {
            "marker": {
             "colorbar": {
              "outlinewidth": 0,
              "ticks": ""
             }
            },
            "type": "scattermapbox"
           }
          ],
          "scatterpolar": [
           {
            "marker": {
             "colorbar": {
              "outlinewidth": 0,
              "ticks": ""
             }
            },
            "type": "scatterpolar"
           }
          ],
          "scatterpolargl": [
           {
            "marker": {
             "colorbar": {
              "outlinewidth": 0,
              "ticks": ""
             }
            },
            "type": "scatterpolargl"
           }
          ],
          "scatterternary": [
           {
            "marker": {
             "colorbar": {
              "outlinewidth": 0,
              "ticks": ""
             }
            },
            "type": "scatterternary"
           }
          ],
          "surface": [
           {
            "colorbar": {
             "outlinewidth": 0,
             "ticks": ""
            },
            "colorscale": [
             [
              0,
              "#0d0887"
             ],
             [
              0.1111111111111111,
              "#46039f"
             ],
             [
              0.2222222222222222,
              "#7201a8"
             ],
             [
              0.3333333333333333,
              "#9c179e"
             ],
             [
              0.4444444444444444,
              "#bd3786"
             ],
             [
              0.5555555555555556,
              "#d8576b"
             ],
             [
              0.6666666666666666,
              "#ed7953"
             ],
             [
              0.7777777777777778,
              "#fb9f3a"
             ],
             [
              0.8888888888888888,
              "#fdca26"
             ],
             [
              1,
              "#f0f921"
             ]
            ],
            "type": "surface"
           }
          ],
          "table": [
           {
            "cells": {
             "fill": {
              "color": "#EBF0F8"
             },
             "line": {
              "color": "white"
             }
            },
            "header": {
             "fill": {
              "color": "#C8D4E3"
             },
             "line": {
              "color": "white"
             }
            },
            "type": "table"
           }
          ]
         },
         "layout": {
          "annotationdefaults": {
           "arrowcolor": "#2a3f5f",
           "arrowhead": 0,
           "arrowwidth": 1
          },
          "autotypenumbers": "strict",
          "coloraxis": {
           "colorbar": {
            "outlinewidth": 0,
            "ticks": ""
           }
          },
          "colorscale": {
           "diverging": [
            [
             0,
             "#8e0152"
            ],
            [
             0.1,
             "#c51b7d"
            ],
            [
             0.2,
             "#de77ae"
            ],
            [
             0.3,
             "#f1b6da"
            ],
            [
             0.4,
             "#fde0ef"
            ],
            [
             0.5,
             "#f7f7f7"
            ],
            [
             0.6,
             "#e6f5d0"
            ],
            [
             0.7,
             "#b8e186"
            ],
            [
             0.8,
             "#7fbc41"
            ],
            [
             0.9,
             "#4d9221"
            ],
            [
             1,
             "#276419"
            ]
           ],
           "sequential": [
            [
             0,
             "#0d0887"
            ],
            [
             0.1111111111111111,
             "#46039f"
            ],
            [
             0.2222222222222222,
             "#7201a8"
            ],
            [
             0.3333333333333333,
             "#9c179e"
            ],
            [
             0.4444444444444444,
             "#bd3786"
            ],
            [
             0.5555555555555556,
             "#d8576b"
            ],
            [
             0.6666666666666666,
             "#ed7953"
            ],
            [
             0.7777777777777778,
             "#fb9f3a"
            ],
            [
             0.8888888888888888,
             "#fdca26"
            ],
            [
             1,
             "#f0f921"
            ]
           ],
           "sequentialminus": [
            [
             0,
             "#0d0887"
            ],
            [
             0.1111111111111111,
             "#46039f"
            ],
            [
             0.2222222222222222,
             "#7201a8"
            ],
            [
             0.3333333333333333,
             "#9c179e"
            ],
            [
             0.4444444444444444,
             "#bd3786"
            ],
            [
             0.5555555555555556,
             "#d8576b"
            ],
            [
             0.6666666666666666,
             "#ed7953"
            ],
            [
             0.7777777777777778,
             "#fb9f3a"
            ],
            [
             0.8888888888888888,
             "#fdca26"
            ],
            [
             1,
             "#f0f921"
            ]
           ]
          },
          "colorway": [
           "#636efa",
           "#EF553B",
           "#00cc96",
           "#ab63fa",
           "#FFA15A",
           "#19d3f3",
           "#FF6692",
           "#B6E880",
           "#FF97FF",
           "#FECB52"
          ],
          "font": {
           "color": "#2a3f5f"
          },
          "geo": {
           "bgcolor": "white",
           "lakecolor": "white",
           "landcolor": "#E5ECF6",
           "showlakes": true,
           "showland": true,
           "subunitcolor": "white"
          },
          "hoverlabel": {
           "align": "left"
          },
          "hovermode": "closest",
          "mapbox": {
           "style": "light"
          },
          "paper_bgcolor": "white",
          "plot_bgcolor": "#E5ECF6",
          "polar": {
           "angularaxis": {
            "gridcolor": "white",
            "linecolor": "white",
            "ticks": ""
           },
           "bgcolor": "#E5ECF6",
           "radialaxis": {
            "gridcolor": "white",
            "linecolor": "white",
            "ticks": ""
           }
          },
          "scene": {
           "xaxis": {
            "backgroundcolor": "#E5ECF6",
            "gridcolor": "white",
            "gridwidth": 2,
            "linecolor": "white",
            "showbackground": true,
            "ticks": "",
            "zerolinecolor": "white"
           },
           "yaxis": {
            "backgroundcolor": "#E5ECF6",
            "gridcolor": "white",
            "gridwidth": 2,
            "linecolor": "white",
            "showbackground": true,
            "ticks": "",
            "zerolinecolor": "white"
           },
           "zaxis": {
            "backgroundcolor": "#E5ECF6",
            "gridcolor": "white",
            "gridwidth": 2,
            "linecolor": "white",
            "showbackground": true,
            "ticks": "",
            "zerolinecolor": "white"
           }
          },
          "shapedefaults": {
           "line": {
            "color": "#2a3f5f"
           }
          },
          "ternary": {
           "aaxis": {
            "gridcolor": "white",
            "linecolor": "white",
            "ticks": ""
           },
           "baxis": {
            "gridcolor": "white",
            "linecolor": "white",
            "ticks": ""
           },
           "bgcolor": "#E5ECF6",
           "caxis": {
            "gridcolor": "white",
            "linecolor": "white",
            "ticks": ""
           }
          },
          "title": {
           "x": 0.05
          },
          "xaxis": {
           "automargin": true,
           "gridcolor": "white",
           "linecolor": "white",
           "ticks": "",
           "title": {
            "standoff": 15
           },
           "zerolinecolor": "white",
           "zerolinewidth": 2
          },
          "yaxis": {
           "automargin": true,
           "gridcolor": "white",
           "linecolor": "white",
           "ticks": "",
           "title": {
            "standoff": 15
           },
           "zerolinecolor": "white",
           "zerolinewidth": 2
          }
         }
        },
        "title": {
         "text": "Monthly Revenue Trend"
        },
        "xaxis": {
         "anchor": "y",
         "domain": [
          0,
          1
         ],
         "tickangle": 45,
         "title": {
          "text": "Month"
         }
        },
        "yaxis": {
         "anchor": "x",
         "domain": [
          0,
          1
         ],
         "title": {
          "text": "Revenue"
         }
        }
       }
      }
     },
     "metadata": {},
     "output_type": "display_data"
    }
   ],
   "source": [
    "fig = px.line(monthly_rev,\n",
    "              x='Month', \n",
    "              y='Revenue',\n",
    "              markers=True)\n",
    "\n",
    "# markers=True: Adds markers (dots) at each data point, making the trend more readable.\n",
    "\n",
    "fig.update_layout(xaxis_title=\"Month\", \n",
    "                  yaxis_title=\"Revenue\",\n",
    "                  xaxis_tickangle=45, \n",
    "                  title='Monthly Revenue Trend',\n",
    "                  plot_bgcolor='Black')\n",
    "\n",
    "# update_layout - This function customizes the appearance of the chart.\n",
    "\n",
    "fig.update_traces(line_color='Blue', marker_color='red')\n",
    "# customizes the appearance of the line and markers in your Plotly figure \n",
    "\n",
    "fig.show()"
   ]
  },
  {
   "cell_type": "markdown",
   "id": "8c634653",
   "metadata": {},
   "source": [
    "# Bar Plot\n",
    "### Top 10 Countries by Revenue"
   ]
  },
  {
   "cell_type": "code",
   "execution_count": 29,
   "id": "a436b4be",
   "metadata": {},
   "outputs": [
    {
     "data": {
      "text/html": [
       "<div>\n",
       "<style scoped>\n",
       "    .dataframe tbody tr th:only-of-type {\n",
       "        vertical-align: middle;\n",
       "    }\n",
       "\n",
       "    .dataframe tbody tr th {\n",
       "        vertical-align: top;\n",
       "    }\n",
       "\n",
       "    .dataframe thead th {\n",
       "        text-align: right;\n",
       "    }\n",
       "</style>\n",
       "<table border=\"1\" class=\"dataframe\">\n",
       "  <thead>\n",
       "    <tr style=\"text-align: right;\">\n",
       "      <th></th>\n",
       "      <th>Country</th>\n",
       "      <th>Revenue</th>\n",
       "    </tr>\n",
       "  </thead>\n",
       "  <tbody>\n",
       "    <tr>\n",
       "      <th>0</th>\n",
       "      <td>United Kingdom</td>\n",
       "      <td>1.472315e+07</td>\n",
       "    </tr>\n",
       "    <tr>\n",
       "      <th>1</th>\n",
       "      <td>EIRE</td>\n",
       "      <td>6.216311e+05</td>\n",
       "    </tr>\n",
       "    <tr>\n",
       "      <th>2</th>\n",
       "      <td>Netherlands</td>\n",
       "      <td>5.542323e+05</td>\n",
       "    </tr>\n",
       "    <tr>\n",
       "      <th>3</th>\n",
       "      <td>Germany</td>\n",
       "      <td>4.312625e+05</td>\n",
       "    </tr>\n",
       "    <tr>\n",
       "      <th>4</th>\n",
       "      <td>France</td>\n",
       "      <td>3.552575e+05</td>\n",
       "    </tr>\n",
       "  </tbody>\n",
       "</table>\n",
       "</div>"
      ],
      "text/plain": [
       "          Country       Revenue\n",
       "0  United Kingdom  1.472315e+07\n",
       "1            EIRE  6.216311e+05\n",
       "2     Netherlands  5.542323e+05\n",
       "3         Germany  4.312625e+05\n",
       "4          France  3.552575e+05"
      ]
     },
     "execution_count": 29,
     "metadata": {},
     "output_type": "execute_result"
    }
   ],
   "source": [
    "top_countries = df_sample.groupby('Country')['Revenue'].sum().sort_values(ascending=False).head(10).reset_index()\n",
    "top_countries.head()"
   ]
  },
  {
   "cell_type": "code",
   "execution_count": 30,
   "id": "30d393e3",
   "metadata": {},
   "outputs": [
    {
     "data": {
      "application/vnd.plotly.v1+json": {
       "config": {
        "plotlyServerURL": "https://plot.ly"
       },
       "data": [
        {
         "hovertemplate": "Country=%{x}<br>Revenue=%{text}<extra></extra>",
         "legendgroup": "United Kingdom",
         "marker": {
          "color": "#636efa",
          "pattern": {
           "shape": ""
          }
         },
         "name": "United Kingdom",
         "orientation": "v",
         "showlegend": true,
         "text": {
          "bdata": "lkOLcAkVbEE=",
          "dtype": "f8"
         },
         "textposition": "outside",
         "texttemplate": "%{text:.3s}",
         "type": "bar",
         "x": [
          "United Kingdom"
         ],
         "xaxis": "x",
         "y": {
          "bdata": "lkOLcAkVbEE=",
          "dtype": "f8"
         },
         "yaxis": "y"
        },
        {
         "hovertemplate": "Country=%{x}<br>Revenue=%{text}<extra></extra>",
         "legendgroup": "EIRE",
         "marker": {
          "color": "#EF553B",
          "pattern": {
           "shape": ""
          }
         },
         "name": "EIRE",
         "orientation": "v",
         "showlegend": true,
         "text": {
          "bdata": "hetROH74IkE=",
          "dtype": "f8"
         },
         "textposition": "outside",
         "texttemplate": "%{text:.3s}",
         "type": "bar",
         "x": [
          "EIRE"
         ],
         "xaxis": "x",
         "y": {
          "bdata": "hetROH74IkE=",
          "dtype": "f8"
         },
         "yaxis": "y"
        },
        {
         "hovertemplate": "Country=%{x}<br>Revenue=%{text}<extra></extra>",
         "legendgroup": "Netherlands",
         "marker": {
          "color": "#00cc96",
          "pattern": {
           "shape": ""
          }
         },
         "name": "Netherlands",
         "orientation": "v",
         "showlegend": true,
         "text": {
          "bdata": "4XoUrvDpIEE=",
          "dtype": "f8"
         },
         "textposition": "outside",
         "texttemplate": "%{text:.3s}",
         "type": "bar",
         "x": [
          "Netherlands"
         ],
         "xaxis": "x",
         "y": {
          "bdata": "4XoUrvDpIEE=",
          "dtype": "f8"
         },
         "yaxis": "y"
        },
        {
         "hovertemplate": "Country=%{x}<br>Revenue=%{text}<extra></extra>",
         "legendgroup": "Germany",
         "marker": {
          "color": "#ab63fa",
          "pattern": {
           "shape": ""
          }
         },
         "name": "Germany",
         "orientation": "v",
         "showlegend": true,
         "text": {
          "bdata": "TmIQ2HlSGkE=",
          "dtype": "f8"
         },
         "textposition": "outside",
         "texttemplate": "%{text:.3s}",
         "type": "bar",
         "x": [
          "Germany"
         ],
         "xaxis": "x",
         "y": {
          "bdata": "TmIQ2HlSGkE=",
          "dtype": "f8"
         },
         "yaxis": "y"
        },
        {
         "hovertemplate": "Country=%{x}<br>Revenue=%{text}<extra></extra>",
         "legendgroup": "France",
         "marker": {
          "color": "#FFA15A",
          "pattern": {
           "shape": ""
          }
         },
         "name": "France",
         "orientation": "v",
         "showlegend": true,
         "text": {
          "bdata": "FK5H4eWuFUE=",
          "dtype": "f8"
         },
         "textposition": "outside",
         "texttemplate": "%{text:.3s}",
         "type": "bar",
         "x": [
          "France"
         ],
         "xaxis": "x",
         "y": {
          "bdata": "FK5H4eWuFUE=",
          "dtype": "f8"
         },
         "yaxis": "y"
        },
        {
         "hovertemplate": "Country=%{x}<br>Revenue=%{text}<extra></extra>",
         "legendgroup": "Australia",
         "marker": {
          "color": "#19d3f3",
          "pattern": {
           "shape": ""
          }
         },
         "name": "Australia",
         "orientation": "v",
         "showlegend": true,
         "text": {
          "bdata": "Fa5H4YC/BEE=",
          "dtype": "f8"
         },
         "textposition": "outside",
         "texttemplate": "%{text:.3s}",
         "type": "bar",
         "x": [
          "Australia"
         ],
         "xaxis": "x",
         "y": {
          "bdata": "Fa5H4YC/BEE=",
          "dtype": "f8"
         },
         "yaxis": "y"
        },
        {
         "hovertemplate": "Country=%{x}<br>Revenue=%{text}<extra></extra>",
         "legendgroup": "Spain",
         "marker": {
          "color": "#FF6692",
          "pattern": {
           "shape": ""
          }
         },
         "name": "Spain",
         "orientation": "v",
         "showlegend": true,
         "text": {
          "bdata": "rkfheqin+kA=",
          "dtype": "f8"
         },
         "textposition": "outside",
         "texttemplate": "%{text:.3s}",
         "type": "bar",
         "x": [
          "Spain"
         ],
         "xaxis": "x",
         "y": {
          "bdata": "rkfheqin+kA=",
          "dtype": "f8"
         },
         "yaxis": "y"
        },
        {
         "hovertemplate": "Country=%{x}<br>Revenue=%{text}<extra></extra>",
         "legendgroup": "Switzerland",
         "marker": {
          "color": "#B6E880",
          "pattern": {
           "shape": ""
          }
         },
         "name": "Switzerland",
         "orientation": "v",
         "showlegend": true,
         "text": {
          "bdata": "CtejcNWA+EA=",
          "dtype": "f8"
         },
         "textposition": "outside",
         "texttemplate": "%{text:.3s}",
         "type": "bar",
         "x": [
          "Switzerland"
         ],
         "xaxis": "x",
         "y": {
          "bdata": "CtejcNWA+EA=",
          "dtype": "f8"
         },
         "yaxis": "y"
        },
        {
         "hovertemplate": "Country=%{x}<br>Revenue=%{text}<extra></extra>",
         "legendgroup": "Sweden",
         "marker": {
          "color": "#FF97FF",
          "pattern": {
           "shape": ""
          }
         },
         "name": "Sweden",
         "orientation": "v",
         "showlegend": true,
         "text": {
          "bdata": "UrgehdtZ9kA=",
          "dtype": "f8"
         },
         "textposition": "outside",
         "texttemplate": "%{text:.3s}",
         "type": "bar",
         "x": [
          "Sweden"
         ],
         "xaxis": "x",
         "y": {
          "bdata": "UrgehdtZ9kA=",
          "dtype": "f8"
         },
         "yaxis": "y"
        },
        {
         "hovertemplate": "Country=%{x}<br>Revenue=%{text}<extra></extra>",
         "legendgroup": "Denmark",
         "marker": {
          "color": "#FECB52",
          "pattern": {
           "shape": ""
          }
         },
         "name": "Denmark",
         "orientation": "v",
         "showlegend": true,
         "text": {
          "bdata": "pHA9CmMO8UA=",
          "dtype": "f8"
         },
         "textposition": "outside",
         "texttemplate": "%{text:.3s}",
         "type": "bar",
         "x": [
          "Denmark"
         ],
         "xaxis": "x",
         "y": {
          "bdata": "pHA9CmMO8UA=",
          "dtype": "f8"
         },
         "yaxis": "y"
        }
       ],
       "layout": {
        "barmode": "relative",
        "legend": {
         "title": {
          "text": "Country"
         },
         "tracegroupgap": 0
        },
        "showlegend": false,
        "template": {
         "data": {
          "bar": [
           {
            "error_x": {
             "color": "#2a3f5f"
            },
            "error_y": {
             "color": "#2a3f5f"
            },
            "marker": {
             "line": {
              "color": "#E5ECF6",
              "width": 0.5
             },
             "pattern": {
              "fillmode": "overlay",
              "size": 10,
              "solidity": 0.2
             }
            },
            "type": "bar"
           }
          ],
          "barpolar": [
           {
            "marker": {
             "line": {
              "color": "#E5ECF6",
              "width": 0.5
             },
             "pattern": {
              "fillmode": "overlay",
              "size": 10,
              "solidity": 0.2
             }
            },
            "type": "barpolar"
           }
          ],
          "carpet": [
           {
            "aaxis": {
             "endlinecolor": "#2a3f5f",
             "gridcolor": "white",
             "linecolor": "white",
             "minorgridcolor": "white",
             "startlinecolor": "#2a3f5f"
            },
            "baxis": {
             "endlinecolor": "#2a3f5f",
             "gridcolor": "white",
             "linecolor": "white",
             "minorgridcolor": "white",
             "startlinecolor": "#2a3f5f"
            },
            "type": "carpet"
           }
          ],
          "choropleth": [
           {
            "colorbar": {
             "outlinewidth": 0,
             "ticks": ""
            },
            "type": "choropleth"
           }
          ],
          "contour": [
           {
            "colorbar": {
             "outlinewidth": 0,
             "ticks": ""
            },
            "colorscale": [
             [
              0,
              "#0d0887"
             ],
             [
              0.1111111111111111,
              "#46039f"
             ],
             [
              0.2222222222222222,
              "#7201a8"
             ],
             [
              0.3333333333333333,
              "#9c179e"
             ],
             [
              0.4444444444444444,
              "#bd3786"
             ],
             [
              0.5555555555555556,
              "#d8576b"
             ],
             [
              0.6666666666666666,
              "#ed7953"
             ],
             [
              0.7777777777777778,
              "#fb9f3a"
             ],
             [
              0.8888888888888888,
              "#fdca26"
             ],
             [
              1,
              "#f0f921"
             ]
            ],
            "type": "contour"
           }
          ],
          "contourcarpet": [
           {
            "colorbar": {
             "outlinewidth": 0,
             "ticks": ""
            },
            "type": "contourcarpet"
           }
          ],
          "heatmap": [
           {
            "colorbar": {
             "outlinewidth": 0,
             "ticks": ""
            },
            "colorscale": [
             [
              0,
              "#0d0887"
             ],
             [
              0.1111111111111111,
              "#46039f"
             ],
             [
              0.2222222222222222,
              "#7201a8"
             ],
             [
              0.3333333333333333,
              "#9c179e"
             ],
             [
              0.4444444444444444,
              "#bd3786"
             ],
             [
              0.5555555555555556,
              "#d8576b"
             ],
             [
              0.6666666666666666,
              "#ed7953"
             ],
             [
              0.7777777777777778,
              "#fb9f3a"
             ],
             [
              0.8888888888888888,
              "#fdca26"
             ],
             [
              1,
              "#f0f921"
             ]
            ],
            "type": "heatmap"
           }
          ],
          "histogram": [
           {
            "marker": {
             "pattern": {
              "fillmode": "overlay",
              "size": 10,
              "solidity": 0.2
             }
            },
            "type": "histogram"
           }
          ],
          "histogram2d": [
           {
            "colorbar": {
             "outlinewidth": 0,
             "ticks": ""
            },
            "colorscale": [
             [
              0,
              "#0d0887"
             ],
             [
              0.1111111111111111,
              "#46039f"
             ],
             [
              0.2222222222222222,
              "#7201a8"
             ],
             [
              0.3333333333333333,
              "#9c179e"
             ],
             [
              0.4444444444444444,
              "#bd3786"
             ],
             [
              0.5555555555555556,
              "#d8576b"
             ],
             [
              0.6666666666666666,
              "#ed7953"
             ],
             [
              0.7777777777777778,
              "#fb9f3a"
             ],
             [
              0.8888888888888888,
              "#fdca26"
             ],
             [
              1,
              "#f0f921"
             ]
            ],
            "type": "histogram2d"
           }
          ],
          "histogram2dcontour": [
           {
            "colorbar": {
             "outlinewidth": 0,
             "ticks": ""
            },
            "colorscale": [
             [
              0,
              "#0d0887"
             ],
             [
              0.1111111111111111,
              "#46039f"
             ],
             [
              0.2222222222222222,
              "#7201a8"
             ],
             [
              0.3333333333333333,
              "#9c179e"
             ],
             [
              0.4444444444444444,
              "#bd3786"
             ],
             [
              0.5555555555555556,
              "#d8576b"
             ],
             [
              0.6666666666666666,
              "#ed7953"
             ],
             [
              0.7777777777777778,
              "#fb9f3a"
             ],
             [
              0.8888888888888888,
              "#fdca26"
             ],
             [
              1,
              "#f0f921"
             ]
            ],
            "type": "histogram2dcontour"
           }
          ],
          "mesh3d": [
           {
            "colorbar": {
             "outlinewidth": 0,
             "ticks": ""
            },
            "type": "mesh3d"
           }
          ],
          "parcoords": [
           {
            "line": {
             "colorbar": {
              "outlinewidth": 0,
              "ticks": ""
             }
            },
            "type": "parcoords"
           }
          ],
          "pie": [
           {
            "automargin": true,
            "type": "pie"
           }
          ],
          "scatter": [
           {
            "fillpattern": {
             "fillmode": "overlay",
             "size": 10,
             "solidity": 0.2
            },
            "type": "scatter"
           }
          ],
          "scatter3d": [
           {
            "line": {
             "colorbar": {
              "outlinewidth": 0,
              "ticks": ""
             }
            },
            "marker": {
             "colorbar": {
              "outlinewidth": 0,
              "ticks": ""
             }
            },
            "type": "scatter3d"
           }
          ],
          "scattercarpet": [
           {
            "marker": {
             "colorbar": {
              "outlinewidth": 0,
              "ticks": ""
             }
            },
            "type": "scattercarpet"
           }
          ],
          "scattergeo": [
           {
            "marker": {
             "colorbar": {
              "outlinewidth": 0,
              "ticks": ""
             }
            },
            "type": "scattergeo"
           }
          ],
          "scattergl": [
           {
            "marker": {
             "colorbar": {
              "outlinewidth": 0,
              "ticks": ""
             }
            },
            "type": "scattergl"
           }
          ],
          "scattermap": [
           {
            "marker": {
             "colorbar": {
              "outlinewidth": 0,
              "ticks": ""
             }
            },
            "type": "scattermap"
           }
          ],
          "scattermapbox": [
           {
            "marker": {
             "colorbar": {
              "outlinewidth": 0,
              "ticks": ""
             }
            },
            "type": "scattermapbox"
           }
          ],
          "scatterpolar": [
           {
            "marker": {
             "colorbar": {
              "outlinewidth": 0,
              "ticks": ""
             }
            },
            "type": "scatterpolar"
           }
          ],
          "scatterpolargl": [
           {
            "marker": {
             "colorbar": {
              "outlinewidth": 0,
              "ticks": ""
             }
            },
            "type": "scatterpolargl"
           }
          ],
          "scatterternary": [
           {
            "marker": {
             "colorbar": {
              "outlinewidth": 0,
              "ticks": ""
             }
            },
            "type": "scatterternary"
           }
          ],
          "surface": [
           {
            "colorbar": {
             "outlinewidth": 0,
             "ticks": ""
            },
            "colorscale": [
             [
              0,
              "#0d0887"
             ],
             [
              0.1111111111111111,
              "#46039f"
             ],
             [
              0.2222222222222222,
              "#7201a8"
             ],
             [
              0.3333333333333333,
              "#9c179e"
             ],
             [
              0.4444444444444444,
              "#bd3786"
             ],
             [
              0.5555555555555556,
              "#d8576b"
             ],
             [
              0.6666666666666666,
              "#ed7953"
             ],
             [
              0.7777777777777778,
              "#fb9f3a"
             ],
             [
              0.8888888888888888,
              "#fdca26"
             ],
             [
              1,
              "#f0f921"
             ]
            ],
            "type": "surface"
           }
          ],
          "table": [
           {
            "cells": {
             "fill": {
              "color": "#EBF0F8"
             },
             "line": {
              "color": "white"
             }
            },
            "header": {
             "fill": {
              "color": "#C8D4E3"
             },
             "line": {
              "color": "white"
             }
            },
            "type": "table"
           }
          ]
         },
         "layout": {
          "annotationdefaults": {
           "arrowcolor": "#2a3f5f",
           "arrowhead": 0,
           "arrowwidth": 1
          },
          "autotypenumbers": "strict",
          "coloraxis": {
           "colorbar": {
            "outlinewidth": 0,
            "ticks": ""
           }
          },
          "colorscale": {
           "diverging": [
            [
             0,
             "#8e0152"
            ],
            [
             0.1,
             "#c51b7d"
            ],
            [
             0.2,
             "#de77ae"
            ],
            [
             0.3,
             "#f1b6da"
            ],
            [
             0.4,
             "#fde0ef"
            ],
            [
             0.5,
             "#f7f7f7"
            ],
            [
             0.6,
             "#e6f5d0"
            ],
            [
             0.7,
             "#b8e186"
            ],
            [
             0.8,
             "#7fbc41"
            ],
            [
             0.9,
             "#4d9221"
            ],
            [
             1,
             "#276419"
            ]
           ],
           "sequential": [
            [
             0,
             "#0d0887"
            ],
            [
             0.1111111111111111,
             "#46039f"
            ],
            [
             0.2222222222222222,
             "#7201a8"
            ],
            [
             0.3333333333333333,
             "#9c179e"
            ],
            [
             0.4444444444444444,
             "#bd3786"
            ],
            [
             0.5555555555555556,
             "#d8576b"
            ],
            [
             0.6666666666666666,
             "#ed7953"
            ],
            [
             0.7777777777777778,
             "#fb9f3a"
            ],
            [
             0.8888888888888888,
             "#fdca26"
            ],
            [
             1,
             "#f0f921"
            ]
           ],
           "sequentialminus": [
            [
             0,
             "#0d0887"
            ],
            [
             0.1111111111111111,
             "#46039f"
            ],
            [
             0.2222222222222222,
             "#7201a8"
            ],
            [
             0.3333333333333333,
             "#9c179e"
            ],
            [
             0.4444444444444444,
             "#bd3786"
            ],
            [
             0.5555555555555556,
             "#d8576b"
            ],
            [
             0.6666666666666666,
             "#ed7953"
            ],
            [
             0.7777777777777778,
             "#fb9f3a"
            ],
            [
             0.8888888888888888,
             "#fdca26"
            ],
            [
             1,
             "#f0f921"
            ]
           ]
          },
          "colorway": [
           "#636efa",
           "#EF553B",
           "#00cc96",
           "#ab63fa",
           "#FFA15A",
           "#19d3f3",
           "#FF6692",
           "#B6E880",
           "#FF97FF",
           "#FECB52"
          ],
          "font": {
           "color": "#2a3f5f"
          },
          "geo": {
           "bgcolor": "white",
           "lakecolor": "white",
           "landcolor": "#E5ECF6",
           "showlakes": true,
           "showland": true,
           "subunitcolor": "white"
          },
          "hoverlabel": {
           "align": "left"
          },
          "hovermode": "closest",
          "mapbox": {
           "style": "light"
          },
          "paper_bgcolor": "white",
          "plot_bgcolor": "#E5ECF6",
          "polar": {
           "angularaxis": {
            "gridcolor": "white",
            "linecolor": "white",
            "ticks": ""
           },
           "bgcolor": "#E5ECF6",
           "radialaxis": {
            "gridcolor": "white",
            "linecolor": "white",
            "ticks": ""
           }
          },
          "scene": {
           "xaxis": {
            "backgroundcolor": "#E5ECF6",
            "gridcolor": "white",
            "gridwidth": 2,
            "linecolor": "white",
            "showbackground": true,
            "ticks": "",
            "zerolinecolor": "white"
           },
           "yaxis": {
            "backgroundcolor": "#E5ECF6",
            "gridcolor": "white",
            "gridwidth": 2,
            "linecolor": "white",
            "showbackground": true,
            "ticks": "",
            "zerolinecolor": "white"
           },
           "zaxis": {
            "backgroundcolor": "#E5ECF6",
            "gridcolor": "white",
            "gridwidth": 2,
            "linecolor": "white",
            "showbackground": true,
            "ticks": "",
            "zerolinecolor": "white"
           }
          },
          "shapedefaults": {
           "line": {
            "color": "#2a3f5f"
           }
          },
          "ternary": {
           "aaxis": {
            "gridcolor": "white",
            "linecolor": "white",
            "ticks": ""
           },
           "baxis": {
            "gridcolor": "white",
            "linecolor": "white",
            "ticks": ""
           },
           "bgcolor": "#E5ECF6",
           "caxis": {
            "gridcolor": "white",
            "linecolor": "white",
            "ticks": ""
           }
          },
          "title": {
           "x": 0.05
          },
          "xaxis": {
           "automargin": true,
           "gridcolor": "white",
           "linecolor": "white",
           "ticks": "",
           "title": {
            "standoff": 15
           },
           "zerolinecolor": "white",
           "zerolinewidth": 2
          },
          "yaxis": {
           "automargin": true,
           "gridcolor": "white",
           "linecolor": "white",
           "ticks": "",
           "title": {
            "standoff": 15
           },
           "zerolinecolor": "white",
           "zerolinewidth": 2
          }
         }
        },
        "title": {
         "text": "Top 10 Countries by Revenue"
        },
        "xaxis": {
         "anchor": "y",
         "categoryarray": [
          "United Kingdom",
          "EIRE",
          "Netherlands",
          "Germany",
          "France",
          "Australia",
          "Spain",
          "Switzerland",
          "Sweden",
          "Denmark"
         ],
         "categoryorder": "array",
         "domain": [
          0,
          1
         ],
         "tickangle": 45,
         "title": {
          "text": "Country"
         }
        },
        "yaxis": {
         "anchor": "x",
         "domain": [
          0,
          1
         ],
         "title": {
          "text": "Revenue"
         }
        }
       }
      }
     },
     "metadata": {},
     "output_type": "display_data"
    }
   ],
   "source": [
    "fig = px.bar(top_countries,\n",
    "             x='Country', \n",
    "             y='Revenue',\n",
    "             title='Top 10 Countries by Revenue',\n",
    "             text='Revenue', # Display revenue as a label on each bar.\n",
    "             color='Country') # Each bar gets a different color (based on country).\n",
    "\n",
    "# update_traces - properties of data like, line style, text label, hover info, marker size / color\n",
    "\n",
    "fig.update_traces(texttemplate='%{text:.3s}', textposition='outside')\n",
    "# texttemplate='%{text:.3s}': - Custom format for the label text.\n",
    "# '%{text:.3s}' means: take only the first 3 characters of the text (i.e., revenue value).\n",
    "# Places the label above the bar (outside the bar's top).\n",
    "fig.update_layout(xaxis_tickangle=45, showlegend=False)\n",
    "fig.show()"
   ]
  },
  {
   "cell_type": "markdown",
   "id": "91f40854",
   "metadata": {},
   "source": [
    "### Axis formatting"
   ]
  },
  {
   "cell_type": "code",
   "execution_count": 38,
   "id": "9436b22e",
   "metadata": {},
   "outputs": [
    {
     "data": {
      "application/vnd.plotly.v1+json": {
       "config": {
        "plotlyServerURL": "https://plot.ly"
       },
       "data": [
        {
         "hovertemplate": "Country=%{x}<br>Revenue=%{text}<extra></extra>",
         "legendgroup": "United Kingdom",
         "marker": {
          "color": "#636efa",
          "pattern": {
           "shape": ""
          }
         },
         "name": "United Kingdom",
         "orientation": "v",
         "showlegend": true,
         "text": {
          "bdata": "lkOLcAkVbEE=",
          "dtype": "f8"
         },
         "textposition": "outside",
         "texttemplate": "%{text:.2s}",
         "type": "bar",
         "x": [
          "United Kingdom"
         ],
         "xaxis": "x",
         "y": {
          "bdata": "lkOLcAkVbEE=",
          "dtype": "f8"
         },
         "yaxis": "y"
        },
        {
         "hovertemplate": "Country=%{x}<br>Revenue=%{text}<extra></extra>",
         "legendgroup": "EIRE",
         "marker": {
          "color": "#EF553B",
          "pattern": {
           "shape": ""
          }
         },
         "name": "EIRE",
         "orientation": "v",
         "showlegend": true,
         "text": {
          "bdata": "hetROH74IkE=",
          "dtype": "f8"
         },
         "textposition": "outside",
         "texttemplate": "%{text:.2s}",
         "type": "bar",
         "x": [
          "EIRE"
         ],
         "xaxis": "x",
         "y": {
          "bdata": "hetROH74IkE=",
          "dtype": "f8"
         },
         "yaxis": "y"
        },
        {
         "hovertemplate": "Country=%{x}<br>Revenue=%{text}<extra></extra>",
         "legendgroup": "Netherlands",
         "marker": {
          "color": "#00cc96",
          "pattern": {
           "shape": ""
          }
         },
         "name": "Netherlands",
         "orientation": "v",
         "showlegend": true,
         "text": {
          "bdata": "4XoUrvDpIEE=",
          "dtype": "f8"
         },
         "textposition": "outside",
         "texttemplate": "%{text:.2s}",
         "type": "bar",
         "x": [
          "Netherlands"
         ],
         "xaxis": "x",
         "y": {
          "bdata": "4XoUrvDpIEE=",
          "dtype": "f8"
         },
         "yaxis": "y"
        },
        {
         "hovertemplate": "Country=%{x}<br>Revenue=%{text}<extra></extra>",
         "legendgroup": "Germany",
         "marker": {
          "color": "#ab63fa",
          "pattern": {
           "shape": ""
          }
         },
         "name": "Germany",
         "orientation": "v",
         "showlegend": true,
         "text": {
          "bdata": "TmIQ2HlSGkE=",
          "dtype": "f8"
         },
         "textposition": "outside",
         "texttemplate": "%{text:.2s}",
         "type": "bar",
         "x": [
          "Germany"
         ],
         "xaxis": "x",
         "y": {
          "bdata": "TmIQ2HlSGkE=",
          "dtype": "f8"
         },
         "yaxis": "y"
        },
        {
         "hovertemplate": "Country=%{x}<br>Revenue=%{text}<extra></extra>",
         "legendgroup": "France",
         "marker": {
          "color": "#FFA15A",
          "pattern": {
           "shape": ""
          }
         },
         "name": "France",
         "orientation": "v",
         "showlegend": true,
         "text": {
          "bdata": "FK5H4eWuFUE=",
          "dtype": "f8"
         },
         "textposition": "outside",
         "texttemplate": "%{text:.2s}",
         "type": "bar",
         "x": [
          "France"
         ],
         "xaxis": "x",
         "y": {
          "bdata": "FK5H4eWuFUE=",
          "dtype": "f8"
         },
         "yaxis": "y"
        }
       ],
       "layout": {
        "barmode": "relative",
        "legend": {
         "title": {
          "text": "Country"
         },
         "tracegroupgap": 0
        },
        "template": {
         "data": {
          "bar": [
           {
            "error_x": {
             "color": "#2a3f5f"
            },
            "error_y": {
             "color": "#2a3f5f"
            },
            "marker": {
             "line": {
              "color": "#E5ECF6",
              "width": 0.5
             },
             "pattern": {
              "fillmode": "overlay",
              "size": 10,
              "solidity": 0.2
             }
            },
            "type": "bar"
           }
          ],
          "barpolar": [
           {
            "marker": {
             "line": {
              "color": "#E5ECF6",
              "width": 0.5
             },
             "pattern": {
              "fillmode": "overlay",
              "size": 10,
              "solidity": 0.2
             }
            },
            "type": "barpolar"
           }
          ],
          "carpet": [
           {
            "aaxis": {
             "endlinecolor": "#2a3f5f",
             "gridcolor": "white",
             "linecolor": "white",
             "minorgridcolor": "white",
             "startlinecolor": "#2a3f5f"
            },
            "baxis": {
             "endlinecolor": "#2a3f5f",
             "gridcolor": "white",
             "linecolor": "white",
             "minorgridcolor": "white",
             "startlinecolor": "#2a3f5f"
            },
            "type": "carpet"
           }
          ],
          "choropleth": [
           {
            "colorbar": {
             "outlinewidth": 0,
             "ticks": ""
            },
            "type": "choropleth"
           }
          ],
          "contour": [
           {
            "colorbar": {
             "outlinewidth": 0,
             "ticks": ""
            },
            "colorscale": [
             [
              0,
              "#0d0887"
             ],
             [
              0.1111111111111111,
              "#46039f"
             ],
             [
              0.2222222222222222,
              "#7201a8"
             ],
             [
              0.3333333333333333,
              "#9c179e"
             ],
             [
              0.4444444444444444,
              "#bd3786"
             ],
             [
              0.5555555555555556,
              "#d8576b"
             ],
             [
              0.6666666666666666,
              "#ed7953"
             ],
             [
              0.7777777777777778,
              "#fb9f3a"
             ],
             [
              0.8888888888888888,
              "#fdca26"
             ],
             [
              1,
              "#f0f921"
             ]
            ],
            "type": "contour"
           }
          ],
          "contourcarpet": [
           {
            "colorbar": {
             "outlinewidth": 0,
             "ticks": ""
            },
            "type": "contourcarpet"
           }
          ],
          "heatmap": [
           {
            "colorbar": {
             "outlinewidth": 0,
             "ticks": ""
            },
            "colorscale": [
             [
              0,
              "#0d0887"
             ],
             [
              0.1111111111111111,
              "#46039f"
             ],
             [
              0.2222222222222222,
              "#7201a8"
             ],
             [
              0.3333333333333333,
              "#9c179e"
             ],
             [
              0.4444444444444444,
              "#bd3786"
             ],
             [
              0.5555555555555556,
              "#d8576b"
             ],
             [
              0.6666666666666666,
              "#ed7953"
             ],
             [
              0.7777777777777778,
              "#fb9f3a"
             ],
             [
              0.8888888888888888,
              "#fdca26"
             ],
             [
              1,
              "#f0f921"
             ]
            ],
            "type": "heatmap"
           }
          ],
          "histogram": [
           {
            "marker": {
             "pattern": {
              "fillmode": "overlay",
              "size": 10,
              "solidity": 0.2
             }
            },
            "type": "histogram"
           }
          ],
          "histogram2d": [
           {
            "colorbar": {
             "outlinewidth": 0,
             "ticks": ""
            },
            "colorscale": [
             [
              0,
              "#0d0887"
             ],
             [
              0.1111111111111111,
              "#46039f"
             ],
             [
              0.2222222222222222,
              "#7201a8"
             ],
             [
              0.3333333333333333,
              "#9c179e"
             ],
             [
              0.4444444444444444,
              "#bd3786"
             ],
             [
              0.5555555555555556,
              "#d8576b"
             ],
             [
              0.6666666666666666,
              "#ed7953"
             ],
             [
              0.7777777777777778,
              "#fb9f3a"
             ],
             [
              0.8888888888888888,
              "#fdca26"
             ],
             [
              1,
              "#f0f921"
             ]
            ],
            "type": "histogram2d"
           }
          ],
          "histogram2dcontour": [
           {
            "colorbar": {
             "outlinewidth": 0,
             "ticks": ""
            },
            "colorscale": [
             [
              0,
              "#0d0887"
             ],
             [
              0.1111111111111111,
              "#46039f"
             ],
             [
              0.2222222222222222,
              "#7201a8"
             ],
             [
              0.3333333333333333,
              "#9c179e"
             ],
             [
              0.4444444444444444,
              "#bd3786"
             ],
             [
              0.5555555555555556,
              "#d8576b"
             ],
             [
              0.6666666666666666,
              "#ed7953"
             ],
             [
              0.7777777777777778,
              "#fb9f3a"
             ],
             [
              0.8888888888888888,
              "#fdca26"
             ],
             [
              1,
              "#f0f921"
             ]
            ],
            "type": "histogram2dcontour"
           }
          ],
          "mesh3d": [
           {
            "colorbar": {
             "outlinewidth": 0,
             "ticks": ""
            },
            "type": "mesh3d"
           }
          ],
          "parcoords": [
           {
            "line": {
             "colorbar": {
              "outlinewidth": 0,
              "ticks": ""
             }
            },
            "type": "parcoords"
           }
          ],
          "pie": [
           {
            "automargin": true,
            "type": "pie"
           }
          ],
          "scatter": [
           {
            "fillpattern": {
             "fillmode": "overlay",
             "size": 10,
             "solidity": 0.2
            },
            "type": "scatter"
           }
          ],
          "scatter3d": [
           {
            "line": {
             "colorbar": {
              "outlinewidth": 0,
              "ticks": ""
             }
            },
            "marker": {
             "colorbar": {
              "outlinewidth": 0,
              "ticks": ""
             }
            },
            "type": "scatter3d"
           }
          ],
          "scattercarpet": [
           {
            "marker": {
             "colorbar": {
              "outlinewidth": 0,
              "ticks": ""
             }
            },
            "type": "scattercarpet"
           }
          ],
          "scattergeo": [
           {
            "marker": {
             "colorbar": {
              "outlinewidth": 0,
              "ticks": ""
             }
            },
            "type": "scattergeo"
           }
          ],
          "scattergl": [
           {
            "marker": {
             "colorbar": {
              "outlinewidth": 0,
              "ticks": ""
             }
            },
            "type": "scattergl"
           }
          ],
          "scattermap": [
           {
            "marker": {
             "colorbar": {
              "outlinewidth": 0,
              "ticks": ""
             }
            },
            "type": "scattermap"
           }
          ],
          "scattermapbox": [
           {
            "marker": {
             "colorbar": {
              "outlinewidth": 0,
              "ticks": ""
             }
            },
            "type": "scattermapbox"
           }
          ],
          "scatterpolar": [
           {
            "marker": {
             "colorbar": {
              "outlinewidth": 0,
              "ticks": ""
             }
            },
            "type": "scatterpolar"
           }
          ],
          "scatterpolargl": [
           {
            "marker": {
             "colorbar": {
              "outlinewidth": 0,
              "ticks": ""
             }
            },
            "type": "scatterpolargl"
           }
          ],
          "scatterternary": [
           {
            "marker": {
             "colorbar": {
              "outlinewidth": 0,
              "ticks": ""
             }
            },
            "type": "scatterternary"
           }
          ],
          "surface": [
           {
            "colorbar": {
             "outlinewidth": 0,
             "ticks": ""
            },
            "colorscale": [
             [
              0,
              "#0d0887"
             ],
             [
              0.1111111111111111,
              "#46039f"
             ],
             [
              0.2222222222222222,
              "#7201a8"
             ],
             [
              0.3333333333333333,
              "#9c179e"
             ],
             [
              0.4444444444444444,
              "#bd3786"
             ],
             [
              0.5555555555555556,
              "#d8576b"
             ],
             [
              0.6666666666666666,
              "#ed7953"
             ],
             [
              0.7777777777777778,
              "#fb9f3a"
             ],
             [
              0.8888888888888888,
              "#fdca26"
             ],
             [
              1,
              "#f0f921"
             ]
            ],
            "type": "surface"
           }
          ],
          "table": [
           {
            "cells": {
             "fill": {
              "color": "#EBF0F8"
             },
             "line": {
              "color": "white"
             }
            },
            "header": {
             "fill": {
              "color": "#C8D4E3"
             },
             "line": {
              "color": "white"
             }
            },
            "type": "table"
           }
          ]
         },
         "layout": {
          "annotationdefaults": {
           "arrowcolor": "#2a3f5f",
           "arrowhead": 0,
           "arrowwidth": 1
          },
          "autotypenumbers": "strict",
          "coloraxis": {
           "colorbar": {
            "outlinewidth": 0,
            "ticks": ""
           }
          },
          "colorscale": {
           "diverging": [
            [
             0,
             "#8e0152"
            ],
            [
             0.1,
             "#c51b7d"
            ],
            [
             0.2,
             "#de77ae"
            ],
            [
             0.3,
             "#f1b6da"
            ],
            [
             0.4,
             "#fde0ef"
            ],
            [
             0.5,
             "#f7f7f7"
            ],
            [
             0.6,
             "#e6f5d0"
            ],
            [
             0.7,
             "#b8e186"
            ],
            [
             0.8,
             "#7fbc41"
            ],
            [
             0.9,
             "#4d9221"
            ],
            [
             1,
             "#276419"
            ]
           ],
           "sequential": [
            [
             0,
             "#0d0887"
            ],
            [
             0.1111111111111111,
             "#46039f"
            ],
            [
             0.2222222222222222,
             "#7201a8"
            ],
            [
             0.3333333333333333,
             "#9c179e"
            ],
            [
             0.4444444444444444,
             "#bd3786"
            ],
            [
             0.5555555555555556,
             "#d8576b"
            ],
            [
             0.6666666666666666,
             "#ed7953"
            ],
            [
             0.7777777777777778,
             "#fb9f3a"
            ],
            [
             0.8888888888888888,
             "#fdca26"
            ],
            [
             1,
             "#f0f921"
            ]
           ],
           "sequentialminus": [
            [
             0,
             "#0d0887"
            ],
            [
             0.1111111111111111,
             "#46039f"
            ],
            [
             0.2222222222222222,
             "#7201a8"
            ],
            [
             0.3333333333333333,
             "#9c179e"
            ],
            [
             0.4444444444444444,
             "#bd3786"
            ],
            [
             0.5555555555555556,
             "#d8576b"
            ],
            [
             0.6666666666666666,
             "#ed7953"
            ],
            [
             0.7777777777777778,
             "#fb9f3a"
            ],
            [
             0.8888888888888888,
             "#fdca26"
            ],
            [
             1,
             "#f0f921"
            ]
           ]
          },
          "colorway": [
           "#636efa",
           "#EF553B",
           "#00cc96",
           "#ab63fa",
           "#FFA15A",
           "#19d3f3",
           "#FF6692",
           "#B6E880",
           "#FF97FF",
           "#FECB52"
          ],
          "font": {
           "color": "#2a3f5f"
          },
          "geo": {
           "bgcolor": "white",
           "lakecolor": "white",
           "landcolor": "#E5ECF6",
           "showlakes": true,
           "showland": true,
           "subunitcolor": "white"
          },
          "hoverlabel": {
           "align": "left"
          },
          "hovermode": "closest",
          "mapbox": {
           "style": "light"
          },
          "paper_bgcolor": "white",
          "plot_bgcolor": "#E5ECF6",
          "polar": {
           "angularaxis": {
            "gridcolor": "white",
            "linecolor": "white",
            "ticks": ""
           },
           "bgcolor": "#E5ECF6",
           "radialaxis": {
            "gridcolor": "white",
            "linecolor": "white",
            "ticks": ""
           }
          },
          "scene": {
           "xaxis": {
            "backgroundcolor": "#E5ECF6",
            "gridcolor": "white",
            "gridwidth": 2,
            "linecolor": "white",
            "showbackground": true,
            "ticks": "",
            "zerolinecolor": "white"
           },
           "yaxis": {
            "backgroundcolor": "#E5ECF6",
            "gridcolor": "white",
            "gridwidth": 2,
            "linecolor": "white",
            "showbackground": true,
            "ticks": "",
            "zerolinecolor": "white"
           },
           "zaxis": {
            "backgroundcolor": "#E5ECF6",
            "gridcolor": "white",
            "gridwidth": 2,
            "linecolor": "white",
            "showbackground": true,
            "ticks": "",
            "zerolinecolor": "white"
           }
          },
          "shapedefaults": {
           "line": {
            "color": "#2a3f5f"
           }
          },
          "ternary": {
           "aaxis": {
            "gridcolor": "white",
            "linecolor": "white",
            "ticks": ""
           },
           "baxis": {
            "gridcolor": "white",
            "linecolor": "white",
            "ticks": ""
           },
           "bgcolor": "#E5ECF6",
           "caxis": {
            "gridcolor": "white",
            "linecolor": "white",
            "ticks": ""
           }
          },
          "title": {
           "x": 0.05
          },
          "xaxis": {
           "automargin": true,
           "gridcolor": "white",
           "linecolor": "white",
           "ticks": "",
           "title": {
            "standoff": 15
           },
           "zerolinecolor": "white",
           "zerolinewidth": 2
          },
          "yaxis": {
           "automargin": true,
           "gridcolor": "white",
           "linecolor": "white",
           "ticks": "",
           "title": {
            "standoff": 15
           },
           "zerolinecolor": "white",
           "zerolinewidth": 2
          }
         }
        },
        "title": {
         "text": "Top 5 Countries by Revenue"
        },
        "xaxis": {
         "anchor": "y",
         "categoryarray": [
          "United Kingdom",
          "EIRE",
          "Netherlands",
          "Germany",
          "France"
         ],
         "categoryorder": "array",
         "domain": [
          0,
          1
         ],
         "tickangle": 45,
         "title": {
          "text": "Country (Top 5)"
         }
        },
        "yaxis": {
         "anchor": "x",
         "domain": [
          0,
          1
         ],
         "tickformat": ",",
         "title": {
          "text": "Revenue in USD"
         }
        }
       }
      }
     },
     "metadata": {},
     "output_type": "display_data"
    }
   ],
   "source": [
    "\n",
    "\n",
    "fig = px.bar(top_countries.head(5),\n",
    "             x='Country', y='Revenue',\n",
    "             text='Revenue',\n",
    "             color='Country',\n",
    "             title='Top 5 Countries by Revenue')\n",
    "\n",
    "fig.update_layout(\n",
    "    xaxis_title=\"Country (Top 5)\",\n",
    "    yaxis_title=\"Revenue in USD\",\n",
    "    xaxis_tickangle=45,\n",
    "    yaxis_tickformat=\",\",  # adds commas to big numbers\n",
    ")\n",
    "\n",
    "fig.update_traces(texttemplate='%{text:.2s}', textposition='outside')\n",
    "fig.show()"
   ]
  },
  {
   "cell_type": "markdown",
   "id": "8b3eb97d",
   "metadata": {},
   "source": [
    "### Custom Colors and Palettes"
   ]
  },
  {
   "cell_type": "code",
   "execution_count": 39,
   "id": "4d8c3806",
   "metadata": {},
   "outputs": [
    {
     "data": {
      "application/vnd.plotly.v1+json": {
       "config": {
        "plotlyServerURL": "https://plot.ly"
       },
       "data": [
        {
         "hovertemplate": "Country=%{x}<br>Revenue=%{text}<extra></extra>",
         "legendgroup": "United Kingdom",
         "marker": {
          "color": "#1f77b4",
          "pattern": {
           "shape": ""
          }
         },
         "name": "United Kingdom",
         "orientation": "v",
         "showlegend": true,
         "text": {
          "bdata": "lkOLcAkVbEE=",
          "dtype": "f8"
         },
         "textposition": "outside",
         "texttemplate": "%{text:.2s}",
         "type": "bar",
         "x": [
          "United Kingdom"
         ],
         "xaxis": "x",
         "y": {
          "bdata": "lkOLcAkVbEE=",
          "dtype": "f8"
         },
         "yaxis": "y"
        },
        {
         "hovertemplate": "Country=%{x}<br>Revenue=%{text}<extra></extra>",
         "legendgroup": "EIRE",
         "marker": {
          "color": "#d62728",
          "pattern": {
           "shape": ""
          }
         },
         "name": "EIRE",
         "orientation": "v",
         "showlegend": true,
         "text": {
          "bdata": "hetROH74IkE=",
          "dtype": "f8"
         },
         "textposition": "outside",
         "texttemplate": "%{text:.2s}",
         "type": "bar",
         "x": [
          "EIRE"
         ],
         "xaxis": "x",
         "y": {
          "bdata": "hetROH74IkE=",
          "dtype": "f8"
         },
         "yaxis": "y"
        },
        {
         "hovertemplate": "Country=%{x}<br>Revenue=%{text}<extra></extra>",
         "legendgroup": "Netherlands",
         "marker": {
          "color": "#9467bd",
          "pattern": {
           "shape": ""
          }
         },
         "name": "Netherlands",
         "orientation": "v",
         "showlegend": true,
         "text": {
          "bdata": "4XoUrvDpIEE=",
          "dtype": "f8"
         },
         "textposition": "outside",
         "texttemplate": "%{text:.2s}",
         "type": "bar",
         "x": [
          "Netherlands"
         ],
         "xaxis": "x",
         "y": {
          "bdata": "4XoUrvDpIEE=",
          "dtype": "f8"
         },
         "yaxis": "y"
        },
        {
         "hovertemplate": "Country=%{x}<br>Revenue=%{text}<extra></extra>",
         "legendgroup": "Germany",
         "marker": {
          "color": "#ff7f0e",
          "pattern": {
           "shape": ""
          }
         },
         "name": "Germany",
         "orientation": "v",
         "showlegend": true,
         "text": {
          "bdata": "TmIQ2HlSGkE=",
          "dtype": "f8"
         },
         "textposition": "outside",
         "texttemplate": "%{text:.2s}",
         "type": "bar",
         "x": [
          "Germany"
         ],
         "xaxis": "x",
         "y": {
          "bdata": "TmIQ2HlSGkE=",
          "dtype": "f8"
         },
         "yaxis": "y"
        },
        {
         "hovertemplate": "Country=%{x}<br>Revenue=%{text}<extra></extra>",
         "legendgroup": "France",
         "marker": {
          "color": "#2ca02c",
          "pattern": {
           "shape": ""
          }
         },
         "name": "France",
         "orientation": "v",
         "showlegend": true,
         "text": {
          "bdata": "FK5H4eWuFUE=",
          "dtype": "f8"
         },
         "textposition": "outside",
         "texttemplate": "%{text:.2s}",
         "type": "bar",
         "x": [
          "France"
         ],
         "xaxis": "x",
         "y": {
          "bdata": "FK5H4eWuFUE=",
          "dtype": "f8"
         },
         "yaxis": "y"
        }
       ],
       "layout": {
        "barmode": "relative",
        "legend": {
         "title": {
          "text": "Country"
         },
         "tracegroupgap": 0
        },
        "margin": {
         "t": 60
        },
        "template": {
         "data": {
          "bar": [
           {
            "error_x": {
             "color": "#2a3f5f"
            },
            "error_y": {
             "color": "#2a3f5f"
            },
            "marker": {
             "line": {
              "color": "#E5ECF6",
              "width": 0.5
             },
             "pattern": {
              "fillmode": "overlay",
              "size": 10,
              "solidity": 0.2
             }
            },
            "type": "bar"
           }
          ],
          "barpolar": [
           {
            "marker": {
             "line": {
              "color": "#E5ECF6",
              "width": 0.5
             },
             "pattern": {
              "fillmode": "overlay",
              "size": 10,
              "solidity": 0.2
             }
            },
            "type": "barpolar"
           }
          ],
          "carpet": [
           {
            "aaxis": {
             "endlinecolor": "#2a3f5f",
             "gridcolor": "white",
             "linecolor": "white",
             "minorgridcolor": "white",
             "startlinecolor": "#2a3f5f"
            },
            "baxis": {
             "endlinecolor": "#2a3f5f",
             "gridcolor": "white",
             "linecolor": "white",
             "minorgridcolor": "white",
             "startlinecolor": "#2a3f5f"
            },
            "type": "carpet"
           }
          ],
          "choropleth": [
           {
            "colorbar": {
             "outlinewidth": 0,
             "ticks": ""
            },
            "type": "choropleth"
           }
          ],
          "contour": [
           {
            "colorbar": {
             "outlinewidth": 0,
             "ticks": ""
            },
            "colorscale": [
             [
              0,
              "#0d0887"
             ],
             [
              0.1111111111111111,
              "#46039f"
             ],
             [
              0.2222222222222222,
              "#7201a8"
             ],
             [
              0.3333333333333333,
              "#9c179e"
             ],
             [
              0.4444444444444444,
              "#bd3786"
             ],
             [
              0.5555555555555556,
              "#d8576b"
             ],
             [
              0.6666666666666666,
              "#ed7953"
             ],
             [
              0.7777777777777778,
              "#fb9f3a"
             ],
             [
              0.8888888888888888,
              "#fdca26"
             ],
             [
              1,
              "#f0f921"
             ]
            ],
            "type": "contour"
           }
          ],
          "contourcarpet": [
           {
            "colorbar": {
             "outlinewidth": 0,
             "ticks": ""
            },
            "type": "contourcarpet"
           }
          ],
          "heatmap": [
           {
            "colorbar": {
             "outlinewidth": 0,
             "ticks": ""
            },
            "colorscale": [
             [
              0,
              "#0d0887"
             ],
             [
              0.1111111111111111,
              "#46039f"
             ],
             [
              0.2222222222222222,
              "#7201a8"
             ],
             [
              0.3333333333333333,
              "#9c179e"
             ],
             [
              0.4444444444444444,
              "#bd3786"
             ],
             [
              0.5555555555555556,
              "#d8576b"
             ],
             [
              0.6666666666666666,
              "#ed7953"
             ],
             [
              0.7777777777777778,
              "#fb9f3a"
             ],
             [
              0.8888888888888888,
              "#fdca26"
             ],
             [
              1,
              "#f0f921"
             ]
            ],
            "type": "heatmap"
           }
          ],
          "histogram": [
           {
            "marker": {
             "pattern": {
              "fillmode": "overlay",
              "size": 10,
              "solidity": 0.2
             }
            },
            "type": "histogram"
           }
          ],
          "histogram2d": [
           {
            "colorbar": {
             "outlinewidth": 0,
             "ticks": ""
            },
            "colorscale": [
             [
              0,
              "#0d0887"
             ],
             [
              0.1111111111111111,
              "#46039f"
             ],
             [
              0.2222222222222222,
              "#7201a8"
             ],
             [
              0.3333333333333333,
              "#9c179e"
             ],
             [
              0.4444444444444444,
              "#bd3786"
             ],
             [
              0.5555555555555556,
              "#d8576b"
             ],
             [
              0.6666666666666666,
              "#ed7953"
             ],
             [
              0.7777777777777778,
              "#fb9f3a"
             ],
             [
              0.8888888888888888,
              "#fdca26"
             ],
             [
              1,
              "#f0f921"
             ]
            ],
            "type": "histogram2d"
           }
          ],
          "histogram2dcontour": [
           {
            "colorbar": {
             "outlinewidth": 0,
             "ticks": ""
            },
            "colorscale": [
             [
              0,
              "#0d0887"
             ],
             [
              0.1111111111111111,
              "#46039f"
             ],
             [
              0.2222222222222222,
              "#7201a8"
             ],
             [
              0.3333333333333333,
              "#9c179e"
             ],
             [
              0.4444444444444444,
              "#bd3786"
             ],
             [
              0.5555555555555556,
              "#d8576b"
             ],
             [
              0.6666666666666666,
              "#ed7953"
             ],
             [
              0.7777777777777778,
              "#fb9f3a"
             ],
             [
              0.8888888888888888,
              "#fdca26"
             ],
             [
              1,
              "#f0f921"
             ]
            ],
            "type": "histogram2dcontour"
           }
          ],
          "mesh3d": [
           {
            "colorbar": {
             "outlinewidth": 0,
             "ticks": ""
            },
            "type": "mesh3d"
           }
          ],
          "parcoords": [
           {
            "line": {
             "colorbar": {
              "outlinewidth": 0,
              "ticks": ""
             }
            },
            "type": "parcoords"
           }
          ],
          "pie": [
           {
            "automargin": true,
            "type": "pie"
           }
          ],
          "scatter": [
           {
            "fillpattern": {
             "fillmode": "overlay",
             "size": 10,
             "solidity": 0.2
            },
            "type": "scatter"
           }
          ],
          "scatter3d": [
           {
            "line": {
             "colorbar": {
              "outlinewidth": 0,
              "ticks": ""
             }
            },
            "marker": {
             "colorbar": {
              "outlinewidth": 0,
              "ticks": ""
             }
            },
            "type": "scatter3d"
           }
          ],
          "scattercarpet": [
           {
            "marker": {
             "colorbar": {
              "outlinewidth": 0,
              "ticks": ""
             }
            },
            "type": "scattercarpet"
           }
          ],
          "scattergeo": [
           {
            "marker": {
             "colorbar": {
              "outlinewidth": 0,
              "ticks": ""
             }
            },
            "type": "scattergeo"
           }
          ],
          "scattergl": [
           {
            "marker": {
             "colorbar": {
              "outlinewidth": 0,
              "ticks": ""
             }
            },
            "type": "scattergl"
           }
          ],
          "scattermap": [
           {
            "marker": {
             "colorbar": {
              "outlinewidth": 0,
              "ticks": ""
             }
            },
            "type": "scattermap"
           }
          ],
          "scattermapbox": [
           {
            "marker": {
             "colorbar": {
              "outlinewidth": 0,
              "ticks": ""
             }
            },
            "type": "scattermapbox"
           }
          ],
          "scatterpolar": [
           {
            "marker": {
             "colorbar": {
              "outlinewidth": 0,
              "ticks": ""
             }
            },
            "type": "scatterpolar"
           }
          ],
          "scatterpolargl": [
           {
            "marker": {
             "colorbar": {
              "outlinewidth": 0,
              "ticks": ""
             }
            },
            "type": "scatterpolargl"
           }
          ],
          "scatterternary": [
           {
            "marker": {
             "colorbar": {
              "outlinewidth": 0,
              "ticks": ""
             }
            },
            "type": "scatterternary"
           }
          ],
          "surface": [
           {
            "colorbar": {
             "outlinewidth": 0,
             "ticks": ""
            },
            "colorscale": [
             [
              0,
              "#0d0887"
             ],
             [
              0.1111111111111111,
              "#46039f"
             ],
             [
              0.2222222222222222,
              "#7201a8"
             ],
             [
              0.3333333333333333,
              "#9c179e"
             ],
             [
              0.4444444444444444,
              "#bd3786"
             ],
             [
              0.5555555555555556,
              "#d8576b"
             ],
             [
              0.6666666666666666,
              "#ed7953"
             ],
             [
              0.7777777777777778,
              "#fb9f3a"
             ],
             [
              0.8888888888888888,
              "#fdca26"
             ],
             [
              1,
              "#f0f921"
             ]
            ],
            "type": "surface"
           }
          ],
          "table": [
           {
            "cells": {
             "fill": {
              "color": "#EBF0F8"
             },
             "line": {
              "color": "white"
             }
            },
            "header": {
             "fill": {
              "color": "#C8D4E3"
             },
             "line": {
              "color": "white"
             }
            },
            "type": "table"
           }
          ]
         },
         "layout": {
          "annotationdefaults": {
           "arrowcolor": "#2a3f5f",
           "arrowhead": 0,
           "arrowwidth": 1
          },
          "autotypenumbers": "strict",
          "coloraxis": {
           "colorbar": {
            "outlinewidth": 0,
            "ticks": ""
           }
          },
          "colorscale": {
           "diverging": [
            [
             0,
             "#8e0152"
            ],
            [
             0.1,
             "#c51b7d"
            ],
            [
             0.2,
             "#de77ae"
            ],
            [
             0.3,
             "#f1b6da"
            ],
            [
             0.4,
             "#fde0ef"
            ],
            [
             0.5,
             "#f7f7f7"
            ],
            [
             0.6,
             "#e6f5d0"
            ],
            [
             0.7,
             "#b8e186"
            ],
            [
             0.8,
             "#7fbc41"
            ],
            [
             0.9,
             "#4d9221"
            ],
            [
             1,
             "#276419"
            ]
           ],
           "sequential": [
            [
             0,
             "#0d0887"
            ],
            [
             0.1111111111111111,
             "#46039f"
            ],
            [
             0.2222222222222222,
             "#7201a8"
            ],
            [
             0.3333333333333333,
             "#9c179e"
            ],
            [
             0.4444444444444444,
             "#bd3786"
            ],
            [
             0.5555555555555556,
             "#d8576b"
            ],
            [
             0.6666666666666666,
             "#ed7953"
            ],
            [
             0.7777777777777778,
             "#fb9f3a"
            ],
            [
             0.8888888888888888,
             "#fdca26"
            ],
            [
             1,
             "#f0f921"
            ]
           ],
           "sequentialminus": [
            [
             0,
             "#0d0887"
            ],
            [
             0.1111111111111111,
             "#46039f"
            ],
            [
             0.2222222222222222,
             "#7201a8"
            ],
            [
             0.3333333333333333,
             "#9c179e"
            ],
            [
             0.4444444444444444,
             "#bd3786"
            ],
            [
             0.5555555555555556,
             "#d8576b"
            ],
            [
             0.6666666666666666,
             "#ed7953"
            ],
            [
             0.7777777777777778,
             "#fb9f3a"
            ],
            [
             0.8888888888888888,
             "#fdca26"
            ],
            [
             1,
             "#f0f921"
            ]
           ]
          },
          "colorway": [
           "#636efa",
           "#EF553B",
           "#00cc96",
           "#ab63fa",
           "#FFA15A",
           "#19d3f3",
           "#FF6692",
           "#B6E880",
           "#FF97FF",
           "#FECB52"
          ],
          "font": {
           "color": "#2a3f5f"
          },
          "geo": {
           "bgcolor": "white",
           "lakecolor": "white",
           "landcolor": "#E5ECF6",
           "showlakes": true,
           "showland": true,
           "subunitcolor": "white"
          },
          "hoverlabel": {
           "align": "left"
          },
          "hovermode": "closest",
          "mapbox": {
           "style": "light"
          },
          "paper_bgcolor": "white",
          "plot_bgcolor": "#E5ECF6",
          "polar": {
           "angularaxis": {
            "gridcolor": "white",
            "linecolor": "white",
            "ticks": ""
           },
           "bgcolor": "#E5ECF6",
           "radialaxis": {
            "gridcolor": "white",
            "linecolor": "white",
            "ticks": ""
           }
          },
          "scene": {
           "xaxis": {
            "backgroundcolor": "#E5ECF6",
            "gridcolor": "white",
            "gridwidth": 2,
            "linecolor": "white",
            "showbackground": true,
            "ticks": "",
            "zerolinecolor": "white"
           },
           "yaxis": {
            "backgroundcolor": "#E5ECF6",
            "gridcolor": "white",
            "gridwidth": 2,
            "linecolor": "white",
            "showbackground": true,
            "ticks": "",
            "zerolinecolor": "white"
           },
           "zaxis": {
            "backgroundcolor": "#E5ECF6",
            "gridcolor": "white",
            "gridwidth": 2,
            "linecolor": "white",
            "showbackground": true,
            "ticks": "",
            "zerolinecolor": "white"
           }
          },
          "shapedefaults": {
           "line": {
            "color": "#2a3f5f"
           }
          },
          "ternary": {
           "aaxis": {
            "gridcolor": "white",
            "linecolor": "white",
            "ticks": ""
           },
           "baxis": {
            "gridcolor": "white",
            "linecolor": "white",
            "ticks": ""
           },
           "bgcolor": "#E5ECF6",
           "caxis": {
            "gridcolor": "white",
            "linecolor": "white",
            "ticks": ""
           }
          },
          "title": {
           "x": 0.05
          },
          "xaxis": {
           "automargin": true,
           "gridcolor": "white",
           "linecolor": "white",
           "ticks": "",
           "title": {
            "standoff": 15
           },
           "zerolinecolor": "white",
           "zerolinewidth": 2
          },
          "yaxis": {
           "automargin": true,
           "gridcolor": "white",
           "linecolor": "white",
           "ticks": "",
           "title": {
            "standoff": 15
           },
           "zerolinecolor": "white",
           "zerolinewidth": 2
          }
         }
        },
        "xaxis": {
         "anchor": "y",
         "categoryarray": [
          "United Kingdom",
          "EIRE",
          "Netherlands",
          "Germany",
          "France"
         ],
         "categoryorder": "array",
         "domain": [
          0,
          1
         ],
         "title": {
          "text": "Country"
         }
        },
        "yaxis": {
         "anchor": "x",
         "domain": [
          0,
          1
         ],
         "title": {
          "text": "Revenue"
         }
        }
       }
      }
     },
     "metadata": {},
     "output_type": "display_data"
    }
   ],
   "source": [
    "color_map = {\n",
    "    'United Kingdom': '#1f77b4',\n",
    "    'Germany': '#ff7f0e',\n",
    "    'France': '#2ca02c',\n",
    "    'EIRE': '#d62728',\n",
    "    'Netherlands': '#9467bd'\n",
    "}\n",
    "\n",
    "fig = px.bar(top_countries.head(5),\n",
    "             x='Country', y='Revenue',\n",
    "             text='Revenue',\n",
    "             color='Country',\n",
    "             color_discrete_map=color_map) # this will map colours to the Country names\n",
    "\n",
    "fig.update_traces(texttemplate='%{text:.2s}', textposition='outside')\n",
    "fig.show()"
   ]
  },
  {
   "cell_type": "markdown",
   "id": "1c8972c9",
   "metadata": {},
   "source": [
    "### Background and Grid Styling"
   ]
  },
  {
   "cell_type": "code",
   "execution_count": 47,
   "id": "ef42e63d",
   "metadata": {},
   "outputs": [
    {
     "data": {
      "application/vnd.plotly.v1+json": {
       "config": {
        "plotlyServerURL": "https://plot.ly"
       },
       "data": [
        {
         "hovertemplate": "Country=%{x}<br>Revenue=%{text}<extra></extra>",
         "legendgroup": "United Kingdom",
         "marker": {
          "color": "#1f77b4",
          "pattern": {
           "shape": ""
          }
         },
         "name": "United Kingdom",
         "orientation": "v",
         "showlegend": true,
         "text": {
          "bdata": "lkOLcAkVbEE=",
          "dtype": "f8"
         },
         "textposition": "outside",
         "texttemplate": "%{text:.2s}",
         "type": "bar",
         "x": [
          "United Kingdom"
         ],
         "xaxis": "x",
         "y": {
          "bdata": "lkOLcAkVbEE=",
          "dtype": "f8"
         },
         "yaxis": "y"
        },
        {
         "hovertemplate": "Country=%{x}<br>Revenue=%{text}<extra></extra>",
         "legendgroup": "EIRE",
         "marker": {
          "color": "#d62728",
          "pattern": {
           "shape": ""
          }
         },
         "name": "EIRE",
         "orientation": "v",
         "showlegend": true,
         "text": {
          "bdata": "hetROH74IkE=",
          "dtype": "f8"
         },
         "textposition": "outside",
         "texttemplate": "%{text:.2s}",
         "type": "bar",
         "x": [
          "EIRE"
         ],
         "xaxis": "x",
         "y": {
          "bdata": "hetROH74IkE=",
          "dtype": "f8"
         },
         "yaxis": "y"
        },
        {
         "hovertemplate": "Country=%{x}<br>Revenue=%{text}<extra></extra>",
         "legendgroup": "Netherlands",
         "marker": {
          "color": "#9467bd",
          "pattern": {
           "shape": ""
          }
         },
         "name": "Netherlands",
         "orientation": "v",
         "showlegend": true,
         "text": {
          "bdata": "4XoUrvDpIEE=",
          "dtype": "f8"
         },
         "textposition": "outside",
         "texttemplate": "%{text:.2s}",
         "type": "bar",
         "x": [
          "Netherlands"
         ],
         "xaxis": "x",
         "y": {
          "bdata": "4XoUrvDpIEE=",
          "dtype": "f8"
         },
         "yaxis": "y"
        },
        {
         "hovertemplate": "Country=%{x}<br>Revenue=%{text}<extra></extra>",
         "legendgroup": "Germany",
         "marker": {
          "color": "#ff7f0e",
          "pattern": {
           "shape": ""
          }
         },
         "name": "Germany",
         "orientation": "v",
         "showlegend": true,
         "text": {
          "bdata": "TmIQ2HlSGkE=",
          "dtype": "f8"
         },
         "textposition": "outside",
         "texttemplate": "%{text:.2s}",
         "type": "bar",
         "x": [
          "Germany"
         ],
         "xaxis": "x",
         "y": {
          "bdata": "TmIQ2HlSGkE=",
          "dtype": "f8"
         },
         "yaxis": "y"
        },
        {
         "hovertemplate": "Country=%{x}<br>Revenue=%{text}<extra></extra>",
         "legendgroup": "France",
         "marker": {
          "color": "#2ca02c",
          "pattern": {
           "shape": ""
          }
         },
         "name": "France",
         "orientation": "v",
         "showlegend": true,
         "text": {
          "bdata": "FK5H4eWuFUE=",
          "dtype": "f8"
         },
         "textposition": "outside",
         "texttemplate": "%{text:.2s}",
         "type": "bar",
         "x": [
          "France"
         ],
         "xaxis": "x",
         "y": {
          "bdata": "FK5H4eWuFUE=",
          "dtype": "f8"
         },
         "yaxis": "y"
        }
       ],
       "layout": {
        "barmode": "relative",
        "legend": {
         "title": {
          "text": "Country"
         },
         "tracegroupgap": 0
        },
        "margin": {
         "t": 60
        },
        "paper_bgcolor": "#f8f8f8",
        "plot_bgcolor": "white",
        "template": {
         "data": {
          "bar": [
           {
            "error_x": {
             "color": "#2a3f5f"
            },
            "error_y": {
             "color": "#2a3f5f"
            },
            "marker": {
             "line": {
              "color": "#E5ECF6",
              "width": 0.5
             },
             "pattern": {
              "fillmode": "overlay",
              "size": 10,
              "solidity": 0.2
             }
            },
            "type": "bar"
           }
          ],
          "barpolar": [
           {
            "marker": {
             "line": {
              "color": "#E5ECF6",
              "width": 0.5
             },
             "pattern": {
              "fillmode": "overlay",
              "size": 10,
              "solidity": 0.2
             }
            },
            "type": "barpolar"
           }
          ],
          "carpet": [
           {
            "aaxis": {
             "endlinecolor": "#2a3f5f",
             "gridcolor": "white",
             "linecolor": "white",
             "minorgridcolor": "white",
             "startlinecolor": "#2a3f5f"
            },
            "baxis": {
             "endlinecolor": "#2a3f5f",
             "gridcolor": "white",
             "linecolor": "white",
             "minorgridcolor": "white",
             "startlinecolor": "#2a3f5f"
            },
            "type": "carpet"
           }
          ],
          "choropleth": [
           {
            "colorbar": {
             "outlinewidth": 0,
             "ticks": ""
            },
            "type": "choropleth"
           }
          ],
          "contour": [
           {
            "colorbar": {
             "outlinewidth": 0,
             "ticks": ""
            },
            "colorscale": [
             [
              0,
              "#0d0887"
             ],
             [
              0.1111111111111111,
              "#46039f"
             ],
             [
              0.2222222222222222,
              "#7201a8"
             ],
             [
              0.3333333333333333,
              "#9c179e"
             ],
             [
              0.4444444444444444,
              "#bd3786"
             ],
             [
              0.5555555555555556,
              "#d8576b"
             ],
             [
              0.6666666666666666,
              "#ed7953"
             ],
             [
              0.7777777777777778,
              "#fb9f3a"
             ],
             [
              0.8888888888888888,
              "#fdca26"
             ],
             [
              1,
              "#f0f921"
             ]
            ],
            "type": "contour"
           }
          ],
          "contourcarpet": [
           {
            "colorbar": {
             "outlinewidth": 0,
             "ticks": ""
            },
            "type": "contourcarpet"
           }
          ],
          "heatmap": [
           {
            "colorbar": {
             "outlinewidth": 0,
             "ticks": ""
            },
            "colorscale": [
             [
              0,
              "#0d0887"
             ],
             [
              0.1111111111111111,
              "#46039f"
             ],
             [
              0.2222222222222222,
              "#7201a8"
             ],
             [
              0.3333333333333333,
              "#9c179e"
             ],
             [
              0.4444444444444444,
              "#bd3786"
             ],
             [
              0.5555555555555556,
              "#d8576b"
             ],
             [
              0.6666666666666666,
              "#ed7953"
             ],
             [
              0.7777777777777778,
              "#fb9f3a"
             ],
             [
              0.8888888888888888,
              "#fdca26"
             ],
             [
              1,
              "#f0f921"
             ]
            ],
            "type": "heatmap"
           }
          ],
          "histogram": [
           {
            "marker": {
             "pattern": {
              "fillmode": "overlay",
              "size": 10,
              "solidity": 0.2
             }
            },
            "type": "histogram"
           }
          ],
          "histogram2d": [
           {
            "colorbar": {
             "outlinewidth": 0,
             "ticks": ""
            },
            "colorscale": [
             [
              0,
              "#0d0887"
             ],
             [
              0.1111111111111111,
              "#46039f"
             ],
             [
              0.2222222222222222,
              "#7201a8"
             ],
             [
              0.3333333333333333,
              "#9c179e"
             ],
             [
              0.4444444444444444,
              "#bd3786"
             ],
             [
              0.5555555555555556,
              "#d8576b"
             ],
             [
              0.6666666666666666,
              "#ed7953"
             ],
             [
              0.7777777777777778,
              "#fb9f3a"
             ],
             [
              0.8888888888888888,
              "#fdca26"
             ],
             [
              1,
              "#f0f921"
             ]
            ],
            "type": "histogram2d"
           }
          ],
          "histogram2dcontour": [
           {
            "colorbar": {
             "outlinewidth": 0,
             "ticks": ""
            },
            "colorscale": [
             [
              0,
              "#0d0887"
             ],
             [
              0.1111111111111111,
              "#46039f"
             ],
             [
              0.2222222222222222,
              "#7201a8"
             ],
             [
              0.3333333333333333,
              "#9c179e"
             ],
             [
              0.4444444444444444,
              "#bd3786"
             ],
             [
              0.5555555555555556,
              "#d8576b"
             ],
             [
              0.6666666666666666,
              "#ed7953"
             ],
             [
              0.7777777777777778,
              "#fb9f3a"
             ],
             [
              0.8888888888888888,
              "#fdca26"
             ],
             [
              1,
              "#f0f921"
             ]
            ],
            "type": "histogram2dcontour"
           }
          ],
          "mesh3d": [
           {
            "colorbar": {
             "outlinewidth": 0,
             "ticks": ""
            },
            "type": "mesh3d"
           }
          ],
          "parcoords": [
           {
            "line": {
             "colorbar": {
              "outlinewidth": 0,
              "ticks": ""
             }
            },
            "type": "parcoords"
           }
          ],
          "pie": [
           {
            "automargin": true,
            "type": "pie"
           }
          ],
          "scatter": [
           {
            "fillpattern": {
             "fillmode": "overlay",
             "size": 10,
             "solidity": 0.2
            },
            "type": "scatter"
           }
          ],
          "scatter3d": [
           {
            "line": {
             "colorbar": {
              "outlinewidth": 0,
              "ticks": ""
             }
            },
            "marker": {
             "colorbar": {
              "outlinewidth": 0,
              "ticks": ""
             }
            },
            "type": "scatter3d"
           }
          ],
          "scattercarpet": [
           {
            "marker": {
             "colorbar": {
              "outlinewidth": 0,
              "ticks": ""
             }
            },
            "type": "scattercarpet"
           }
          ],
          "scattergeo": [
           {
            "marker": {
             "colorbar": {
              "outlinewidth": 0,
              "ticks": ""
             }
            },
            "type": "scattergeo"
           }
          ],
          "scattergl": [
           {
            "marker": {
             "colorbar": {
              "outlinewidth": 0,
              "ticks": ""
             }
            },
            "type": "scattergl"
           }
          ],
          "scattermap": [
           {
            "marker": {
             "colorbar": {
              "outlinewidth": 0,
              "ticks": ""
             }
            },
            "type": "scattermap"
           }
          ],
          "scattermapbox": [
           {
            "marker": {
             "colorbar": {
              "outlinewidth": 0,
              "ticks": ""
             }
            },
            "type": "scattermapbox"
           }
          ],
          "scatterpolar": [
           {
            "marker": {
             "colorbar": {
              "outlinewidth": 0,
              "ticks": ""
             }
            },
            "type": "scatterpolar"
           }
          ],
          "scatterpolargl": [
           {
            "marker": {
             "colorbar": {
              "outlinewidth": 0,
              "ticks": ""
             }
            },
            "type": "scatterpolargl"
           }
          ],
          "scatterternary": [
           {
            "marker": {
             "colorbar": {
              "outlinewidth": 0,
              "ticks": ""
             }
            },
            "type": "scatterternary"
           }
          ],
          "surface": [
           {
            "colorbar": {
             "outlinewidth": 0,
             "ticks": ""
            },
            "colorscale": [
             [
              0,
              "#0d0887"
             ],
             [
              0.1111111111111111,
              "#46039f"
             ],
             [
              0.2222222222222222,
              "#7201a8"
             ],
             [
              0.3333333333333333,
              "#9c179e"
             ],
             [
              0.4444444444444444,
              "#bd3786"
             ],
             [
              0.5555555555555556,
              "#d8576b"
             ],
             [
              0.6666666666666666,
              "#ed7953"
             ],
             [
              0.7777777777777778,
              "#fb9f3a"
             ],
             [
              0.8888888888888888,
              "#fdca26"
             ],
             [
              1,
              "#f0f921"
             ]
            ],
            "type": "surface"
           }
          ],
          "table": [
           {
            "cells": {
             "fill": {
              "color": "#EBF0F8"
             },
             "line": {
              "color": "white"
             }
            },
            "header": {
             "fill": {
              "color": "#C8D4E3"
             },
             "line": {
              "color": "white"
             }
            },
            "type": "table"
           }
          ]
         },
         "layout": {
          "annotationdefaults": {
           "arrowcolor": "#2a3f5f",
           "arrowhead": 0,
           "arrowwidth": 1
          },
          "autotypenumbers": "strict",
          "coloraxis": {
           "colorbar": {
            "outlinewidth": 0,
            "ticks": ""
           }
          },
          "colorscale": {
           "diverging": [
            [
             0,
             "#8e0152"
            ],
            [
             0.1,
             "#c51b7d"
            ],
            [
             0.2,
             "#de77ae"
            ],
            [
             0.3,
             "#f1b6da"
            ],
            [
             0.4,
             "#fde0ef"
            ],
            [
             0.5,
             "#f7f7f7"
            ],
            [
             0.6,
             "#e6f5d0"
            ],
            [
             0.7,
             "#b8e186"
            ],
            [
             0.8,
             "#7fbc41"
            ],
            [
             0.9,
             "#4d9221"
            ],
            [
             1,
             "#276419"
            ]
           ],
           "sequential": [
            [
             0,
             "#0d0887"
            ],
            [
             0.1111111111111111,
             "#46039f"
            ],
            [
             0.2222222222222222,
             "#7201a8"
            ],
            [
             0.3333333333333333,
             "#9c179e"
            ],
            [
             0.4444444444444444,
             "#bd3786"
            ],
            [
             0.5555555555555556,
             "#d8576b"
            ],
            [
             0.6666666666666666,
             "#ed7953"
            ],
            [
             0.7777777777777778,
             "#fb9f3a"
            ],
            [
             0.8888888888888888,
             "#fdca26"
            ],
            [
             1,
             "#f0f921"
            ]
           ],
           "sequentialminus": [
            [
             0,
             "#0d0887"
            ],
            [
             0.1111111111111111,
             "#46039f"
            ],
            [
             0.2222222222222222,
             "#7201a8"
            ],
            [
             0.3333333333333333,
             "#9c179e"
            ],
            [
             0.4444444444444444,
             "#bd3786"
            ],
            [
             0.5555555555555556,
             "#d8576b"
            ],
            [
             0.6666666666666666,
             "#ed7953"
            ],
            [
             0.7777777777777778,
             "#fb9f3a"
            ],
            [
             0.8888888888888888,
             "#fdca26"
            ],
            [
             1,
             "#f0f921"
            ]
           ]
          },
          "colorway": [
           "#636efa",
           "#EF553B",
           "#00cc96",
           "#ab63fa",
           "#FFA15A",
           "#19d3f3",
           "#FF6692",
           "#B6E880",
           "#FF97FF",
           "#FECB52"
          ],
          "font": {
           "color": "#2a3f5f"
          },
          "geo": {
           "bgcolor": "white",
           "lakecolor": "white",
           "landcolor": "#E5ECF6",
           "showlakes": true,
           "showland": true,
           "subunitcolor": "white"
          },
          "hoverlabel": {
           "align": "left"
          },
          "hovermode": "closest",
          "mapbox": {
           "style": "light"
          },
          "paper_bgcolor": "white",
          "plot_bgcolor": "#E5ECF6",
          "polar": {
           "angularaxis": {
            "gridcolor": "white",
            "linecolor": "white",
            "ticks": ""
           },
           "bgcolor": "#E5ECF6",
           "radialaxis": {
            "gridcolor": "white",
            "linecolor": "white",
            "ticks": ""
           }
          },
          "scene": {
           "xaxis": {
            "backgroundcolor": "#E5ECF6",
            "gridcolor": "white",
            "gridwidth": 2,
            "linecolor": "white",
            "showbackground": true,
            "ticks": "",
            "zerolinecolor": "white"
           },
           "yaxis": {
            "backgroundcolor": "#E5ECF6",
            "gridcolor": "white",
            "gridwidth": 2,
            "linecolor": "white",
            "showbackground": true,
            "ticks": "",
            "zerolinecolor": "white"
           },
           "zaxis": {
            "backgroundcolor": "#E5ECF6",
            "gridcolor": "white",
            "gridwidth": 2,
            "linecolor": "white",
            "showbackground": true,
            "ticks": "",
            "zerolinecolor": "white"
           }
          },
          "shapedefaults": {
           "line": {
            "color": "#2a3f5f"
           }
          },
          "ternary": {
           "aaxis": {
            "gridcolor": "white",
            "linecolor": "white",
            "ticks": ""
           },
           "baxis": {
            "gridcolor": "white",
            "linecolor": "white",
            "ticks": ""
           },
           "bgcolor": "#E5ECF6",
           "caxis": {
            "gridcolor": "white",
            "linecolor": "white",
            "ticks": ""
           }
          },
          "title": {
           "x": 0.05
          },
          "xaxis": {
           "automargin": true,
           "gridcolor": "white",
           "linecolor": "white",
           "ticks": "",
           "title": {
            "standoff": 15
           },
           "zerolinecolor": "white",
           "zerolinewidth": 2
          },
          "yaxis": {
           "automargin": true,
           "gridcolor": "white",
           "linecolor": "white",
           "ticks": "",
           "title": {
            "standoff": 15
           },
           "zerolinecolor": "white",
           "zerolinewidth": 2
          }
         }
        },
        "xaxis": {
         "anchor": "y",
         "categoryarray": [
          "United Kingdom",
          "EIRE",
          "Netherlands",
          "Germany",
          "France"
         ],
         "categoryorder": "array",
         "domain": [
          0,
          1
         ],
         "gridcolor": "lightgray",
         "showgrid": true,
         "title": {
          "text": "Country"
         }
        },
        "yaxis": {
         "anchor": "x",
         "domain": [
          0,
          1
         ],
         "gridcolor": "lightgray",
         "showgrid": true,
         "title": {
          "text": "Revenue"
         }
        }
       }
      }
     },
     "metadata": {},
     "output_type": "display_data"
    }
   ],
   "source": [
    "color_map = {\n",
    "    'United Kingdom': '#1f77b4',\n",
    "    'Germany': '#ff7f0e',\n",
    "    'France': '#2ca02c',\n",
    "    'EIRE': '#d62728',\n",
    "    'Netherlands': '#9467bd'\n",
    "}\n",
    "\n",
    "fig = px.bar(top_countries.head(5),\n",
    "             x='Country', y='Revenue',\n",
    "             text='Revenue',\n",
    "             color='Country',\n",
    "             color_discrete_map=color_map)\n",
    "\n",
    "fig.update_traces(texttemplate='%{text:.2s}', textposition='outside')\n",
    "\n",
    "fig.update_layout(\n",
    "    plot_bgcolor='white',\n",
    "    paper_bgcolor='#f8f8f8',\n",
    "    xaxis=dict(showgrid=True, gridcolor='lightgray'),\n",
    "    yaxis=dict(showgrid=True, gridcolor='lightgray'),\n",
    ")\n",
    "\n",
    "fig.show()"
   ]
  },
  {
   "cell_type": "markdown",
   "id": "23ad6e3b",
   "metadata": {},
   "source": [
    "### Legend Customization"
   ]
  },
  {
   "cell_type": "code",
   "execution_count": 57,
   "id": "fd7d4885",
   "metadata": {},
   "outputs": [
    {
     "data": {
      "application/vnd.plotly.v1+json": {
       "config": {
        "plotlyServerURL": "https://plot.ly"
       },
       "data": [
        {
         "hovertemplate": "Country=%{x}<br>Revenue=%{text}<extra></extra>",
         "legendgroup": "United Kingdom",
         "marker": {
          "color": "#1f77b4",
          "pattern": {
           "shape": ""
          }
         },
         "name": "United Kingdom",
         "orientation": "v",
         "showlegend": true,
         "text": {
          "bdata": "lkOLcAkVbEE=",
          "dtype": "f8"
         },
         "textposition": "outside",
         "texttemplate": "%{text:.2s}",
         "type": "bar",
         "x": [
          "United Kingdom"
         ],
         "xaxis": "x",
         "y": {
          "bdata": "lkOLcAkVbEE=",
          "dtype": "f8"
         },
         "yaxis": "y"
        },
        {
         "hovertemplate": "Country=%{x}<br>Revenue=%{text}<extra></extra>",
         "legendgroup": "EIRE",
         "marker": {
          "color": "#d62728",
          "pattern": {
           "shape": ""
          }
         },
         "name": "EIRE",
         "orientation": "v",
         "showlegend": true,
         "text": {
          "bdata": "hetROH74IkE=",
          "dtype": "f8"
         },
         "textposition": "outside",
         "texttemplate": "%{text:.2s}",
         "type": "bar",
         "x": [
          "EIRE"
         ],
         "xaxis": "x",
         "y": {
          "bdata": "hetROH74IkE=",
          "dtype": "f8"
         },
         "yaxis": "y"
        },
        {
         "hovertemplate": "Country=%{x}<br>Revenue=%{text}<extra></extra>",
         "legendgroup": "Netherlands",
         "marker": {
          "color": "#9467bd",
          "pattern": {
           "shape": ""
          }
         },
         "name": "Netherlands",
         "orientation": "v",
         "showlegend": true,
         "text": {
          "bdata": "4XoUrvDpIEE=",
          "dtype": "f8"
         },
         "textposition": "outside",
         "texttemplate": "%{text:.2s}",
         "type": "bar",
         "x": [
          "Netherlands"
         ],
         "xaxis": "x",
         "y": {
          "bdata": "4XoUrvDpIEE=",
          "dtype": "f8"
         },
         "yaxis": "y"
        },
        {
         "hovertemplate": "Country=%{x}<br>Revenue=%{text}<extra></extra>",
         "legendgroup": "Germany",
         "marker": {
          "color": "#ff7f0e",
          "pattern": {
           "shape": ""
          }
         },
         "name": "Germany",
         "orientation": "v",
         "showlegend": true,
         "text": {
          "bdata": "TmIQ2HlSGkE=",
          "dtype": "f8"
         },
         "textposition": "outside",
         "texttemplate": "%{text:.2s}",
         "type": "bar",
         "x": [
          "Germany"
         ],
         "xaxis": "x",
         "y": {
          "bdata": "TmIQ2HlSGkE=",
          "dtype": "f8"
         },
         "yaxis": "y"
        },
        {
         "hovertemplate": "Country=%{x}<br>Revenue=%{text}<extra></extra>",
         "legendgroup": "France",
         "marker": {
          "color": "#2ca02c",
          "pattern": {
           "shape": ""
          }
         },
         "name": "France",
         "orientation": "v",
         "showlegend": true,
         "text": {
          "bdata": "FK5H4eWuFUE=",
          "dtype": "f8"
         },
         "textposition": "outside",
         "texttemplate": "%{text:.2s}",
         "type": "bar",
         "x": [
          "France"
         ],
         "xaxis": "x",
         "y": {
          "bdata": "FK5H4eWuFUE=",
          "dtype": "f8"
         },
         "yaxis": "y"
        }
       ],
       "layout": {
        "barmode": "relative",
        "legend": {
         "orientation": "h",
         "title": {
          "text": "Countries"
         },
         "tracegroupgap": 0,
         "x": 1,
         "xanchor": "right",
         "y": 1.02,
         "yanchor": "bottom"
        },
        "margin": {
         "t": 60
        },
        "showlegend": true,
        "template": {
         "data": {
          "bar": [
           {
            "error_x": {
             "color": "#2a3f5f"
            },
            "error_y": {
             "color": "#2a3f5f"
            },
            "marker": {
             "line": {
              "color": "#E5ECF6",
              "width": 0.5
             },
             "pattern": {
              "fillmode": "overlay",
              "size": 10,
              "solidity": 0.2
             }
            },
            "type": "bar"
           }
          ],
          "barpolar": [
           {
            "marker": {
             "line": {
              "color": "#E5ECF6",
              "width": 0.5
             },
             "pattern": {
              "fillmode": "overlay",
              "size": 10,
              "solidity": 0.2
             }
            },
            "type": "barpolar"
           }
          ],
          "carpet": [
           {
            "aaxis": {
             "endlinecolor": "#2a3f5f",
             "gridcolor": "white",
             "linecolor": "white",
             "minorgridcolor": "white",
             "startlinecolor": "#2a3f5f"
            },
            "baxis": {
             "endlinecolor": "#2a3f5f",
             "gridcolor": "white",
             "linecolor": "white",
             "minorgridcolor": "white",
             "startlinecolor": "#2a3f5f"
            },
            "type": "carpet"
           }
          ],
          "choropleth": [
           {
            "colorbar": {
             "outlinewidth": 0,
             "ticks": ""
            },
            "type": "choropleth"
           }
          ],
          "contour": [
           {
            "colorbar": {
             "outlinewidth": 0,
             "ticks": ""
            },
            "colorscale": [
             [
              0,
              "#0d0887"
             ],
             [
              0.1111111111111111,
              "#46039f"
             ],
             [
              0.2222222222222222,
              "#7201a8"
             ],
             [
              0.3333333333333333,
              "#9c179e"
             ],
             [
              0.4444444444444444,
              "#bd3786"
             ],
             [
              0.5555555555555556,
              "#d8576b"
             ],
             [
              0.6666666666666666,
              "#ed7953"
             ],
             [
              0.7777777777777778,
              "#fb9f3a"
             ],
             [
              0.8888888888888888,
              "#fdca26"
             ],
             [
              1,
              "#f0f921"
             ]
            ],
            "type": "contour"
           }
          ],
          "contourcarpet": [
           {
            "colorbar": {
             "outlinewidth": 0,
             "ticks": ""
            },
            "type": "contourcarpet"
           }
          ],
          "heatmap": [
           {
            "colorbar": {
             "outlinewidth": 0,
             "ticks": ""
            },
            "colorscale": [
             [
              0,
              "#0d0887"
             ],
             [
              0.1111111111111111,
              "#46039f"
             ],
             [
              0.2222222222222222,
              "#7201a8"
             ],
             [
              0.3333333333333333,
              "#9c179e"
             ],
             [
              0.4444444444444444,
              "#bd3786"
             ],
             [
              0.5555555555555556,
              "#d8576b"
             ],
             [
              0.6666666666666666,
              "#ed7953"
             ],
             [
              0.7777777777777778,
              "#fb9f3a"
             ],
             [
              0.8888888888888888,
              "#fdca26"
             ],
             [
              1,
              "#f0f921"
             ]
            ],
            "type": "heatmap"
           }
          ],
          "histogram": [
           {
            "marker": {
             "pattern": {
              "fillmode": "overlay",
              "size": 10,
              "solidity": 0.2
             }
            },
            "type": "histogram"
           }
          ],
          "histogram2d": [
           {
            "colorbar": {
             "outlinewidth": 0,
             "ticks": ""
            },
            "colorscale": [
             [
              0,
              "#0d0887"
             ],
             [
              0.1111111111111111,
              "#46039f"
             ],
             [
              0.2222222222222222,
              "#7201a8"
             ],
             [
              0.3333333333333333,
              "#9c179e"
             ],
             [
              0.4444444444444444,
              "#bd3786"
             ],
             [
              0.5555555555555556,
              "#d8576b"
             ],
             [
              0.6666666666666666,
              "#ed7953"
             ],
             [
              0.7777777777777778,
              "#fb9f3a"
             ],
             [
              0.8888888888888888,
              "#fdca26"
             ],
             [
              1,
              "#f0f921"
             ]
            ],
            "type": "histogram2d"
           }
          ],
          "histogram2dcontour": [
           {
            "colorbar": {
             "outlinewidth": 0,
             "ticks": ""
            },
            "colorscale": [
             [
              0,
              "#0d0887"
             ],
             [
              0.1111111111111111,
              "#46039f"
             ],
             [
              0.2222222222222222,
              "#7201a8"
             ],
             [
              0.3333333333333333,
              "#9c179e"
             ],
             [
              0.4444444444444444,
              "#bd3786"
             ],
             [
              0.5555555555555556,
              "#d8576b"
             ],
             [
              0.6666666666666666,
              "#ed7953"
             ],
             [
              0.7777777777777778,
              "#fb9f3a"
             ],
             [
              0.8888888888888888,
              "#fdca26"
             ],
             [
              1,
              "#f0f921"
             ]
            ],
            "type": "histogram2dcontour"
           }
          ],
          "mesh3d": [
           {
            "colorbar": {
             "outlinewidth": 0,
             "ticks": ""
            },
            "type": "mesh3d"
           }
          ],
          "parcoords": [
           {
            "line": {
             "colorbar": {
              "outlinewidth": 0,
              "ticks": ""
             }
            },
            "type": "parcoords"
           }
          ],
          "pie": [
           {
            "automargin": true,
            "type": "pie"
           }
          ],
          "scatter": [
           {
            "fillpattern": {
             "fillmode": "overlay",
             "size": 10,
             "solidity": 0.2
            },
            "type": "scatter"
           }
          ],
          "scatter3d": [
           {
            "line": {
             "colorbar": {
              "outlinewidth": 0,
              "ticks": ""
             }
            },
            "marker": {
             "colorbar": {
              "outlinewidth": 0,
              "ticks": ""
             }
            },
            "type": "scatter3d"
           }
          ],
          "scattercarpet": [
           {
            "marker": {
             "colorbar": {
              "outlinewidth": 0,
              "ticks": ""
             }
            },
            "type": "scattercarpet"
           }
          ],
          "scattergeo": [
           {
            "marker": {
             "colorbar": {
              "outlinewidth": 0,
              "ticks": ""
             }
            },
            "type": "scattergeo"
           }
          ],
          "scattergl": [
           {
            "marker": {
             "colorbar": {
              "outlinewidth": 0,
              "ticks": ""
             }
            },
            "type": "scattergl"
           }
          ],
          "scattermap": [
           {
            "marker": {
             "colorbar": {
              "outlinewidth": 0,
              "ticks": ""
             }
            },
            "type": "scattermap"
           }
          ],
          "scattermapbox": [
           {
            "marker": {
             "colorbar": {
              "outlinewidth": 0,
              "ticks": ""
             }
            },
            "type": "scattermapbox"
           }
          ],
          "scatterpolar": [
           {
            "marker": {
             "colorbar": {
              "outlinewidth": 0,
              "ticks": ""
             }
            },
            "type": "scatterpolar"
           }
          ],
          "scatterpolargl": [
           {
            "marker": {
             "colorbar": {
              "outlinewidth": 0,
              "ticks": ""
             }
            },
            "type": "scatterpolargl"
           }
          ],
          "scatterternary": [
           {
            "marker": {
             "colorbar": {
              "outlinewidth": 0,
              "ticks": ""
             }
            },
            "type": "scatterternary"
           }
          ],
          "surface": [
           {
            "colorbar": {
             "outlinewidth": 0,
             "ticks": ""
            },
            "colorscale": [
             [
              0,
              "#0d0887"
             ],
             [
              0.1111111111111111,
              "#46039f"
             ],
             [
              0.2222222222222222,
              "#7201a8"
             ],
             [
              0.3333333333333333,
              "#9c179e"
             ],
             [
              0.4444444444444444,
              "#bd3786"
             ],
             [
              0.5555555555555556,
              "#d8576b"
             ],
             [
              0.6666666666666666,
              "#ed7953"
             ],
             [
              0.7777777777777778,
              "#fb9f3a"
             ],
             [
              0.8888888888888888,
              "#fdca26"
             ],
             [
              1,
              "#f0f921"
             ]
            ],
            "type": "surface"
           }
          ],
          "table": [
           {
            "cells": {
             "fill": {
              "color": "#EBF0F8"
             },
             "line": {
              "color": "white"
             }
            },
            "header": {
             "fill": {
              "color": "#C8D4E3"
             },
             "line": {
              "color": "white"
             }
            },
            "type": "table"
           }
          ]
         },
         "layout": {
          "annotationdefaults": {
           "arrowcolor": "#2a3f5f",
           "arrowhead": 0,
           "arrowwidth": 1
          },
          "autotypenumbers": "strict",
          "coloraxis": {
           "colorbar": {
            "outlinewidth": 0,
            "ticks": ""
           }
          },
          "colorscale": {
           "diverging": [
            [
             0,
             "#8e0152"
            ],
            [
             0.1,
             "#c51b7d"
            ],
            [
             0.2,
             "#de77ae"
            ],
            [
             0.3,
             "#f1b6da"
            ],
            [
             0.4,
             "#fde0ef"
            ],
            [
             0.5,
             "#f7f7f7"
            ],
            [
             0.6,
             "#e6f5d0"
            ],
            [
             0.7,
             "#b8e186"
            ],
            [
             0.8,
             "#7fbc41"
            ],
            [
             0.9,
             "#4d9221"
            ],
            [
             1,
             "#276419"
            ]
           ],
           "sequential": [
            [
             0,
             "#0d0887"
            ],
            [
             0.1111111111111111,
             "#46039f"
            ],
            [
             0.2222222222222222,
             "#7201a8"
            ],
            [
             0.3333333333333333,
             "#9c179e"
            ],
            [
             0.4444444444444444,
             "#bd3786"
            ],
            [
             0.5555555555555556,
             "#d8576b"
            ],
            [
             0.6666666666666666,
             "#ed7953"
            ],
            [
             0.7777777777777778,
             "#fb9f3a"
            ],
            [
             0.8888888888888888,
             "#fdca26"
            ],
            [
             1,
             "#f0f921"
            ]
           ],
           "sequentialminus": [
            [
             0,
             "#0d0887"
            ],
            [
             0.1111111111111111,
             "#46039f"
            ],
            [
             0.2222222222222222,
             "#7201a8"
            ],
            [
             0.3333333333333333,
             "#9c179e"
            ],
            [
             0.4444444444444444,
             "#bd3786"
            ],
            [
             0.5555555555555556,
             "#d8576b"
            ],
            [
             0.6666666666666666,
             "#ed7953"
            ],
            [
             0.7777777777777778,
             "#fb9f3a"
            ],
            [
             0.8888888888888888,
             "#fdca26"
            ],
            [
             1,
             "#f0f921"
            ]
           ]
          },
          "colorway": [
           "#636efa",
           "#EF553B",
           "#00cc96",
           "#ab63fa",
           "#FFA15A",
           "#19d3f3",
           "#FF6692",
           "#B6E880",
           "#FF97FF",
           "#FECB52"
          ],
          "font": {
           "color": "#2a3f5f"
          },
          "geo": {
           "bgcolor": "white",
           "lakecolor": "white",
           "landcolor": "#E5ECF6",
           "showlakes": true,
           "showland": true,
           "subunitcolor": "white"
          },
          "hoverlabel": {
           "align": "left"
          },
          "hovermode": "closest",
          "mapbox": {
           "style": "light"
          },
          "paper_bgcolor": "white",
          "plot_bgcolor": "#E5ECF6",
          "polar": {
           "angularaxis": {
            "gridcolor": "white",
            "linecolor": "white",
            "ticks": ""
           },
           "bgcolor": "#E5ECF6",
           "radialaxis": {
            "gridcolor": "white",
            "linecolor": "white",
            "ticks": ""
           }
          },
          "scene": {
           "xaxis": {
            "backgroundcolor": "#E5ECF6",
            "gridcolor": "white",
            "gridwidth": 2,
            "linecolor": "white",
            "showbackground": true,
            "ticks": "",
            "zerolinecolor": "white"
           },
           "yaxis": {
            "backgroundcolor": "#E5ECF6",
            "gridcolor": "white",
            "gridwidth": 2,
            "linecolor": "white",
            "showbackground": true,
            "ticks": "",
            "zerolinecolor": "white"
           },
           "zaxis": {
            "backgroundcolor": "#E5ECF6",
            "gridcolor": "white",
            "gridwidth": 2,
            "linecolor": "white",
            "showbackground": true,
            "ticks": "",
            "zerolinecolor": "white"
           }
          },
          "shapedefaults": {
           "line": {
            "color": "#2a3f5f"
           }
          },
          "ternary": {
           "aaxis": {
            "gridcolor": "white",
            "linecolor": "white",
            "ticks": ""
           },
           "baxis": {
            "gridcolor": "white",
            "linecolor": "white",
            "ticks": ""
           },
           "bgcolor": "#E5ECF6",
           "caxis": {
            "gridcolor": "white",
            "linecolor": "white",
            "ticks": ""
           }
          },
          "title": {
           "x": 0.05
          },
          "xaxis": {
           "automargin": true,
           "gridcolor": "white",
           "linecolor": "white",
           "ticks": "",
           "title": {
            "standoff": 15
           },
           "zerolinecolor": "white",
           "zerolinewidth": 2
          },
          "yaxis": {
           "automargin": true,
           "gridcolor": "white",
           "linecolor": "white",
           "ticks": "",
           "title": {
            "standoff": 15
           },
           "zerolinecolor": "white",
           "zerolinewidth": 2
          }
         }
        },
        "xaxis": {
         "anchor": "y",
         "categoryarray": [
          "United Kingdom",
          "EIRE",
          "Netherlands",
          "Germany",
          "France"
         ],
         "categoryorder": "array",
         "domain": [
          0,
          1
         ],
         "title": {
          "text": "Country"
         }
        },
        "yaxis": {
         "anchor": "x",
         "domain": [
          0,
          1
         ],
         "title": {
          "text": "Revenue"
         }
        }
       }
      }
     },
     "metadata": {},
     "output_type": "display_data"
    }
   ],
   "source": [
    "color_map = {\n",
    "    'United Kingdom': '#1f77b4',\n",
    "    'Germany': '#ff7f0e',\n",
    "    'France': '#2ca02c',\n",
    "    'EIRE': '#d62728',\n",
    "    'Netherlands': '#9467bd'\n",
    "}\n",
    "\n",
    "fig = px.bar(top_countries.head(5),\n",
    "             x='Country', y='Revenue',\n",
    "             text='Revenue',\n",
    "             color='Country',\n",
    "             color_discrete_map=color_map)\n",
    "fig.update_traces(texttemplate='%{text:.2s}', textposition='outside')\n",
    "fig.update_layout(\n",
    "    showlegend=True,\n",
    "    legend_title=\"Countries\",\n",
    "    legend=dict(                         # Controls how and where the legend appears\n",
    "        orientation='h',                 # Makes the legend horizontal (default is vertical).\n",
    "        yanchor='bottom',                # Anchors the legend box vertically using its bottom edge.\n",
    "        y=1.02,                          # Places the legend slightly above the main chart area (2% above top).\n",
    "        xanchor='right',                 # Anchors the legend box horizontally using its right edge.\n",
    "        x=1                              # Aligns the right edge of the legend with the right edge of the plot.\n",
    "    )\n",
    ")\n",
    "fig.show()"
   ]
  },
  {
   "cell_type": "markdown",
   "id": "8a82ba68",
   "metadata": {},
   "source": [
    "#  Scatter Plot (bubble chart)\n",
    "### Price vs Quantity with Revenue as Size"
   ]
  },
  {
   "cell_type": "code",
   "execution_count": 31,
   "id": "b97e70bb",
   "metadata": {},
   "outputs": [
    {
     "data": {
      "application/vnd.plotly.v1+json": {
       "config": {
        "plotlyServerURL": "https://plot.ly"
       },
       "data": [
        {
         "customdata": [
          [
           2.1,
           "2010-11"
          ],
          [
           2.5,
           "2010-09"
          ],
          [
           8.4,
           "2010-03"
          ],
          [
           4.5600000000000005,
           "2011-10"
          ],
          [
           19.799999999999997,
           "2011-06"
          ],
          [
           19.5,
           "2010-09"
          ],
          [
           17.700000000000003,
           "2010-10"
          ],
          [
           25,
           "2011-11"
          ],
          [
           1.65,
           "2010-11"
          ],
          [
           9.9,
           "2009-12"
          ],
          [
           2.08,
           "2011-10"
          ],
          [
           12.48,
           "2011-12"
          ],
          [
           3.4799999999999995,
           "2011-06"
          ],
          [
           17,
           "2010-05"
          ],
          [
           13.200000000000001,
           "2010-08"
          ],
          [
           8.850000000000001,
           "2010-09"
          ],
          [
           25.5,
           "2010-02"
          ],
          [
           5.9,
           "2011-08"
          ],
          [
           12.5,
           "2011-05"
          ],
          [
           14.98,
           "2010-05"
          ],
          [
           47.400000000000006,
           "2010-06"
          ],
          [
           15,
           "2011-05"
          ],
          [
           5.1,
           "2010-08"
          ],
          [
           10.98,
           "2010-06"
          ],
          [
           2.95,
           "2010-11"
          ],
          [
           10.2,
           "2010-10"
          ],
          [
           10.2,
           "2011-01"
          ],
          [
           35.7,
           "2011-03"
          ],
          [
           4.95,
           "2010-12"
          ],
          [
           93.60000000000001,
           "2010-04"
          ],
          [
           4.949999999999999,
           "2011-01"
          ],
          [
           10.5,
           "2011-09"
          ],
          [
           3.95,
           "2011-02"
          ],
          [
           16.8,
           "2010-10"
          ],
          [
           2.55,
           "2010-01"
          ],
          [
           13.200000000000001,
           "2010-04"
          ],
          [
           3.3,
           "2011-07"
          ],
          [
           10.9,
           "2010-06"
          ],
          [
           3.9,
           "2010-11"
          ],
          [
           13,
           "2011-05"
          ],
          [
           17.700000000000003,
           "2011-10"
          ],
          [
           2.5,
           "2011-04"
          ],
          [
           25.200000000000003,
           "2010-10"
          ],
          [
           10.5,
           "2011-08"
          ],
          [
           10.08,
           "2011-02"
          ],
          [
           1.45,
           "2011-11"
          ],
          [
           2.55,
           "2010-06"
          ],
          [
           1.25,
           "2010-10"
          ],
          [
           12.75,
           "2011-01"
          ],
          [
           1.65,
           "2011-09"
          ],
          [
           2.52,
           "2011-09"
          ],
          [
           8.5,
           "2011-07"
          ],
          [
           15.9,
           "2010-09"
          ],
          [
           21.9,
           "2011-05"
          ],
          [
           16.5,
           "2011-08"
          ],
          [
           6.6000000000000005,
           "2011-01"
          ],
          [
           61.199999999999996,
           "2011-08"
          ],
          [
           20.88,
           "2011-10"
          ],
          [
           3.9000000000000004,
           "2011-08"
          ],
          [
           15.9,
           "2010-05"
          ],
          [
           25.200000000000003,
           "2011-08"
          ],
          [
           14.850000000000001,
           "2011-01"
          ],
          [
           5.9,
           "2011-07"
          ],
          [
           16.5,
           "2011-05"
          ],
          [
           3.95,
           "2010-10"
          ],
          [
           25.200000000000003,
           "2011-09"
          ],
          [
           6.75,
           "2010-11"
          ],
          [
           4.2,
           "2011-01"
          ],
          [
           3.3,
           "2010-06"
          ],
          [
           10.2,
           "2010-09"
          ],
          [
           9.9,
           "2011-11"
          ],
          [
           27.04,
           "2010-06"
          ],
          [
           52.199999999999996,
           "2010-02"
          ],
          [
           8.850000000000001,
           "2011-07"
          ],
          [
           8.5,
           "2010-11"
          ],
          [
           2.95,
           "2011-02"
          ],
          [
           14.850000000000001,
           "2010-10"
          ],
          [
           16.5,
           "2011-11"
          ],
          [
           9.9,
           "2011-09"
          ],
          [
           9.899999999999999,
           "2011-03"
          ],
          [
           54,
           "2009-12"
          ],
          [
           0.83,
           "2011-11"
          ],
          [
           17.700000000000003,
           "2010-12"
          ],
          [
           19.5,
           "2010-01"
          ],
          [
           17.700000000000003,
           "2010-03"
          ],
          [
           20.8,
           "2011-08"
          ],
          [
           16.5,
           "2010-05"
          ],
          [
           5,
           "2010-06"
          ],
          [
           5.9,
           "2009-12"
          ],
          [
           2.1,
           "2010-03"
          ],
          [
           3.75,
           "2011-11"
          ],
          [
           1.65,
           "2010-01"
          ],
          [
           23.4,
           "2010-09"
          ],
          [
           1.65,
           "2011-05"
          ],
          [
           15,
           "2011-02"
          ],
          [
           19.9,
           "2011-10"
          ],
          [
           14.98,
           "2010-03"
          ],
          [
           4.95,
           "2010-06"
          ],
          [
           9.95,
           "2011-03"
          ],
          [
           35.8,
           "2009-12"
          ],
          [
           8.4,
           "2010-07"
          ],
          [
           11.6,
           "2011-08"
          ],
          [
           102,
           "2010-12"
          ],
          [
           4.95,
           "2011-06"
          ],
          [
           10.14,
           "2011-08"
          ],
          [
           15.299999999999999,
           "2010-05"
          ],
          [
           5.1,
           "2010-08"
          ],
          [
           12.75,
           "2010-07"
          ],
          [
           12.75,
           "2010-07"
          ],
          [
           4.4,
           "2010-02"
          ],
          [
           15,
           "2010-09"
          ],
          [
           4.16,
           "2011-11"
          ],
          [
           30,
           "2010-11"
          ],
          [
           5.04,
           "2011-09"
          ],
          [
           0.85,
           "2011-11"
          ],
          [
           12.600000000000001,
           "2011-03"
          ],
          [
           3.38,
           "2010-08"
          ],
          [
           19.5,
           "2010-09"
          ],
          [
           2.4899999999999998,
           "2011-05"
          ],
          [
           3.78,
           "2009-12"
          ],
          [
           3.75,
           "2010-09"
          ],
          [
           17.700000000000003,
           "2010-10"
          ],
          [
           10,
           "2010-06"
          ],
          [
           15.299999999999999,
           "2010-03"
          ],
          [
           4.949999999999999,
           "2010-11"
          ],
          [
           8.75,
           "2011-10"
          ],
          [
           79.19999999999999,
           "2009-12"
          ],
          [
           10.2,
           "2011-10"
          ],
          [
           16.5,
           "2011-11"
          ],
          [
           1.25,
           "2011-07"
          ],
          [
           31.6,
           "2011-02"
          ],
          [
           3.3,
           "2010-09"
          ],
          [
           10.08,
           "2010-06"
          ],
          [
           0.75,
           "2011-07"
          ],
          [
           17,
           "2011-09"
          ],
          [
           20.8,
           "2011-09"
          ],
          [
           9.95,
           "2010-06"
          ],
          [
           5.04,
           "2011-05"
          ],
          [
           15,
           "2011-04"
          ],
          [
           1.25,
           "2009-12"
          ],
          [
           15.9,
           "2011-05"
          ],
          [
           2.1,
           "2010-10"
          ],
          [
           5.95,
           "2011-03"
          ],
          [
           25.919999999999998,
           "2010-10"
          ],
          [
           14.850000000000001,
           "2011-08"
          ],
          [
           2.1,
           "2011-11"
          ],
          [
           1.66,
           "2011-09"
          ],
          [
           7.5,
           "2011-08"
          ],
          [
           5.9,
           "2011-04"
          ],
          [
           12.75,
           "2011-08"
          ],
          [
           13.200000000000001,
           "2010-02"
          ],
          [
           1.25,
           "2011-05"
          ],
          [
           17.88,
           "2010-07"
          ],
          [
           19.799999999999997,
           "2010-11"
          ],
          [
           3.4,
           "2011-12"
          ],
          [
           17,
           "2010-07"
          ],
          [
           1.25,
           "2011-10"
          ],
          [
           5.9,
           "2010-03"
          ],
          [
           3.9,
           "2011-11"
          ],
          [
           81.6,
           "2010-04"
          ],
          [
           25.200000000000003,
           "2010-05"
          ],
          [
           10.5,
           "2010-08"
          ],
          [
           4.95,
           "2011-10"
          ],
          [
           19.799999999999997,
           "2010-05"
          ],
          [
           31.8,
           "2010-02"
          ],
          [
           30.419999999999998,
           "2010-10"
          ],
          [
           8.4,
           "2011-08"
          ],
          [
           1.25,
           "2011-02"
          ],
          [
           1.7,
           "2011-11"
          ],
          [
           1.65,
           "2010-11"
          ],
          [
           30,
           "2011-04"
          ],
          [
           17.34,
           "2011-09"
          ],
          [
           15,
           "2010-10"
          ],
          [
           19.35,
           "2010-07"
          ],
          [
           15,
           "2010-10"
          ],
          [
           1.25,
           "2010-09"
          ],
          [
           15.95,
           "2010-10"
          ],
          [
           23.4,
           "2011-09"
          ],
          [
           15.8,
           "2011-02"
          ],
          [
           33.75,
           "2010-10"
          ],
          [
           12.600000000000001,
           "2010-03"
          ],
          [
           15.299999999999999,
           "2011-11"
          ],
          [
           165,
           "2010-05"
          ],
          [
           22.95,
           "2011-10"
          ],
          [
           3.38,
           "2011-03"
          ],
          [
           13.52,
           "2010-12"
          ],
          [
           12.3,
           "2011-11"
          ],
          [
           10.08,
           "2010-03"
          ],
          [
           18.72,
           "2011-06"
          ],
          [
           145,
           "2011-11"
          ],
          [
           9.899999999999999,
           "2011-10"
          ],
          [
           4.16,
           "2011-06"
          ],
          [
           6.25,
           "2011-11"
          ],
          [
           9.95,
           "2010-12"
          ],
          [
           25.200000000000003,
           "2010-06"
          ],
          [
           1.65,
           "2009-12"
          ],
          [
           30.24,
           "2011-11"
          ],
          [
           17.700000000000003,
           "2011-02"
          ],
          [
           10.08,
           "2011-11"
          ],
          [
           17,
           "2011-06"
          ],
          [
           1.25,
           "2010-08"
          ],
          [
           1.65,
           "2011-04"
          ],
          [
           19.5,
           "2010-08"
          ],
          [
           39.599999999999994,
           "2011-05"
          ],
          [
           23.2,
           "2011-03"
          ],
          [
           23.12,
           "2011-10"
          ],
          [
           16.5,
           "2010-01"
          ],
          [
           39.6,
           "2011-04"
          ],
          [
           12.600000000000001,
           "2011-05"
          ],
          [
           4.2,
           "2010-12"
          ],
          [
           1.95,
           "2010-07"
          ],
          [
           4.2,
           "2011-11"
          ],
          [
           3.3,
           "2011-06"
          ],
          [
           17.700000000000003,
           "2010-12"
          ],
          [
           2.34,
           "2011-08"
          ],
          [
           16.5,
           "2011-04"
          ],
          [
           5.9,
           "2011-10"
          ],
          [
           15.6,
           "2010-08"
          ],
          [
           1.25,
           "2011-11"
          ],
          [
           19.8,
           "2010-06"
          ],
          [
           0.85,
           "2010-10"
          ],
          [
           15,
           "2011-10"
          ],
          [
           10.5,
           "2011-06"
          ],
          [
           10.2,
           "2010-10"
          ],
          [
           3.35,
           "2011-09"
          ],
          [
           25.200000000000003,
           "2010-09"
          ],
          [
           1.25,
           "2010-12"
          ],
          [
           25.200000000000003,
           "2011-11"
          ],
          [
           15,
           "2011-11"
          ],
          [
           15,
           "2011-06"
          ],
          [
           1.7399999999999998,
           "2011-02"
          ],
          [
           2.55,
           "2010-11"
          ],
          [
           1.6500000000000001,
           "2011-10"
          ],
          [
           3.75,
           "2011-04"
          ],
          [
           9.899999999999999,
           "2010-03"
          ],
          [
           15,
           "2010-03"
          ],
          [
           17.700000000000003,
           "2010-10"
          ],
          [
           10.5,
           "2011-11"
          ],
          [
           31.8,
           "2010-10"
          ],
          [
           1.7,
           "2010-10"
          ],
          [
           15,
           "2011-03"
          ],
          [
           20.8,
           "2011-11"
          ],
          [
           15,
           "2010-11"
          ],
          [
           3.75,
           "2009-12"
          ],
          [
           23.4,
           "2010-10"
          ],
          [
           4.2,
           "2010-06"
          ],
          [
           1.65,
           "2011-11"
          ],
          [
           71.4,
           "2009-12"
          ],
          [
           11.9,
           "2010-07"
          ],
          [
           35.400000000000006,
           "2010-04"
          ],
          [
           10.5,
           "2011-05"
          ],
          [
           10.08,
           "2011-09"
          ],
          [
           102,
           "2010-09"
          ],
          [
           6.25,
           "2011-08"
          ],
          [
           19.919999999999998,
           "2011-09"
          ],
          [
           2.5,
           "2010-03"
          ],
          [
           10.2,
           "2011-04"
          ],
          [
           4.95,
           "2011-11"
          ],
          [
           2.5,
           "2010-01"
          ],
          [
           5.9,
           "2010-02"
          ],
          [
           17.700000000000003,
           "2011-09"
          ],
          [
           16.8,
           "2009-12"
          ],
          [
           17.700000000000003,
           "2010-08"
          ],
          [
           11.7,
           "2010-05"
          ],
          [
           15,
           "2011-06"
          ],
          [
           7.9,
           "2011-07"
          ],
          [
           19.799999999999997,
           "2010-08"
          ],
          [
           3.3,
           "2010-02"
          ],
          [
           39.6,
           "2010-07"
          ],
          [
           1.25,
           "2010-09"
          ],
          [
           6.8,
           "2011-06"
          ],
          [
           2.5,
           "2011-07"
          ],
          [
           1.49,
           "2010-10"
          ],
          [
           15,
           "2011-03"
          ],
          [
           17.700000000000003,
           "2011-06"
          ],
          [
           9.9,
           "2010-04"
          ],
          [
           10.2,
           "2010-08"
          ],
          [
           0.85,
           "2010-12"
          ],
          [
           29.849999999999998,
           "2011-04"
          ],
          [
           11.7,
           "2010-02"
          ],
          [
           12.600000000000001,
           "2010-05"
          ],
          [
           10.5,
           "2011-02"
          ],
          [
           9.899999999999999,
           "2011-08"
          ],
          [
           4.95,
           "2011-08"
          ],
          [
           3.75,
           "2011-11"
          ],
          [
           15.299999999999999,
           "2010-01"
          ],
          [
           0.42,
           "2011-08"
          ],
          [
           15,
           "2010-06"
          ],
          [
           30,
           "2011-08"
          ],
          [
           8.7,
           "2010-05"
          ],
          [
           15,
           "2011-05"
          ],
          [
           2.46,
           "2011-10"
          ],
          [
           7.15,
           "2010-11"
          ],
          [
           15,
           "2011-07"
          ],
          [
           1.7,
           "2010-03"
          ],
          [
           51,
           "2010-10"
          ],
          [
           4.25,
           "2010-11"
          ],
          [
           7.5,
           "2010-04"
          ],
          [
           1.7,
           "2010-06"
          ],
          [
           10.08,
           "2010-06"
          ],
          [
           1.65,
           "2010-12"
          ],
          [
           9.899999999999999,
           "2010-11"
          ],
          [
           17.700000000000003,
           "2011-05"
          ],
          [
           33.2,
           "2011-10"
          ],
          [
           214.8,
           "2011-10"
          ],
          [
           2.55,
           "2011-02"
          ],
          [
           15,
           "2011-11"
          ],
          [
           7.800000000000001,
           "2010-03"
          ],
          [
           8.850000000000001,
           "2011-01"
          ],
          [
           2.95,
           "2010-08"
          ],
          [
           3.9,
           "2010-05"
          ],
          [
           1.7,
           "2010-01"
          ],
          [
           17.700000000000003,
           "2011-09"
          ],
          [
           15,
           "2011-03"
          ],
          [
           10.5,
           "2010-03"
          ],
          [
           4.15,
           "2011-11"
          ],
          [
           13.750000000000002,
           "2011-10"
          ],
          [
           41.7,
           "2010-09"
          ],
          [
           17.700000000000003,
           "2011-04"
          ],
          [
           19.8,
           "2010-08"
          ],
          [
           15,
           "2011-02"
          ],
          [
           302.4,
           "2010-09"
          ],
          [
           19.799999999999997,
           "2011-09"
          ],
          [
           1.66,
           "2011-08"
          ],
          [
           39.599999999999994,
           "2011-07"
          ],
          [
           4.25,
           "2011-07"
          ],
          [
           1.7,
           "2010-01"
          ],
          [
           0.85,
           "2011-09"
          ],
          [
           4.16,
           "2011-11"
          ],
          [
           2.1,
           "2010-04"
          ],
          [
           152.64000000000001,
           "2010-10"
          ],
          [
           16.35,
           "2011-07"
          ],
          [
           7.800000000000001,
           "2010-06"
          ],
          [
           825,
           "2010-09"
          ],
          [
           29.700000000000003,
           "2011-11"
          ],
          [
           3.3,
           "2010-11"
          ],
          [
           1.1,
           "2010-09"
          ],
          [
           14.850000000000001,
           "2010-04"
          ],
          [
           0.83,
           "2011-05"
          ],
          [
           4.95,
           "2011-10"
          ],
          [
           15.12,
           "2010-10"
          ],
          [
           10.2,
           "2011-07"
          ],
          [
           15.299999999999999,
           "2010-03"
          ],
          [
           15,
           "2010-04"
          ],
          [
           15,
           "2011-07"
          ],
          [
           2.55,
           "2009-12"
          ],
          [
           2.95,
           "2010-03"
          ],
          [
           19.5,
           "2010-05"
          ],
          [
           9.9,
           "2010-02"
          ],
          [
           17.85,
           "2010-11"
          ],
          [
           17.22,
           "2011-10"
          ],
          [
           5.45,
           "2010-11"
          ],
          [
           5.95,
           "2009-12"
          ],
          [
           3.3,
           "2010-10"
          ],
          [
           6.24,
           "2011-11"
          ],
          [
           0.55,
           "2010-09"
          ],
          [
           5.04,
           "2010-12"
          ],
          [
           88.80000000000001,
           "2010-12"
          ],
          [
           1.65,
           "2010-02"
          ],
          [
           1.95,
           "2011-03"
          ],
          [
           61.199999999999996,
           "2010-02"
          ],
          [
           52.199999999999996,
           "2011-07"
          ],
          [
           3.9,
           "2010-04"
          ],
          [
           30,
           "2010-11"
          ],
          [
           1.25,
           "2010-09"
          ],
          [
           6.72,
           "2011-10"
          ],
          [
           5.1,
           "2010-08"
          ],
          [
           17.700000000000003,
           "2011-07"
          ],
          [
           2.5,
           "2011-01"
          ],
          [
           0.85,
           "2010-04"
          ],
          [
           15,
           "2010-07"
          ],
          [
           4.2,
           "2011-10"
          ],
          [
           4.95,
           "2010-04"
          ],
          [
           8.5,
           "2011-10"
          ],
          [
           12.600000000000001,
           "2010-06"
          ],
          [
           1.65,
           "2010-06"
          ],
          [
           19.799999999999997,
           "2009-12"
          ],
          [
           187.5,
           "2010-12"
          ],
          [
           0.58,
           "2011-08"
          ],
          [
           5.95,
           "2009-12"
          ],
          [
           18.72,
           "2011-06"
          ],
          [
           12.6,
           "2010-07"
          ],
          [
           6.5,
           "2011-06"
          ],
          [
           7.95,
           "2010-11"
          ],
          [
           15,
           "2010-02"
          ],
          [
           19.8,
           "2010-04"
          ],
          [
           5.1,
           "2011-11"
          ],
          [
           4.95,
           "2011-03"
          ],
          [
           13.049999999999999,
           "2009-12"
          ],
          [
           1.68,
           "2010-09"
          ],
          [
           15,
           "2010-01"
          ],
          [
           15.36,
           "2010-02"
          ],
          [
           4.95,
           "2010-08"
          ],
          [
           122.39999999999999,
           "2011-06"
          ],
          [
           2.95,
           "2010-07"
          ],
          [
           21,
           "2011-06"
          ],
          [
           49.5,
           "2010-02"
          ],
          [
           12.75,
           "2011-01"
          ],
          [
           39,
           "2010-03"
          ],
          [
           5.1,
           "2011-07"
          ],
          [
           17.700000000000003,
           "2011-03"
          ],
          [
           15.6,
           "2010-06"
          ],
          [
           1.65,
           "2010-10"
          ],
          [
           15.600000000000001,
           "2011-10"
          ],
          [
           15,
           "2011-08"
          ],
          [
           16.95,
           "2010-10"
          ],
          [
           0.85,
           "2010-12"
          ],
          [
           1.25,
           "2011-08"
          ],
          [
           1.16,
           "2011-08"
          ],
          [
           40.56,
           "2010-08"
          ],
          [
           17.4,
           "2011-05"
          ],
          [
           12.600000000000001,
           "2010-12"
          ],
          [
           23.6,
           "2010-11"
          ],
          [
           10.2,
           "2010-04"
          ],
          [
           2.75,
           "2011-09"
          ],
          [
           0.42,
           "2011-03"
          ],
          [
           15.299999999999999,
           "2010-09"
          ],
          [
           20.8,
           "2011-06"
          ],
          [
           199,
           "2010-09"
          ],
          [
           8.850000000000001,
           "2010-05"
          ],
          [
           8.5,
           "2010-08"
          ],
          [
           30.599999999999998,
           "2010-08"
          ],
          [
           15,
           "2011-07"
          ],
          [
           16.5,
           "2010-10"
          ],
          [
           17.700000000000003,
           "2010-03"
          ],
          [
           1.26,
           "2010-10"
          ],
          [
           30,
           "2009-12"
          ],
          [
           6.95,
           "2010-04"
          ],
          [
           2.95,
           "2011-08"
          ],
          [
           35.400000000000006,
           "2010-10"
          ],
          [
           15.12,
           "2010-10"
          ],
          [
           26,
           "2010-07"
          ],
          [
           17.700000000000003,
           "2010-12"
          ],
          [
           4.35,
           "2010-05"
          ],
          [
           1.1,
           "2011-09"
          ],
          [
           90,
           "2010-04"
          ],
          [
           10.2,
           "2010-11"
          ],
          [
           29.700000000000003,
           "2011-08"
          ],
          [
           10.2,
           "2011-11"
          ],
          [
           15,
           "2011-12"
          ],
          [
           17.700000000000003,
           "2010-09"
          ],
          [
           5.04,
           "2011-07"
          ],
          [
           15,
           "2011-04"
          ],
          [
           4.65,
           "2010-09"
          ],
          [
           59.5,
           "2009-12"
          ],
          [
           10.5,
           "2011-08"
          ],
          [
           14.850000000000001,
           "2010-07"
          ],
          [
           1.95,
           "2010-06"
          ],
          [
           19.799999999999997,
           "2010-03"
          ],
          [
           5.9,
           "2010-09"
          ],
          [
           10.2,
           "2010-11"
          ],
          [
           17,
           "2011-08"
          ],
          [
           8.32,
           "2011-04"
          ],
          [
           3.3,
           "2011-08"
          ],
          [
           107.39999999999999,
           "2010-04"
          ],
          [
           157.92000000000002,
           "2011-07"
          ],
          [
           12.5,
           "2011-09"
          ],
          [
           88,
           "2009-12"
          ],
          [
           6.300000000000001,
           "2011-01"
          ],
          [
           33.9,
           "2011-06"
          ],
          [
           43.45,
           "2011-05"
          ],
          [
           9.95,
           "2010-10"
          ],
          [
           0.42,
           "2010-08"
          ],
          [
           14.98,
           "2010-06"
          ],
          [
           17.700000000000003,
           "2010-10"
          ],
          [
           5.85,
           "2010-11"
          ],
          [
           7.5,
           "2010-08"
          ],
          [
           11.7,
           "2011-12"
          ],
          [
           19.9,
           "2011-03"
          ],
          [
           2.95,
           "2011-07"
          ],
          [
           4.95,
           "2010-11"
          ],
          [
           10.5,
           "2010-06"
          ],
          [
           19.799999999999997,
           "2010-11"
          ],
          [
           5.95,
           "2011-08"
          ],
          [
           5.04,
           "2010-10"
          ],
          [
           2.55,
           "2009-12"
          ],
          [
           13.52,
           "2010-09"
          ],
          [
           2.95,
           "2011-06"
          ],
          [
           10,
           "2010-06"
          ],
          [
           4.15,
           "2011-11"
          ],
          [
           19.799999999999997,
           "2011-05"
          ],
          [
           39,
           "2010-11"
          ],
          [
           7.5,
           "2011-10"
          ],
          [
           12.75,
           "2010-07"
          ],
          [
           8.5,
           "2011-11"
          ],
          [
           34,
           "2010-02"
          ],
          [
           15,
           "2011-10"
          ],
          [
           10.2,
           "2010-07"
          ],
          [
           15.9,
           "2011-10"
          ],
          [
           1.25,
           "2010-05"
          ],
          [
           35.400000000000006,
           "2011-02"
          ],
          [
           17,
           "2011-07"
          ],
          [
           15,
           "2011-08"
          ],
          [
           0.85,
           "2010-12"
          ],
          [
           5.5,
           "2010-02"
          ],
          [
           10.95,
           "2011-01"
          ],
          [
           15,
           "2010-12"
          ],
          [
           14.850000000000001,
           "2011-09"
          ],
          [
           15.6,
           "2011-09"
          ],
          [
           8.4,
           "2011-10"
          ],
          [
           17.700000000000003,
           "2011-02"
          ],
          [
           63.5,
           "2010-07"
          ],
          [
           6.72,
           "2011-07"
          ],
          [
           2.5,
           "2011-01"
          ],
          [
           7.95,
           "2011-02"
          ],
          [
           4.95,
           "2010-01"
          ],
          [
           5.1,
           "2010-11"
          ],
          [
           15,
           "2011-09"
          ],
          [
           1.65,
           "2011-07"
          ],
          [
           0.83,
           "2011-09"
          ],
          [
           20.8,
           "2011-10"
          ],
          [
           4.2,
           "2011-04"
          ],
          [
           10.5,
           "2010-09"
          ],
          [
           20,
           "2009-12"
          ],
          [
           16.8,
           "2010-12"
          ],
          [
           2.94,
           "2011-09"
          ],
          [
           2.1,
           "2011-11"
          ],
          [
           4.13,
           "2011-12"
          ],
          [
           61.44,
           "2010-05"
          ],
          [
           7.5,
           "2011-02"
          ],
          [
           10,
           "2010-11"
          ],
          [
           2.94,
           "2011-10"
          ],
          [
           10.05,
           "2010-10"
          ],
          [
           4.2,
           "2010-01"
          ],
          [
           5.04,
           "2011-02"
          ],
          [
           4.949999999999999,
           "2010-06"
          ],
          [
           90,
           "2011-09"
          ],
          [
           5.9,
           "2010-04"
          ],
          [
           2.5,
           "2011-09"
          ],
          [
           17,
           "2010-08"
          ],
          [
           14.98,
           "2010-06"
          ],
          [
           10.5,
           "2011-05"
          ],
          [
           60,
           "2010-11"
          ],
          [
           13.2,
           "2010-07"
          ],
          [
           7.8,
           "2010-04"
          ],
          [
           5.04,
           "2011-10"
          ],
          [
           31.6,
           "2010-09"
          ],
          [
           1.25,
           "2010-10"
          ],
          [
           8.5,
           "2010-10"
          ],
          [
           11.7,
           "2009-12"
          ],
          [
           9.899999999999999,
           "2009-12"
          ],
          [
           35.400000000000006,
           "2010-11"
          ],
          [
           15.299999999999999,
           "2011-10"
          ],
          [
           6.5,
           "2009-12"
          ],
          [
           32.849999999999994,
           "2011-05"
          ],
          [
           2.95,
           "2010-01"
          ],
          [
           4.95,
           "2009-12"
          ],
          [
           23.8,
           "2010-03"
          ],
          [
           17.700000000000003,
           "2010-10"
          ],
          [
           1.9500000000000002,
           "2011-12"
          ],
          [
           15,
           "2010-06"
          ],
          [
           19.9,
           "2010-09"
          ],
          [
           3.75,
           "2010-03"
          ],
          [
           0.65,
           "2010-12"
          ],
          [
           17.85,
           "2010-08"
          ],
          [
           22.95,
           "2010-09"
          ],
          [
           10.2,
           "2010-11"
          ],
          [
           6.6000000000000005,
           "2011-07"
          ],
          [
           11.25,
           "2010-05"
          ],
          [
           19.8,
           "2011-12"
          ],
          [
           15.299999999999999,
           "2010-05"
          ],
          [
           39.6,
           "2011-06"
          ],
          [
           15,
           "2010-10"
          ],
          [
           16.6,
           "2011-02"
          ],
          [
           17.700000000000003,
           "2010-08"
          ],
          [
           15.9,
           "2011-03"
          ],
          [
           1.65,
           "2010-06"
          ],
          [
           35.400000000000006,
           "2010-12"
          ],
          [
           5.9,
           "2011-09"
          ],
          [
           13.200000000000001,
           "2010-02"
          ],
          [
           22.5,
           "2011-01"
          ],
          [
           10.5,
           "2010-11"
          ],
          [
           0.84,
           "2011-02"
          ],
          [
           2.95,
           "2010-10"
          ],
          [
           15.9,
           "2011-11"
          ],
          [
           1.69,
           "2011-08"
          ],
          [
           7.8,
           "2010-03"
          ],
          [
           4.16,
           "2011-08"
          ],
          [
           5.95,
           "2010-04"
          ],
          [
           1.49,
           "2010-05"
          ],
          [
           19.5,
           "2010-07"
          ],
          [
           5.9,
           "2010-07"
          ],
          [
           1.9500000000000002,
           "2010-06"
          ],
          [
           3.75,
           "2010-10"
          ],
          [
           8.26,
           "2011-10"
          ],
          [
           10.2,
           "2010-10"
          ],
          [
           10.2,
           "2010-04"
          ],
          [
           0.84,
           "2010-08"
          ],
          [
           4.2,
           "2010-10"
          ],
          [
           1.6500000000000001,
           "2011-06"
          ],
          [
           9.9,
           "2011-09"
          ],
          [
           3.75,
           "2010-03"
          ],
          [
           16.5,
           "2011-09"
          ],
          [
           30,
           "2010-12"
          ],
          [
           25.200000000000003,
           "2011-11"
          ],
          [
           15,
           "2010-03"
          ],
          [
           30,
           "2010-11"
          ],
          [
           15,
           "2011-04"
          ],
          [
           15.9,
           "2010-09"
          ],
          [
           9.13,
           "2011-12"
          ],
          [
           2.1,
           "2009-12"
          ],
          [
           17.700000000000003,
           "2010-02"
          ],
          [
           15,
           "2010-08"
          ],
          [
           17.700000000000003,
           "2011-04"
          ],
          [
           14.850000000000001,
           "2010-03"
          ],
          [
           35.400000000000006,
           "2010-07"
          ],
          [
           35.400000000000006,
           "2010-07"
          ],
          [
           1.45,
           "2011-11"
          ],
          [
           10.2,
           "2010-03"
          ],
          [
           7.5,
           "2010-07"
          ],
          [
           16.5,
           "2009-12"
          ],
          [
           0.42,
           "2010-10"
          ],
          [
           10.5,
           "2010-09"
          ],
          [
           10.5,
           "2009-12"
          ],
          [
           8.5,
           "2010-11"
          ],
          [
           33,
           "2010-01"
          ],
          [
           15,
           "2011-10"
          ],
          [
           2.1,
           "2011-11"
          ],
          [
           9.899999999999999,
           "2010-05"
          ],
          [
           59.400000000000006,
           "2010-04"
          ],
          [
           3.3,
           "2010-11"
          ],
          [
           2.1,
           "2011-11"
          ],
          [
           6.6,
           "2011-10"
          ],
          [
           2.5,
           "2010-03"
          ],
          [
           19.5,
           "2010-09"
          ],
          [
           15,
           "2011-08"
          ],
          [
           5.85,
           "2010-09"
          ],
          [
           6.6000000000000005,
           "2010-01"
          ],
          [
           1.65,
           "2010-04"
          ],
          [
           14.850000000000001,
           "2010-01"
          ],
          [
           18.75,
           "2011-10"
          ],
          [
           5.95,
           "2009-12"
          ],
          [
           1.45,
           "2011-07"
          ],
          [
           6.75,
           "2011-01"
          ],
          [
           17.700000000000003,
           "2011-07"
          ],
          [
           25,
           "2010-02"
          ],
          [
           3.75,
           "2010-11"
          ],
          [
           3.75,
           "2010-12"
          ],
          [
           4.25,
           "2010-12"
          ],
          [
           30.599999999999998,
           "2011-03"
          ],
          [
           3.9,
           "2010-05"
          ],
          [
           10.5,
           "2011-03"
          ],
          [
           40.56,
           "2010-03"
          ],
          [
           6.75,
           "2010-11"
          ],
          [
           16.5,
           "2011-08"
          ],
          [
           6.76,
           "2011-08"
          ],
          [
           30.599999999999998,
           "2011-02"
          ],
          [
           33,
           "2011-03"
          ],
          [
           13.68,
           "2010-08"
          ],
          [
           7.5,
           "2010-09"
          ],
          [
           17.700000000000003,
           "2010-10"
          ],
          [
           8.5,
           "2010-05"
          ],
          [
           15,
           "2010-11"
          ],
          [
           2.1,
           "2011-10"
          ],
          [
           1.25,
           "2010-01"
          ],
          [
           7.5,
           "2010-08"
          ],
          [
           0.39,
           "2011-10"
          ],
          [
           14.850000000000001,
           "2011-11"
          ],
          [
           20.700000000000003,
           "2010-03"
          ],
          [
           2.75,
           "2011-07"
          ],
          [
           46.8,
           "2011-10"
          ],
          [
           16.35,
           "2010-01"
          ],
          [
           87,
           "2010-05"
          ],
          [
           17.9,
           "2010-08"
          ],
          [
           10.9,
           "2010-01"
          ],
          [
           50,
           "2011-11"
          ],
          [
           0.39,
           "2011-12"
          ],
          [
           3.3,
           "2011-04"
          ],
          [
           7.5,
           "2010-11"
          ],
          [
           11.25,
           "2011-07"
          ],
          [
           44.75,
           "2010-12"
          ],
          [
           39.599999999999994,
           "2011-12"
          ],
          [
           12.5,
           "2011-11"
          ],
          [
           10.2,
           "2011-08"
          ],
          [
           47.400000000000006,
           "2011-09"
          ],
          [
           5,
           "2010-06"
          ],
          [
           19.9,
           "2011-04"
          ],
          [
           16.5,
           "2011-05"
          ],
          [
           9.36,
           "2011-10"
          ],
          [
           4.95,
           "2010-11"
          ],
          [
           17.4,
           "2010-09"
          ],
          [
           4.35,
           "2011-11"
          ],
          [
           2.1,
           "2010-07"
          ],
          [
           29.700000000000003,
           "2011-09"
          ],
          [
           8.5,
           "2010-03"
          ],
          [
           17.4,
           "2011-01"
          ],
          [
           1.25,
           "2010-12"
          ],
          [
           68,
           "2011-05"
          ],
          [
           30,
           "2011-08"
          ],
          [
           2.1,
           "2009-12"
          ],
          [
           10.600000000000001,
           "2010-06"
          ],
          [
           5.95,
           "2011-09"
          ],
          [
           23,
           "2011-07"
          ],
          [
           33.9,
           "2011-06"
          ],
          [
           75.60000000000001,
           "2010-07"
          ],
          [
           5.1,
           "2010-11"
          ],
          [
           0.39,
           "2011-10"
          ],
          [
           1.65,
           "2010-02"
          ],
          [
           20.8,
           "2011-07"
          ],
          [
           2.55,
           "2011-10"
          ],
          [
           1.25,
           "2010-01"
          ],
          [
           25,
           "2011-09"
          ],
          [
           3.3,
           "2011-06"
          ],
          [
           163.2,
           "2011-09"
          ],
          [
           1.9500000000000002,
           "2011-08"
          ],
          [
           39.599999999999994,
           "2010-11"
          ],
          [
           102,
           "2010-09"
          ],
          [
           43.68,
           "2011-05"
          ],
          [
           0.84,
           "2011-12"
          ],
          [
           15,
           "2010-09"
          ],
          [
           17.85,
           "2010-11"
          ],
          [
           1.69,
           "2010-03"
          ],
          [
           25.200000000000003,
           "2011-06"
          ],
          [
           20.4,
           "2010-10"
          ],
          [
           7.95,
           "2010-07"
          ],
          [
           10.2,
           "2009-12"
          ],
          [
           13.200000000000001,
           "2010-09"
          ],
          [
           29.700000000000003,
           "2011-11"
          ],
          [
           4.949999999999999,
           "2011-01"
          ],
          [
           2.1,
           "2010-08"
          ],
          [
           1.95,
           "2010-05"
          ],
          [
           19.799999999999997,
           "2010-04"
          ],
          [
           13.200000000000001,
           "2011-10"
          ],
          [
           4.25,
           "2011-09"
          ],
          [
           49.5,
           "2011-09"
          ],
          [
           1.25,
           "2011-11"
          ],
          [
           8.850000000000001,
           "2011-05"
          ],
          [
           0.85,
           "2011-07"
          ],
          [
           17.700000000000003,
           "2011-03"
          ],
          [
           0.55,
           "2011-10"
          ],
          [
           12.6,
           "2010-09"
          ],
          [
           14.98,
           "2010-06"
          ],
          [
           26.099999999999998,
           "2010-12"
          ],
          [
           13.52,
           "2011-11"
          ],
          [
           20.8,
           "2011-12"
          ],
          [
           1.7,
           "2011-11"
          ],
          [
           3.4,
           "2010-11"
          ],
          [
           6.3,
           "2010-11"
          ],
          [
           4.15,
           "2011-11"
          ],
          [
           15.8,
           "2011-09"
          ],
          [
           15,
           "2010-10"
          ],
          [
           0.83,
           "2011-11"
          ],
          [
           8.75,
           "2010-03"
          ],
          [
           59.400000000000006,
           "2011-11"
          ],
          [
           29.700000000000003,
           "2010-07"
          ],
          [
           14.98,
           "2010-06"
          ],
          [
           14.98,
           "2010-06"
          ],
          [
           11.8,
           "2011-04"
          ],
          [
           2.5,
           "2010-10"
          ],
          [
           30,
           "2011-12"
          ],
          [
           15,
           "2011-01"
          ],
          [
           102,
           "2011-11"
          ],
          [
           14.850000000000001,
           "2011-10"
          ],
          [
           5.04,
           "2011-06"
          ],
          [
           5.8,
           "2011-01"
          ],
          [
           22.5,
           "2010-07"
          ],
          [
           14.98,
           "2010-08"
          ],
          [
           2.5,
           "2010-02"
          ],
          [
           12.600000000000001,
           "2010-11"
          ],
          [
           4.2,
           "2010-11"
          ],
          [
           2.95,
           "2010-08"
          ],
          [
           6.35,
           "2010-03"
          ],
          [
           63.5,
           "2010-07"
          ],
          [
           19.8,
           "2011-07"
          ],
          [
           2.5,
           "2011-03"
          ],
          [
           4.15,
           "2011-11"
          ],
          [
           20.8,
           "2011-06"
          ],
          [
           1.65,
           "2010-10"
          ],
          [
           16.6,
           "2011-06"
          ],
          [
           5.95,
           "2010-07"
          ],
          [
           15,
           "2011-01"
          ],
          [
           15.299999999999999,
           "2011-02"
          ],
          [
           3.3,
           "2011-02"
          ],
          [
           6.76,
           "2011-10"
          ],
          [
           16.5,
           "2011-04"
          ],
          [
           3.75,
           "2009-12"
          ],
          [
           1.25,
           "2010-10"
          ],
          [
           6.36,
           "2010-12"
          ],
          [
           0.83,
           "2011-07"
          ],
          [
           15.12,
           "2011-09"
          ],
          [
           4.2,
           "2010-12"
          ],
          [
           3.25,
           "2010-08"
          ],
          [
           5.9,
           "2010-05"
          ],
          [
           10.5,
           "2010-04"
          ],
          [
           81.6,
           "2010-08"
          ],
          [
           0.42,
           "2010-10"
          ],
          [
           12.5,
           "2010-07"
          ],
          [
           59.400000000000006,
           "2011-12"
          ],
          [
           3.75,
           "2010-12"
          ],
          [
           21.9,
           "2009-12"
          ],
          [
           9.959999999999999,
           "2011-09"
          ],
          [
           15,
           "2010-08"
          ],
          [
           19.9,
           "2010-11"
          ],
          [
           14.850000000000001,
           "2010-04"
          ],
          [
           16.5,
           "2010-09"
          ],
          [
           16.5,
           "2011-05"
          ],
          [
           10.95,
           "2010-06"
          ],
          [
           14.98,
           "2010-07"
          ],
          [
           1.65,
           "2010-09"
          ],
          [
           19.799999999999997,
           "2010-03"
          ],
          [
           67.5,
           "2010-11"
          ],
          [
           8.25,
           "2011-12"
          ],
          [
           12.600000000000001,
           "2010-01"
          ],
          [
           10.2,
           "2011-03"
          ],
          [
           15,
           "2011-10"
          ],
          [
           6.8,
           "2010-09"
          ],
          [
           12.75,
           "2010-08"
          ],
          [
           2.5,
           "2011-11"
          ],
          [
           10.4,
           "2011-05"
          ],
          [
           16.5,
           "2010-11"
          ],
          [
           13.200000000000001,
           "2010-03"
          ],
          [
           27,
           "2009-12"
          ],
          [
           10.5,
           "2011-02"
          ],
          [
           15,
           "2010-10"
          ],
          [
           5.95,
           "2010-07"
          ],
          [
           4.16,
           "2011-06"
          ],
          [
           5.9,
           "2010-11"
          ],
          [
           2.5,
           "2009-12"
          ],
          [
           3.5,
           "2009-12"
          ],
          [
           4.2,
           "2010-10"
          ],
          [
           1.7,
           "2011-09"
          ],
          [
           20.16,
           "2010-03"
          ],
          [
           17.700000000000003,
           "2011-07"
          ],
          [
           1.65,
           "2011-10"
          ],
          [
           3.75,
           "2010-03"
          ],
          [
           23.4,
           "2011-05"
          ],
          [
           14.850000000000001,
           "2010-01"
          ],
          [
           9.36,
           "2011-09"
          ],
          [
           4.16,
           "2011-08"
          ],
          [
           10.2,
           "2011-03"
          ],
          [
           1.68,
           "2011-11"
          ],
          [
           1.7,
           "2010-09"
          ],
          [
           15,
           "2011-09"
          ],
          [
           1.25,
           "2010-07"
          ],
          [
           13.2,
           "2011-02"
          ],
          [
           2.9,
           "2010-12"
          ],
          [
           17.700000000000003,
           "2010-03"
          ],
          [
           2.5,
           "2009-12"
          ],
          [
           5.07,
           "2010-10"
          ],
          [
           12.75,
           "2011-05"
          ],
          [
           204,
           "2011-03"
          ],
          [
           4.2,
           "2010-12"
          ],
          [
           19.9,
           "2011-10"
          ],
          [
           30,
           "2011-11"
          ],
          [
           6.95,
           "2010-06"
          ],
          [
           17.9,
           "2011-11"
          ],
          [
           8.5,
           "2010-03"
          ],
          [
           13.28,
           "2011-10"
          ],
          [
           13.049999999999999,
           "2010-08"
          ],
          [
           53.1,
           "2010-11"
          ],
          [
           2.5,
           "2010-11"
          ],
          [
           5.1,
           "2009-12"
          ],
          [
           5,
           "2011-04"
          ],
          [
           7.5,
           "2010-12"
          ],
          [
           5.85,
           "2011-12"
          ],
          [
           15.299999999999999,
           "2011-06"
          ],
          [
           12.600000000000001,
           "2011-06"
          ],
          [
           15,
           "2009-12"
          ],
          [
           52,
           "2010-03"
          ],
          [
           19.799999999999997,
           "2011-06"
          ],
          [
           1.7,
           "2011-03"
          ],
          [
           3.4,
           "2010-01"
          ],
          [
           2.52,
           "2010-09"
          ],
          [
           5.1,
           "2010-06"
          ],
          [
           15,
           "2011-06"
          ],
          [
           19.799999999999997,
           "2009-12"
          ],
          [
           30.599999999999998,
           "2011-05"
          ],
          [
           16.5,
           "2010-04"
          ],
          [
           17.4,
           "2011-03"
          ],
          [
           10.95,
           "2011-03"
          ],
          [
           15,
           "2011-08"
          ],
          [
           7.5,
           "2011-03"
          ],
          [
           11.25,
           "2010-11"
          ],
          [
           10.5,
           "2011-11"
          ],
          [
           2.9,
           "2011-06"
          ],
          [
           45,
           "2011-05"
          ],
          [
           16.5,
           "2011-09"
          ],
          [
           15.299999999999999,
           "2010-10"
          ],
          [
           15.299999999999999,
           "2011-03"
          ],
          [
           11.399999999999999,
           "2010-05"
          ],
          [
           15,
           "2011-08"
          ],
          [
           2.95,
           "2010-10"
          ],
          [
           9.959999999999999,
           "2011-11"
          ],
          [
           5.1,
           "2011-03"
          ],
          [
           5.04,
           "2010-09"
          ],
          [
           6.300000000000001,
           "2011-07"
          ],
          [
           175.2,
           "2010-06"
          ],
          [
           0.78,
           "2011-06"
          ],
          [
           3.75,
           "2009-12"
          ],
          [
           2.5,
           "2011-06"
          ],
          [
           8.4,
           "2011-10"
          ],
          [
           10.5,
           "2011-01"
          ],
          [
           13.200000000000001,
           "2011-11"
          ],
          [
           13.5,
           "2010-11"
          ],
          [
           3.4799999999999995,
           "2011-05"
          ],
          [
           5.1,
           "2010-08"
          ],
          [
           16.5,
           "2011-10"
          ],
          [
           0.55,
           "2011-09"
          ],
          [
           5.9,
           "2011-09"
          ],
          [
           17.700000000000003,
           "2011-11"
          ],
          [
           8.25,
           "2010-03"
          ],
          [
           19.5,
           "2010-09"
          ],
          [
           18.95,
           "2010-10"
          ]
         ],
         "hovertemplate": "Country=United Kingdom<br>Quantity=%{x}<br>Price=%{y}<br>Revenue=%{customdata[0]}<br>Month=%{customdata[1]}<extra></extra>",
         "legendgroup": "United Kingdom",
         "marker": {
          "color": "#636efa",
          "size": {
           "bdata": "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",
           "dtype": "f8"
          },
          "sizemode": "area",
          "sizeref": 2.0625,
          "symbol": "circle"
         },
         "mode": "markers",
         "name": "United Kingdom",
         "orientation": "v",
         "showlegend": true,
         "type": "scatter",
         "x": {
          "bdata": "AQACAAQAGAAMAAoABgAUAAEAAgABACAADAACABgAAwACAAIAAQACAAwADAACAAIAAQAMAAQABgABAJAAAwAZAAEACAADABgAAgACAAIABAAGAAIADAAZABgAAQABAAEAAQABAAYACgACAAIAAgAMABgASAAKAAIADAADAAIACgABAAwAAQACAAIADAACABAAJAADAAIAAQADAAIAAgAGAAgAAQAGAAoABgAKAAoABAACAAEAAQABAAwAAQAMAAIAAgABAAEABAAEAAgAGAABAAYABgACAAEAAQAIAAwAAgAYAAwAAQAGAAIACgADAAkAAwAGAAgABgADAAcAMAAMAAIAAQAIAAIAGAABAAQACgABAAwADAABAAIAAQABAEgAAwABAAIABgACAAUAGAABAAwADAAEABQAAQACAAIAIAAMABkAAQAMAAQAEgAUAAEAAgABABgABgAMAAMADAABAAEADAAEAAkABgAGAGQACQACAAgABQAYADAAZAAGAAIABQABAAwAAQBIAAYAGAACAAEAAQAKABgAEAAIAAoACAAGAAIAAQACAAIABgAGAAIAAgAIAAEABAABAAwABQAMAAEADAABAAwABAACAAYAAwADAAEABgAMAAYABQAEAAIADAAKAAwAAwAMAAIAAQAMAAIADAAZABgACAAFABgAAgAMAAEAAgACAAYACAAGAAYADAACAAwAAgAIAAEACAACAAEADAAGAAIADAABAAMABgAGABkABgABAAMABgABAAwAGAAGAAwAAQALAAwAAgAMAAEABgACABgAAQAGAAYACAB4AAEADAAMAAMAAQACAAIABgAMABkAAQAZAAYABgAEAAwA0AIMAAIAGAABAAIAAQACAAEAkAADAAwA9AEGAAIAAgADAAEAAQBIAAwABgAMAAwAAQABAAoAAgADAAcAAQABAAIAAwABAAwAMAABAAEASAAkAAIAGAABABAAAgAGAAIAAQAMAAIAAQACAAYAAQAMADIAAgABADAAPAACAAEADAAEAAIAAQAJAAQADAAYAAEAkAABADIAHgABABQABgAGAAgAAQAYAAwAAQABAAEABAAYAAwABgAIAAwABQABAAYACgAUAAMACgAMAAwACgAGAAMAGAABAAEADAAkAAgABgADAAIASAAMAAYADAAMAAYADAAEAAEACgAZAAMAAQAMAAIADAACAAQAAgAMADAAAQAgAAMAAgALAAEAAQACAAYAAwACAAYAAgABAAEAAwAMAAEADAABAAgAAQAIAAEADAAUAAYAAwAKAAQADAAMAAIAAQAMAAIADAABAAoAAQAMAAMACAAEAAYACgAQAAIAAQABAAYABAABAAEACgACABkAEAAIAA4AAQABAGAAAgAIAAcAAwAKAAwAAwB4AAIAAgACAAIAGQAwAAgABAAMAAgAAQAKAAYABgAMAAYAAgADAAEAAQAEAAYAAwAMAAIAAQABAAMACQAMAAwAAwAEAAYACAAMAAQABgACAAEADAACABgABgAZAAIAAQACAAEABAACAAEAAQAKAAIAAwADAAIADAAMAAIAAgADAAIAAwAKAAgADAAMABgADAACAAEAAQAGAAwABgADAAwADAABAAwAAgAKAAEAGQAZAAIAFAAEAAEABgAMAAIAAQAEAAIACgAMAAMADAABAAMABQABAAEAAQAGABQAAwABAAUADAACABkAGAABAAoABAAMADwAJAAGAAYACgAEAAEAAQACAAEAAwAGAAUAGAADADwAAgACACgAAQACAAIAAwAFABgACgAMAAwABAACAAoAGAABAAwAAwABAAYACgAMAAEACAAYAAEACgABAAQAAgAkAAIAAQABAAoAAQABABQAAgBAAAMAGAAYABUAAgAMAAMAAQAMABgAAQAEABgABgADAAUAAQAMABgAAQAKAAEAAwABAAYAAQA8AAIAEgAIAAoAAgAEAA8AAQAUAAwAAQAHAAwABgACAAIABAACAAgADAAYAAMADAAEAAYAAgACAAYAAgABAAEACgAEAAIAAQAKAAEABAABAAwABgACAAQACgABAAEABgABACQAAgABAAIAGQAgAAEACgAMAAMAAgAMAAQAAgADAAoACgABAAIAAQAMAAoAAQAGAAwADAAIAAEAAgAQAAoAGAAEABkABAAHAAIAAgACAAEAAgACADAABgABAAEADAADABgAAgAMAAQAAgAEAAEACAACAAYAAgADAAEAUAACAAIAGAABAAIACgAQAAkAEgACAAIABAACAAMABgAGAAwAEAAMAAIABAAGAAIADAAMACQACgAMAAEADAAGAAMAGQACAAwACgAGAAYADAAMAAEADAACAAwAAwAQAAIAAQACAAQAGQAYAAIADAAGAAIAAQACAAYABQAKAAEA",
          "dtype": "i2"
         },
         "xaxis": "x",
         "y": {
          "bdata": "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",
          "dtype": "f8"
         },
         "yaxis": "y"
        },
        {
         "customdata": [
          [
           15.299999999999999,
           "2011-08"
          ]
         ],
         "hovertemplate": "Country=Sweden<br>Quantity=%{x}<br>Price=%{y}<br>Revenue=%{customdata[0]}<br>Month=%{customdata[1]}<extra></extra>",
         "legendgroup": "Sweden",
         "marker": {
          "color": "#EF553B",
          "size": {
           "bdata": "mZmZmZmZLkA=",
           "dtype": "f8"
          },
          "sizemode": "area",
          "sizeref": 2.0625,
          "symbol": "circle"
         },
         "mode": "markers",
         "name": "Sweden",
         "orientation": "v",
         "showlegend": true,
         "type": "scatter",
         "x": {
          "bdata": "Bg==",
          "dtype": "i1"
         },
         "xaxis": "x",
         "y": {
          "bdata": "ZmZmZmZmBEA=",
          "dtype": "f8"
         },
         "yaxis": "y"
        },
        {
         "customdata": [
          [
           17.700000000000003,
           "2011-11"
          ],
          [
           17.85,
           "2010-07"
          ],
          [
           12.600000000000001,
           "2011-01"
          ],
          [
           22.5,
           "2010-11"
          ],
          [
           15,
           "2011-10"
          ],
          [
           19.799999999999997,
           "2010-08"
          ],
          [
           15.6,
           "2011-11"
          ],
          [
           30,
           "2010-04"
          ],
          [
           76.32000000000001,
           "2011-02"
          ],
          [
           15,
           "2011-08"
          ],
          [
           14.850000000000001,
           "2009-12"
          ],
          [
           4.95,
           "2011-06"
          ],
          [
           41.25,
           "2011-04"
          ],
          [
           20.8,
           "2011-04"
          ],
          [
           10.2,
           "2010-04"
          ],
          [
           5.04,
           "2011-01"
          ],
          [
           16.5,
           "2011-11"
          ],
          [
           6.959999999999999,
           "2010-10"
          ],
          [
           11.9,
           "2010-03"
          ],
          [
           13.5,
           "2010-06"
          ],
          [
           29,
           "2011-10"
          ],
          [
           13.2,
           "2011-10"
          ],
          [
           6.8,
           "2011-04"
          ],
          [
           19.799999999999997,
           "2011-06"
          ],
          [
           35.400000000000006,
           "2011-09"
          ]
         ],
         "hovertemplate": "Country=Germany<br>Quantity=%{x}<br>Price=%{y}<br>Revenue=%{customdata[0]}<br>Month=%{customdata[1]}<extra></extra>",
         "legendgroup": "Germany",
         "marker": {
          "color": "#00cc96",
          "size": {
           "bdata": "NDMzMzOzMUCamZmZmdkxQDQzMzMzMylAAAAAAACANkAAAAAAAAAuQMzMzMzMzDNAMzMzMzMzL0AAAAAAAAA+QBWuR+F6FFNAAAAAAAAALkA0MzMzM7MtQM3MzMzMzBNAAAAAAACgREDNzMzMzMw0QGZmZmZmZiRAKVyPwvUoFEAAAAAAAIAwQNajcD0K1xtAzczMzMzMJ0AAAAAAAAArQAAAAAAAAD1AZmZmZmZmKkAzMzMzMzMbQMzMzMzMzDNANDMzMzOzQUA=",
           "dtype": "f8"
          },
          "sizemode": "area",
          "sizeref": 2.0625,
          "symbol": "circle"
         },
         "mode": "markers",
         "name": "Germany",
         "orientation": "v",
         "showlegend": true,
         "type": "scatter",
         "x": {
          "bdata": "BgMGEgQMCBhIBAMBBQoMDAoYAgYUCAgMDA==",
          "dtype": "i1"
         },
         "xaxis": "x",
         "y": {
          "bdata": "mpmZmZmZB0DNzMzMzMwXQM3MzMzMzABAAAAAAAAA9D8AAAAAAAAOQGZmZmZmZvo/MzMzMzMz/z8AAAAAAAD0P/YoXI/C9fA/AAAAAAAADkDNzMzMzMwTQM3MzMzMzBNAAAAAAACAIECkcD0K16MAQDMzMzMzM+s/4XoUrkfh2j9mZmZmZmb6P4/C9Shcj9I/zczMzMzMF0AAAAAAAAACQDMzMzMzM/c/ZmZmZmZm+j8zMzMzMzPrP2ZmZmZmZvo/mpmZmZmZB0A=",
          "dtype": "f8"
         },
         "yaxis": "y"
        },
        {
         "customdata": [
          [
           17.85,
           "2011-10"
          ],
          [
           19.8,
           "2010-07"
          ],
          [
           39.599999999999994,
           "2010-11"
          ],
          [
           19.799999999999997,
           "2011-10"
          ],
          [
           30,
           "2011-01"
          ],
          [
           23.4,
           "2011-07"
          ],
          [
           20,
           "2011-06"
          ],
          [
           8.5,
           "2011-09"
          ],
          [
           50.849999999999994,
           "2011-10"
          ],
          [
           1.95,
           "2010-11"
          ],
          [
           19.5,
           "2010-11"
          ],
          [
           13.919999999999998,
           "2010-06"
          ],
          [
           9.9,
           "2010-07"
          ],
          [
           17.4,
           "2011-05"
          ],
          [
           15.600000000000001,
           "2010-04"
          ],
          [
           54,
           "2010-01"
          ],
          [
           17.4,
           "2011-03"
          ],
          [
           15,
           "2011-09"
          ]
         ],
         "hovertemplate": "Country=France<br>Quantity=%{x}<br>Price=%{y}<br>Revenue=%{customdata[0]}<br>Month=%{customdata[1]}<extra></extra>",
         "legendgroup": "France",
         "marker": {
          "color": "#ab63fa",
          "size": {
           "bdata": "mpmZmZnZMUDNzMzMzMwzQMzMzMzMzENAzMzMzMzMM0AAAAAAAAA+QGZmZmZmZjdAAAAAAAAANEAAAAAAAAAhQMzMzMzMbElAMzMzMzMz/z8AAAAAAIAzQNajcD0K1ytAzczMzMzMI0BmZmZmZmYxQDQzMzMzMy9AAAAAAAAAS0BmZmZmZmYxQAAAAAAAAC5A",
           "dtype": "f8"
          },
          "sizemode": "area",
          "sizeref": 2.0625,
          "symbol": "circle"
         },
         "mode": "markers",
         "name": "France",
         "orientation": "v",
         "showlegend": true,
         "type": "scatter",
         "x": {
          "bdata": "AwQYDAgMEAoDAQowAgwYCAwM",
          "dtype": "i1"
         },
         "xaxis": "x",
         "y": {
          "bdata": "zczMzMzMF0DNzMzMzMwTQGZmZmZmZvo/ZmZmZmZm+j8AAAAAAAAOQDMzMzMzM/8/AAAAAAAA9D8zMzMzMzPrPzMzMzMz8zBAMzMzMzMz/z8zMzMzMzP/P4/C9Shcj9I/zczMzMzME0AzMzMzMzP3P83MzMzMzOQ/AAAAAAAAG0AzMzMzMzP3PwAAAAAAAPQ/",
          "dtype": "f8"
         },
         "yaxis": "y"
        },
        {
         "customdata": [
          [
           7.800000000000001,
           "2011-03"
          ]
         ],
         "hovertemplate": "Country=Finland<br>Quantity=%{x}<br>Price=%{y}<br>Revenue=%{customdata[0]}<br>Month=%{customdata[1]}<extra></extra>",
         "legendgroup": "Finland",
         "marker": {
          "color": "#FFA15A",
          "size": {
           "bdata": "NDMzMzMzH0A=",
           "dtype": "f8"
          },
          "sizemode": "area",
          "sizeref": 2.0625,
          "symbol": "circle"
         },
         "mode": "markers",
         "name": "Finland",
         "orientation": "v",
         "showlegend": true,
         "type": "scatter",
         "x": {
          "bdata": "DA==",
          "dtype": "i1"
         },
         "xaxis": "x",
         "y": {
          "bdata": "zczMzMzM5D8=",
          "dtype": "f8"
         },
         "yaxis": "y"
        },
        {
         "customdata": [
          [
           25.200000000000003,
           "2011-08"
          ],
          [
           14.850000000000001,
           "2011-01"
          ]
         ],
         "hovertemplate": "Country=Italy<br>Quantity=%{x}<br>Price=%{y}<br>Revenue=%{customdata[0]}<br>Month=%{customdata[1]}<extra></extra>",
         "legendgroup": "Italy",
         "marker": {
          "color": "#19d3f3",
          "size": {
           "bdata": "NDMzMzMzOUA0MzMzM7MtQA==",
           "dtype": "f8"
          },
          "sizemode": "area",
          "sizeref": 2.0625,
          "symbol": "circle"
         },
         "mode": "markers",
         "name": "Italy",
         "orientation": "v",
         "showlegend": true,
         "type": "scatter",
         "x": {
          "bdata": "DAM=",
          "dtype": "i1"
         },
         "xaxis": "x",
         "y": {
          "bdata": "zczMzMzMAEDNzMzMzMwTQA==",
          "dtype": "f8"
         },
         "yaxis": "y"
        },
        {
         "customdata": [
          [
           14.850000000000001,
           "2011-10"
          ],
          [
           6.64,
           "2011-08"
          ],
          [
           394.2,
           "2010-09"
          ],
          [
           21.8,
           "2010-07"
          ],
          [
           122.39999999999999,
           "2011-03"
          ],
          [
           5.04,
           "2011-10"
          ],
          [
           19.799999999999997,
           "2011-02"
          ],
          [
           17.85,
           "2010-03"
          ],
          [
           22.5,
           "2011-06"
          ],
          [
           19.8,
           "2011-07"
          ],
          [
           10,
           "2010-07"
          ],
          [
           29.849999999999998,
           "2010-06"
          ],
          [
           14.850000000000001,
           "2010-11"
          ],
          [
           7.800000000000001,
           "2011-11"
          ],
          [
           16.5,
           "2010-03"
          ],
          [
           33,
           "2011-06"
          ],
          [
           15,
           "2010-10"
          ],
          [
           15,
           "2011-12"
          ],
          [
           11.9,
           "2011-09"
          ]
         ],
         "hovertemplate": "Country=EIRE<br>Quantity=%{x}<br>Price=%{y}<br>Revenue=%{customdata[0]}<br>Month=%{customdata[1]}<extra></extra>",
         "legendgroup": "EIRE",
         "marker": {
          "color": "#FF6692",
          "size": {
           "bdata": "NDMzMzOzLUCPwvUoXI8aQDMzMzMzo3hAzczMzMzMNUCZmZmZmZleQClcj8L1KBRAzMzMzMzMM0CamZmZmdkxQAAAAAAAgDZAzczMzMzMM0AAAAAAAAAkQJmZmZmZ2T1ANDMzMzOzLUA0MzMzMzMfQAAAAAAAgDBAAAAAAACAQEAAAAAAAAAuQAAAAAAAAC5AzczMzMzMJ0A=",
           "dtype": "f8"
          },
          "sizemode": "area",
          "sizeref": 2.0625,
          "symbol": "circle"
         },
         "mode": "markers",
         "name": "EIRE",
         "orientation": "v",
         "showlegend": true,
         "type": "scatter",
         "x": {
          "bdata": "AwgkBDAMDAMGBAgDAwwKFAQMAg==",
          "dtype": "i1"
         },
         "xaxis": "x",
         "y": {
          "bdata": "zczMzMzME0CPwvUoXI/qP2ZmZmZm5iVAzczMzMzMFUBmZmZmZmYEQOF6FK5H4do/ZmZmZmZm+j/NzMzMzMwXQAAAAAAAAA5AzczMzMzME0AAAAAAAAD0P2ZmZmZm5iNAzczMzMzME0DNzMzMzMzkP2ZmZmZmZvo/ZmZmZmZm+j8AAAAAAAAOQAAAAAAAAPQ/zczMzMzMF0A=",
          "dtype": "f8"
         },
         "yaxis": "y"
        },
        {
         "customdata": [
          [
           35.400000000000006,
           "2011-08"
          ],
          [
           39,
           "2011-10"
          ],
          [
           12.48,
           "2011-11"
          ],
          [
           89.64000000000001,
           "2011-09"
          ],
          [
           59.9,
           "2010-06"
          ]
         ],
         "hovertemplate": "Country=Switzerland<br>Quantity=%{x}<br>Price=%{y}<br>Revenue=%{customdata[0]}<br>Month=%{customdata[1]}<extra></extra>",
         "legendgroup": "Switzerland",
         "marker": {
          "color": "#B6E880",
          "size": {
           "bdata": "NDMzMzOzQUAAAAAAAIBDQPYoXI/C9ShAKlyPwvVoVkAzMzMzM/NNQA==",
           "dtype": "f8"
          },
          "sizemode": "area",
          "sizeref": 2.0625,
          "symbol": "circle"
         },
         "mode": "markers",
         "name": "Switzerland",
         "orientation": "v",
         "showlegend": true,
         "type": "scatter",
         "x": {
          "bdata": "DAwGJAI=",
          "dtype": "i1"
         },
         "xaxis": "x",
         "y": {
          "bdata": "mpmZmZmZB0AAAAAAAAAKQKRwPQrXowBA7FG4HoXrA0AzMzMzM/M9QA==",
          "dtype": "f8"
         },
         "yaxis": "y"
        },
        {
         "customdata": [
          [
           34.8,
           "2010-11"
          ],
          [
           79.19999999999999,
           "2011-09"
          ],
          [
           15,
           "2011-08"
          ],
          [
           31.6,
           "2010-11"
          ]
         ],
         "hovertemplate": "Country=Norway<br>Quantity=%{x}<br>Price=%{y}<br>Revenue=%{customdata[0]}<br>Month=%{customdata[1]}<extra></extra>",
         "legendgroup": "Norway",
         "marker": {
          "color": "#FF97FF",
          "size": {
           "bdata": "ZmZmZmZmQUDMzMzMzMxTQAAAAAAAAC5AmpmZmZmZP0A=",
           "dtype": "f8"
          },
          "sizemode": "area",
          "sizeref": 2.0625,
          "symbol": "circle"
         },
         "mode": "markers",
         "name": "Norway",
         "orientation": "v",
         "showlegend": true,
         "type": "scatter",
         "x": {
          "bdata": "GDAMCA==",
          "dtype": "i1"
         },
         "xaxis": "x",
         "y": {
          "bdata": "MzMzMzMz9z9mZmZmZmb6PwAAAAAAAPQ/mpmZmZmZD0A=",
          "dtype": "f8"
         },
         "yaxis": "y"
        },
        {
         "customdata": [
          [
           105.6,
           "2011-10"
          ],
          [
           23.400000000000002,
           "2011-09"
          ],
          [
           10.08,
           "2010-11"
          ]
         ],
         "hovertemplate": "Country=Netherlands<br>Quantity=%{x}<br>Price=%{y}<br>Revenue=%{customdata[0]}<br>Month=%{customdata[1]}<extra></extra>",
         "legendgroup": "Netherlands",
         "marker": {
          "color": "#FECB52",
          "size": {
           "bdata": "ZmZmZmZmWkBnZmZmZmY3QClcj8L1KCRA",
           "dtype": "f8"
          },
          "sizemode": "area",
          "sizeref": 2.0625,
          "symbol": "circle"
         },
         "mode": "markers",
         "name": "Netherlands",
         "orientation": "v",
         "showlegend": true,
         "type": "scatter",
         "x": {
          "bdata": "QCQY",
          "dtype": "i1"
         },
         "xaxis": "x",
         "y": {
          "bdata": "ZmZmZmZm+j/NzMzMzMzkP+F6FK5H4do/",
          "dtype": "f8"
         },
         "yaxis": "y"
        },
        {
         "customdata": [
          [
           24.900000000000002,
           "2011-10"
          ],
          [
           41.6,
           "2011-08"
          ],
          [
           15.9,
           "2010-12"
          ],
          [
           51,
           "2011-11"
          ],
          [
           13.200000000000001,
           "2010-06"
          ]
         ],
         "hovertemplate": "Country=Portugal<br>Quantity=%{x}<br>Price=%{y}<br>Revenue=%{customdata[0]}<br>Month=%{customdata[1]}<extra></extra>",
         "legendgroup": "Portugal",
         "marker": {
          "color": "#636efa",
          "size": {
           "bdata": "Z2ZmZmbmOEDNzMzMzMxEQM3MzMzMzC9AAAAAAACASUBnZmZmZmYqQA==",
           "dtype": "f8"
          },
          "sizemode": "area",
          "sizeref": 2.0625,
          "symbol": "circle"
         },
         "mode": "markers",
         "name": "Portugal",
         "orientation": "v",
         "showlegend": true,
         "type": "scatter",
         "x": {
          "bdata": "BhQCBBg=",
          "dtype": "i1"
         },
         "xaxis": "x",
         "y": {
          "bdata": "mpmZmZmZEECkcD0K16MAQM3MzMzMzB9AAAAAAACAKUCamZmZmZnhPw==",
          "dtype": "f8"
         },
         "yaxis": "y"
        },
        {
         "customdata": [
          [
           15,
           "2010-09"
          ],
          [
           2.25,
           "2011-10"
          ]
         ],
         "hovertemplate": "Country=Spain<br>Quantity=%{x}<br>Price=%{y}<br>Revenue=%{customdata[0]}<br>Month=%{customdata[1]}<extra></extra>",
         "legendgroup": "Spain",
         "marker": {
          "color": "#EF553B",
          "size": {
           "bdata": "AAAAAAAALkAAAAAAAAACQA==",
           "dtype": "f8"
          },
          "sizemode": "area",
          "sizeref": 2.0625,
          "symbol": "circle"
         },
         "mode": "markers",
         "name": "Spain",
         "orientation": "v",
         "showlegend": true,
         "type": "scatter",
         "x": {
          "bdata": "BAE=",
          "dtype": "i1"
         },
         "xaxis": "x",
         "y": {
          "bdata": "AAAAAAAADkAAAAAAAAACQA==",
          "dtype": "f8"
         },
         "yaxis": "y"
        },
        {
         "customdata": [
          [
           17.700000000000003,
           "2011-04"
          ]
         ],
         "hovertemplate": "Country=Greece<br>Quantity=%{x}<br>Price=%{y}<br>Revenue=%{customdata[0]}<br>Month=%{customdata[1]}<extra></extra>",
         "legendgroup": "Greece",
         "marker": {
          "color": "#00cc96",
          "size": {
           "bdata": "NDMzMzOzMUA=",
           "dtype": "f8"
          },
          "sizemode": "area",
          "sizeref": 2.0625,
          "symbol": "circle"
         },
         "mode": "markers",
         "name": "Greece",
         "orientation": "v",
         "showlegend": true,
         "type": "scatter",
         "x": {
          "bdata": "Bg==",
          "dtype": "i1"
         },
         "xaxis": "x",
         "y": {
          "bdata": "mpmZmZmZB0A=",
          "dtype": "f8"
         },
         "yaxis": "y"
        },
        {
         "customdata": [
          [
           15,
           "2010-09"
          ],
          [
           17.4,
           "2011-03"
          ],
          [
           12.600000000000001,
           "2011-09"
          ],
          [
           16.5,
           "2011-03"
          ]
         ],
         "hovertemplate": "Country=Channel Islands<br>Quantity=%{x}<br>Price=%{y}<br>Revenue=%{customdata[0]}<br>Month=%{customdata[1]}<extra></extra>",
         "legendgroup": "Channel Islands",
         "marker": {
          "color": "#ab63fa",
          "size": {
           "bdata": "AAAAAAAALkBmZmZmZmYxQDQzMzMzMylAAAAAAACAMEA=",
           "dtype": "f8"
          },
          "sizemode": "area",
          "sizeref": 2.0625,
          "symbol": "circle"
         },
         "mode": "markers",
         "name": "Channel Islands",
         "orientation": "v",
         "showlegend": true,
         "type": "scatter",
         "x": {
          "bdata": "DAwGCg==",
          "dtype": "i1"
         },
         "xaxis": "x",
         "y": {
          "bdata": "AAAAAAAA9D8zMzMzMzP3P83MzMzMzABAZmZmZmZm+j8=",
          "dtype": "f8"
         },
         "yaxis": "y"
        },
        {
         "customdata": [
          [
           35.400000000000006,
           "2010-04"
          ],
          [
           19.9,
           "2011-09"
          ],
          [
           35.400000000000006,
           "2010-02"
          ],
          [
           30,
           "2011-08"
          ]
         ],
         "hovertemplate": "Country=Belgium<br>Quantity=%{x}<br>Price=%{y}<br>Revenue=%{customdata[0]}<br>Month=%{customdata[1]}<extra></extra>",
         "legendgroup": "Belgium",
         "marker": {
          "color": "#FFA15A",
          "size": {
           "bdata": "NDMzMzOzQUBmZmZmZuYzQDQzMzMzs0FAAAAAAAAAPkA=",
           "dtype": "f8"
          },
          "sizemode": "area",
          "sizeref": 2.0625,
          "symbol": "circle"
         },
         "mode": "markers",
         "name": "Belgium",
         "orientation": "v",
         "showlegend": true,
         "type": "scatter",
         "x": {
          "bdata": "DAIMGA==",
          "dtype": "i1"
         },
         "xaxis": "x",
         "y": {
          "bdata": "mpmZmZmZB0BmZmZmZuYjQJqZmZmZmQdAAAAAAAAA9D8=",
          "dtype": "f8"
         },
         "yaxis": "y"
        },
        {
         "customdata": [
          [
           2.1,
           "2010-02"
          ]
         ],
         "hovertemplate": "Country=Japan<br>Quantity=%{x}<br>Price=%{y}<br>Revenue=%{customdata[0]}<br>Month=%{customdata[1]}<extra></extra>",
         "legendgroup": "Japan",
         "marker": {
          "color": "#19d3f3",
          "size": {
           "bdata": "zczMzMzMAEA=",
           "dtype": "f8"
          },
          "sizemode": "area",
          "sizeref": 2.0625,
          "symbol": "circle"
         },
         "mode": "markers",
         "name": "Japan",
         "orientation": "v",
         "showlegend": true,
         "type": "scatter",
         "x": {
          "bdata": "AQ==",
          "dtype": "i1"
         },
         "xaxis": "x",
         "y": {
          "bdata": "zczMzMzMAEA=",
          "dtype": "f8"
         },
         "yaxis": "y"
        },
        {
         "customdata": [
          [
           14.850000000000001,
           "2011-02"
          ]
         ],
         "hovertemplate": "Country=Cyprus<br>Quantity=%{x}<br>Price=%{y}<br>Revenue=%{customdata[0]}<br>Month=%{customdata[1]}<extra></extra>",
         "legendgroup": "Cyprus",
         "marker": {
          "color": "#FF6692",
          "size": {
           "bdata": "NDMzMzOzLUA=",
           "dtype": "f8"
          },
          "sizemode": "area",
          "sizeref": 2.0625,
          "symbol": "circle"
         },
         "mode": "markers",
         "name": "Cyprus",
         "orientation": "v",
         "showlegend": true,
         "type": "scatter",
         "x": {
          "bdata": "Aw==",
          "dtype": "i1"
         },
         "xaxis": "x",
         "y": {
          "bdata": "zczMzMzME0A=",
          "dtype": "f8"
         },
         "yaxis": "y"
        },
        {
         "customdata": [
          [
           26.4,
           "2011-08"
          ]
         ],
         "hovertemplate": "Country=Iceland<br>Quantity=%{x}<br>Price=%{y}<br>Revenue=%{customdata[0]}<br>Month=%{customdata[1]}<extra></extra>",
         "legendgroup": "Iceland",
         "marker": {
          "color": "#B6E880",
          "size": {
           "bdata": "ZmZmZmZmOkA=",
           "dtype": "f8"
          },
          "sizemode": "area",
          "sizeref": 2.0625,
          "symbol": "circle"
         },
         "mode": "markers",
         "name": "Iceland",
         "orientation": "v",
         "showlegend": true,
         "type": "scatter",
         "x": {
          "bdata": "EA==",
          "dtype": "i1"
         },
         "xaxis": "x",
         "y": {
          "bdata": "ZmZmZmZm+j8=",
          "dtype": "f8"
         },
         "yaxis": "y"
        }
       ],
       "layout": {
        "legend": {
         "itemsizing": "constant",
         "title": {
          "text": "Country"
         },
         "tracegroupgap": 0
        },
        "template": {
         "data": {
          "bar": [
           {
            "error_x": {
             "color": "#2a3f5f"
            },
            "error_y": {
             "color": "#2a3f5f"
            },
            "marker": {
             "line": {
              "color": "#E5ECF6",
              "width": 0.5
             },
             "pattern": {
              "fillmode": "overlay",
              "size": 10,
              "solidity": 0.2
             }
            },
            "type": "bar"
           }
          ],
          "barpolar": [
           {
            "marker": {
             "line": {
              "color": "#E5ECF6",
              "width": 0.5
             },
             "pattern": {
              "fillmode": "overlay",
              "size": 10,
              "solidity": 0.2
             }
            },
            "type": "barpolar"
           }
          ],
          "carpet": [
           {
            "aaxis": {
             "endlinecolor": "#2a3f5f",
             "gridcolor": "white",
             "linecolor": "white",
             "minorgridcolor": "white",
             "startlinecolor": "#2a3f5f"
            },
            "baxis": {
             "endlinecolor": "#2a3f5f",
             "gridcolor": "white",
             "linecolor": "white",
             "minorgridcolor": "white",
             "startlinecolor": "#2a3f5f"
            },
            "type": "carpet"
           }
          ],
          "choropleth": [
           {
            "colorbar": {
             "outlinewidth": 0,
             "ticks": ""
            },
            "type": "choropleth"
           }
          ],
          "contour": [
           {
            "colorbar": {
             "outlinewidth": 0,
             "ticks": ""
            },
            "colorscale": [
             [
              0,
              "#0d0887"
             ],
             [
              0.1111111111111111,
              "#46039f"
             ],
             [
              0.2222222222222222,
              "#7201a8"
             ],
             [
              0.3333333333333333,
              "#9c179e"
             ],
             [
              0.4444444444444444,
              "#bd3786"
             ],
             [
              0.5555555555555556,
              "#d8576b"
             ],
             [
              0.6666666666666666,
              "#ed7953"
             ],
             [
              0.7777777777777778,
              "#fb9f3a"
             ],
             [
              0.8888888888888888,
              "#fdca26"
             ],
             [
              1,
              "#f0f921"
             ]
            ],
            "type": "contour"
           }
          ],
          "contourcarpet": [
           {
            "colorbar": {
             "outlinewidth": 0,
             "ticks": ""
            },
            "type": "contourcarpet"
           }
          ],
          "heatmap": [
           {
            "colorbar": {
             "outlinewidth": 0,
             "ticks": ""
            },
            "colorscale": [
             [
              0,
              "#0d0887"
             ],
             [
              0.1111111111111111,
              "#46039f"
             ],
             [
              0.2222222222222222,
              "#7201a8"
             ],
             [
              0.3333333333333333,
              "#9c179e"
             ],
             [
              0.4444444444444444,
              "#bd3786"
             ],
             [
              0.5555555555555556,
              "#d8576b"
             ],
             [
              0.6666666666666666,
              "#ed7953"
             ],
             [
              0.7777777777777778,
              "#fb9f3a"
             ],
             [
              0.8888888888888888,
              "#fdca26"
             ],
             [
              1,
              "#f0f921"
             ]
            ],
            "type": "heatmap"
           }
          ],
          "histogram": [
           {
            "marker": {
             "pattern": {
              "fillmode": "overlay",
              "size": 10,
              "solidity": 0.2
             }
            },
            "type": "histogram"
           }
          ],
          "histogram2d": [
           {
            "colorbar": {
             "outlinewidth": 0,
             "ticks": ""
            },
            "colorscale": [
             [
              0,
              "#0d0887"
             ],
             [
              0.1111111111111111,
              "#46039f"
             ],
             [
              0.2222222222222222,
              "#7201a8"
             ],
             [
              0.3333333333333333,
              "#9c179e"
             ],
             [
              0.4444444444444444,
              "#bd3786"
             ],
             [
              0.5555555555555556,
              "#d8576b"
             ],
             [
              0.6666666666666666,
              "#ed7953"
             ],
             [
              0.7777777777777778,
              "#fb9f3a"
             ],
             [
              0.8888888888888888,
              "#fdca26"
             ],
             [
              1,
              "#f0f921"
             ]
            ],
            "type": "histogram2d"
           }
          ],
          "histogram2dcontour": [
           {
            "colorbar": {
             "outlinewidth": 0,
             "ticks": ""
            },
            "colorscale": [
             [
              0,
              "#0d0887"
             ],
             [
              0.1111111111111111,
              "#46039f"
             ],
             [
              0.2222222222222222,
              "#7201a8"
             ],
             [
              0.3333333333333333,
              "#9c179e"
             ],
             [
              0.4444444444444444,
              "#bd3786"
             ],
             [
              0.5555555555555556,
              "#d8576b"
             ],
             [
              0.6666666666666666,
              "#ed7953"
             ],
             [
              0.7777777777777778,
              "#fb9f3a"
             ],
             [
              0.8888888888888888,
              "#fdca26"
             ],
             [
              1,
              "#f0f921"
             ]
            ],
            "type": "histogram2dcontour"
           }
          ],
          "mesh3d": [
           {
            "colorbar": {
             "outlinewidth": 0,
             "ticks": ""
            },
            "type": "mesh3d"
           }
          ],
          "parcoords": [
           {
            "line": {
             "colorbar": {
              "outlinewidth": 0,
              "ticks": ""
             }
            },
            "type": "parcoords"
           }
          ],
          "pie": [
           {
            "automargin": true,
            "type": "pie"
           }
          ],
          "scatter": [
           {
            "fillpattern": {
             "fillmode": "overlay",
             "size": 10,
             "solidity": 0.2
            },
            "type": "scatter"
           }
          ],
          "scatter3d": [
           {
            "line": {
             "colorbar": {
              "outlinewidth": 0,
              "ticks": ""
             }
            },
            "marker": {
             "colorbar": {
              "outlinewidth": 0,
              "ticks": ""
             }
            },
            "type": "scatter3d"
           }
          ],
          "scattercarpet": [
           {
            "marker": {
             "colorbar": {
              "outlinewidth": 0,
              "ticks": ""
             }
            },
            "type": "scattercarpet"
           }
          ],
          "scattergeo": [
           {
            "marker": {
             "colorbar": {
              "outlinewidth": 0,
              "ticks": ""
             }
            },
            "type": "scattergeo"
           }
          ],
          "scattergl": [
           {
            "marker": {
             "colorbar": {
              "outlinewidth": 0,
              "ticks": ""
             }
            },
            "type": "scattergl"
           }
          ],
          "scattermap": [
           {
            "marker": {
             "colorbar": {
              "outlinewidth": 0,
              "ticks": ""
             }
            },
            "type": "scattermap"
           }
          ],
          "scattermapbox": [
           {
            "marker": {
             "colorbar": {
              "outlinewidth": 0,
              "ticks": ""
             }
            },
            "type": "scattermapbox"
           }
          ],
          "scatterpolar": [
           {
            "marker": {
             "colorbar": {
              "outlinewidth": 0,
              "ticks": ""
             }
            },
            "type": "scatterpolar"
           }
          ],
          "scatterpolargl": [
           {
            "marker": {
             "colorbar": {
              "outlinewidth": 0,
              "ticks": ""
             }
            },
            "type": "scatterpolargl"
           }
          ],
          "scatterternary": [
           {
            "marker": {
             "colorbar": {
              "outlinewidth": 0,
              "ticks": ""
             }
            },
            "type": "scatterternary"
           }
          ],
          "surface": [
           {
            "colorbar": {
             "outlinewidth": 0,
             "ticks": ""
            },
            "colorscale": [
             [
              0,
              "#0d0887"
             ],
             [
              0.1111111111111111,
              "#46039f"
             ],
             [
              0.2222222222222222,
              "#7201a8"
             ],
             [
              0.3333333333333333,
              "#9c179e"
             ],
             [
              0.4444444444444444,
              "#bd3786"
             ],
             [
              0.5555555555555556,
              "#d8576b"
             ],
             [
              0.6666666666666666,
              "#ed7953"
             ],
             [
              0.7777777777777778,
              "#fb9f3a"
             ],
             [
              0.8888888888888888,
              "#fdca26"
             ],
             [
              1,
              "#f0f921"
             ]
            ],
            "type": "surface"
           }
          ],
          "table": [
           {
            "cells": {
             "fill": {
              "color": "#EBF0F8"
             },
             "line": {
              "color": "white"
             }
            },
            "header": {
             "fill": {
              "color": "#C8D4E3"
             },
             "line": {
              "color": "white"
             }
            },
            "type": "table"
           }
          ]
         },
         "layout": {
          "annotationdefaults": {
           "arrowcolor": "#2a3f5f",
           "arrowhead": 0,
           "arrowwidth": 1
          },
          "autotypenumbers": "strict",
          "coloraxis": {
           "colorbar": {
            "outlinewidth": 0,
            "ticks": ""
           }
          },
          "colorscale": {
           "diverging": [
            [
             0,
             "#8e0152"
            ],
            [
             0.1,
             "#c51b7d"
            ],
            [
             0.2,
             "#de77ae"
            ],
            [
             0.3,
             "#f1b6da"
            ],
            [
             0.4,
             "#fde0ef"
            ],
            [
             0.5,
             "#f7f7f7"
            ],
            [
             0.6,
             "#e6f5d0"
            ],
            [
             0.7,
             "#b8e186"
            ],
            [
             0.8,
             "#7fbc41"
            ],
            [
             0.9,
             "#4d9221"
            ],
            [
             1,
             "#276419"
            ]
           ],
           "sequential": [
            [
             0,
             "#0d0887"
            ],
            [
             0.1111111111111111,
             "#46039f"
            ],
            [
             0.2222222222222222,
             "#7201a8"
            ],
            [
             0.3333333333333333,
             "#9c179e"
            ],
            [
             0.4444444444444444,
             "#bd3786"
            ],
            [
             0.5555555555555556,
             "#d8576b"
            ],
            [
             0.6666666666666666,
             "#ed7953"
            ],
            [
             0.7777777777777778,
             "#fb9f3a"
            ],
            [
             0.8888888888888888,
             "#fdca26"
            ],
            [
             1,
             "#f0f921"
            ]
           ],
           "sequentialminus": [
            [
             0,
             "#0d0887"
            ],
            [
             0.1111111111111111,
             "#46039f"
            ],
            [
             0.2222222222222222,
             "#7201a8"
            ],
            [
             0.3333333333333333,
             "#9c179e"
            ],
            [
             0.4444444444444444,
             "#bd3786"
            ],
            [
             0.5555555555555556,
             "#d8576b"
            ],
            [
             0.6666666666666666,
             "#ed7953"
            ],
            [
             0.7777777777777778,
             "#fb9f3a"
            ],
            [
             0.8888888888888888,
             "#fdca26"
            ],
            [
             1,
             "#f0f921"
            ]
           ]
          },
          "colorway": [
           "#636efa",
           "#EF553B",
           "#00cc96",
           "#ab63fa",
           "#FFA15A",
           "#19d3f3",
           "#FF6692",
           "#B6E880",
           "#FF97FF",
           "#FECB52"
          ],
          "font": {
           "color": "#2a3f5f"
          },
          "geo": {
           "bgcolor": "white",
           "lakecolor": "white",
           "landcolor": "#E5ECF6",
           "showlakes": true,
           "showland": true,
           "subunitcolor": "white"
          },
          "hoverlabel": {
           "align": "left"
          },
          "hovermode": "closest",
          "mapbox": {
           "style": "light"
          },
          "paper_bgcolor": "white",
          "plot_bgcolor": "#E5ECF6",
          "polar": {
           "angularaxis": {
            "gridcolor": "white",
            "linecolor": "white",
            "ticks": ""
           },
           "bgcolor": "#E5ECF6",
           "radialaxis": {
            "gridcolor": "white",
            "linecolor": "white",
            "ticks": ""
           }
          },
          "scene": {
           "xaxis": {
            "backgroundcolor": "#E5ECF6",
            "gridcolor": "white",
            "gridwidth": 2,
            "linecolor": "white",
            "showbackground": true,
            "ticks": "",
            "zerolinecolor": "white"
           },
           "yaxis": {
            "backgroundcolor": "#E5ECF6",
            "gridcolor": "white",
            "gridwidth": 2,
            "linecolor": "white",
            "showbackground": true,
            "ticks": "",
            "zerolinecolor": "white"
           },
           "zaxis": {
            "backgroundcolor": "#E5ECF6",
            "gridcolor": "white",
            "gridwidth": 2,
            "linecolor": "white",
            "showbackground": true,
            "ticks": "",
            "zerolinecolor": "white"
           }
          },
          "shapedefaults": {
           "line": {
            "color": "#2a3f5f"
           }
          },
          "ternary": {
           "aaxis": {
            "gridcolor": "white",
            "linecolor": "white",
            "ticks": ""
           },
           "baxis": {
            "gridcolor": "white",
            "linecolor": "white",
            "ticks": ""
           },
           "bgcolor": "#E5ECF6",
           "caxis": {
            "gridcolor": "white",
            "linecolor": "white",
            "ticks": ""
           }
          },
          "title": {
           "x": 0.05
          },
          "xaxis": {
           "automargin": true,
           "gridcolor": "white",
           "linecolor": "white",
           "ticks": "",
           "title": {
            "standoff": 15
           },
           "zerolinecolor": "white",
           "zerolinewidth": 2
          },
          "yaxis": {
           "automargin": true,
           "gridcolor": "white",
           "linecolor": "white",
           "ticks": "",
           "title": {
            "standoff": 15
           },
           "zerolinecolor": "white",
           "zerolinewidth": 2
          }
         }
        },
        "title": {
         "text": "Price vs Quantity (Bubble = Revenue)"
        },
        "xaxis": {
         "anchor": "y",
         "domain": [
          0,
          1
         ],
         "title": {
          "text": "Quantity"
         },
         "type": "log"
        },
        "yaxis": {
         "anchor": "x",
         "domain": [
          0,
          1
         ],
         "title": {
          "text": "Price"
         },
         "type": "log"
        }
       }
      }
     },
     "metadata": {},
     "output_type": "display_data"
    }
   ],
   "source": [
    "fig = px.scatter(df_sample.sample(1000), # Randomly selects 1000 rows from your DataFrame (for performance and clarity).\n",
    "                 x='Quantity', \n",
    "                 y='Price',\n",
    "                 size='Revenue', \n",
    "                 color='Country',\n",
    "                 hover_data=['Revenue', 'Month'], # When you hover over a bubble, it shows Revenue and Month in the tooltip.\n",
    "                 title='Price vs Quantity (Bubble = Revenue)')\n",
    "\n",
    "fig.update_layout(xaxis_type='log', yaxis_type='log')\n",
    "# This applies logarithmic scaling to both axes.\n",
    "fig.show()"
   ]
  },
  {
   "cell_type": "code",
   "execution_count": 36,
   "id": "62711b85",
   "metadata": {},
   "outputs": [
    {
     "name": "stdout",
     "output_type": "stream",
     "text": [
      "Index(['Quantity', 'Price', 'Revenue', 'Country', 'Month'], dtype='object')\n",
      "[[12 6.95 83.4 'United Kingdom' '2009-12']\n",
      " [12 6.75 81.0 'United Kingdom' '2009-12']\n",
      " [12 6.75 81.0 'United Kingdom' '2009-12']\n",
      " ...\n",
      " [4 4.15 16.6 'France' '2011-12']\n",
      " [3 4.95 14.850000000000001 'France' '2011-12']\n",
      " [1 18.0 18.0 'France' '2011-12']]\n",
      "Index([      0,       1,       2,       3,       4,       5,       6,       7,\n",
      "             8,       9,\n",
      "       ...\n",
      "       1067361, 1067362, 1067363, 1067364, 1067365, 1067366, 1067367, 1067368,\n",
      "       1067369, 1067370],\n",
      "      dtype='int64', length=805549)\n"
     ]
    }
   ],
   "source": [
    "print(df_sample.columns)\n",
    "print(df_sample.values)\n",
    "print(df_sample.index)"
   ]
  },
  {
   "cell_type": "code",
   "execution_count": 37,
   "id": "e956ec7a",
   "metadata": {},
   "outputs": [
    {
     "data": {
      "application/vnd.plotly.v1+json": {
       "config": {
        "plotlyServerURL": "https://plot.ly"
       },
       "data": [
        {
         "customdata": [
          [
           15,
           "United Kingdom",
           "2009-12"
          ],
          [
           10.2,
           "United Kingdom",
           "2010-05"
          ],
          [
           10.5,
           "United Kingdom",
           "2011-08"
          ],
          [
           7.95,
           "United Kingdom",
           "2010-12"
          ],
          [
           30.240000000000002,
           "United Kingdom",
           "2011-09"
          ],
          [
           10,
           "United Kingdom",
           "2011-01"
          ],
          [
           5.04,
           "United Kingdom",
           "2010-06"
          ],
          [
           2.55,
           "United Kingdom",
           "2010-12"
          ],
          [
           2.1,
           "United Kingdom",
           "2010-09"
          ],
          [
           0.55,
           "United Kingdom",
           "2011-07"
          ],
          [
           1.65,
           "United Kingdom",
           "2011-10"
          ],
          [
           19.5,
           "United Kingdom",
           "2009-12"
          ],
          [
           19.9,
           "United Kingdom",
           "2010-03"
          ],
          [
           3.75,
           "United Kingdom",
           "2010-11"
          ],
          [
           29.700000000000003,
           "United Kingdom",
           "2010-09"
          ],
          [
           3.75,
           "United Kingdom",
           "2010-06"
          ],
          [
           22.5,
           "United Kingdom",
           "2010-05"
          ],
          [
           1.45,
           "United Kingdom",
           "2010-04"
          ],
          [
           21.25,
           "United Kingdom",
           "2011-08"
          ],
          [
           1.25,
           "United Kingdom",
           "2011-05"
          ],
          [
           1.95,
           "United Kingdom",
           "2010-11"
          ],
          [
           39.6,
           "United Kingdom",
           "2010-10"
          ],
          [
           191.25,
           "United Kingdom",
           "2010-05"
          ],
          [
           2.5,
           "United Kingdom",
           "2011-04"
          ],
          [
           2.1,
           "United Kingdom",
           "2010-09"
          ],
          [
           10.5,
           "United Kingdom",
           "2009-12"
          ],
          [
           1.25,
           "United Kingdom",
           "2010-05"
          ],
          [
           15.600000000000001,
           "United Kingdom",
           "2011-06"
          ],
          [
           59.699999999999996,
           "United Kingdom",
           "2010-09"
          ],
          [
           50.400000000000006,
           "United Kingdom",
           "2011-12"
          ],
          [
           5.9,
           "United Kingdom",
           "2011-02"
          ],
          [
           16.5,
           "United Kingdom",
           "2010-01"
          ],
          [
           1.25,
           "United Kingdom",
           "2011-02"
          ],
          [
           4.65,
           "United Kingdom",
           "2010-11"
          ],
          [
           4.2,
           "United Kingdom",
           "2010-11"
          ],
          [
           10.2,
           "United Kingdom",
           "2010-03"
          ],
          [
           8.5,
           "United Kingdom",
           "2010-01"
          ],
          [
           27.8,
           "United Kingdom",
           "2011-11"
          ],
          [
           15,
           "United Kingdom",
           "2010-09"
          ],
          [
           20,
           "United Kingdom",
           "2011-11"
          ],
          [
           15.600000000000001,
           "United Kingdom",
           "2010-06"
          ],
          [
           4.16,
           "United Kingdom",
           "2011-07"
          ],
          [
           5.9,
           "United Kingdom",
           "2011-09"
          ],
          [
           3.75,
           "United Kingdom",
           "2011-09"
          ],
          [
           17.85,
           "United Kingdom",
           "2010-07"
          ],
          [
           2.1,
           "United Kingdom",
           "2011-09"
          ],
          [
           31.8,
           "United Kingdom",
           "2010-10"
          ],
          [
           15,
           "United Kingdom",
           "2011-10"
          ],
          [
           12.75,
           "United Kingdom",
           "2010-12"
          ],
          [
           15,
           "United Kingdom",
           "2010-07"
          ],
          [
           2.5,
           "United Kingdom",
           "2010-12"
          ],
          [
           17.700000000000003,
           "United Kingdom",
           "2010-10"
          ],
          [
           23.6,
           "United Kingdom",
           "2010-04"
          ],
          [
           1.9,
           "United Kingdom",
           "2010-10"
          ],
          [
           30,
           "United Kingdom",
           "2011-04"
          ],
          [
           6.8,
           "United Kingdom",
           "2010-03"
          ],
          [
           17,
           "United Kingdom",
           "2010-04"
          ],
          [
           17.700000000000003,
           "United Kingdom",
           "2010-10"
          ],
          [
           2.55,
           "United Kingdom",
           "2009-12"
          ],
          [
           12.600000000000001,
           "United Kingdom",
           "2010-04"
          ],
          [
           3.75,
           "United Kingdom",
           "2010-11"
          ],
          [
           8.5,
           "United Kingdom",
           "2010-12"
          ],
          [
           15,
           "United Kingdom",
           "2011-09"
          ],
          [
           8.5,
           "United Kingdom",
           "2010-10"
          ],
          [
           20.4,
           "United Kingdom",
           "2010-05"
          ],
          [
           21.9,
           "United Kingdom",
           "2011-12"
          ],
          [
           15,
           "United Kingdom",
           "2011-02"
          ],
          [
           11.9,
           "United Kingdom",
           "2011-04"
          ],
          [
           15,
           "United Kingdom",
           "2011-01"
          ],
          [
           49.5,
           "United Kingdom",
           "2010-08"
          ],
          [
           2.88,
           "United Kingdom",
           "2011-07"
          ],
          [
           19.68,
           "United Kingdom",
           "2011-11"
          ],
          [
           5.95,
           "United Kingdom",
           "2009-12"
          ],
          [
           3.75,
           "United Kingdom",
           "2010-01"
          ],
          [
           10.2,
           "United Kingdom",
           "2011-11"
          ],
          [
           30.599999999999998,
           "United Kingdom",
           "2011-05"
          ],
          [
           15.299999999999999,
           "United Kingdom",
           "2010-05"
          ],
          [
           19.5,
           "United Kingdom",
           "2010-06"
          ],
          [
           0.85,
           "United Kingdom",
           "2010-07"
          ],
          [
           30.599999999999998,
           "United Kingdom",
           "2011-11"
          ],
          [
           71.4,
           "United Kingdom",
           "2010-03"
          ],
          [
           10.5,
           "United Kingdom",
           "2011-03"
          ],
          [
           8.5,
           "United Kingdom",
           "2010-04"
          ],
          [
           31.200000000000003,
           "United Kingdom",
           "2010-08"
          ],
          [
           17.4,
           "United Kingdom",
           "2011-10"
          ],
          [
           39.9,
           "United Kingdom",
           "2010-06"
          ],
          [
           5.8,
           "United Kingdom",
           "2011-09"
          ],
          [
           2.95,
           "United Kingdom",
           "2011-03"
          ],
          [
           7.6499999999999995,
           "United Kingdom",
           "2009-12"
          ],
          [
           15,
           "United Kingdom",
           "2010-12"
          ],
          [
           76.19999999999999,
           "United Kingdom",
           "2010-07"
          ],
          [
           29.849999999999998,
           "United Kingdom",
           "2011-11"
          ],
          [
           29.700000000000003,
           "United Kingdom",
           "2011-02"
          ],
          [
           23.6,
           "United Kingdom",
           "2010-11"
          ],
          [
           7.95,
           "United Kingdom",
           "2011-11"
          ],
          [
           1.65,
           "United Kingdom",
           "2009-12"
          ],
          [
           4.95,
           "United Kingdom",
           "2010-09"
          ],
          [
           13.200000000000001,
           "United Kingdom",
           "2011-05"
          ],
          [
           34.8,
           "United Kingdom",
           "2010-02"
          ],
          [
           15,
           "United Kingdom",
           "2010-09"
          ],
          [
           5.9,
           "United Kingdom",
           "2010-05"
          ],
          [
           2.55,
           "United Kingdom",
           "2010-07"
          ],
          [
           2.1,
           "United Kingdom",
           "2011-04"
          ],
          [
           19.5,
           "United Kingdom",
           "2011-03"
          ],
          [
           14.850000000000001,
           "United Kingdom",
           "2011-10"
          ],
          [
           90,
           "United Kingdom",
           "2011-07"
          ],
          [
           10.4,
           "United Kingdom",
           "2011-04"
          ],
          [
           34.68,
           "United Kingdom",
           "2011-10"
          ],
          [
           15,
           "United Kingdom",
           "2010-06"
          ],
          [
           4.95,
           "United Kingdom",
           "2010-11"
          ],
          [
           10.5,
           "United Kingdom",
           "2010-02"
          ],
          [
           5,
           "United Kingdom",
           "2011-09"
          ],
          [
           350.4,
           "United Kingdom",
           "2011-05"
          ],
          [
           5.04,
           "United Kingdom",
           "2009-12"
          ],
          [
           17.700000000000003,
           "United Kingdom",
           "2011-09"
          ],
          [
           20.28,
           "United Kingdom",
           "2011-10"
          ],
          [
           5.9,
           "United Kingdom",
           "2011-11"
          ],
          [
           3.25,
           "United Kingdom",
           "2010-02"
          ],
          [
           99.60000000000001,
           "United Kingdom",
           "2011-09"
          ],
          [
           16.5,
           "United Kingdom",
           "2010-05"
          ],
          [
           4.95,
           "United Kingdom",
           "2011-03"
          ],
          [
           15,
           "United Kingdom",
           "2010-03"
          ],
          [
           19.5,
           "United Kingdom",
           "2011-06"
          ],
          [
           17.4,
           "United Kingdom",
           "2011-08"
          ],
          [
           45.9,
           "United Kingdom",
           "2010-05"
          ],
          [
           4.68,
           "United Kingdom",
           "2011-09"
          ],
          [
           3.3,
           "United Kingdom",
           "2010-06"
          ],
          [
           6.6,
           "United Kingdom",
           "2010-05"
          ],
          [
           69.6,
           "United Kingdom",
           "2011-10"
          ],
          [
           0.38,
           "United Kingdom",
           "2011-11"
          ],
          [
           3.95,
           "United Kingdom",
           "2010-11"
          ],
          [
           13.2,
           "United Kingdom",
           "2010-09"
          ],
          [
           3.4,
           "United Kingdom",
           "2010-06"
          ],
          [
           15.8,
           "United Kingdom",
           "2010-02"
          ],
          [
           17.700000000000003,
           "United Kingdom",
           "2010-06"
          ],
          [
           39.6,
           "United Kingdom",
           "2010-10"
          ],
          [
           15.299999999999999,
           "United Kingdom",
           "2010-03"
          ],
          [
           11.25,
           "United Kingdom",
           "2010-06"
          ],
          [
           2.95,
           "United Kingdom",
           "2011-02"
          ],
          [
           5.1,
           "United Kingdom",
           "2011-03"
          ],
          [
           3.75,
           "United Kingdom",
           "2010-12"
          ],
          [
           7.95,
           "United Kingdom",
           "2010-10"
          ],
          [
           4.95,
           "United Kingdom",
           "2009-12"
          ],
          [
           14.850000000000001,
           "United Kingdom",
           "2010-09"
          ],
          [
           8.5,
           "United Kingdom",
           "2010-07"
          ],
          [
           14.850000000000001,
           "United Kingdom",
           "2011-09"
          ],
          [
           1.25,
           "United Kingdom",
           "2011-11"
          ],
          [
           9.899999999999999,
           "United Kingdom",
           "2011-02"
          ],
          [
           7.9,
           "United Kingdom",
           "2010-03"
          ],
          [
           17.4,
           "United Kingdom",
           "2011-02"
          ],
          [
           10.2,
           "United Kingdom",
           "2010-11"
          ],
          [
           23.75,
           "United Kingdom",
           "2011-08"
          ],
          [
           5.95,
           "United Kingdom",
           "2010-08"
          ],
          [
           11.25,
           "United Kingdom",
           "2011-10"
          ],
          [
           8.850000000000001,
           "United Kingdom",
           "2011-10"
          ],
          [
           3.3,
           "United Kingdom",
           "2011-03"
          ],
          [
           81.36,
           "United Kingdom",
           "2011-04"
          ],
          [
           10.2,
           "United Kingdom",
           "2010-09"
          ],
          [
           4.35,
           "United Kingdom",
           "2011-12"
          ],
          [
           15.299999999999999,
           "United Kingdom",
           "2011-01"
          ],
          [
           297,
           "United Kingdom",
           "2010-11"
          ],
          [
           20.16,
           "United Kingdom",
           "2010-11"
          ],
          [
           14.850000000000001,
           "United Kingdom",
           "2011-01"
          ],
          [
           14.850000000000001,
           "United Kingdom",
           "2010-01"
          ],
          [
           15,
           "United Kingdom",
           "2011-02"
          ],
          [
           16.6,
           "United Kingdom",
           "2011-06"
          ],
          [
           19.5,
           "United Kingdom",
           "2011-06"
          ],
          [
           19.5,
           "United Kingdom",
           "2010-08"
          ],
          [
           10,
           "United Kingdom",
           "2010-07"
          ],
          [
           5.04,
           "United Kingdom",
           "2010-06"
          ],
          [
           15,
           "United Kingdom",
           "2011-03"
          ],
          [
           25.200000000000003,
           "United Kingdom",
           "2011-12"
          ],
          [
           12.600000000000001,
           "United Kingdom",
           "2011-08"
          ],
          [
           2.95,
           "United Kingdom",
           "2010-11"
          ],
          [
           7.5600000000000005,
           "United Kingdom",
           "2011-08"
          ],
          [
           22.5,
           "United Kingdom",
           "2010-09"
          ],
          [
           12.75,
           "United Kingdom",
           "2011-08"
          ],
          [
           16.95,
           "United Kingdom",
           "2010-10"
          ],
          [
           8.3,
           "United Kingdom",
           "2011-06"
          ],
          [
           8.25,
           "United Kingdom",
           "2011-03"
          ],
          [
           20,
           "United Kingdom",
           "2010-07"
          ],
          [
           35.400000000000006,
           "United Kingdom",
           "2011-05"
          ],
          [
           13.52,
           "United Kingdom",
           "2011-09"
          ],
          [
           1.65,
           "United Kingdom",
           "2011-11"
          ],
          [
           15,
           "United Kingdom",
           "2010-07"
          ],
          [
           2.2,
           "United Kingdom",
           "2010-03"
          ],
          [
           50.88,
           "United Kingdom",
           "2010-03"
          ],
          [
           4.25,
           "United Kingdom",
           "2010-07"
          ],
          [
           3.4,
           "United Kingdom",
           "2011-06"
          ],
          [
           5.04,
           "United Kingdom",
           "2010-10"
          ],
          [
           16.5,
           "United Kingdom",
           "2010-07"
          ],
          [
           20.8,
           "United Kingdom",
           "2011-10"
          ],
          [
           1080,
           "United Kingdom",
           "2011-12"
          ],
          [
           12.5,
           "United Kingdom",
           "2011-07"
          ],
          [
           23.4,
           "United Kingdom",
           "2010-03"
          ],
          [
           15,
           "United Kingdom",
           "2010-04"
          ],
          [
           4.25,
           "United Kingdom",
           "2011-12"
          ],
          [
           10.5,
           "United Kingdom",
           "2010-04"
          ],
          [
           5.04,
           "United Kingdom",
           "2010-09"
          ],
          [
           3.75,
           "United Kingdom",
           "2010-10"
          ],
          [
           13,
           "United Kingdom",
           "2011-04"
          ],
          [
           2.95,
           "United Kingdom",
           "2009-12"
          ],
          [
           4.25,
           "United Kingdom",
           "2010-11"
          ],
          [
           35.400000000000006,
           "United Kingdom",
           "2010-12"
          ],
          [
           4.95,
           "United Kingdom",
           "2011-04"
          ],
          [
           35.7,
           "United Kingdom",
           "2011-07"
          ],
          [
           15,
           "United Kingdom",
           "2010-09"
          ],
          [
           8.25,
           "United Kingdom",
           "2010-07"
          ],
          [
           5.9,
           "United Kingdom",
           "2010-04"
          ],
          [
           53.1,
           "United Kingdom",
           "2010-08"
          ],
          [
           5.9,
           "United Kingdom",
           "2010-11"
          ],
          [
           13.6,
           "United Kingdom",
           "2010-10"
          ],
          [
           1.25,
           "United Kingdom",
           "2011-10"
          ],
          [
           3.4,
           "United Kingdom",
           "2010-05"
          ],
          [
           11.549999999999999,
           "United Kingdom",
           "2011-01"
          ],
          [
           3.4,
           "United Kingdom",
           "2010-10"
          ],
          [
           7.46,
           "United Kingdom",
           "2011-10"
          ],
          [
           12.5,
           "United Kingdom",
           "2010-11"
          ],
          [
           5.9,
           "United Kingdom",
           "2010-10"
          ],
          [
           8.32,
           "United Kingdom",
           "2011-11"
          ],
          [
           4.2,
           "United Kingdom",
           "2010-11"
          ],
          [
           14.850000000000001,
           "United Kingdom",
           "2010-05"
          ],
          [
           3.75,
           "United Kingdom",
           "2010-10"
          ],
          [
           15,
           "United Kingdom",
           "2010-06"
          ],
          [
           2.5,
           "United Kingdom",
           "2010-10"
          ],
          [
           5,
           "United Kingdom",
           "2011-01"
          ],
          [
           3.75,
           "United Kingdom",
           "2010-12"
          ],
          [
           19.9,
           "United Kingdom",
           "2010-11"
          ],
          [
           4.25,
           "United Kingdom",
           "2010-08"
          ],
          [
           11.8,
           "United Kingdom",
           "2009-12"
          ],
          [
           15.299999999999999,
           "United Kingdom",
           "2011-04"
          ],
          [
           25.200000000000003,
           "United Kingdom",
           "2010-09"
          ],
          [
           1.25,
           "United Kingdom",
           "2011-02"
          ],
          [
           9,
           "United Kingdom",
           "2011-09"
          ],
          [
           6.5,
           "United Kingdom",
           "2010-10"
          ],
          [
           8.25,
           "United Kingdom",
           "2010-09"
          ],
          [
           5.9,
           "United Kingdom",
           "2011-04"
          ],
          [
           15.600000000000001,
           "United Kingdom",
           "2010-04"
          ],
          [
           2.55,
           "United Kingdom",
           "2010-11"
          ],
          [
           15,
           "United Kingdom",
           "2010-09"
          ],
          [
           7.5,
           "United Kingdom",
           "2010-09"
          ],
          [
           20.4,
           "United Kingdom",
           "2010-05"
          ],
          [
           18.9,
           "United Kingdom",
           "2010-03"
          ],
          [
           17,
           "United Kingdom",
           "2010-07"
          ],
          [
           14.850000000000001,
           "United Kingdom",
           "2010-11"
          ],
          [
           17.700000000000003,
           "United Kingdom",
           "2010-12"
          ],
          [
           2.95,
           "United Kingdom",
           "2010-11"
          ],
          [
           12.5,
           "United Kingdom",
           "2010-07"
          ],
          [
           2.1,
           "United Kingdom",
           "2009-12"
          ],
          [
           5.9,
           "United Kingdom",
           "2011-08"
          ],
          [
           0.55,
           "United Kingdom",
           "2010-05"
          ],
          [
           15,
           "United Kingdom",
           "2011-05"
          ],
          [
           0.85,
           "United Kingdom",
           "2010-07"
          ],
          [
           5.1,
           "United Kingdom",
           "2011-01"
          ],
          [
           12.5,
           "United Kingdom",
           "2011-09"
          ],
          [
           7.8,
           "United Kingdom",
           "2010-11"
          ],
          [
           8.5,
           "United Kingdom",
           "2011-09"
          ],
          [
           39,
           "United Kingdom",
           "2010-02"
          ],
          [
           13.200000000000001,
           "United Kingdom",
           "2011-05"
          ],
          [
           28.080000000000002,
           "United Kingdom",
           "2011-10"
          ],
          [
           2.1,
           "United Kingdom",
           "2010-12"
          ],
          [
           1.25,
           "United Kingdom",
           "2010-03"
          ],
          [
           23,
           "United Kingdom",
           "2011-05"
          ],
          [
           10.08,
           "United Kingdom",
           "2009-12"
          ],
          [
           3.95,
           "United Kingdom",
           "2010-02"
          ],
          [
           30,
           "United Kingdom",
           "2010-05"
          ],
          [
           6.6,
           "United Kingdom",
           "2011-11"
          ],
          [
           23.400000000000002,
           "United Kingdom",
           "2010-10"
          ],
          [
           6.25,
           "United Kingdom",
           "2010-03"
          ],
          [
           3.75,
           "United Kingdom",
           "2011-06"
          ],
          [
           14.850000000000001,
           "United Kingdom",
           "2011-03"
          ],
          [
           15,
           "United Kingdom",
           "2011-11"
          ],
          [
           54,
           "United Kingdom",
           "2010-01"
          ],
          [
           6.6,
           "United Kingdom",
           "2011-08"
          ],
          [
           9.959999999999999,
           "United Kingdom",
           "2011-12"
          ],
          [
           99.60000000000001,
           "United Kingdom",
           "2011-10"
          ],
          [
           59.699999999999996,
           "United Kingdom",
           "2011-05"
          ],
          [
           17.700000000000003,
           "United Kingdom",
           "2010-03"
          ],
          [
           9.95,
           "United Kingdom",
           "2011-01"
          ],
          [
           15,
           "United Kingdom",
           "2010-10"
          ],
          [
           17.4,
           "United Kingdom",
           "2010-01"
          ],
          [
           1.65,
           "United Kingdom",
           "2011-11"
          ],
          [
           29.5,
           "United Kingdom",
           "2010-10"
          ],
          [
           18.72,
           "United Kingdom",
           "2011-06"
          ],
          [
           4.68,
           "United Kingdom",
           "2011-09"
          ],
          [
           45,
           "United Kingdom",
           "2010-12"
          ],
          [
           17,
           "United Kingdom",
           "2010-12"
          ],
          [
           10.5,
           "United Kingdom",
           "2010-02"
          ],
          [
           1.95,
           "United Kingdom",
           "2010-12"
          ],
          [
           107.10000000000001,
           "United Kingdom",
           "2009-12"
          ],
          [
           3.75,
           "United Kingdom",
           "2010-06"
          ],
          [
           15.600000000000001,
           "United Kingdom",
           "2010-11"
          ],
          [
           11.9,
           "United Kingdom",
           "2010-02"
          ],
          [
           2.1,
           "United Kingdom",
           "2010-04"
          ],
          [
           2.5,
           "United Kingdom",
           "2011-12"
          ],
          [
           35.400000000000006,
           "United Kingdom",
           "2010-11"
          ],
          [
           9.9,
           "United Kingdom",
           "2011-03"
          ],
          [
           16.5,
           "United Kingdom",
           "2009-12"
          ],
          [
           17.700000000000003,
           "United Kingdom",
           "2011-08"
          ],
          [
           2.75,
           "United Kingdom",
           "2011-06"
          ],
          [
           5.04,
           "United Kingdom",
           "2011-05"
          ],
          [
           3.9,
           "United Kingdom",
           "2010-03"
          ],
          [
           17.700000000000003,
           "United Kingdom",
           "2011-02"
          ],
          [
           9.48,
           "United Kingdom",
           "2011-12"
          ],
          [
           12.75,
           "United Kingdom",
           "2010-05"
          ],
          [
           13.200000000000001,
           "United Kingdom",
           "2011-10"
          ],
          [
           17.4,
           "United Kingdom",
           "2011-11"
          ],
          [
           5.95,
           "United Kingdom",
           "2011-06"
          ],
          [
           23.8,
           "United Kingdom",
           "2011-10"
          ],
          [
           17.4,
           "United Kingdom",
           "2010-12"
          ],
          [
           183.6,
           "United Kingdom",
           "2011-09"
          ],
          [
           10.2,
           "United Kingdom",
           "2010-03"
          ],
          [
           1.25,
           "United Kingdom",
           "2011-02"
          ],
          [
           2.5,
           "United Kingdom",
           "2010-03"
          ],
          [
           17,
           "United Kingdom",
           "2010-08"
          ],
          [
           1.9,
           "United Kingdom",
           "2010-05"
          ],
          [
           14.040000000000001,
           "United Kingdom",
           "2011-11"
          ],
          [
           30.599999999999998,
           "United Kingdom",
           "2011-11"
          ],
          [
           16.5,
           "United Kingdom",
           "2010-05"
          ],
          [
           17.9,
           "United Kingdom",
           "2010-10"
          ],
          [
           2.1,
           "United Kingdom",
           "2010-05"
          ],
          [
           21,
           "United Kingdom",
           "2010-11"
          ],
          [
           17,
           "United Kingdom",
           "2010-08"
          ],
          [
           17.85,
           "United Kingdom",
           "2011-05"
          ],
          [
           10.2,
           "United Kingdom",
           "2010-03"
          ],
          [
           25.200000000000003,
           "United Kingdom",
           "2010-09"
          ],
          [
           15.600000000000001,
           "United Kingdom",
           "2011-03"
          ],
          [
           25.5,
           "United Kingdom",
           "2011-05"
          ],
          [
           15,
           "United Kingdom",
           "2010-10"
          ],
          [
           10.2,
           "United Kingdom",
           "2010-12"
          ],
          [
           25.200000000000003,
           "United Kingdom",
           "2010-01"
          ],
          [
           5.95,
           "United Kingdom",
           "2011-09"
          ],
          [
           12.600000000000001,
           "United Kingdom",
           "2010-09"
          ],
          [
           17.700000000000003,
           "United Kingdom",
           "2010-11"
          ],
          [
           17.700000000000003,
           "United Kingdom",
           "2010-07"
          ],
          [
           1.65,
           "United Kingdom",
           "2010-09"
          ],
          [
           11.9,
           "United Kingdom",
           "2011-02"
          ],
          [
           0.58,
           "United Kingdom",
           "2010-10"
          ],
          [
           25.200000000000003,
           "United Kingdom",
           "2010-05"
          ],
          [
           7.5,
           "United Kingdom",
           "2009-12"
          ],
          [
           8.5,
           "United Kingdom",
           "2010-12"
          ],
          [
           15,
           "United Kingdom",
           "2010-07"
          ],
          [
           0.8,
           "United Kingdom",
           "2010-01"
          ],
          [
           5.9,
           "United Kingdom",
           "2011-08"
          ],
          [
           15,
           "United Kingdom",
           "2011-08"
          ],
          [
           1.65,
           "United Kingdom",
           "2010-04"
          ],
          [
           1.65,
           "United Kingdom",
           "2010-11"
          ],
          [
           25,
           "United Kingdom",
           "2011-11"
          ],
          [
           3.3,
           "United Kingdom",
           "2010-10"
          ],
          [
           16.5,
           "United Kingdom",
           "2011-06"
          ],
          [
           2.55,
           "United Kingdom",
           "2010-11"
          ],
          [
           50.849999999999994,
           "United Kingdom",
           "2011-04"
          ],
          [
           17,
           "United Kingdom",
           "2010-07"
          ],
          [
           24.96,
           "United Kingdom",
           "2011-07"
          ],
          [
           17.700000000000003,
           "United Kingdom",
           "2010-08"
          ],
          [
           0.85,
           "United Kingdom",
           "2010-10"
          ],
          [
           19.799999999999997,
           "United Kingdom",
           "2010-07"
          ],
          [
           12.600000000000001,
           "United Kingdom",
           "2010-04"
          ],
          [
           7.5,
           "United Kingdom",
           "2010-06"
          ],
          [
           10.2,
           "United Kingdom",
           "2011-10"
          ],
          [
           4.2,
           "United Kingdom",
           "2010-07"
          ],
          [
           1.65,
           "United Kingdom",
           "2010-11"
          ],
          [
           1.25,
           "United Kingdom",
           "2010-02"
          ],
          [
           1.45,
           "United Kingdom",
           "2011-11"
          ],
          [
           5.04,
           "United Kingdom",
           "2011-07"
          ],
          [
           2.5,
           "United Kingdom",
           "2010-08"
          ],
          [
           23.6,
           "United Kingdom",
           "2010-11"
          ],
          [
           8.4,
           "United Kingdom",
           "2009-12"
          ],
          [
           10.08,
           "United Kingdom",
           "2010-06"
          ],
          [
           2.95,
           "United Kingdom",
           "2010-11"
          ],
          [
           2.55,
           "United Kingdom",
           "2011-11"
          ],
          [
           20.8,
           "United Kingdom",
           "2011-08"
          ],
          [
           16.5,
           "United Kingdom",
           "2011-07"
          ],
          [
           17.4,
           "United Kingdom",
           "2011-05"
          ],
          [
           19.799999999999997,
           "United Kingdom",
           "2011-10"
          ],
          [
           4.949999999999999,
           "United Kingdom",
           "2011-10"
          ],
          [
           8.850000000000001,
           "United Kingdom",
           "2010-06"
          ],
          [
           17.85,
           "United Kingdom",
           "2011-06"
          ],
          [
           0.95,
           "United Kingdom",
           "2010-09"
          ],
          [
           4.25,
           "United Kingdom",
           "2009-12"
          ],
          [
           2.1,
           "United Kingdom",
           "2010-01"
          ],
          [
           41.6,
           "United Kingdom",
           "2011-08"
          ],
          [
           16.5,
           "United Kingdom",
           "2011-10"
          ],
          [
           10.08,
           "United Kingdom",
           "2011-05"
          ],
          [
           29.700000000000003,
           "United Kingdom",
           "2010-10"
          ],
          [
           1.65,
           "United Kingdom",
           "2010-05"
          ],
          [
           10,
           "United Kingdom",
           "2010-08"
          ],
          [
           5.9,
           "United Kingdom",
           "2011-11"
          ],
          [
           9.899999999999999,
           "United Kingdom",
           "2011-02"
          ],
          [
           1.25,
           "United Kingdom",
           "2010-03"
          ],
          [
           1.65,
           "United Kingdom",
           "2010-12"
          ],
          [
           6.300000000000001,
           "United Kingdom",
           "2010-10"
          ],
          [
           1.9500000000000002,
           "United Kingdom",
           "2011-02"
          ],
          [
           0.79,
           "United Kingdom",
           "2011-12"
          ],
          [
           12.7,
           "United Kingdom",
           "2010-06"
          ],
          [
           17,
           "United Kingdom",
           "2011-12"
          ],
          [
           1.65,
           "United Kingdom",
           "2011-11"
          ],
          [
           2.1,
           "United Kingdom",
           "2010-03"
          ],
          [
           5.1,
           "United Kingdom",
           "2011-06"
          ],
          [
           81.6,
           "United Kingdom",
           "2011-08"
          ],
          [
           1.25,
           "United Kingdom",
           "2010-11"
          ],
          [
           4.13,
           "United Kingdom",
           "2011-11"
          ],
          [
           10.4,
           "United Kingdom",
           "2010-12"
          ],
          [
           11.9,
           "United Kingdom",
           "2011-02"
          ],
          [
           3.75,
           "United Kingdom",
           "2011-06"
          ],
          [
           5.1,
           "United Kingdom",
           "2010-08"
          ],
          [
           1.1,
           "United Kingdom",
           "2010-10"
          ],
          [
           82.80000000000001,
           "United Kingdom",
           "2009-12"
          ],
          [
           4.949999999999999,
           "United Kingdom",
           "2011-10"
          ],
          [
           1.95,
           "United Kingdom",
           "2010-04"
          ],
          [
           15,
           "United Kingdom",
           "2011-11"
          ],
          [
           15,
           "United Kingdom",
           "2011-03"
          ],
          [
           1.25,
           "United Kingdom",
           "2010-12"
          ],
          [
           6.3,
           "United Kingdom",
           "2011-11"
          ],
          [
           10.5,
           "United Kingdom",
           "2010-11"
          ],
          [
           40.8,
           "United Kingdom",
           "2010-12"
          ],
          [
           1.65,
           "United Kingdom",
           "2011-10"
          ],
          [
           7.9,
           "United Kingdom",
           "2011-11"
          ],
          [
           15.9,
           "United Kingdom",
           "2010-09"
          ],
          [
           8.850000000000001,
           "United Kingdom",
           "2011-03"
          ],
          [
           6.95,
           "United Kingdom",
           "2011-04"
          ],
          [
           1.95,
           "United Kingdom",
           "2011-12"
          ],
          [
           9.959999999999999,
           "United Kingdom",
           "2011-08"
          ],
          [
           9.95,
           "United Kingdom",
           "2011-01"
          ],
          [
           4.95,
           "United Kingdom",
           "2010-11"
          ],
          [
           15,
           "United Kingdom",
           "2010-04"
          ],
          [
           9.9,
           "United Kingdom",
           "2011-09"
          ],
          [
           3.4799999999999995,
           "United Kingdom",
           "2010-04"
          ],
          [
           1.25,
           "United Kingdom",
           "2010-11"
          ],
          [
           3.75,
           "United Kingdom",
           "2010-11"
          ],
          [
           35.400000000000006,
           "United Kingdom",
           "2010-06"
          ],
          [
           19.5,
           "United Kingdom",
           "2010-10"
          ],
          [
           9.899999999999999,
           "United Kingdom",
           "2010-06"
          ],
          [
           25.5,
           "United Kingdom",
           "2011-01"
          ],
          [
           19.8,
           "United Kingdom",
           "2011-09"
          ],
          [
           3.3,
           "United Kingdom",
           "2011-11"
          ],
          [
           10.4,
           "United Kingdom",
           "2011-11"
          ],
          [
           3.75,
           "United Kingdom",
           "2010-08"
          ],
          [
           45,
           "United Kingdom",
           "2009-12"
          ],
          [
           17.85,
           "United Kingdom",
           "2009-12"
          ],
          [
           17,
           "United Kingdom",
           "2010-11"
          ],
          [
           67.5,
           "United Kingdom",
           "2010-09"
          ],
          [
           10.2,
           "United Kingdom",
           "2011-08"
          ],
          [
           14.850000000000001,
           "United Kingdom",
           "2011-10"
          ],
          [
           15.8,
           "United Kingdom",
           "2010-12"
          ],
          [
           8.7,
           "United Kingdom",
           "2011-03"
          ],
          [
           5.1,
           "United Kingdom",
           "2011-11"
          ],
          [
           29.700000000000003,
           "United Kingdom",
           "2011-10"
          ],
          [
           6.300000000000001,
           "United Kingdom",
           "2010-03"
          ],
          [
           2.95,
           "United Kingdom",
           "2010-11"
          ],
          [
           16.8,
           "United Kingdom",
           "2010-11"
          ],
          [
           1.25,
           "United Kingdom",
           "2010-11"
          ],
          [
           10.5,
           "United Kingdom",
           "2010-04"
          ],
          [
           1.65,
           "United Kingdom",
           "2011-07"
          ],
          [
           10.2,
           "United Kingdom",
           "2010-03"
          ],
          [
           3.4,
           "United Kingdom",
           "2011-11"
          ],
          [
           1.45,
           "United Kingdom",
           "2011-09"
          ],
          [
           13.200000000000001,
           "United Kingdom",
           "2011-09"
          ],
          [
           12.600000000000001,
           "United Kingdom",
           "2011-07"
          ],
          [
           35.400000000000006,
           "United Kingdom",
           "2010-12"
          ],
          [
           1.9500000000000002,
           "United Kingdom",
           "2011-11"
          ],
          [
           47.400000000000006,
           "United Kingdom",
           "2010-03"
          ],
          [
           2.5,
           "United Kingdom",
           "2011-11"
          ],
          [
           9.9,
           "United Kingdom",
           "2010-11"
          ],
          [
           3.75,
           "United Kingdom",
           "2010-04"
          ],
          [
           8.5,
           "United Kingdom",
           "2010-07"
          ],
          [
           23.8,
           "United Kingdom",
           "2011-10"
          ],
          [
           10.2,
           "United Kingdom",
           "2010-10"
          ],
          [
           15.299999999999999,
           "United Kingdom",
           "2010-12"
          ],
          [
           16.5,
           "United Kingdom",
           "2010-03"
          ],
          [
           11.7,
           "United Kingdom",
           "2011-01"
          ],
          [
           17,
           "United Kingdom",
           "2011-10"
          ],
          [
           16.95,
           "United Kingdom",
           "2010-11"
          ],
          [
           16.95,
           "United Kingdom",
           "2011-08"
          ],
          [
           7.6499999999999995,
           "United Kingdom",
           "2011-03"
          ],
          [
           2.55,
           "United Kingdom",
           "2010-06"
          ],
          [
           16.45,
           "United Kingdom",
           "2011-11"
          ],
          [
           102,
           "United Kingdom",
           "2010-06"
          ],
          [
           30,
           "United Kingdom",
           "2011-09"
          ],
          [
           34.8,
           "United Kingdom",
           "2010-07"
          ],
          [
           19.080000000000002,
           "United Kingdom",
           "2010-07"
          ],
          [
           2.1,
           "United Kingdom",
           "2011-02"
          ],
          [
           15,
           "United Kingdom",
           "2010-12"
          ],
          [
           30.599999999999998,
           "United Kingdom",
           "2011-10"
          ],
          [
           1.56,
           "United Kingdom",
           "2011-04"
          ],
          [
           3.36,
           "United Kingdom",
           "2011-11"
          ],
          [
           4.95,
           "United Kingdom",
           "2011-01"
          ],
          [
           15,
           "United Kingdom",
           "2011-07"
          ],
          [
           16.5,
           "United Kingdom",
           "2011-01"
          ],
          [
           11.9,
           "United Kingdom",
           "2010-12"
          ],
          [
           6.8,
           "United Kingdom",
           "2010-11"
          ],
          [
           15.9,
           "United Kingdom",
           "2010-06"
          ],
          [
           1.56,
           "United Kingdom",
           "2011-04"
          ],
          [
           0.85,
           "United Kingdom",
           "2010-03"
          ],
          [
           15,
           "United Kingdom",
           "2010-06"
          ],
          [
           2.9,
           "United Kingdom",
           "2010-11"
          ],
          [
           14.850000000000001,
           "United Kingdom",
           "2011-03"
          ],
          [
           4.16,
           "United Kingdom",
           "2011-04"
          ],
          [
           63.5,
           "United Kingdom",
           "2010-03"
          ],
          [
           15.9,
           "United Kingdom",
           "2010-04"
          ],
          [
           17.700000000000003,
           "United Kingdom",
           "2010-01"
          ],
          [
           38.160000000000004,
           "United Kingdom",
           "2010-03"
          ],
          [
           7.6499999999999995,
           "United Kingdom",
           "2011-12"
          ],
          [
           101.76,
           "United Kingdom",
           "2011-03"
          ],
          [
           14.98,
           "United Kingdom",
           "2010-02"
          ],
          [
           15,
           "United Kingdom",
           "2011-05"
          ],
          [
           23.12,
           "United Kingdom",
           "2011-10"
          ],
          [
           14.850000000000001,
           "United Kingdom",
           "2010-10"
          ],
          [
           4.949999999999999,
           "United Kingdom",
           "2010-12"
          ],
          [
           30,
           "United Kingdom",
           "2010-09"
          ],
          [
           6.24,
           "United Kingdom",
           "2011-11"
          ],
          [
           62.400000000000006,
           "United Kingdom",
           "2011-09"
          ],
          [
           6.75,
           "United Kingdom",
           "2009-12"
          ],
          [
           15.299999999999999,
           "United Kingdom",
           "2011-05"
          ],
          [
           15,
           "United Kingdom",
           "2010-02"
          ],
          [
           6.959999999999999,
           "United Kingdom",
           "2010-04"
          ],
          [
           2.5,
           "United Kingdom",
           "2010-08"
          ],
          [
           8.5,
           "United Kingdom",
           "2010-10"
          ],
          [
           7.5,
           "United Kingdom",
           "2011-01"
          ],
          [
           17.700000000000003,
           "United Kingdom",
           "2010-03"
          ],
          [
           38.25,
           "United Kingdom",
           "2010-05"
          ],
          [
           11.9,
           "United Kingdom",
           "2010-03"
          ],
          [
           25.200000000000003,
           "United Kingdom",
           "2009-12"
          ],
          [
           162.72,
           "United Kingdom",
           "2010-11"
          ],
          [
           15,
           "United Kingdom",
           "2010-11"
          ],
          [
           11.7,
           "United Kingdom",
           "2010-11"
          ],
          [
           13.5,
           "United Kingdom",
           "2010-08"
          ],
          [
           17.700000000000003,
           "United Kingdom",
           "2010-09"
          ],
          [
           19.799999999999997,
           "United Kingdom",
           "2010-11"
          ],
          [
           13.200000000000001,
           "United Kingdom",
           "2010-11"
          ],
          [
           2.08,
           "United Kingdom",
           "2011-09"
          ],
          [
           3.4,
           "United Kingdom",
           "2011-05"
          ],
          [
           4.25,
           "United Kingdom",
           "2010-02"
          ],
          [
           11.8,
           "United Kingdom",
           "2010-01"
          ],
          [
           15,
           "United Kingdom",
           "2010-05"
          ],
          [
           6.25,
           "United Kingdom",
           "2010-06"
          ],
          [
           21.5,
           "United Kingdom",
           "2010-02"
          ],
          [
           3.75,
           "United Kingdom",
           "2010-05"
          ],
          [
           51,
           "United Kingdom",
           "2010-04"
          ],
          [
           17.4,
           "United Kingdom",
           "2010-09"
          ],
          [
           11.9,
           "United Kingdom",
           "2010-11"
          ],
          [
           34,
           "United Kingdom",
           "2010-08"
          ],
          [
           8.64,
           "United Kingdom",
           "2011-10"
          ],
          [
           3.38,
           "United Kingdom",
           "2011-07"
          ],
          [
           3.38,
           "United Kingdom",
           "2010-06"
          ],
          [
           14.85,
           "United Kingdom",
           "2010-01"
          ],
          [
           3.75,
           "United Kingdom",
           "2010-05"
          ],
          [
           2.2,
           "United Kingdom",
           "2010-08"
          ],
          [
           8.25,
           "United Kingdom",
           "2011-12"
          ],
          [
           16.5,
           "United Kingdom",
           "2011-06"
          ],
          [
           34.72,
           "United Kingdom",
           "2011-01"
          ],
          [
           15,
           "United Kingdom",
           "2009-12"
          ],
          [
           3.75,
           "United Kingdom",
           "2011-08"
          ],
          [
           19.9,
           "United Kingdom",
           "2011-01"
          ],
          [
           10.79,
           "United Kingdom",
           "2011-11"
          ],
          [
           4.25,
           "United Kingdom",
           "2011-10"
          ],
          [
           1.9,
           "United Kingdom",
           "2011-01"
          ],
          [
           17,
           "United Kingdom",
           "2010-01"
          ],
          [
           35.8,
           "United Kingdom",
           "2011-09"
          ],
          [
           0.55,
           "United Kingdom",
           "2011-11"
          ],
          [
           10.2,
           "United Kingdom",
           "2011-04"
          ],
          [
           23.4,
           "United Kingdom",
           "2010-02"
          ],
          [
           3.3,
           "United Kingdom",
           "2011-10"
          ],
          [
           5.04,
           "United Kingdom",
           "2010-11"
          ],
          [
           7.5,
           "United Kingdom",
           "2010-04"
          ],
          [
           17.700000000000003,
           "United Kingdom",
           "2011-05"
          ],
          [
           15,
           "United Kingdom",
           "2011-03"
          ],
          [
           79.19999999999999,
           "United Kingdom",
           "2010-02"
          ],
          [
           76.32000000000001,
           "United Kingdom",
           "2010-12"
          ],
          [
           15,
           "United Kingdom",
           "2011-04"
          ],
          [
           21.9,
           "United Kingdom",
           "2010-01"
          ],
          [
           92.4,
           "United Kingdom",
           "2011-11"
          ],
          [
           39,
           "United Kingdom",
           "2010-07"
          ],
          [
           10.08,
           "United Kingdom",
           "2011-08"
          ],
          [
           1.25,
           "United Kingdom",
           "2010-02"
          ],
          [
           165,
           "United Kingdom",
           "2010-10"
          ],
          [
           15,
           "United Kingdom",
           "2011-04"
          ],
          [
           19.799999999999997,
           "United Kingdom",
           "2011-04"
          ],
          [
           22.5,
           "United Kingdom",
           "2011-10"
          ],
          [
           17,
           "United Kingdom",
           "2010-07"
          ],
          [
           3.75,
           "United Kingdom",
           "2010-12"
          ],
          [
           9.899999999999999,
           "United Kingdom",
           "2011-04"
          ],
          [
           4.16,
           "United Kingdom",
           "2011-12"
          ],
          [
           151.2,
           "United Kingdom",
           "2010-04"
          ],
          [
           15.6,
           "United Kingdom",
           "2010-10"
          ],
          [
           0.19,
           "United Kingdom",
           "2011-09"
          ],
          [
           15,
           "United Kingdom",
           "2011-10"
          ],
          [
           25.5,
           "United Kingdom",
           "2011-06"
          ],
          [
           20.16,
           "United Kingdom",
           "2010-10"
          ],
          [
           8.850000000000001,
           "United Kingdom",
           "2010-07"
          ],
          [
           1.65,
           "United Kingdom",
           "2010-09"
          ],
          [
           2.95,
           "United Kingdom",
           "2011-09"
          ],
          [
           4.2,
           "United Kingdom",
           "2010-06"
          ],
          [
           5.1,
           "United Kingdom",
           "2010-06"
          ],
          [
           0.65,
           "United Kingdom",
           "2011-10"
          ],
          [
           7.8,
           "United Kingdom",
           "2010-01"
          ],
          [
           3.4,
           "United Kingdom",
           "2010-10"
          ],
          [
           12.75,
           "United Kingdom",
           "2011-02"
          ],
          [
           25.200000000000003,
           "United Kingdom",
           "2010-12"
          ],
          [
           15,
           "United Kingdom",
           "2011-01"
          ],
          [
           15,
           "United Kingdom",
           "2010-07"
          ],
          [
           15,
           "United Kingdom",
           "2011-08"
          ],
          [
           1.65,
           "United Kingdom",
           "2010-07"
          ],
          [
           66,
           "United Kingdom",
           "2010-11"
          ],
          [
           23.8,
           "United Kingdom",
           "2010-08"
          ],
          [
           9.959999999999999,
           "United Kingdom",
           "2011-10"
          ],
          [
           2.5,
           "United Kingdom",
           "2010-04"
          ],
          [
           8.25,
           "United Kingdom",
           "2010-03"
          ],
          [
           17.700000000000003,
           "United Kingdom",
           "2010-11"
          ],
          [
           21.8,
           "United Kingdom",
           "2010-10"
          ],
          [
           15,
           "United Kingdom",
           "2011-09"
          ],
          [
           121.67999999999999,
           "United Kingdom",
           "2010-03"
          ],
          [
           7.5,
           "United Kingdom",
           "2011-04"
          ],
          [
           0.85,
           "United Kingdom",
           "2011-05"
          ],
          [
           17.700000000000003,
           "United Kingdom",
           "2010-04"
          ],
          [
           21,
           "United Kingdom",
           "2010-03"
          ],
          [
           35.400000000000006,
           "United Kingdom",
           "2011-11"
          ],
          [
           1.25,
           "United Kingdom",
           "2011-03"
          ],
          [
           1.25,
           "United Kingdom",
           "2010-02"
          ],
          [
           8.25,
           "United Kingdom",
           "2009-12"
          ],
          [
           15,
           "United Kingdom",
           "2011-05"
          ],
          [
           84.96,
           "United Kingdom",
           "2011-05"
          ],
          [
           4.949999999999999,
           "United Kingdom",
           "2011-11"
          ],
          [
           5.9,
           "United Kingdom",
           "2010-08"
          ],
          [
           1.25,
           "United Kingdom",
           "2010-10"
          ],
          [
           16.5,
           "United Kingdom",
           "2011-05"
          ],
          [
           1.3,
           "United Kingdom",
           "2010-07"
          ],
          [
           17,
           "United Kingdom",
           "2011-04"
          ],
          [
           20.8,
           "United Kingdom",
           "2011-11"
          ],
          [
           17.700000000000003,
           "United Kingdom",
           "2011-07"
          ],
          [
           8.32,
           "United Kingdom",
           "2011-08"
          ],
          [
           1.25,
           "United Kingdom",
           "2010-10"
          ],
          [
           9.870000000000001,
           "United Kingdom",
           "2011-11"
          ],
          [
           17,
           "United Kingdom",
           "2011-03"
          ],
          [
           7.5,
           "United Kingdom",
           "2009-12"
          ],
          [
           25.200000000000003,
           "United Kingdom",
           "2010-12"
          ],
          [
           6.76,
           "United Kingdom",
           "2010-02"
          ],
          [
           10.9,
           "United Kingdom",
           "2010-02"
          ],
          [
           8.4,
           "United Kingdom",
           "2010-10"
          ],
          [
           8.5,
           "United Kingdom",
           "2010-11"
          ],
          [
           7.95,
           "United Kingdom",
           "2010-10"
          ],
          [
           10.9,
           "United Kingdom",
           "2010-11"
          ],
          [
           5.04,
           "United Kingdom",
           "2009-12"
          ],
          [
           1.26,
           "United Kingdom",
           "2010-10"
          ],
          [
           4.949999999999999,
           "United Kingdom",
           "2011-04"
          ],
          [
           4.15,
           "United Kingdom",
           "2011-02"
          ],
          [
           5,
           "United Kingdom",
           "2011-11"
          ],
          [
           8.25,
           "United Kingdom",
           "2011-09"
          ],
          [
           21.599999999999998,
           "United Kingdom",
           "2010-05"
          ],
          [
           19.9,
           "United Kingdom",
           "2010-11"
          ],
          [
           12.5,
           "United Kingdom",
           "2011-10"
          ],
          [
           6.3,
           "United Kingdom",
           "2011-10"
          ],
          [
           1.65,
           "United Kingdom",
           "2010-08"
          ],
          [
           7.5,
           "United Kingdom",
           "2010-06"
          ],
          [
           3.75,
           "United Kingdom",
           "2011-08"
          ],
          [
           2.95,
           "United Kingdom",
           "2010-11"
          ],
          [
           8.25,
           "United Kingdom",
           "2011-07"
          ],
          [
           1.25,
           "United Kingdom",
           "2010-12"
          ],
          [
           1.65,
           "United Kingdom",
           "2010-12"
          ],
          [
           0.65,
           "United Kingdom",
           "2010-05"
          ],
          [
           14.850000000000001,
           "United Kingdom",
           "2010-04"
          ],
          [
           21,
           "United Kingdom",
           "2010-05"
          ],
          [
           2.5,
           "United Kingdom",
           "2011-06"
          ],
          [
           12.5,
           "United Kingdom",
           "2009-12"
          ],
          [
           30,
           "United Kingdom",
           "2010-07"
          ],
          [
           1.1,
           "United Kingdom",
           "2011-11"
          ],
          [
           15,
           "United Kingdom",
           "2011-06"
          ],
          [
           14.75,
           "United Kingdom",
           "2010-03"
          ],
          [
           16.5,
           "United Kingdom",
           "2010-08"
          ],
          [
           15,
           "United Kingdom",
           "2011-06"
          ],
          [
           14.850000000000001,
           "United Kingdom",
           "2011-01"
          ],
          [
           25,
           "United Kingdom",
           "2011-08"
          ],
          [
           21,
           "United Kingdom",
           "2010-05"
          ],
          [
           15,
           "United Kingdom",
           "2011-11"
          ],
          [
           11.8,
           "United Kingdom",
           "2011-09"
          ],
          [
           15.299999999999999,
           "United Kingdom",
           "2009-12"
          ],
          [
           11.9,
           "United Kingdom",
           "2010-08"
          ],
          [
           8.5,
           "United Kingdom",
           "2010-04"
          ],
          [
           1.65,
           "United Kingdom",
           "2011-06"
          ],
          [
           2.55,
           "United Kingdom",
           "2011-01"
          ],
          [
           2.9,
           "United Kingdom",
           "2011-05"
          ],
          [
           35.95,
           "United Kingdom",
           "2009-12"
          ],
          [
           14.850000000000001,
           "United Kingdom",
           "2011-11"
          ],
          [
           31.8,
           "United Kingdom",
           "2011-06"
          ],
          [
           60,
           "United Kingdom",
           "2010-07"
          ],
          [
           9.899999999999999,
           "United Kingdom",
           "2011-09"
          ],
          [
           10.5,
           "United Kingdom",
           "2010-04"
          ],
          [
           10.5,
           "United Kingdom",
           "2010-10"
          ],
          [
           16.5,
           "United Kingdom",
           "2011-10"
          ],
          [
           17.700000000000003,
           "United Kingdom",
           "2010-11"
          ],
          [
           30,
           "United Kingdom",
           "2010-02"
          ],
          [
           5,
           "United Kingdom",
           "2010-03"
          ],
          [
           15,
           "United Kingdom",
           "2010-08"
          ],
          [
           8.5,
           "United Kingdom",
           "2011-10"
          ],
          [
           10.2,
           "United Kingdom",
           "2010-12"
          ],
          [
           19.5,
           "United Kingdom",
           "2010-02"
          ],
          [
           2.55,
           "United Kingdom",
           "2010-04"
          ],
          [
           2.5,
           "United Kingdom",
           "2010-10"
          ],
          [
           19.799999999999997,
           "United Kingdom",
           "2011-11"
          ],
          [
           15.8,
           "United Kingdom",
           "2011-12"
          ],
          [
           1.65,
           "United Kingdom",
           "2010-12"
          ],
          [
           1.95,
           "United Kingdom",
           "2011-07"
          ],
          [
           8.25,
           "United Kingdom",
           "2011-11"
          ],
          [
           1.95,
           "United Kingdom",
           "2010-10"
          ],
          [
           7.5,
           "United Kingdom",
           "2010-04"
          ],
          [
           16.5,
           "United Kingdom",
           "2010-11"
          ],
          [
           19.799999999999997,
           "United Kingdom",
           "2010-12"
          ],
          [
           11.399999999999999,
           "United Kingdom",
           "2011-04"
          ],
          [
           0.84,
           "United Kingdom",
           "2011-07"
          ],
          [
           14.850000000000001,
           "United Kingdom",
           "2010-05"
          ],
          [
           5.8,
           "United Kingdom",
           "2010-11"
          ],
          [
           17,
           "United Kingdom",
           "2010-12"
          ],
          [
           6.6,
           "United Kingdom",
           "2011-11"
          ],
          [
           8.25,
           "United Kingdom",
           "2010-06"
          ],
          [
           12.75,
           "United Kingdom",
           "2010-12"
          ],
          [
           10.14,
           "United Kingdom",
           "2009-12"
          ],
          [
           19.9,
           "United Kingdom",
           "2011-04"
          ],
          [
           3.95,
           "United Kingdom",
           "2010-04"
          ],
          [
           17.9,
           "United Kingdom",
           "2010-10"
          ],
          [
           25.200000000000003,
           "United Kingdom",
           "2010-07"
          ],
          [
           8.850000000000001,
           "United Kingdom",
           "2011-10"
          ],
          [
           17.4,
           "United Kingdom",
           "2011-03"
          ],
          [
           22.5,
           "United Kingdom",
           "2010-01"
          ],
          [
           5,
           "United Kingdom",
           "2010-10"
          ],
          [
           1.65,
           "United Kingdom",
           "2011-10"
          ],
          [
           19.799999999999997,
           "United Kingdom",
           "2010-04"
          ],
          [
           1.17,
           "United Kingdom",
           "2011-04"
          ],
          [
           5,
           "United Kingdom",
           "2010-10"
          ],
          [
           61.44,
           "United Kingdom",
           "2010-07"
          ],
          [
           6.25,
           "United Kingdom",
           "2011-10"
          ],
          [
           75.60000000000001,
           "United Kingdom",
           "2011-11"
          ],
          [
           5.9,
           "United Kingdom",
           "2011-01"
          ],
          [
           76.32000000000001,
           "United Kingdom",
           "2010-09"
          ],
          [
           5.04,
           "United Kingdom",
           "2011-11"
          ],
          [
           20.85,
           "United Kingdom",
           "2011-05"
          ],
          [
           2.55,
           "United Kingdom",
           "2010-01"
          ],
          [
           35.400000000000006,
           "United Kingdom",
           "2011-02"
          ],
          [
           1.65,
           "United Kingdom",
           "2010-03"
          ],
          [
           15,
           "United Kingdom",
           "2011-04"
          ],
          [
           5.1,
           "United Kingdom",
           "2011-02"
          ],
          [
           8.5,
           "United Kingdom",
           "2011-04"
          ],
          [
           9.899999999999999,
           "United Kingdom",
           "2010-10"
          ],
          [
           19.740000000000002,
           "United Kingdom",
           "2011-09"
          ],
          [
           102,
           "United Kingdom",
           "2010-11"
          ],
          [
           7.5,
           "United Kingdom",
           "2010-11"
          ],
          [
           16.6,
           "United Kingdom",
           "2011-10"
          ],
          [
           15,
           "United Kingdom",
           "2011-10"
          ],
          [
           4.95,
           "United Kingdom",
           "2011-03"
          ],
          [
           19.799999999999997,
           "United Kingdom",
           "2010-06"
          ],
          [
           3.75,
           "United Kingdom",
           "2011-11"
          ],
          [
           15,
           "United Kingdom",
           "2011-07"
          ],
          [
           23.6,
           "United Kingdom",
           "2011-10"
          ],
          [
           17.4,
           "United Kingdom",
           "2011-12"
          ],
          [
           11.9,
           "United Kingdom",
           "2010-07"
          ],
          [
           14.850000000000001,
           "United Kingdom",
           "2011-05"
          ],
          [
           2.5,
           "United Kingdom",
           "2011-09"
          ],
          [
           30,
           "United Kingdom",
           "2010-08"
          ],
          [
           35.7,
           "United Kingdom",
           "2011-01"
          ],
          [
           6.25,
           "United Kingdom",
           "2010-07"
          ],
          [
           3.3,
           "United Kingdom",
           "2010-09"
          ],
          [
           2.08,
           "United Kingdom",
           "2011-09"
          ],
          [
           33.2,
           "United Kingdom",
           "2011-10"
          ],
          [
           8.25,
           "United Kingdom",
           "2011-10"
          ],
          [
           12.5,
           "United Kingdom",
           "2010-04"
          ],
          [
           7.6499999999999995,
           "United Kingdom",
           "2010-03"
          ],
          [
           25.200000000000003,
           "United Kingdom",
           "2010-03"
          ],
          [
           3.9,
           "United Kingdom",
           "2010-05"
          ],
          [
           15,
           "United Kingdom",
           "2011-09"
          ],
          [
           17.700000000000003,
           "United Kingdom",
           "2010-06"
          ],
          [
           2.1,
           "United Kingdom",
           "2010-02"
          ],
          [
           10.2,
           "United Kingdom",
           "2011-11"
          ],
          [
           1.65,
           "United Kingdom",
           "2010-12"
          ],
          [
           17.700000000000003,
           "United Kingdom",
           "2010-06"
          ],
          [
           1.45,
           "United Kingdom",
           "2010-12"
          ],
          [
           7.5,
           "United Kingdom",
           "2010-02"
          ],
          [
           8.5,
           "United Kingdom",
           "2011-10"
          ],
          [
           14.940000000000001,
           "United Kingdom",
           "2011-05"
          ],
          [
           15.600000000000001,
           "United Kingdom",
           "2010-01"
          ],
          [
           17,
           "United Kingdom",
           "2010-05"
          ],
          [
           15,
           "United Kingdom",
           "2010-02"
          ],
          [
           8.850000000000001,
           "United Kingdom",
           "2010-08"
          ],
          [
           9.9,
           "United Kingdom",
           "2011-03"
          ],
          [
           5.04,
           "United Kingdom",
           "2010-12"
          ],
          [
           1.65,
           "United Kingdom",
           "2011-10"
          ],
          [
           17.700000000000003,
           "United Kingdom",
           "2010-07"
          ],
          [
           6.6,
           "United Kingdom",
           "2011-10"
          ],
          [
           15.9,
           "United Kingdom",
           "2010-10"
          ],
          [
           39.599999999999994,
           "United Kingdom",
           "2009-12"
          ],
          [
           4.949999999999999,
           "United Kingdom",
           "2010-11"
          ],
          [
           1.25,
           "United Kingdom",
           "2010-11"
          ],
          [
           19.919999999999998,
           "United Kingdom",
           "2011-07"
          ],
          [
           10.5,
           "United Kingdom",
           "2010-10"
          ],
          [
           11.9,
           "United Kingdom",
           "2010-07"
          ],
          [
           15,
           "United Kingdom",
           "2011-06"
          ],
          [
           4.949999999999999,
           "United Kingdom",
           "2011-03"
          ],
          [
           3.75,
           "United Kingdom",
           "2010-02"
          ],
          [
           25.919999999999998,
           "United Kingdom",
           "2010-05"
          ],
          [
           15,
           "United Kingdom",
           "2011-05"
          ],
          [
           12.75,
           "United Kingdom",
           "2010-12"
          ],
          [
           14.98,
           "United Kingdom",
           "2010-04"
          ],
          [
           3.1,
           "United Kingdom",
           "2010-08"
          ],
          [
           10,
           "United Kingdom",
           "2010-12"
          ],
          [
           106.2,
           "United Kingdom",
           "2011-02"
          ],
          [
           40.8,
           "United Kingdom",
           "2011-04"
          ],
          [
           3.75,
           "United Kingdom",
           "2010-12"
          ],
          [
           15,
           "United Kingdom",
           "2010-12"
          ],
          [
           20.16,
           "United Kingdom",
           "2010-05"
          ],
          [
           5.04,
           "United Kingdom",
           "2010-03"
          ],
          [
           9.959999999999999,
           "United Kingdom",
           "2011-11"
          ],
          [
           108.89999999999999,
           "United Kingdom",
           "2010-06"
          ],
          [
           17.85,
           "United Kingdom",
           "2010-08"
          ],
          [
           1.65,
           "United Kingdom",
           "2010-05"
          ],
          [
           31.200000000000003,
           "United Kingdom",
           "2011-10"
          ],
          [
           16.5,
           "United Kingdom",
           "2011-10"
          ],
          [
           22.14,
           "United Kingdom",
           "2011-09"
          ],
          [
           5.04,
           "United Kingdom",
           "2010-05"
          ],
          [
           19.5,
           "United Kingdom",
           "2010-08"
          ],
          [
           20.8,
           "United Kingdom",
           "2011-11"
          ],
          [
           12.48,
           "United Kingdom",
           "2011-12"
          ],
          [
           15,
           "United Kingdom",
           "2010-04"
          ],
          [
           30,
           "United Kingdom",
           "2010-02"
          ],
          [
           0.84,
           "United Kingdom",
           "2010-07"
          ],
          [
           4.35,
           "United Kingdom",
           "2011-03"
          ],
          [
           4.949999999999999,
           "United Kingdom",
           "2010-04"
          ],
          [
           15.9,
           "United Kingdom",
           "2011-12"
          ],
          [
           17.700000000000003,
           "United Kingdom",
           "2010-08"
          ],
          [
           9.36,
           "United Kingdom",
           "2011-09"
          ],
          [
           2.5,
           "United Kingdom",
           "2010-05"
          ],
          [
           7.5,
           "United Kingdom",
           "2010-04"
          ],
          [
           4.25,
           "United Kingdom",
           "2010-04"
          ],
          [
           2.95,
           "United Kingdom",
           "2010-11"
          ],
          [
           15,
           "United Kingdom",
           "2010-10"
          ],
          [
           10.4,
           "United Kingdom",
           "2010-03"
          ],
          [
           40.8,
           "United Kingdom",
           "2011-04"
          ],
          [
           16.5,
           "United Kingdom",
           "2011-07"
          ],
          [
           6.300000000000001,
           "United Kingdom",
           "2010-11"
          ],
          [
           3.75,
           "United Kingdom",
           "2011-03"
          ],
          [
           15,
           "United Kingdom",
           "2011-01"
          ],
          [
           10.08,
           "United Kingdom",
           "2010-02"
          ],
          [
           5.9,
           "United Kingdom",
           "2010-03"
          ],
          [
           19.8,
           "United Kingdom",
           "2009-12"
          ],
          [
           11.25,
           "United Kingdom",
           "2009-12"
          ],
          [
           22.5,
           "United Kingdom",
           "2009-12"
          ],
          [
           1.56,
           "United Kingdom",
           "2011-11"
          ],
          [
           30,
           "United Kingdom",
           "2011-06"
          ],
          [
           3.75,
           "United Kingdom",
           "2010-11"
          ],
          [
           5.95,
           "United Kingdom",
           "2011-07"
          ],
          [
           15.9,
           "United Kingdom",
           "2010-10"
          ],
          [
           19.799999999999997,
           "United Kingdom",
           "2010-06"
          ],
          [
           1.45,
           "United Kingdom",
           "2011-10"
          ],
          [
           19.799999999999997,
           "United Kingdom",
           "2009-12"
          ],
          [
           13.6,
           "United Kingdom",
           "2011-10"
          ],
          [
           18.9,
           "United Kingdom",
           "2009-12"
          ],
          [
           1.65,
           "United Kingdom",
           "2010-06"
          ],
          [
           11.9,
           "United Kingdom",
           "2011-03"
          ],
          [
           2.9,
           "United Kingdom",
           "2011-06"
          ],
          [
           2.1,
           "United Kingdom",
           "2010-04"
          ],
          [
           3.75,
           "United Kingdom",
           "2011-01"
          ],
          [
           6.300000000000001,
           "United Kingdom",
           "2010-12"
          ],
          [
           50.400000000000006,
           "United Kingdom",
           "2011-09"
          ],
          [
           12.600000000000001,
           "United Kingdom",
           "2010-02"
          ],
          [
           3.75,
           "United Kingdom",
           "2010-01"
          ],
          [
           1.25,
           "United Kingdom",
           "2011-11"
          ],
          [
           17,
           "United Kingdom",
           "2010-12"
          ],
          [
           1.26,
           "United Kingdom",
           "2011-03"
          ],
          [
           19.5,
           "United Kingdom",
           "2011-10"
          ],
          [
           4.95,
           "United Kingdom",
           "2010-11"
          ],
          [
           17.4,
           "United Kingdom",
           "2011-11"
          ],
          [
           16.5,
           "United Kingdom",
           "2010-06"
          ],
          [
           87.30000000000001,
           "United Kingdom",
           "2011-11"
          ],
          [
           15.299999999999999,
           "United Kingdom",
           "2010-09"
          ],
          [
           3.3,
           "United Kingdom",
           "2010-07"
          ],
          [
           21.97,
           "United Kingdom",
           "2010-12"
          ],
          [
           20.4,
           "United Kingdom",
           "2010-12"
          ],
          [
           25.200000000000003,
           "United Kingdom",
           "2010-01"
          ],
          [
           19.799999999999997,
           "United Kingdom",
           "2011-02"
          ],
          [
           6.6,
           "United Kingdom",
           "2011-10"
          ],
          [
           10.14,
           "United Kingdom",
           "2011-11"
          ],
          [
           7.800000000000001,
           "United Kingdom",
           "2011-01"
          ],
          [
           0.78,
           "United Kingdom",
           "2011-08"
          ],
          [
           16.95,
           "United Kingdom",
           "2011-06"
          ],
          [
           1.66,
           "United Kingdom",
           "2011-10"
          ],
          [
           13.2,
           "United Kingdom",
           "2010-12"
          ],
          [
           2.95,
           "United Kingdom",
           "2011-03"
          ],
          [
           4.2,
           "United Kingdom",
           "2010-01"
          ],
          [
           31.6,
           "United Kingdom",
           "2011-08"
          ],
          [
           1.65,
           "United Kingdom",
           "2010-09"
          ],
          [
           2.95,
           "United Kingdom",
           "2010-10"
          ],
          [
           16.5,
           "United Kingdom",
           "2010-03"
          ],
          [
           2.88,
           "United Kingdom",
           "2011-04"
          ],
          [
           14.850000000000001,
           "United Kingdom",
           "2010-11"
          ],
          [
           16.5,
           "United Kingdom",
           "2011-09"
          ],
          [
           13.2,
           "United Kingdom",
           "2010-12"
          ],
          [
           81.36,
           "United Kingdom",
           "2011-09"
          ],
          [
           7.5,
           "United Kingdom",
           "2011-05"
          ],
          [
           17,
           "United Kingdom",
           "2011-03"
          ],
          [
           4.949999999999999,
           "United Kingdom",
           "2010-04"
          ],
          [
           7.95,
           "United Kingdom",
           "2011-06"
          ],
          [
           8.4,
           "United Kingdom",
           "2011-04"
          ],
          [
           17.85,
           "United Kingdom",
           "2011-02"
          ],
          [
           29.5,
           "United Kingdom",
           "2011-11"
          ],
          [
           35.400000000000006,
           "United Kingdom",
           "2011-05"
          ],
          [
           1.95,
           "United Kingdom",
           "2010-07"
          ],
          [
           1.6500000000000001,
           "United Kingdom",
           "2010-08"
          ],
          [
           27.6,
           "United Kingdom",
           "2009-12"
          ],
          [
           23.6,
           "United Kingdom",
           "2011-06"
          ],
          [
           17.700000000000003,
           "United Kingdom",
           "2010-04"
          ],
          [
           6.25,
           "United Kingdom",
           "2010-08"
          ],
          [
           9.95,
           "United Kingdom",
           "2011-06"
          ],
          [
           10.5,
           "United Kingdom",
           "2010-08"
          ],
          [
           5,
           "United Kingdom",
           "2010-07"
          ],
          [
           6.300000000000001,
           "United Kingdom",
           "2010-02"
          ],
          [
           1.65,
           "United Kingdom",
           "2011-03"
          ],
          [
           1.9500000000000002,
           "United Kingdom",
           "2010-05"
          ],
          [
           23.4,
           "United Kingdom",
           "2010-03"
          ]
         ],
         "hovertemplate": "Quantity=%{x}<br>Price=%{y}<br>Month=%{customdata[2]}<extra></extra>",
         "legendgroup": "United Kingdom",
         "marker": {
          "color": "#636efa",
          "size": {
           "bdata": "AAAAAAAALkBmZmZmZmYkQAAAAAAAACVAzczMzMzMH0A+CtejcD0+QAAAAAAAACRAKVyPwvUoFEBmZmZmZmYEQM3MzMzMzABAmpmZmZmZ4T9mZmZmZmb6PwAAAAAAgDNAZmZmZmbmM0AAAAAAAAAOQDQzMzMzsz1AAAAAAAAADkAAAAAAAIA2QDMzMzMzM/c/AAAAAABANUAAAAAAAAD0PzMzMzMzM/8/zczMzMzMQ0AAAAAAAOhnQAAAAAAAAARAzczMzMzMAEAAAAAAAAAlQAAAAAAAAPQ/NDMzMzMzL0CZmZmZmdlNQDQzMzMzM0lAmpmZmZmZF0AAAAAAAIAwQAAAAAAAAPQ/mpmZmZmZEkDNzMzMzMwQQGZmZmZmZiRAAAAAAAAAIUDNzMzMzMw7QAAAAAAAAC5AAAAAAAAANEA0MzMzMzMvQKRwPQrXoxBAmpmZmZmZF0AAAAAAAAAOQJqZmZmZ2TFAzczMzMzMAEDNzMzMzMw/QAAAAAAAAC5AAAAAAACAKUAAAAAAAAAuQAAAAAAAAARANDMzMzOzMUCamZmZmZk3QGZmZmZmZv4/AAAAAAAAPkAzMzMzMzMbQAAAAAAAADFANDMzMzOzMUBmZmZmZmYEQDQzMzMzMylAAAAAAAAADkAAAAAAAAAhQAAAAAAAAC5AAAAAAAAAIUBmZmZmZmY0QGZmZmZm5jVAAAAAAAAALkDNzMzMzMwnQAAAAAAAAC5AAAAAAADASEAK16NwPQoHQK5H4XoUrjNAzczMzMzMF0AAAAAAAAAOQGZmZmZmZiRAmZmZmZmZPkCZmZmZmZkuQAAAAAAAgDNAMzMzMzMz6z+ZmZmZmZk+QJqZmZmZ2VFAAAAAAAAAJUAAAAAAAAAhQDQzMzMzMz9AZmZmZmZmMUAzMzMzM/NDQDMzMzMzMxdAmpmZmZmZB0CZmZmZmZkeQAAAAAAAAC5AzMzMzMwMU0CZmZmZmdk9QDQzMzMzsz1AmpmZmZmZN0DNzMzMzMwfQGZmZmZmZvo/zczMzMzME0BnZmZmZmYqQGZmZmZmZkFAAAAAAAAALkCamZmZmZkXQGZmZmZmZgRAzczMzMzMAEAAAAAAAIAzQDQzMzMzsy1AAAAAAACAVkDNzMzMzMwkQNejcD0KV0FAAAAAAAAALkDNzMzMzMwTQAAAAAAAACVAAAAAAAAAFEBmZmZmZuZ1QClcj8L1KBRANDMzMzOzMUBI4XoUrkc0QJqZmZmZmRdAAAAAAAAACkBnZmZmZuZYQAAAAAAAgDBAzczMzMzME0AAAAAAAAAuQAAAAAAAgDNAZmZmZmZmMUAzMzMzM/NGQLgehetRuBJAZmZmZmZmCkBmZmZmZmYaQGZmZmZmZlFAUrgehetR2D+amZmZmZkPQGZmZmZmZipAMzMzMzMzC0CamZmZmZkvQDQzMzMzszFAzczMzMzMQ0CZmZmZmZkuQAAAAAAAgCZAmpmZmZmZB0BmZmZmZmYUQAAAAAAAAA5AzczMzMzMH0DNzMzMzMwTQDQzMzMzsy1AAAAAAAAAIUA0MzMzM7MtQAAAAAAAAPQ/zMzMzMzMI0CamZmZmZkfQGZmZmZmZjFAZmZmZmZmJEAAAAAAAMA3QM3MzMzMzBdAAAAAAACAJkA0MzMzM7MhQGZmZmZmZgpA16NwPQpXVEBmZmZmZmYkQGZmZmZmZhFAmZmZmZmZLkAAAAAAAJByQClcj8L1KDRANDMzMzOzLUA0MzMzM7MtQAAAAAAAAC5AmpmZmZmZMEAAAAAAAIAzQAAAAAAAgDNAAAAAAAAAJEApXI/C9SgUQAAAAAAAAC5ANDMzMzMzOUA0MzMzMzMpQJqZmZmZmQdAPgrXo3A9HkAAAAAAAIA2QAAAAAAAgClAMzMzMzPzMECamZmZmZkgQAAAAAAAgCBAAAAAAAAANEA0MzMzM7NBQArXo3A9CitAZmZmZmZm+j8AAAAAAAAuQJqZmZmZmQFAcT0K16NwSUAAAAAAAAARQDMzMzMzMwtAKVyPwvUoFEAAAAAAAIAwQM3MzMzMzDRAAAAAAADgkEAAAAAAAAApQGZmZmZmZjdAAAAAAAAALkAAAAAAAAARQAAAAAAAACVAKVyPwvUoFEAAAAAAAAAOQAAAAAAAACpAmpmZmZmZB0AAAAAAAAARQDQzMzMzs0FAzczMzMzME0CamZmZmdlBQAAAAAAAAC5AAAAAAACAIECamZmZmZkXQM3MzMzMjEpAmpmZmZmZF0AzMzMzMzMrQAAAAAAAAPQ/MzMzMzMzC0CZmZmZmRknQDMzMzMzMwtA16NwPQrXHUAAAAAAAAApQJqZmZmZmRdApHA9CtejIEDNzMzMzMwQQDQzMzMzsy1AAAAAAAAADkAAAAAAAAAuQAAAAAAAAARAAAAAAAAAFEAAAAAAAAAOQGZmZmZm5jNAAAAAAAAAEUCamZmZmZknQJmZmZmZmS5ANDMzMzMzOUAAAAAAAAD0PwAAAAAAACJAAAAAAAAAGkAAAAAAAIAgQJqZmZmZmRdANDMzMzMzL0BmZmZmZmYEQAAAAAAAAC5AAAAAAAAAHkBmZmZmZmY0QGZmZmZm5jJAAAAAAAAAMUA0MzMzM7MtQDQzMzMzszFAmpmZmZmZB0AAAAAAAAApQM3MzMzMzABAmpmZmZmZF0CamZmZmZnhPwAAAAAAAC5AMzMzMzMz6z9mZmZmZmYUQAAAAAAAAClAMzMzMzMzH0AAAAAAAAAhQAAAAAAAgENAZ2ZmZmZmKkAVrkfhehQ8QM3MzMzMzABAAAAAAAAA9D8AAAAAAAA3QClcj8L1KCRAmpmZmZmZD0AAAAAAAAA+QGZmZmZmZhpAZ2ZmZmZmN0AAAAAAAAAZQAAAAAAAAA5ANDMzMzOzLUAAAAAAAAAuQAAAAAAAAEtAZmZmZmZmGkDrUbgehesjQGdmZmZm5lhAmZmZmZnZTUA0MzMzM7MxQGZmZmZm5iNAAAAAAAAALkBmZmZmZmYxQGZmZmZmZvo/AAAAAACAPUC4HoXrUbgyQLgehetRuBJAAAAAAACARkAAAAAAAAAxQAAAAAAAACVAMzMzMzMz/z9nZmZmZsZaQAAAAAAAAA5ANDMzMzMzL0DNzMzMzMwnQM3MzMzMzABAAAAAAAAABEA0MzMzM7NBQM3MzMzMzCNAAAAAAACAMEA0MzMzM7MxQAAAAAAAAAZAKVyPwvUoFEAzMzMzMzMPQDQzMzMzszFA9ihcj8L1IkAAAAAAAIApQGdmZmZmZipAZmZmZmZmMUDNzMzMzMwXQM3MzMzMzDdAZmZmZmZmMUAzMzMzM/NmQGZmZmZmZiRAAAAAAAAA9D8AAAAAAAAEQAAAAAAAADFAZmZmZmZm/j8VrkfhehQsQJmZmZmZmT5AAAAAAACAMEBmZmZmZuYxQM3MzMzMzABAAAAAAAAANUAAAAAAAAAxQJqZmZmZ2TFAZmZmZmZmJEA0MzMzMzM5QDQzMzMzMy9AAAAAAACAOUAAAAAAAAAuQGZmZmZmZiRANDMzMzMzOUDNzMzMzMwXQDQzMzMzMylANDMzMzOzMUA0MzMzM7MxQGZmZmZmZvo/zczMzMzMJ0CPwvUoXI/iPzQzMzMzMzlAAAAAAAAAHkAAAAAAAAAhQAAAAAAAAC5AmpmZmZmZ6T+amZmZmZkXQAAAAAAAAC5AZmZmZmZm+j9mZmZmZmb6PwAAAAAAADlAZmZmZmZmCkAAAAAAAIAwQGZmZmZmZgRAzMzMzMxsSUAAAAAAAAAxQPYoXI/C9ThANDMzMzOzMUAzMzMzMzPrP8zMzMzMzDNANDMzMzMzKUAAAAAAAAAeQGZmZmZmZiRAzczMzMzMEEBmZmZmZmb6PwAAAAAAAPQ/MzMzMzMz9z8pXI/C9SgUQAAAAAAAAARAmpmZmZmZN0DNzMzMzMwgQClcj8L1KCRAmpmZmZmZB0BmZmZmZmYEQM3MzMzMzDRAAAAAAACAMEBmZmZmZmYxQMzMzMzMzDNAzMzMzMzME0A0MzMzM7MhQJqZmZmZ2TFAZmZmZmZm7j8AAAAAAAARQM3MzMzMzABAzczMzMzMREAAAAAAAIAwQClcj8L1KCRANDMzMzOzPUBmZmZmZmb6PwAAAAAAACRAmpmZmZmZF0DMzMzMzMwjQAAAAAAAAPQ/ZmZmZmZm+j80MzMzMzMZQDQzMzMzM/8/SOF6FK5H6T9mZmZmZmYpQAAAAAAAADFAZmZmZmZm+j/NzMzMzMwAQGZmZmZmZhRAZmZmZmZmVEAAAAAAAAD0P4XrUbgehRBAzczMzMzMJEDNzMzMzMwnQAAAAAAAAA5AZmZmZmZmFECamZmZmZnxPzQzMzMzs1RAzMzMzMzME0AzMzMzMzP/PwAAAAAAAC5AAAAAAAAALkAAAAAAAAD0PzMzMzMzMxlAAAAAAAAAJUBmZmZmZmZEQGZmZmZmZvo/mpmZmZmZH0DNzMzMzMwvQDQzMzMzsyFAzczMzMzMG0AzMzMzMzP/P+tRuB6F6yNAZmZmZmbmI0DNzMzMzMwTQAAAAAAAAC5AzczMzMzMI0DWo3A9CtcLQAAAAAAAAPQ/AAAAAAAADkA0MzMzM7NBQAAAAAAAgDNAzMzMzMzMI0AAAAAAAIA5QM3MzMzMzDNAZmZmZmZmCkDNzMzMzMwkQAAAAAAAAA5AAAAAAACARkCamZmZmdkxQAAAAAAAADFAAAAAAADgUEBmZmZmZmYkQDQzMzMzsy1AmpmZmZmZL0BmZmZmZmYhQGZmZmZmZhRANDMzMzOzPUA0MzMzMzMZQJqZmZmZmQdAzczMzMzMMEAAAAAAAAD0PwAAAAAAACVAZmZmZmZm+j9mZmZmZmYkQDMzMzMzMwtAMzMzMzMz9z9nZmZmZmYqQDQzMzMzMylANDMzMzOzQUA0MzMzMzP/PzQzMzMzs0dAAAAAAAAABEDNzMzMzMwjQAAAAAAAAA5AAAAAAAAAIUDNzMzMzMw3QGZmZmZmZiRAmZmZmZmZLkAAAAAAAIAwQGZmZmZmZidAAAAAAAAAMUAzMzMzM/MwQDMzMzMz8zBAmZmZmZmZHkBmZmZmZmYEQDMzMzMzczBAAAAAAACAWUAAAAAAAAA+QGZmZmZmZkFAFa5H4XoUM0DNzMzMzMwAQAAAAAAAAC5AmZmZmZmZPkD2KFyPwvX4P+F6FK5H4QpAzczMzMzME0AAAAAAAAAuQAAAAAAAgDBAzczMzMzMJ0AzMzMzMzMbQM3MzMzMzC9A9ihcj8L1+D8zMzMzMzPrPwAAAAAAAC5AMzMzMzMzB0A0MzMzM7MtQKRwPQrXoxBAAAAAAADAT0DNzMzMzMwvQDQzMzMzszFAFa5H4XoUQ0CZmZmZmZkeQHE9CtejcFlA9ihcj8L1LUAAAAAAAAAuQB+F61G4HjdANDMzMzOzLUDMzMzMzMwTQAAAAAAAAD5A9ihcj8L1GEA0MzMzMzNPQAAAAAAAABtAmZmZmZmZLkAAAAAAAAAuQNajcD0K1xtAAAAAAAAABEAAAAAAAAAhQAAAAAAAAB5ANDMzMzOzMUAAAAAAACBDQM3MzMzMzCdANDMzMzMzOUDXo3A9CldkQAAAAAAAAC5AZmZmZmZmJ0AAAAAAAAArQDQzMzMzszFAzMzMzMzMM0BnZmZmZmYqQKRwPQrXowBAMzMzMzMzC0AAAAAAAAARQJqZmZmZmSdAAAAAAAAALkAAAAAAAAAZQAAAAAAAgDVAAAAAAAAADkAAAAAAAIBJQGZmZmZmZjFAzczMzMzMJ0AAAAAAAABBQEjhehSuRyFACtejcD0KC0AK16NwPQoLQDMzMzMzsy1AAAAAAAAADkCamZmZmZkBQAAAAAAAgCBAAAAAAACAMEBcj8L1KFxBQAAAAAAAAC5AAAAAAAAADkBmZmZmZuYzQBSuR+F6lCVAAAAAAAAAEUBmZmZmZmb+PwAAAAAAADFAZmZmZmbmQUCamZmZmZnhP2ZmZmZmZiRAZmZmZmZmN0BmZmZmZmYKQClcj8L1KBRAAAAAAAAAHkA0MzMzM7MxQAAAAAAAAC5AzMzMzMzMU0AVrkfhehRTQAAAAAAAAC5AZmZmZmbmNUCamZmZmRlXQAAAAAAAgENAKVyPwvUoJEAAAAAAAAD0PwAAAAAAoGRAAAAAAAAALkDMzMzMzMwzQAAAAAAAgDZAAAAAAAAAMUAAAAAAAAAOQMzMzMzMzCNApHA9CtejEEBmZmZmZuZiQDMzMzMzMy9AUrgehetRyD8AAAAAAAAuQAAAAAAAgDlAKVyPwvUoNEA0MzMzM7MhQGZmZmZmZvo/mpmZmZmZB0DNzMzMzMwQQGZmZmZmZhRAzczMzMzM5D8zMzMzMzMfQDMzMzMzMwtAAAAAAACAKUA0MzMzMzM5QAAAAAAAAC5AAAAAAAAALkAAAAAAAAAuQGZmZmZmZvo/AAAAAACAUEDNzMzMzMw3QOtRuB6F6yNAAAAAAAAABEAAAAAAAIAgQDQzMzMzszFAzczMzMzMNUAAAAAAAAAuQOtRuB6Fa15AAAAAAAAAHkAzMzMzMzPrPzQzMzMzszFAAAAAAAAANUA0MzMzM7NBQAAAAAAAAPQ/AAAAAAAA9D8AAAAAAIAgQAAAAAAAAC5APQrXo3A9VUDMzMzMzMwTQJqZmZmZmRdAAAAAAAAA9D8AAAAAAIAwQM3MzMzMzPQ/AAAAAAAAMUDNzMzMzMw0QDQzMzMzszFApHA9CtejIEAAAAAAAAD0Pz4K16NwvSNAAAAAAAAAMUAAAAAAAAAeQDQzMzMzMzlACtejcD0KG0DNzMzMzMwlQM3MzMzMzCBAAAAAAAAAIUDNzMzMzMwfQM3MzMzMzCVAKVyPwvUoFEApXI/C9Sj0P8zMzMzMzBNAmpmZmZmZEEAAAAAAAAAUQAAAAAAAgCBAmZmZmZmZNUBmZmZmZuYzQAAAAAAAAClAMzMzMzMzGUBmZmZmZmb6PwAAAAAAAB5AAAAAAAAADkCamZmZmZkHQAAAAAAAgCBAAAAAAAAA9D9mZmZmZmb6P83MzMzMzOQ/NDMzMzOzLUAAAAAAAAA1QAAAAAAAAARAAAAAAAAAKUAAAAAAAAA+QJqZmZmZmfE/AAAAAAAALkAAAAAAAIAtQAAAAAAAgDBAAAAAAAAALkA0MzMzM7MtQAAAAAAAADlAAAAAAAAANUAAAAAAAAAuQJqZmZmZmSdAmZmZmZmZLkDNzMzMzMwnQAAAAAAAACFAZmZmZmZm+j9mZmZmZmYEQDMzMzMzMwdAmpmZmZn5QUA0MzMzM7MtQM3MzMzMzD9AAAAAAAAATkDMzMzMzMwjQAAAAAAAACVAAAAAAAAAJUAAAAAAAIAwQDQzMzMzszFAAAAAAAAAPkAAAAAAAAAUQAAAAAAAAC5AAAAAAAAAIUBmZmZmZmYkQAAAAAAAgDNAZmZmZmZmBEAAAAAAAAAEQMzMzMzMzDNAmpmZmZmZL0BmZmZmZmb6PzMzMzMzM/8/AAAAAACAIEAzMzMzMzP/PwAAAAAAAB5AAAAAAACAMEDMzMzMzMwzQMzMzMzMzCZA4XoUrkfh6j80MzMzM7MtQDMzMzMzMxdAAAAAAAAAMUBmZmZmZmYaQAAAAAAAgCBAAAAAAACAKUBI4XoUrkckQGZmZmZm5jNAmpmZmZmZD0BmZmZmZuYxQDQzMzMzMzlANDMzMzOzIUBmZmZmZmYxQAAAAAAAgDZAAAAAAAAAFEBmZmZmZmb6P8zMzMzMzDNAuB6F61G48j8AAAAAAAAUQLgehetRuE5AAAAAAAAAGUBnZmZmZuZSQJqZmZmZmRdAFa5H4XoUU0ApXI/C9SgUQJqZmZmZ2TRAZmZmZmZmBEA0MzMzM7NBQGZmZmZmZvo/AAAAAAAALkBmZmZmZmYUQAAAAAAAACFAzMzMzMzMI0A+CtejcL0zQAAAAAAAgFlAAAAAAAAAHkCamZmZmZkwQAAAAAAAAC5AzczMzMzME0DMzMzMzMwzQAAAAAAAAA5AAAAAAAAALkCamZmZmZk3QGZmZmZmZjFAzczMzMzMJ0A0MzMzM7MtQAAAAAAAAARAAAAAAAAAPkCamZmZmdlBQAAAAAAAABlAZmZmZmZmCkCkcD0K16MAQJqZmZmZmUBAAAAAAACAIEAAAAAAAAApQJmZmZmZmR5ANDMzMzMzOUAzMzMzMzMPQAAAAAAAAC5ANDMzMzOzMUDNzMzMzMwAQGZmZmZmZiRAZmZmZmZm+j80MzMzM7MxQDMzMzMzM/c/AAAAAAAAHkAAAAAAAAAhQOJ6FK5H4S1ANDMzMzMzL0AAAAAAAAAxQAAAAAAAAC5ANDMzMzOzIUDNzMzMzMwjQClcj8L1KBRAZmZmZmZm+j80MzMzM7MxQGZmZmZmZhpAzczMzMzML0DMzMzMzMxDQMzMzMzMzBNAAAAAAAAA9D/rUbgeheszQAAAAAAAACVAzczMzMzMJ0AAAAAAAAAuQMzMzMzMzBNAAAAAAAAADkDrUbgehes5QAAAAAAAAC5AAAAAAACAKUD2KFyPwvUtQM3MzMzMzAhAAAAAAAAAJEDNzMzMzIxaQGZmZmZmZkRAAAAAAAAADkAAAAAAAAAuQClcj8L1KDRAKVyPwvUoFEDrUbgehesjQJmZmZmZOVtAmpmZmZnZMUBmZmZmZmb6PzQzMzMzMz9AAAAAAACAMECkcD0K1yM2QClcj8L1KBRAAAAAAACAM0DNzMzMzMw0QPYoXI/C9ShAAAAAAAAALkAAAAAAAAA+QOF6FK5H4eo/ZmZmZmZmEUDMzMzMzMwTQM3MzMzMzC9ANDMzMzOzMUC4HoXrUbgiQAAAAAAAAARAAAAAAAAAHkAAAAAAAAARQJqZmZmZmQdAAAAAAAAALkDNzMzMzMwkQGZmZmZmZkRAAAAAAACAMEA0MzMzMzMZQAAAAAAAAA5AAAAAAAAALkApXI/C9SgkQJqZmZmZmRdAzczMzMzMM0AAAAAAAIAmQAAAAAAAgDZA9ihcj8L1+D8AAAAAAAA+QAAAAAAAAA5AzczMzMzMF0DNzMzMzMwvQMzMzMzMzDNAMzMzMzMz9z/MzMzMzMwzQDMzMzMzMytAZmZmZmbmMkBmZmZmZmb6P83MzMzMzCdAMzMzMzMzB0DNzMzMzMwAQAAAAAAAAA5ANDMzMzMzGUA0MzMzMzNJQDQzMzMzMylAAAAAAAAADkAAAAAAAAD0PwAAAAAAADFAKVyPwvUo9D8AAAAAAIAzQM3MzMzMzBNAZmZmZmZmMUAAAAAAAIAwQDQzMzMz01VAmZmZmZmZLkBmZmZmZmYKQLgehetR+DVAZmZmZmZmNEA0MzMzMzM5QMzMzMzMzDNAZmZmZmZmGkBI4XoUrkckQDQzMzMzMx9A9ihcj8L16D8zMzMzM/MwQI/C9Shcj/o/ZmZmZmZmKkCamZmZmZkHQM3MzMzMzBBAmpmZmZmZP0BmZmZmZmb6P5qZmZmZmQdAAAAAAACAMEAK16NwPQoHQDQzMzMzsy1AAAAAAACAMEBmZmZmZmYqQNejcD0KV1RAAAAAAAAAHkAAAAAAAAAxQMzMzMzMzBNAzczMzMzMH0DNzMzMzMwgQJqZmZmZ2TFAAAAAAACAPUA0MzMzM7NBQDMzMzMzM/8/Z2ZmZmZm+j+amZmZmZk7QJqZmZmZmTdANDMzMzOzMUAAAAAAAAAZQGZmZmZm5iNAAAAAAAAAJUAAAAAAAAAUQDQzMzMzMxlAZmZmZmZm+j80MzMzMzP/P2ZmZmZmZjdA",
           "dtype": "f8"
          },
          "sizemode": "area",
          "sizeref": 2.7,
          "symbol": "circle"
         },
         "mode": "markers",
         "name": "United Kingdom",
         "orientation": "v",
         "showlegend": true,
         "type": "scatter",
         "x": {
          "bdata": "BAAMABkAAQAwAAgADAADAAEAAQABAAoAAgABAAYAAwAGAAEAEQABAAEACADhAAIAAQAZAAEAGAAGABgAAgAKAAEAAQACAAwAAQAEAAwAEAAYAAIAAgABAAMAAQAEAAwAAQAMAAIABgAIAAIAGAAIAAIABgADAAYAAQABAAwACgAYAAIADAACAAQAHgAYAAgAAQABAAQADAAGAAoAAQAMAAwAGQAKADAADAACAAQAAQADAAQADAADAAYACAABAAEAAQAYABgADAACAAEABQAGAAMASAAQAAwADAAJABkABAAgAAwABgAMAAIAAQAYAAoAAQAMAAYADAASAAwAAgAEADAAAgABAAgABAAEAAYACAAGAAMAAQACAAEAAQABAAMAAgADAAEABgACAAwADAATAAEAAwADAAIAGAAMAAMABgA8ADAAAwADAAQABAAGAAoACAAMAAwADAAGAAEADAAGAAEAAQACAAEAEAAMAAgAAQAEAAQAMAAFAAQADAAKAAoA3AUBAAwADAABABkADAABABQAAQABAAwAAQAGAAwABQACABIAAgAQAAEABAAHAAQAAQAKAAIABAACAAMAAQAMAAIABAABAAIAAQAEAAYADAABAAwAAgAFAAIAGAADAAwAAgAYAFoABAADAAYAAQAKAAEAAgABAAwAAQAGAAIABAAKABQAGABIAAEAAQAEABgAAQAYAAQAJAAFAAMAAwAMAAgABAAMABgABgAGAAEADAAMAAEACgAwAAwADAAEABkAAQASAAEAGAACAAEAAgAMAAIACgAGAAUADAACAAYADAABABgADAABAAQADADYAAwAAQACAAIAAgAkACQACgACAAEACgACAAMADAAMABgAAgAMAAwADAABAAYABgAGAAEAAgACAAwAAgAKAAwABQACAAwAAQABAAEAAgACAAMAAwAUAAwABgABAAwABgACAAwAAgABAAEABQAMAAIACAAEABgAAQABAAoACgAMAAwAAwADAAMAAQAFAAEAFAAKABgABgABAAgAAgAGAAEAAQADAAMAAQACAAIAAQABAAIAIAABAAEAEAACAAEABgACABgAAwABAAQADAABAA8AGQAwAAEACgACAAMAAQABAAwAAQABAAwAAgAMAAEAAQAMAAoABgACAAQAAgAQAAMADAADAAQACgAMAAMABAAGAAYABgADAAEACAABABkAAQAMAAQAAQAYAAYADAAFAAwAAgACAAMAAQAEAAwABgAKAAYAAgABAAEACQABAAUAGAAYABgAEgABAAQADAAEAAgAAQAMAAoAAgAIAAIABAABAAwAAgADAAIACgACAAYAJAADAGAAAgAMAAgAAwADABgAAwAeAAEABgAMABgAAgAKAAIABgADAAIADAAwAAQABgACAAYADAAYAAEABAAFAAQADAAFAAIAAwA8AAwAAgAEABgAAgACAAkAAwAEAAEACgAQAAwAAQACAAEAAQACAAQAFAABAAwADAACAAwABgAGAAwAMABIAAwAAgCoABQAGAABAGQABAAMAAYAAgADAAYAAgBoAQgAAQAMAB4AMAADAAEAAQACAAIAAQAEAAQAAwAMAAwADAAMAAEAGAAEAAwAAgAFAAYABAAMAEgAAgABAAYADAAMAAEAAQAFAAQASAADAAIAAQAKAAIAFAAKAAYABAABAAMAAgACAAwABAACAAQAAgABAAIADAADAAMAAQAEAAEAHgACAAIADwABAAYAAwABAAEAAQABAAEAAwAKAAIACgAYAAIADAAFAAoABAADABQACgAMAAQABgACAAoAAQABAAIAAQADAAQAMAAGAAUAGQACAAYAGAAEAAwAAgAMAAoAAQACAAwAFAABAAEAAQABAAYACgAMAAwAAgADAAQAAgAEAAUAAQAGAAIAAQACAAwAAwAMAAYABAABAAwAAwAEAGAABQAkAAIASAAMAAMAAQAMAAEABAAGAAoABgAGABgAAgAEAAwAAQAMAAEADAAIAAwAAgADAAIAGAAGAAUAAgABAAgAAQAKAAMADAACAAwABgABAAQAAQAGAAEAAgABAAYAGAACAAwAAwACAAwAAQAGAAQAAgAYAAMAAQAYABkAAgAMAAMAAQAkAAQAAwACAAIACAAkADAAAQAMADAADAAMAEIAAwABADAACgAJAAwACgAKAAYADAAYAAIAAwADAAIABgAYAAIABgABAAEABAAQADAACgADAAEADAAYAAIABAADAAYABAAYAAEAAQACAAwABQAMABAAWgABAAIAAgABAAMAAwAYAAYAAQABAAQAAwAGAAEADAAKAAYABgACAA0AGAAMAAwABAAGAAwAAgABAAIACAABAAQACAABAAEACgAYAAMAAgAIABgAAgACAAMAAQAEAAMACgAMAAEAAwAIAAgABgAFAAEAGQAEAAMAAQADAAwA",
          "dtype": "i2"
         },
         "xaxis": "x",
         "y": {
          "bdata": "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",
          "dtype": "f8"
         },
         "yaxis": "y"
        },
        {
         "customdata": [
          [
           2.95,
           "Spain",
           "2011-11"
          ],
          [
           10,
           "Spain",
           "2011-11"
          ],
          [
           29.700000000000003,
           "Spain",
           "2011-02"
          ],
          [
           30.599999999999998,
           "Spain",
           "2010-01"
          ]
         ],
         "hovertemplate": "Quantity=%{x}<br>Price=%{y}<br>Month=%{customdata[2]}<extra></extra>",
         "legendgroup": "Spain",
         "marker": {
          "color": "#EF553B",
          "size": {
           "bdata": "mpmZmZmZB0AAAAAAAAAkQDQzMzMzsz1AmZmZmZmZPkA=",
           "dtype": "f8"
          },
          "sizemode": "area",
          "sizeref": 2.7,
          "symbol": "circle"
         },
         "mode": "markers",
         "name": "Spain",
         "orientation": "v",
         "showlegend": true,
         "type": "scatter",
         "x": {
          "bdata": "AQgGDA==",
          "dtype": "i1"
         },
         "xaxis": "x",
         "y": {
          "bdata": "mpmZmZmZB0AAAAAAAAD0P83MzMzMzBNAZmZmZmZmBEA=",
          "dtype": "f8"
         },
         "yaxis": "y"
        },
        {
         "customdata": [
          [
           15.9,
           "Sweden",
           "2011-04"
          ]
         ],
         "hovertemplate": "Quantity=%{x}<br>Price=%{y}<br>Month=%{customdata[2]}<extra></extra>",
         "legendgroup": "Sweden",
         "marker": {
          "color": "#00cc96",
          "size": {
           "bdata": "zczMzMzML0A=",
           "dtype": "f8"
          },
          "sizemode": "area",
          "sizeref": 2.7,
          "symbol": "circle"
         },
         "mode": "markers",
         "name": "Sweden",
         "orientation": "v",
         "showlegend": true,
         "type": "scatter",
         "x": {
          "bdata": "Ag==",
          "dtype": "i1"
         },
         "xaxis": "x",
         "y": {
          "bdata": "zczMzMzMH0A=",
          "dtype": "f8"
         },
         "yaxis": "y"
        },
        {
         "customdata": [
          [
           16.6,
           "Germany",
           "2011-06"
          ],
          [
           19.799999999999997,
           "Germany",
           "2011-06"
          ],
          [
           13.5,
           "Germany",
           "2011-11"
          ],
          [
           17.700000000000003,
           "Germany",
           "2011-09"
          ],
          [
           15,
           "Germany",
           "2010-07"
          ],
          [
           30,
           "Germany",
           "2011-10"
          ],
          [
           18,
           "Germany",
           "2011-08"
          ],
          [
           13.52,
           "Germany",
           "2010-01"
          ],
          [
           20.4,
           "Germany",
           "2010-10"
          ],
          [
           8.5,
           "Germany",
           "2010-01"
          ],
          [
           25.200000000000003,
           "Germany",
           "2010-10"
          ],
          [
           15,
           "Germany",
           "2011-10"
          ],
          [
           12.75,
           "Germany",
           "2010-10"
          ],
          [
           16.6,
           "Germany",
           "2011-12"
          ]
         ],
         "hovertemplate": "Quantity=%{x}<br>Price=%{y}<br>Month=%{customdata[2]}<extra></extra>",
         "legendgroup": "Germany",
         "marker": {
          "color": "#ab63fa",
          "size": {
           "bdata": "mpmZmZmZMEDMzMzMzMwzQAAAAAAAACtANDMzMzOzMUAAAAAAAAAuQAAAAAAAAD5AAAAAAAAAMkAK16NwPQorQGZmZmZmZjRAAAAAAAAAIUA0MzMzMzM5QAAAAAAAAC5AAAAAAACAKUCamZmZmZkwQA==",
           "dtype": "f8"
          },
          "sizemode": "area",
          "sizeref": 2.7,
          "symbol": "circle"
         },
         "mode": "markers",
         "name": "Germany",
         "orientation": "v",
         "showlegend": true,
         "type": "scatter",
         "x": {
          "bdata": "BAwCBgwIAQgYCgwMAwQ=",
          "dtype": "i1"
         },
         "xaxis": "x",
         "y": {
          "bdata": "mpmZmZmZEEBmZmZmZmb6PwAAAAAAABtAmpmZmZmZB0AAAAAAAAD0PwAAAAAAAA5AAAAAAAAAMkAK16NwPQr7PzMzMzMzM+s/MzMzMzMz6z/NzMzMzMwAQAAAAAAAAPQ/AAAAAAAAEUCamZmZmZkQQA==",
          "dtype": "f8"
         },
         "yaxis": "y"
        },
        {
         "customdata": [
          [
           15,
           "EIRE",
           "2010-06"
          ],
          [
           20.16,
           "EIRE",
           "2010-07"
          ],
          [
           26,
           "EIRE",
           "2010-09"
          ],
          [
           13.5,
           "EIRE",
           "2011-01"
          ],
          [
           90,
           "EIRE",
           "2010-09"
          ],
          [
           306,
           "EIRE",
           "2011-01"
          ],
          [
           5.04,
           "EIRE",
           "2011-07"
          ],
          [
           6.72,
           "EIRE",
           "2011-07"
          ],
          [
           17.88,
           "EIRE",
           "2010-01"
          ],
          [
           816,
           "EIRE",
           "2010-01"
          ],
          [
           118.8,
           "EIRE",
           "2011-09"
          ],
          [
           15,
           "EIRE",
           "2010-09"
          ],
          [
           29.96,
           "EIRE",
           "2010-04"
          ],
          [
           29.700000000000003,
           "EIRE",
           "2011-07"
          ],
          [
           10.5,
           "EIRE",
           "2010-10"
          ],
          [
           17,
           "EIRE",
           "2011-11"
          ],
          [
           15.600000000000001,
           "EIRE",
           "2010-08"
          ],
          [
           61.199999999999996,
           "EIRE",
           "2011-12"
          ]
         ],
         "hovertemplate": "Quantity=%{x}<br>Price=%{y}<br>Month=%{customdata[2]}<extra></extra>",
         "legendgroup": "EIRE",
         "marker": {
          "color": "#FFA15A",
          "size": {
           "bdata": "AAAAAAAALkApXI/C9Sg0QAAAAAAAADpAAAAAAAAAK0AAAAAAAIBWQAAAAAAAIHNAKVyPwvUoFEDhehSuR+EaQOF6FK5H4TFAAAAAAACAiUAzMzMzM7NdQAAAAAAAAC5A9ihcj8L1PUA0MzMzM7M9QAAAAAAAACVAAAAAAAAAMUA0MzMzMzMvQJmZmZmZmU5A",
           "dtype": "f8"
          },
          "sizemode": "area",
          "sizeref": 2.7,
          "symbol": "circle"
         },
         "mode": "markers",
         "name": "EIRE",
         "orientation": "v",
         "showlegend": true,
         "type": "scatter",
         "x": {
          "bdata": "DAAwAAgAAgBIAHgADAAQAAwAQAFIAAwABAAGABkABAAYABgA",
          "dtype": "i2"
         },
         "xaxis": "x",
         "y": {
          "bdata": "AAAAAAAA9D/hehSuR+HaPwAAAAAAAApAAAAAAAAAG0AAAAAAAAD0P2ZmZmZmZgRA4XoUrkfh2j/hehSuR+HaP9ejcD0K1/c/ZmZmZmZmBEBmZmZmZmb6PwAAAAAAAPQ/9ihcj8L1HUDNzMzMzMwTQOF6FK5H4do/AAAAAAAAEUDNzMzMzMzkP2ZmZmZmZgRA",
          "dtype": "f8"
         },
         "yaxis": "y"
        },
        {
         "customdata": [
          [
           25.5,
           "France",
           "2009-12"
          ],
          [
           15,
           "France",
           "2010-05"
          ],
          [
           8.5,
           "France",
           "2010-01"
          ],
          [
           41.7,
           "France",
           "2011-02"
          ],
          [
           41.6,
           "France",
           "2011-12"
          ],
          [
           46.8,
           "France",
           "2010-07"
          ],
          [
           17,
           "France",
           "2011-11"
          ],
          [
           15,
           "France",
           "2011-07"
          ],
          [
           34,
           "France",
           "2011-10"
          ],
          [
           32.849999999999994,
           "France",
           "2010-11"
          ],
          [
           1.7,
           "France",
           "2010-07"
          ],
          [
           39,
           "France",
           "2011-04"
          ],
          [
           15,
           "France",
           "2010-09"
          ],
          [
           17.34,
           "France",
           "2011-07"
          ],
          [
           31.8,
           "France",
           "2011-09"
          ],
          [
           10.08,
           "France",
           "2010-02"
          ],
          [
           51.00000000000001,
           "France",
           "2010-08"
          ],
          [
           15,
           "France",
           "2010-08"
          ],
          [
           39.8,
           "France",
           "2010-07"
          ],
          [
           17,
           "France",
           "2011-11"
          ]
         ],
         "hovertemplate": "Quantity=%{x}<br>Price=%{y}<br>Month=%{customdata[2]}<extra></extra>",
         "legendgroup": "France",
         "marker": {
          "color": "#19d3f3",
          "size": {
           "bdata": "AAAAAACAOUAAAAAAAAAuQAAAAAAAACFAmpmZmZnZREDNzMzMzMxEQGZmZmZmZkdAAAAAAAAAMUAAAAAAAAAuQAAAAAAAAEFAzMzMzMxsQEAzMzMzMzP7PwAAAAAAgENAAAAAAAAALkDXo3A9ClcxQM3MzMzMzD9AKVyPwvUoJEABAAAAAIBJQAAAAAAAAC5AZmZmZmbmQ0AAAAAAAAAxQA==",
           "dtype": "f8"
          },
          "sizemode": "area",
          "sizeref": 2.7,
          "symbol": "circle"
         },
         "mode": "markers",
         "name": "France",
         "orientation": "v",
         "showlegend": true,
         "type": "scatter",
         "x": {
          "bdata": "AwAEAAoABgAUABgABAAEACgAAwACAAwADAAGAAQAGAAsAQwABAAUAA==",
          "dtype": "i2"
         },
         "xaxis": "x",
         "y": {
          "bdata": "AAAAAAAAIUAAAAAAAAAOQDMzMzMzM+s/zczMzMzMG0CkcD0K16MAQDMzMzMzM/8/AAAAAAAAEUAAAAAAAAAOQDMzMzMzM+s/ZmZmZmbmJUAzMzMzMzPrPwAAAAAAAApAAAAAAAAA9D8fhetRuB4HQM3MzMzMzB9A4XoUrkfh2j/D9Shcj8LFPwAAAAAAAPQ/ZmZmZmbmI0AzMzMzMzPrPw==",
          "dtype": "f8"
         },
         "yaxis": "y"
        },
        {
         "customdata": [
          [
           19.799999999999997,
           "Cyprus",
           "2010-04"
          ]
         ],
         "hovertemplate": "Quantity=%{x}<br>Price=%{y}<br>Month=%{customdata[2]}<extra></extra>",
         "legendgroup": "Cyprus",
         "marker": {
          "color": "#FF6692",
          "size": {
           "bdata": "zMzMzMzMM0A=",
           "dtype": "f8"
          },
          "sizemode": "area",
          "sizeref": 2.7,
          "symbol": "circle"
         },
         "mode": "markers",
         "name": "Cyprus",
         "orientation": "v",
         "showlegend": true,
         "type": "scatter",
         "x": {
          "bdata": "DA==",
          "dtype": "i1"
         },
         "xaxis": "x",
         "y": {
          "bdata": "ZmZmZmZm+j8=",
          "dtype": "f8"
         },
         "yaxis": "y"
        },
        {
         "customdata": [
          [
           68,
           "Australia",
           "2011-06"
          ]
         ],
         "hovertemplate": "Quantity=%{x}<br>Price=%{y}<br>Month=%{customdata[2]}<extra></extra>",
         "legendgroup": "Australia",
         "marker": {
          "color": "#B6E880",
          "size": {
           "bdata": "AAAAAAAAUUA=",
           "dtype": "f8"
          },
          "sizemode": "area",
          "sizeref": 2.7,
          "symbol": "circle"
         },
         "mode": "markers",
         "name": "Australia",
         "orientation": "v",
         "showlegend": true,
         "type": "scatter",
         "x": {
          "bdata": "yAA=",
          "dtype": "i2"
         },
         "xaxis": "x",
         "y": {
          "bdata": "w/UoXI/C1T8=",
          "dtype": "f8"
         },
         "yaxis": "y"
        },
        {
         "customdata": [
          [
           139.2,
           "Netherlands",
           "2011-03"
          ],
          [
           15.299999999999999,
           "Netherlands",
           "2010-04"
          ],
          [
           238.79999999999998,
           "Netherlands",
           "2011-11"
          ],
          [
           106,
           "Netherlands",
           "2011-01"
          ],
          [
           180,
           "Netherlands",
           "2010-11"
          ],
          [
           39.839999999999996,
           "Netherlands",
           "2011-10"
          ],
          [
           100.8,
           "Netherlands",
           "2011-06"
          ],
          [
           0.65,
           "Netherlands",
           "2009-12"
          ],
          [
           70.80000000000001,
           "Netherlands",
           "2010-10"
          ]
         ],
         "hovertemplate": "Quantity=%{x}<br>Price=%{y}<br>Month=%{customdata[2]}<extra></extra>",
         "legendgroup": "Netherlands",
         "marker": {
          "color": "#FF97FF",
          "size": {
           "bdata": "ZmZmZmZmYUCZmZmZmZkuQJmZmZmZ2W1AAAAAAACAWkAAAAAAAIBmQOtRuB6F60NAMzMzMzMzWUDNzMzMzMzkPzQzMzMzs1FA",
           "dtype": "f8"
          },
          "sizemode": "area",
          "sizeref": 2.7,
          "symbol": "circle"
         },
         "mode": "markers",
         "name": "Netherlands",
         "orientation": "v",
         "showlegend": true,
         "type": "scatter",
         "x": {
          "bdata": "YAAGABgAZAAwADAA8AABABgA",
          "dtype": "i2"
         },
         "xaxis": "x",
         "y": {
          "bdata": "MzMzMzMz9z9mZmZmZmYEQGZmZmZm5iNA9ihcj8L18D8AAAAAAAAOQI/C9Shcj+o/4XoUrkfh2j/NzMzMzMzkP5qZmZmZmQdA",
          "dtype": "f8"
         },
         "yaxis": "y"
        },
        {
         "customdata": [
          [
           45,
           "Singapore",
           "2011-01"
          ],
          [
           16.6,
           "Singapore",
           "2011-10"
          ],
          [
           15,
           "Singapore",
           "2011-01"
          ]
         ],
         "hovertemplate": "Quantity=%{x}<br>Price=%{y}<br>Month=%{customdata[2]}<extra></extra>",
         "legendgroup": "Singapore",
         "marker": {
          "color": "#FECB52",
          "size": {
           "bdata": "AAAAAACARkCamZmZmZkwQAAAAAAAAC5A",
           "dtype": "f8"
          },
          "sizemode": "area",
          "sizeref": 2.7,
          "symbol": "circle"
         },
         "mode": "markers",
         "name": "Singapore",
         "orientation": "v",
         "showlegend": true,
         "type": "scatter",
         "x": {
          "bdata": "DAQM",
          "dtype": "i1"
         },
         "xaxis": "x",
         "y": {
          "bdata": "AAAAAAAADkCamZmZmZkQQAAAAAAAAPQ/",
          "dtype": "f8"
         },
         "yaxis": "y"
        },
        {
         "customdata": [
          [
           10.08,
           "Austria",
           "2010-11"
          ]
         ],
         "hovertemplate": "Quantity=%{x}<br>Price=%{y}<br>Month=%{customdata[2]}<extra></extra>",
         "legendgroup": "Austria",
         "marker": {
          "color": "#636efa",
          "size": {
           "bdata": "KVyPwvUoJEA=",
           "dtype": "f8"
          },
          "sizemode": "area",
          "sizeref": 2.7,
          "symbol": "circle"
         },
         "mode": "markers",
         "name": "Austria",
         "orientation": "v",
         "showlegend": true,
         "type": "scatter",
         "x": {
          "bdata": "GA==",
          "dtype": "i1"
         },
         "xaxis": "x",
         "y": {
          "bdata": "4XoUrkfh2j8=",
          "dtype": "f8"
         },
         "yaxis": "y"
        },
        {
         "customdata": [
          [
           16.5,
           "Greece",
           "2010-01"
          ]
         ],
         "hovertemplate": "Quantity=%{x}<br>Price=%{y}<br>Month=%{customdata[2]}<extra></extra>",
         "legendgroup": "Greece",
         "marker": {
          "color": "#EF553B",
          "size": {
           "bdata": "AAAAAACAMEA=",
           "dtype": "f8"
          },
          "sizemode": "area",
          "sizeref": 2.7,
          "symbol": "circle"
         },
         "mode": "markers",
         "name": "Greece",
         "orientation": "v",
         "showlegend": true,
         "type": "scatter",
         "x": {
          "bdata": "Cg==",
          "dtype": "i1"
         },
         "xaxis": "x",
         "y": {
          "bdata": "ZmZmZmZm+j8=",
          "dtype": "f8"
         },
         "yaxis": "y"
        },
        {
         "customdata": [
          [
           17.700000000000003,
           "Portugal",
           "2010-09"
          ]
         ],
         "hovertemplate": "Quantity=%{x}<br>Price=%{y}<br>Month=%{customdata[2]}<extra></extra>",
         "legendgroup": "Portugal",
         "marker": {
          "color": "#00cc96",
          "size": {
           "bdata": "NDMzMzOzMUA=",
           "dtype": "f8"
          },
          "sizemode": "area",
          "sizeref": 2.7,
          "symbol": "circle"
         },
         "mode": "markers",
         "name": "Portugal",
         "orientation": "v",
         "showlegend": true,
         "type": "scatter",
         "x": {
          "bdata": "Bg==",
          "dtype": "i1"
         },
         "xaxis": "x",
         "y": {
          "bdata": "mpmZmZmZB0A=",
          "dtype": "f8"
         },
         "yaxis": "y"
        },
        {
         "customdata": [
          [
           31.6,
           "Finland",
           "2011-03"
          ]
         ],
         "hovertemplate": "Quantity=%{x}<br>Price=%{y}<br>Month=%{customdata[2]}<extra></extra>",
         "legendgroup": "Finland",
         "marker": {
          "color": "#ab63fa",
          "size": {
           "bdata": "mpmZmZmZP0A=",
           "dtype": "f8"
          },
          "sizemode": "area",
          "sizeref": 2.7,
          "symbol": "circle"
         },
         "mode": "markers",
         "name": "Finland",
         "orientation": "v",
         "showlegend": true,
         "type": "scatter",
         "x": {
          "bdata": "CA==",
          "dtype": "i1"
         },
         "xaxis": "x",
         "y": {
          "bdata": "mpmZmZmZD0A=",
          "dtype": "f8"
         },
         "yaxis": "y"
        },
        {
         "customdata": [
          [
           15.299999999999999,
           "Italy",
           "2010-03"
          ]
         ],
         "hovertemplate": "Quantity=%{x}<br>Price=%{y}<br>Month=%{customdata[2]}<extra></extra>",
         "legendgroup": "Italy",
         "marker": {
          "color": "#FFA15A",
          "size": {
           "bdata": "mZmZmZmZLkA=",
           "dtype": "f8"
          },
          "sizemode": "area",
          "sizeref": 2.7,
          "symbol": "circle"
         },
         "mode": "markers",
         "name": "Italy",
         "orientation": "v",
         "showlegend": true,
         "type": "scatter",
         "x": {
          "bdata": "Bg==",
          "dtype": "i1"
         },
         "xaxis": "x",
         "y": {
          "bdata": "ZmZmZmZmBEA=",
          "dtype": "f8"
         },
         "yaxis": "y"
        },
        {
         "customdata": [
          [
           19.799999999999997,
           "Switzerland",
           "2010-08"
          ]
         ],
         "hovertemplate": "Quantity=%{x}<br>Price=%{y}<br>Month=%{customdata[2]}<extra></extra>",
         "legendgroup": "Switzerland",
         "marker": {
          "color": "#19d3f3",
          "size": {
           "bdata": "zMzMzMzMM0A=",
           "dtype": "f8"
          },
          "sizemode": "area",
          "sizeref": 2.7,
          "symbol": "circle"
         },
         "mode": "markers",
         "name": "Switzerland",
         "orientation": "v",
         "showlegend": true,
         "type": "scatter",
         "x": {
          "bdata": "DA==",
          "dtype": "i1"
         },
         "xaxis": "x",
         "y": {
          "bdata": "ZmZmZmZm+j8=",
          "dtype": "f8"
         },
         "yaxis": "y"
        },
        {
         "customdata": [
          [
           16.6,
           "Belgium",
           "2011-12"
          ],
          [
           19.8,
           "Belgium",
           "2011-12"
          ],
          [
           35.400000000000006,
           "Belgium",
           "2010-02"
          ],
          [
           15,
           "Belgium",
           "2011-02"
          ]
         ],
         "hovertemplate": "Quantity=%{x}<br>Price=%{y}<br>Month=%{customdata[2]}<extra></extra>",
         "legendgroup": "Belgium",
         "marker": {
          "color": "#FF6692",
          "size": {
           "bdata": "mpmZmZmZMEDNzMzMzMwzQDQzMzMzs0FAAAAAAAAALkA=",
           "dtype": "f8"
          },
          "sizemode": "area",
          "sizeref": 2.7,
          "symbol": "circle"
         },
         "mode": "markers",
         "name": "Belgium",
         "orientation": "v",
         "showlegend": true,
         "type": "scatter",
         "x": {
          "bdata": "BAQMDA==",
          "dtype": "i1"
         },
         "xaxis": "x",
         "y": {
          "bdata": "mpmZmZmZEEDNzMzMzMwTQJqZmZmZmQdAAAAAAAAA9D8=",
          "dtype": "f8"
         },
         "yaxis": "y"
        },
        {
         "customdata": [
          [
           10.5,
           "Israel",
           "2011-10"
          ]
         ],
         "hovertemplate": "Quantity=%{x}<br>Price=%{y}<br>Month=%{customdata[2]}<extra></extra>",
         "legendgroup": "Israel",
         "marker": {
          "color": "#B6E880",
          "size": {
           "bdata": "AAAAAAAAJUA=",
           "dtype": "f8"
          },
          "sizemode": "area",
          "sizeref": 2.7,
          "symbol": "circle"
         },
         "mode": "markers",
         "name": "Israel",
         "orientation": "v",
         "showlegend": true,
         "type": "scatter",
         "x": {
          "bdata": "GQ==",
          "dtype": "i1"
         },
         "xaxis": "x",
         "y": {
          "bdata": "4XoUrkfh2j8=",
          "dtype": "f8"
         },
         "yaxis": "y"
        },
        {
         "customdata": [
          [
           38.25,
           "USA",
           "2010-01"
          ]
         ],
         "hovertemplate": "Quantity=%{x}<br>Price=%{y}<br>Month=%{customdata[2]}<extra></extra>",
         "legendgroup": "USA",
         "marker": {
          "color": "#FF97FF",
          "size": {
           "bdata": "AAAAAAAgQ0A=",
           "dtype": "f8"
          },
          "sizemode": "area",
          "sizeref": 2.7,
          "symbol": "circle"
         },
         "mode": "markers",
         "name": "USA",
         "orientation": "v",
         "showlegend": true,
         "type": "scatter",
         "x": {
          "bdata": "Aw==",
          "dtype": "i1"
         },
         "xaxis": "x",
         "y": {
          "bdata": "AAAAAACAKUA=",
          "dtype": "f8"
         },
         "yaxis": "y"
        },
        {
         "customdata": [
          [
           29.700000000000003,
           "United Arab Emirates",
           "2011-02"
          ]
         ],
         "hovertemplate": "Quantity=%{x}<br>Price=%{y}<br>Month=%{customdata[2]}<extra></extra>",
         "legendgroup": "United Arab Emirates",
         "marker": {
          "color": "#FECB52",
          "size": {
           "bdata": "NDMzMzOzPUA=",
           "dtype": "f8"
          },
          "sizemode": "area",
          "sizeref": 2.7,
          "symbol": "circle"
         },
         "mode": "markers",
         "name": "United Arab Emirates",
         "orientation": "v",
         "showlegend": true,
         "type": "scatter",
         "x": {
          "bdata": "Bg==",
          "dtype": "i1"
         },
         "xaxis": "x",
         "y": {
          "bdata": "zczMzMzME0A=",
          "dtype": "f8"
         },
         "yaxis": "y"
        },
        {
         "customdata": [
          [
           13.200000000000001,
           "Channel Islands",
           "2010-05"
          ]
         ],
         "hovertemplate": "Quantity=%{x}<br>Price=%{y}<br>Month=%{customdata[2]}<extra></extra>",
         "legendgroup": "Channel Islands",
         "marker": {
          "color": "#636efa",
          "size": {
           "bdata": "Z2ZmZmZmKkA=",
           "dtype": "f8"
          },
          "sizemode": "area",
          "sizeref": 2.7,
          "symbol": "circle"
         },
         "mode": "markers",
         "name": "Channel Islands",
         "orientation": "v",
         "showlegend": true,
         "type": "scatter",
         "x": {
          "bdata": "GA==",
          "dtype": "i1"
         },
         "xaxis": "x",
         "y": {
          "bdata": "mpmZmZmZ4T8=",
          "dtype": "f8"
         },
         "yaxis": "y"
        }
       ],
       "layout": {
        "legend": {
         "itemsizing": "constant",
         "title": {
          "text": "Country"
         },
         "tracegroupgap": 0
        },
        "template": {
         "data": {
          "bar": [
           {
            "error_x": {
             "color": "#2a3f5f"
            },
            "error_y": {
             "color": "#2a3f5f"
            },
            "marker": {
             "line": {
              "color": "#E5ECF6",
              "width": 0.5
             },
             "pattern": {
              "fillmode": "overlay",
              "size": 10,
              "solidity": 0.2
             }
            },
            "type": "bar"
           }
          ],
          "barpolar": [
           {
            "marker": {
             "line": {
              "color": "#E5ECF6",
              "width": 0.5
             },
             "pattern": {
              "fillmode": "overlay",
              "size": 10,
              "solidity": 0.2
             }
            },
            "type": "barpolar"
           }
          ],
          "carpet": [
           {
            "aaxis": {
             "endlinecolor": "#2a3f5f",
             "gridcolor": "white",
             "linecolor": "white",
             "minorgridcolor": "white",
             "startlinecolor": "#2a3f5f"
            },
            "baxis": {
             "endlinecolor": "#2a3f5f",
             "gridcolor": "white",
             "linecolor": "white",
             "minorgridcolor": "white",
             "startlinecolor": "#2a3f5f"
            },
            "type": "carpet"
           }
          ],
          "choropleth": [
           {
            "colorbar": {
             "outlinewidth": 0,
             "ticks": ""
            },
            "type": "choropleth"
           }
          ],
          "contour": [
           {
            "colorbar": {
             "outlinewidth": 0,
             "ticks": ""
            },
            "colorscale": [
             [
              0,
              "#0d0887"
             ],
             [
              0.1111111111111111,
              "#46039f"
             ],
             [
              0.2222222222222222,
              "#7201a8"
             ],
             [
              0.3333333333333333,
              "#9c179e"
             ],
             [
              0.4444444444444444,
              "#bd3786"
             ],
             [
              0.5555555555555556,
              "#d8576b"
             ],
             [
              0.6666666666666666,
              "#ed7953"
             ],
             [
              0.7777777777777778,
              "#fb9f3a"
             ],
             [
              0.8888888888888888,
              "#fdca26"
             ],
             [
              1,
              "#f0f921"
             ]
            ],
            "type": "contour"
           }
          ],
          "contourcarpet": [
           {
            "colorbar": {
             "outlinewidth": 0,
             "ticks": ""
            },
            "type": "contourcarpet"
           }
          ],
          "heatmap": [
           {
            "colorbar": {
             "outlinewidth": 0,
             "ticks": ""
            },
            "colorscale": [
             [
              0,
              "#0d0887"
             ],
             [
              0.1111111111111111,
              "#46039f"
             ],
             [
              0.2222222222222222,
              "#7201a8"
             ],
             [
              0.3333333333333333,
              "#9c179e"
             ],
             [
              0.4444444444444444,
              "#bd3786"
             ],
             [
              0.5555555555555556,
              "#d8576b"
             ],
             [
              0.6666666666666666,
              "#ed7953"
             ],
             [
              0.7777777777777778,
              "#fb9f3a"
             ],
             [
              0.8888888888888888,
              "#fdca26"
             ],
             [
              1,
              "#f0f921"
             ]
            ],
            "type": "heatmap"
           }
          ],
          "histogram": [
           {
            "marker": {
             "pattern": {
              "fillmode": "overlay",
              "size": 10,
              "solidity": 0.2
             }
            },
            "type": "histogram"
           }
          ],
          "histogram2d": [
           {
            "colorbar": {
             "outlinewidth": 0,
             "ticks": ""
            },
            "colorscale": [
             [
              0,
              "#0d0887"
             ],
             [
              0.1111111111111111,
              "#46039f"
             ],
             [
              0.2222222222222222,
              "#7201a8"
             ],
             [
              0.3333333333333333,
              "#9c179e"
             ],
             [
              0.4444444444444444,
              "#bd3786"
             ],
             [
              0.5555555555555556,
              "#d8576b"
             ],
             [
              0.6666666666666666,
              "#ed7953"
             ],
             [
              0.7777777777777778,
              "#fb9f3a"
             ],
             [
              0.8888888888888888,
              "#fdca26"
             ],
             [
              1,
              "#f0f921"
             ]
            ],
            "type": "histogram2d"
           }
          ],
          "histogram2dcontour": [
           {
            "colorbar": {
             "outlinewidth": 0,
             "ticks": ""
            },
            "colorscale": [
             [
              0,
              "#0d0887"
             ],
             [
              0.1111111111111111,
              "#46039f"
             ],
             [
              0.2222222222222222,
              "#7201a8"
             ],
             [
              0.3333333333333333,
              "#9c179e"
             ],
             [
              0.4444444444444444,
              "#bd3786"
             ],
             [
              0.5555555555555556,
              "#d8576b"
             ],
             [
              0.6666666666666666,
              "#ed7953"
             ],
             [
              0.7777777777777778,
              "#fb9f3a"
             ],
             [
              0.8888888888888888,
              "#fdca26"
             ],
             [
              1,
              "#f0f921"
             ]
            ],
            "type": "histogram2dcontour"
           }
          ],
          "mesh3d": [
           {
            "colorbar": {
             "outlinewidth": 0,
             "ticks": ""
            },
            "type": "mesh3d"
           }
          ],
          "parcoords": [
           {
            "line": {
             "colorbar": {
              "outlinewidth": 0,
              "ticks": ""
             }
            },
            "type": "parcoords"
           }
          ],
          "pie": [
           {
            "automargin": true,
            "type": "pie"
           }
          ],
          "scatter": [
           {
            "fillpattern": {
             "fillmode": "overlay",
             "size": 10,
             "solidity": 0.2
            },
            "type": "scatter"
           }
          ],
          "scatter3d": [
           {
            "line": {
             "colorbar": {
              "outlinewidth": 0,
              "ticks": ""
             }
            },
            "marker": {
             "colorbar": {
              "outlinewidth": 0,
              "ticks": ""
             }
            },
            "type": "scatter3d"
           }
          ],
          "scattercarpet": [
           {
            "marker": {
             "colorbar": {
              "outlinewidth": 0,
              "ticks": ""
             }
            },
            "type": "scattercarpet"
           }
          ],
          "scattergeo": [
           {
            "marker": {
             "colorbar": {
              "outlinewidth": 0,
              "ticks": ""
             }
            },
            "type": "scattergeo"
           }
          ],
          "scattergl": [
           {
            "marker": {
             "colorbar": {
              "outlinewidth": 0,
              "ticks": ""
             }
            },
            "type": "scattergl"
           }
          ],
          "scattermap": [
           {
            "marker": {
             "colorbar": {
              "outlinewidth": 0,
              "ticks": ""
             }
            },
            "type": "scattermap"
           }
          ],
          "scattermapbox": [
           {
            "marker": {
             "colorbar": {
              "outlinewidth": 0,
              "ticks": ""
             }
            },
            "type": "scattermapbox"
           }
          ],
          "scatterpolar": [
           {
            "marker": {
             "colorbar": {
              "outlinewidth": 0,
              "ticks": ""
             }
            },
            "type": "scatterpolar"
           }
          ],
          "scatterpolargl": [
           {
            "marker": {
             "colorbar": {
              "outlinewidth": 0,
              "ticks": ""
             }
            },
            "type": "scatterpolargl"
           }
          ],
          "scatterternary": [
           {
            "marker": {
             "colorbar": {
              "outlinewidth": 0,
              "ticks": ""
             }
            },
            "type": "scatterternary"
           }
          ],
          "surface": [
           {
            "colorbar": {
             "outlinewidth": 0,
             "ticks": ""
            },
            "colorscale": [
             [
              0,
              "#0d0887"
             ],
             [
              0.1111111111111111,
              "#46039f"
             ],
             [
              0.2222222222222222,
              "#7201a8"
             ],
             [
              0.3333333333333333,
              "#9c179e"
             ],
             [
              0.4444444444444444,
              "#bd3786"
             ],
             [
              0.5555555555555556,
              "#d8576b"
             ],
             [
              0.6666666666666666,
              "#ed7953"
             ],
             [
              0.7777777777777778,
              "#fb9f3a"
             ],
             [
              0.8888888888888888,
              "#fdca26"
             ],
             [
              1,
              "#f0f921"
             ]
            ],
            "type": "surface"
           }
          ],
          "table": [
           {
            "cells": {
             "fill": {
              "color": "#EBF0F8"
             },
             "line": {
              "color": "white"
             }
            },
            "header": {
             "fill": {
              "color": "#C8D4E3"
             },
             "line": {
              "color": "white"
             }
            },
            "type": "table"
           }
          ]
         },
         "layout": {
          "annotationdefaults": {
           "arrowcolor": "#2a3f5f",
           "arrowhead": 0,
           "arrowwidth": 1
          },
          "autotypenumbers": "strict",
          "coloraxis": {
           "colorbar": {
            "outlinewidth": 0,
            "ticks": ""
           }
          },
          "colorscale": {
           "diverging": [
            [
             0,
             "#8e0152"
            ],
            [
             0.1,
             "#c51b7d"
            ],
            [
             0.2,
             "#de77ae"
            ],
            [
             0.3,
             "#f1b6da"
            ],
            [
             0.4,
             "#fde0ef"
            ],
            [
             0.5,
             "#f7f7f7"
            ],
            [
             0.6,
             "#e6f5d0"
            ],
            [
             0.7,
             "#b8e186"
            ],
            [
             0.8,
             "#7fbc41"
            ],
            [
             0.9,
             "#4d9221"
            ],
            [
             1,
             "#276419"
            ]
           ],
           "sequential": [
            [
             0,
             "#0d0887"
            ],
            [
             0.1111111111111111,
             "#46039f"
            ],
            [
             0.2222222222222222,
             "#7201a8"
            ],
            [
             0.3333333333333333,
             "#9c179e"
            ],
            [
             0.4444444444444444,
             "#bd3786"
            ],
            [
             0.5555555555555556,
             "#d8576b"
            ],
            [
             0.6666666666666666,
             "#ed7953"
            ],
            [
             0.7777777777777778,
             "#fb9f3a"
            ],
            [
             0.8888888888888888,
             "#fdca26"
            ],
            [
             1,
             "#f0f921"
            ]
           ],
           "sequentialminus": [
            [
             0,
             "#0d0887"
            ],
            [
             0.1111111111111111,
             "#46039f"
            ],
            [
             0.2222222222222222,
             "#7201a8"
            ],
            [
             0.3333333333333333,
             "#9c179e"
            ],
            [
             0.4444444444444444,
             "#bd3786"
            ],
            [
             0.5555555555555556,
             "#d8576b"
            ],
            [
             0.6666666666666666,
             "#ed7953"
            ],
            [
             0.7777777777777778,
             "#fb9f3a"
            ],
            [
             0.8888888888888888,
             "#fdca26"
            ],
            [
             1,
             "#f0f921"
            ]
           ]
          },
          "colorway": [
           "#636efa",
           "#EF553B",
           "#00cc96",
           "#ab63fa",
           "#FFA15A",
           "#19d3f3",
           "#FF6692",
           "#B6E880",
           "#FF97FF",
           "#FECB52"
          ],
          "font": {
           "color": "#2a3f5f"
          },
          "geo": {
           "bgcolor": "white",
           "lakecolor": "white",
           "landcolor": "#E5ECF6",
           "showlakes": true,
           "showland": true,
           "subunitcolor": "white"
          },
          "hoverlabel": {
           "align": "left"
          },
          "hovermode": "closest",
          "mapbox": {
           "style": "light"
          },
          "paper_bgcolor": "white",
          "plot_bgcolor": "#E5ECF6",
          "polar": {
           "angularaxis": {
            "gridcolor": "white",
            "linecolor": "white",
            "ticks": ""
           },
           "bgcolor": "#E5ECF6",
           "radialaxis": {
            "gridcolor": "white",
            "linecolor": "white",
            "ticks": ""
           }
          },
          "scene": {
           "xaxis": {
            "backgroundcolor": "#E5ECF6",
            "gridcolor": "white",
            "gridwidth": 2,
            "linecolor": "white",
            "showbackground": true,
            "ticks": "",
            "zerolinecolor": "white"
           },
           "yaxis": {
            "backgroundcolor": "#E5ECF6",
            "gridcolor": "white",
            "gridwidth": 2,
            "linecolor": "white",
            "showbackground": true,
            "ticks": "",
            "zerolinecolor": "white"
           },
           "zaxis": {
            "backgroundcolor": "#E5ECF6",
            "gridcolor": "white",
            "gridwidth": 2,
            "linecolor": "white",
            "showbackground": true,
            "ticks": "",
            "zerolinecolor": "white"
           }
          },
          "shapedefaults": {
           "line": {
            "color": "#2a3f5f"
           }
          },
          "ternary": {
           "aaxis": {
            "gridcolor": "white",
            "linecolor": "white",
            "ticks": ""
           },
           "baxis": {
            "gridcolor": "white",
            "linecolor": "white",
            "ticks": ""
           },
           "bgcolor": "#E5ECF6",
           "caxis": {
            "gridcolor": "white",
            "linecolor": "white",
            "ticks": ""
           }
          },
          "title": {
           "x": 0.05
          },
          "xaxis": {
           "automargin": true,
           "gridcolor": "white",
           "linecolor": "white",
           "ticks": "",
           "title": {
            "standoff": 15
           },
           "zerolinecolor": "white",
           "zerolinewidth": 2
          },
          "yaxis": {
           "automargin": true,
           "gridcolor": "white",
           "linecolor": "white",
           "ticks": "",
           "title": {
            "standoff": 15
           },
           "zerolinecolor": "white",
           "zerolinewidth": 2
          }
         }
        },
        "title": {
         "text": "Price vs Quantity (Bubble = Revenue)"
        },
        "xaxis": {
         "anchor": "y",
         "domain": [
          0,
          1
         ],
         "title": {
          "text": "Quantity"
         },
         "type": "log"
        },
        "yaxis": {
         "anchor": "x",
         "domain": [
          0,
          1
         ],
         "title": {
          "text": "Price"
         },
         "type": "log"
        }
       }
      }
     },
     "metadata": {},
     "output_type": "display_data"
    }
   ],
   "source": [
    "# changing the hover_data = {'column_name': True/False}\n",
    "fig = px.scatter(df_sample.sample(1000),\n",
    "                 x='Quantity', y='Price',\n",
    "                 size='Revenue', color='Country',\n",
    "                 hover_data={'Quantity': True, 'Price':True, 'Revenue':False, 'Country':False, 'Month':True},\n",
    "                 title='Price vs Quantity (Bubble = Revenue)')\n",
    "\n",
    "fig.update_layout(xaxis_type='log', yaxis_type='log')\n",
    "fig.show()"
   ]
  },
  {
   "cell_type": "markdown",
   "id": "4f2fbe50",
   "metadata": {},
   "source": [
    "### Fonts, Titles, and Global Style"
   ]
  },
  {
   "cell_type": "code",
   "execution_count": 58,
   "id": "cf1e2751",
   "metadata": {},
   "outputs": [
    {
     "data": {
      "application/vnd.plotly.v1+json": {
       "config": {
        "plotlyServerURL": "https://plot.ly"
       },
       "data": [
        {
         "customdata": [
          [
           5.04,
           "2010-08"
          ],
          [
           2.5,
           "2011-03"
          ],
          [
           2.95,
           "2010-06"
          ],
          [
           10.08,
           "2011-09"
          ],
          [
           12.600000000000001,
           "2009-12"
          ],
          [
           8.94,
           "2010-02"
          ],
          [
           27,
           "2010-03"
          ],
          [
           16.5,
           "2011-03"
          ],
          [
           1.7,
           "2010-12"
          ],
          [
           10.2,
           "2010-08"
          ],
          [
           10.2,
           "2009-12"
          ],
          [
           0.78,
           "2011-12"
          ],
          [
           19.5,
           "2010-07"
          ],
          [
           3.75,
           "2010-09"
          ],
          [
           15,
           "2011-10"
          ],
          [
           2.1,
           "2010-03"
          ],
          [
           3.3,
           "2011-03"
          ],
          [
           1.95,
           "2011-01"
          ],
          [
           2.5,
           "2011-03"
          ],
          [
           1.45,
           "2011-03"
          ],
          [
           8.5,
           "2011-02"
          ],
          [
           46.8,
           "2009-12"
          ],
          [
           3.3,
           "2010-10"
          ],
          [
           17.700000000000003,
           "2010-08"
          ],
          [
           8.25,
           "2011-11"
          ],
          [
           1.25,
           "2010-08"
          ],
          [
           267.6,
           "2011-10"
          ],
          [
           17.4,
           "2010-04"
          ],
          [
           17.700000000000003,
           "2010-01"
          ],
          [
           29.9,
           "2010-10"
          ],
          [
           22.5,
           "2011-11"
          ],
          [
           92,
           "2011-11"
          ],
          [
           4.16,
           "2011-11"
          ],
          [
           3.75,
           "2010-10"
          ],
          [
           3.75,
           "2010-12"
          ],
          [
           10.2,
           "2011-07"
          ],
          [
           22.5,
           "2011-10"
          ],
          [
           17,
           "2010-10"
          ],
          [
           30.599999999999998,
           "2010-09"
          ],
          [
           7.800000000000001,
           "2011-10"
          ],
          [
           11.8,
           "2010-05"
          ],
          [
           10.2,
           "2010-12"
          ],
          [
           10.5,
           "2011-10"
          ],
          [
           14.75,
           "2010-12"
          ],
          [
           12.72,
           "2010-11"
          ],
          [
           15.299999999999999,
           "2009-12"
          ],
          [
           15.8,
           "2009-12"
          ],
          [
           12.75,
           "2010-04"
          ],
          [
           10.2,
           "2010-10"
          ],
          [
           24.96,
           "2011-10"
          ],
          [
           15,
           "2010-06"
          ],
          [
           5.9,
           "2010-05"
          ],
          [
           17.85,
           "2011-08"
          ],
          [
           1.25,
           "2011-08"
          ],
          [
           27.04,
           "2010-12"
          ],
          [
           10.2,
           "2011-02"
          ],
          [
           20.4,
           "2010-05"
          ],
          [
           0.85,
           "2011-10"
          ],
          [
           20.8,
           "2011-07"
          ],
          [
           5.1,
           "2010-01"
          ],
          [
           3.3,
           "2010-08"
          ],
          [
           0.65,
           "2011-05"
          ],
          [
           15,
           "2011-03"
          ],
          [
           5.9,
           "2011-09"
          ],
          [
           5.04,
           "2011-09"
          ],
          [
           19.9,
           "2011-06"
          ],
          [
           5.04,
           "2010-07"
          ],
          [
           13.200000000000001,
           "2010-08"
          ],
          [
           17.85,
           "2010-03"
          ],
          [
           17.4,
           "2010-12"
          ],
          [
           9.96,
           "2011-11"
          ],
          [
           127.49999999999999,
           "2010-06"
          ],
          [
           17,
           "2011-11"
          ],
          [
           15.6,
           "2011-06"
          ],
          [
           13.5,
           "2010-01"
          ],
          [
           2.95,
           "2011-09"
          ],
          [
           19.799999999999997,
           "2010-12"
          ],
          [
           51,
           "2011-11"
          ],
          [
           8.850000000000001,
           "2010-12"
          ],
          [
           17.700000000000003,
           "2010-02"
          ],
          [
           3.75,
           "2010-12"
          ],
          [
           11.52,
           "2011-07"
          ],
          [
           5.04,
           "2011-07"
          ],
          [
           11.25,
           "2010-06"
          ],
          [
           146.25,
           "2011-11"
          ],
          [
           2.52,
           "2011-11"
          ],
          [
           13.5,
           "2010-02"
          ],
          [
           15,
           "2010-12"
          ],
          [
           2.95,
           "2011-07"
          ],
          [
           7.800000000000001,
           "2011-03"
          ],
          [
           14.700000000000001,
           "2011-07"
          ],
          [
           2.5,
           "2010-10"
          ],
          [
           153,
           "2011-03"
          ],
          [
           12.5,
           "2011-11"
          ],
          [
           44.94,
           "2010-03"
          ],
          [
           15,
           "2011-10"
          ],
          [
           2.1,
           "2010-12"
          ],
          [
           7.49,
           "2010-03"
          ],
          [
           1.9,
           "2011-10"
          ],
          [
           1.9500000000000002,
           "2010-06"
          ],
          [
           23.400000000000002,
           "2010-11"
          ],
          [
           30,
           "2009-12"
          ],
          [
           15.9,
           "2011-11"
          ],
          [
           2.1,
           "2010-11"
          ],
          [
           27.04,
           "2010-09"
          ],
          [
           4.25,
           "2009-12"
          ],
          [
           20.4,
           "2010-07"
          ],
          [
           16.5,
           "2011-07"
          ],
          [
           7.5,
           "2010-05"
          ],
          [
           1.25,
           "2010-10"
          ],
          [
           16.5,
           "2010-05"
          ],
          [
           17.85,
           "2010-09"
          ],
          [
           13.200000000000001,
           "2010-01"
          ],
          [
           79.95,
           "2010-02"
          ],
          [
           9.959999999999999,
           "2011-05"
          ],
          [
           1.95,
           "2010-02"
          ],
          [
           2.95,
           "2010-08"
          ],
          [
           17.700000000000003,
           "2010-11"
          ],
          [
           9.95,
           "2010-03"
          ],
          [
           15,
           "2011-11"
          ],
          [
           12.75,
           "2009-12"
          ],
          [
           15,
           "2010-09"
          ],
          [
           10.2,
           "2010-03"
          ],
          [
           100.80000000000001,
           "2011-09"
          ],
          [
           68,
           "2011-05"
          ],
          [
           10.14,
           "2010-06"
          ],
          [
           14.850000000000001,
           "2011-08"
          ],
          [
           9.899999999999999,
           "2011-09"
          ],
          [
           10.2,
           "2010-11"
          ],
          [
           4.25,
           "2011-07"
          ],
          [
           19.799999999999997,
           "2011-09"
          ],
          [
           10.08,
           "2011-04"
          ],
          [
           4.95,
           "2011-09"
          ],
          [
           22.5,
           "2010-05"
          ],
          [
           12.5,
           "2011-02"
          ],
          [
           15.6,
           "2010-09"
          ],
          [
           15,
           "2010-05"
          ],
          [
           69.6,
           "2010-02"
          ],
          [
           3.75,
           "2010-03"
          ],
          [
           8.25,
           "2010-12"
          ],
          [
           22.5,
           "2010-06"
          ],
          [
           12.450000000000001,
           "2011-08"
          ],
          [
           15,
           "2010-04"
          ],
          [
           16.5,
           "2011-06"
          ],
          [
           8.4,
           "2010-11"
          ],
          [
           3.36,
           "2011-10"
          ],
          [
           19.799999999999997,
           "2010-03"
          ],
          [
           29.700000000000003,
           "2009-12"
          ],
          [
           0.85,
           "2009-12"
          ],
          [
           4.95,
           "2010-01"
          ],
          [
           25.200000000000003,
           "2010-07"
          ],
          [
           30.599999999999998,
           "2010-07"
          ],
          [
           4.5,
           "2010-03"
          ],
          [
           12.48,
           "2011-07"
          ],
          [
           13.5,
           "2010-07"
          ],
          [
           11.8,
           "2011-03"
          ],
          [
           41.6,
           "2011-09"
          ],
          [
           2.94,
           "2011-05"
          ],
          [
           40,
           "2010-01"
          ],
          [
           15,
           "2010-06"
          ],
          [
           15.299999999999999,
           "2009-12"
          ],
          [
           11.25,
           "2010-03"
          ],
          [
           15,
           "2009-12"
          ],
          [
           16.95,
           "2011-11"
          ],
          [
           6.75,
           "2011-01"
          ],
          [
           6.75,
           "2010-11"
          ],
          [
           6.3,
           "2011-10"
          ],
          [
           30,
           "2010-11"
          ],
          [
           2.95,
           "2010-12"
          ],
          [
           17.700000000000003,
           "2011-11"
          ],
          [
           12.600000000000001,
           "2010-01"
          ],
          [
           5.1,
           "2010-05"
          ],
          [
           102,
           "2010-09"
          ],
          [
           7.5,
           "2011-11"
          ],
          [
           35.7,
           "2010-12"
          ],
          [
           10.08,
           "2011-04"
          ],
          [
           20.4,
           "2010-07"
          ],
          [
           51,
           "2010-07"
          ],
          [
           1.65,
           "2010-12"
          ],
          [
           31.8,
           "2011-04"
          ],
          [
           0.42,
           "2011-10"
          ],
          [
           9.95,
           "2011-06"
          ],
          [
           2.2,
           "2010-01"
          ],
          [
           1.25,
           "2010-12"
          ],
          [
           10.08,
           "2010-11"
          ],
          [
           2.25,
           "2010-08"
          ],
          [
           10.2,
           "2010-08"
          ],
          [
           3.3,
           "2011-11"
          ],
          [
           49.5,
           "2011-10"
          ],
          [
           2.5,
           "2010-01"
          ],
          [
           7.5,
           "2010-03"
          ],
          [
           9.36,
           "2011-09"
          ],
          [
           4.25,
           "2010-12"
          ],
          [
           1.25,
           "2010-03"
          ],
          [
           3.75,
           "2011-02"
          ],
          [
           25.5,
           "2011-11"
          ],
          [
           14.75,
           "2011-12"
          ],
          [
           13.200000000000001,
           "2011-05"
          ],
          [
           3.38,
           "2011-06"
          ],
          [
           1.95,
           "2010-08"
          ],
          [
           3.75,
           "2011-06"
          ],
          [
           6.8,
           "2010-08"
          ],
          [
           15.299999999999999,
           "2011-09"
          ],
          [
           30.599999999999998,
           "2010-05"
          ],
          [
           2.9,
           "2010-08"
          ],
          [
           45.9,
           "2010-01"
          ],
          [
           15,
           "2010-07"
          ],
          [
           18.95,
           "2010-07"
          ],
          [
           2.5,
           "2010-07"
          ],
          [
           1.9,
           "2010-12"
          ],
          [
           9,
           "2011-08"
          ],
          [
           7.5,
           "2011-10"
          ],
          [
           72,
           "2010-04"
          ],
          [
           2.95,
           "2010-02"
          ],
          [
           20.8,
           "2011-04"
          ],
          [
           0.55,
           "2010-07"
          ],
          [
           12.5,
           "2010-01"
          ],
          [
           71.4,
           "2009-12"
          ],
          [
           12.5,
           "2011-03"
          ],
          [
           16.4,
           "2011-09"
          ],
          [
           17.700000000000003,
           "2011-11"
          ],
          [
           15,
           "2011-12"
          ],
          [
           15.299999999999999,
           "2010-09"
          ],
          [
           4.2,
           "2011-10"
          ],
          [
           3.75,
           "2010-05"
          ],
          [
           0.84,
           "2011-08"
          ],
          [
           5.9,
           "2010-12"
          ],
          [
           5.04,
           "2011-10"
          ],
          [
           179,
           "2011-05"
          ],
          [
           2.1,
           "2010-11"
          ],
          [
           2.46,
           "2011-11"
          ],
          [
           17.849999999999998,
           "2009-12"
          ],
          [
           11.58,
           "2011-11"
          ],
          [
           11.7,
           "2010-05"
          ],
          [
           19.5,
           "2010-10"
          ],
          [
           60,
           "2011-10"
          ],
          [
           5.04,
           "2011-11"
          ],
          [
           8.850000000000001,
           "2011-03"
          ],
          [
           15,
           "2009-12"
          ],
          [
           23.25,
           "2010-04"
          ],
          [
           5.95,
           "2010-01"
          ],
          [
           15.9,
           "2010-11"
          ],
          [
           17.700000000000003,
           "2011-10"
          ],
          [
           2.9,
           "2011-08"
          ],
          [
           5,
           "2011-09"
          ],
          [
           58.5,
           "2010-02"
          ],
          [
           16.5,
           "2010-02"
          ],
          [
           27.04,
           "2010-03"
          ],
          [
           35.400000000000006,
           "2010-08"
          ],
          [
           25.200000000000003,
           "2010-11"
          ],
          [
           2.9,
           "2011-06"
          ],
          [
           3.4,
           "2010-02"
          ],
          [
           2.1,
           "2010-07"
          ],
          [
           19.5,
           "2010-05"
          ],
          [
           17.700000000000003,
           "2010-08"
          ],
          [
           31.6,
           "2010-11"
          ],
          [
           2.5,
           "2010-11"
          ],
          [
           11.8,
           "2010-08"
          ],
          [
           5,
           "2010-10"
          ],
          [
           11.8,
           "2010-06"
          ],
          [
           2.95,
           "2010-03"
          ],
          [
           13.52,
           "2010-09"
          ],
          [
           7.5,
           "2010-11"
          ],
          [
           2.95,
           "2010-02"
          ],
          [
           4.2,
           "2011-10"
          ],
          [
           1.17,
           "2011-08"
          ],
          [
           0.85,
           "2010-01"
          ],
          [
           17.700000000000003,
           "2011-01"
          ],
          [
           17.700000000000003,
           "2010-10"
          ],
          [
           10.2,
           "2010-08"
          ],
          [
           3.25,
           "2011-04"
          ],
          [
           47.6,
           "2010-08"
          ],
          [
           81.6,
           "2010-09"
          ],
          [
           13.2,
           "2010-12"
          ],
          [
           7.5,
           "2010-03"
          ],
          [
           39.599999999999994,
           "2011-09"
          ],
          [
           59.8,
           "2011-09"
          ],
          [
           17.4,
           "2011-01"
          ],
          [
           5.85,
           "2011-12"
          ],
          [
           2.5,
           "2010-08"
          ],
          [
           17,
           "2010-12"
          ],
          [
           8.25,
           "2011-10"
          ],
          [
           29.75,
           "2011-03"
          ],
          [
           6.25,
           "2010-07"
          ],
          [
           1.25,
           "2010-12"
          ],
          [
           33,
           "2011-09"
          ],
          [
           9.959999999999999,
           "2011-05"
          ],
          [
           3.75,
           "2011-11"
          ],
          [
           20.4,
           "2011-09"
          ],
          [
           15.600000000000001,
           "2010-08"
          ],
          [
           10.2,
           "2010-09"
          ],
          [
           1.1,
           "2011-06"
          ],
          [
           19.5,
           "2011-05"
          ],
          [
           20.8,
           "2011-11"
          ],
          [
           4.2,
           "2010-01"
          ],
          [
           45,
           "2010-11"
          ],
          [
           1.7399999999999998,
           "2011-08"
          ],
          [
           59.699999999999996,
           "2010-10"
          ],
          [
           5.04,
           "2009-12"
          ],
          [
           35.400000000000006,
           "2010-07"
          ],
          [
           17,
           "2011-03"
          ],
          [
           19.799999999999997,
           "2011-10"
          ],
          [
           2.95,
           "2011-06"
          ],
          [
           43,
           "2010-03"
          ],
          [
           12.5,
           "2010-03"
          ],
          [
           19.8,
           "2010-08"
          ],
          [
           357,
           "2011-10"
          ],
          [
           10.5,
           "2011-12"
          ],
          [
           7.5,
           "2011-03"
          ],
          [
           9.959999999999999,
           "2011-09"
          ],
          [
           5.1,
           "2011-09"
          ],
          [
           1.25,
           "2010-12"
          ],
          [
           33,
           "2011-06"
          ],
          [
           3.9,
           "2010-11"
          ],
          [
           8.75,
           "2010-03"
          ],
          [
           17.700000000000003,
           "2010-01"
          ],
          [
           19.5,
           "2011-11"
          ],
          [
           5.95,
           "2011-06"
          ],
          [
           5.9,
           "2010-01"
          ],
          [
           35.400000000000006,
           "2009-12"
          ],
          [
           0.85,
           "2010-05"
          ],
          [
           30,
           "2011-11"
          ],
          [
           16.5,
           "2010-12"
          ],
          [
           10.75,
           "2010-07"
          ],
          [
           3.75,
           "2010-06"
          ],
          [
           39.599999999999994,
           "2010-06"
          ],
          [
           11.58,
           "2011-11"
          ],
          [
           60,
           "2011-05"
          ],
          [
           17,
           "2010-05"
          ],
          [
           2.1,
           "2010-05"
          ],
          [
           4.95,
           "2011-07"
          ],
          [
           19.799999999999997,
           "2011-11"
          ],
          [
           1.7,
           "2010-05"
          ],
          [
           7.6499999999999995,
           "2011-04"
          ],
          [
           5.9,
           "2010-06"
          ],
          [
           37.92,
           "2011-07"
          ],
          [
           12.600000000000001,
           "2011-02"
          ],
          [
           6.8,
           "2010-04"
          ],
          [
           14.850000000000001,
           "2011-07"
          ],
          [
           9.95,
           "2009-12"
          ],
          [
           15.299999999999999,
           "2011-02"
          ],
          [
           17.700000000000003,
           "2011-08"
          ],
          [
           27,
           "2011-08"
          ],
          [
           15,
           "2011-04"
          ],
          [
           2.55,
           "2010-01"
          ],
          [
           10.5,
           "2011-02"
          ],
          [
           15,
           "2011-11"
          ],
          [
           20.1,
           "2011-09"
          ],
          [
           1.95,
           "2010-11"
          ],
          [
           2.6,
           "2009-12"
          ],
          [
           8.4,
           "2011-05"
          ],
          [
           15,
           "2011-04"
          ],
          [
           2.1,
           "2011-10"
          ],
          [
           25.5,
           "2010-09"
          ],
          [
           8.25,
           "2011-09"
          ],
          [
           1.25,
           "2011-09"
          ],
          [
           5.95,
           "2010-08"
          ],
          [
           30,
           "2010-07"
          ],
          [
           2.5,
           "2011-11"
          ],
          [
           19.5,
           "2010-09"
          ],
          [
           0.79,
           "2011-12"
          ],
          [
           15,
           "2010-05"
          ],
          [
           15,
           "2011-10"
          ],
          [
           1.25,
           "2010-12"
          ],
          [
           25.5,
           "2010-06"
          ],
          [
           17.700000000000003,
           "2010-04"
          ],
          [
           39.599999999999994,
           "2010-06"
          ],
          [
           5.1,
           "2010-10"
          ],
          [
           17.4,
           "2011-11"
          ],
          [
           3.4,
           "2011-02"
          ],
          [
           4.95,
           "2011-06"
          ],
          [
           53.1,
           "2010-11"
          ],
          [
           3.4,
           "2009-12"
          ],
          [
           3.75,
           "2011-05"
          ],
          [
           1.25,
           "2010-12"
          ],
          [
           29.75,
           "2010-11"
          ],
          [
           10.5,
           "2011-10"
          ],
          [
           17.700000000000003,
           "2011-11"
          ],
          [
           7.5,
           "2010-10"
          ],
          [
           5.9,
           "2011-02"
          ],
          [
           2.03,
           "2011-11"
          ],
          [
           2.55,
           "2011-10"
          ],
          [
           69.12,
           "2010-12"
          ],
          [
           20.4,
           "2010-05"
          ],
          [
           5.04,
           "2010-10"
          ],
          [
           10.2,
           "2011-06"
          ],
          [
           4.25,
           "2010-10"
          ],
          [
           34,
           "2010-09"
          ],
          [
           23.4,
           "2010-10"
          ],
          [
           0.39,
           "2011-09"
          ],
          [
           12.75,
           "2010-09"
          ],
          [
           9.48,
           "2011-06"
          ],
          [
           6.8,
           "2011-07"
          ],
          [
           24.75,
           "2010-11"
          ],
          [
           0.85,
           "2010-09"
          ],
          [
           17,
           "2011-10"
          ],
          [
           30.599999999999998,
           "2010-06"
          ],
          [
           4.4,
           "2011-11"
          ],
          [
           7.800000000000001,
           "2011-06"
          ],
          [
           31.8,
           "2010-10"
          ],
          [
           39,
           "2011-11"
          ],
          [
           2.61,
           "2011-11"
          ],
          [
           25.200000000000003,
           "2010-07"
          ],
          [
           6.35,
           "2010-05"
          ],
          [
           17.4,
           "2011-10"
          ],
          [
           10.5,
           "2010-06"
          ],
          [
           17.85,
           "2011-03"
          ],
          [
           17,
           "2011-11"
          ],
          [
           1.65,
           "2010-10"
          ],
          [
           3.9,
           "2009-12"
          ],
          [
           19.799999999999997,
           "2010-10"
          ],
          [
           4.25,
           "2010-06"
          ],
          [
           3.3,
           "2010-09"
          ],
          [
           76.32000000000001,
           "2011-08"
          ],
          [
           19.8,
           "2011-10"
          ],
          [
           19.799999999999997,
           "2011-04"
          ],
          [
           2.55,
           "2010-04"
          ],
          [
           4.95,
           "2009-12"
          ],
          [
           15.9,
           "2010-03"
          ],
          [
           10.2,
           "2011-09"
          ],
          [
           14.850000000000001,
           "2010-10"
          ],
          [
           3.9000000000000004,
           "2010-12"
          ],
          [
           15,
           "2010-06"
          ],
          [
           69.36,
           "2011-10"
          ],
          [
           11.8,
           "2010-01"
          ],
          [
           15,
           "2011-08"
          ],
          [
           17.4,
           "2010-09"
          ],
          [
           15,
           "2011-05"
          ],
          [
           15,
           "2010-05"
          ],
          [
           15.12,
           "2010-11"
          ],
          [
           24.96,
           "2011-07"
          ],
          [
           10.5,
           "2010-08"
          ],
          [
           9.9,
           "2010-10"
          ],
          [
           3.3,
           "2011-10"
          ],
          [
           2.1,
           "2010-02"
          ],
          [
           1.7,
           "2010-05"
          ],
          [
           55.800000000000004,
           "2010-08"
          ],
          [
           19.5,
           "2010-09"
          ],
          [
           9.75,
           "2011-11"
          ],
          [
           15.8,
           "2011-02"
          ],
          [
           15,
           "2011-05"
          ],
          [
           2.1,
           "2011-05"
          ],
          [
           1.25,
           "2010-03"
          ],
          [
           8.4,
           "2010-12"
          ],
          [
           12.5,
           "2010-05"
          ],
          [
           8.5,
           "2011-08"
          ],
          [
           4.95,
           "2010-02"
          ],
          [
           29.5,
           "2010-09"
          ],
          [
           13.2,
           "2010-03"
          ],
          [
           15.299999999999999,
           "2010-10"
          ],
          [
           3.75,
           "2010-11"
          ],
          [
           6.25,
           "2011-08"
          ],
          [
           3.75,
           "2011-01"
          ],
          [
           2.1,
           "2010-11"
          ],
          [
           15.299999999999999,
           "2010-01"
          ],
          [
           8.850000000000001,
           "2011-11"
          ],
          [
           8.25,
           "2011-01"
          ],
          [
           2.5,
           "2011-07"
          ],
          [
           15.6,
           "2010-07"
          ],
          [
           1.95,
           "2010-06"
          ],
          [
           2.1,
           "2010-11"
          ],
          [
           7.65,
           "2010-11"
          ],
          [
           8.25,
           "2011-11"
          ],
          [
           45.9,
           "2011-01"
          ],
          [
           3.4,
           "2010-05"
          ],
          [
           3.4799999999999995,
           "2011-07"
          ],
          [
           2.1,
           "2010-11"
          ],
          [
           17.34,
           "2011-07"
          ],
          [
           0.65,
           "2010-12"
          ],
          [
           15.8,
           "2010-01"
          ],
          [
           3.75,
           "2011-11"
          ],
          [
           29.5,
           "2011-07"
          ],
          [
           5.04,
           "2010-02"
          ],
          [
           1.6500000000000001,
           "2011-07"
          ],
          [
           198,
           "2010-11"
          ],
          [
           5.9,
           "2010-11"
          ],
          [
           10.08,
           "2011-10"
          ],
          [
           179,
           "2011-09"
          ],
          [
           14.850000000000001,
           "2011-10"
          ],
          [
           10.5,
           "2011-06"
          ],
          [
           15,
           "2011-09"
          ],
          [
           2.9,
           "2011-09"
          ],
          [
           3.75,
           "2009-12"
          ],
          [
           7.5,
           "2011-08"
          ],
          [
           2.6,
           "2011-10"
          ],
          [
           7.5,
           "2011-06"
          ],
          [
           5,
           "2011-07"
          ],
          [
           19.5,
           "2011-05"
          ],
          [
           3.4,
           "2010-06"
          ],
          [
           6.959999999999999,
           "2010-12"
          ],
          [
           19.5,
           "2011-05"
          ],
          [
           1.25,
           "2010-11"
          ],
          [
           2.95,
           "2010-11"
          ],
          [
           0.42,
           "2011-10"
          ],
          [
           100.80000000000001,
           "2011-04"
          ],
          [
           1.7,
           "2010-11"
          ],
          [
           5.9,
           "2011-03"
          ],
          [
           16.5,
           "2010-12"
          ],
          [
           16.5,
           "2011-11"
          ],
          [
           19.9,
           "2010-05"
          ],
          [
           12.5,
           "2010-07"
          ],
          [
           1.25,
           "2011-05"
          ],
          [
           356.40000000000003,
           "2010-07"
          ],
          [
           19.5,
           "2010-08"
          ],
          [
           17.700000000000003,
           "2010-03"
          ],
          [
           2.95,
           "2011-03"
          ],
          [
           16.5,
           "2010-03"
          ],
          [
           30.599999999999998,
           "2009-12"
          ],
          [
           4.35,
           "2011-03"
          ],
          [
           6.75,
           "2010-03"
          ],
          [
           153,
           "2011-10"
          ],
          [
           5.9,
           "2010-04"
          ],
          [
           144,
           "2010-03"
          ],
          [
           15.9,
           "2010-09"
          ],
          [
           10.2,
           "2010-12"
          ],
          [
           15.8,
           "2011-07"
          ],
          [
           35.7,
           "2010-12"
          ],
          [
           15,
           "2011-04"
          ],
          [
           1.25,
           "2010-06"
          ],
          [
           6.5,
           "2011-11"
          ],
          [
           1.95,
           "2011-03"
          ],
          [
           102,
           "2011-11"
          ],
          [
           6.6,
           "2010-06"
          ],
          [
           6.959999999999999,
           "2011-05"
          ],
          [
           1.65,
           "2011-04"
          ],
          [
           2.55,
           "2011-10"
          ],
          [
           0.85,
           "2010-08"
          ],
          [
           19.799999999999997,
           "2011-09"
          ],
          [
           108,
           "2011-10"
          ],
          [
           2.95,
           "2011-11"
          ],
          [
           3.75,
           "2010-06"
          ],
          [
           19.799999999999997,
           "2010-06"
          ],
          [
           266.40000000000003,
           "2011-11"
          ],
          [
           10.5,
           "2010-11"
          ],
          [
           5.04,
           "2010-08"
          ],
          [
           41.6,
           "2011-08"
          ],
          [
           11.25,
           "2009-12"
          ],
          [
           5,
           "2010-08"
          ],
          [
           7.95,
           "2011-02"
          ],
          [
           15.600000000000001,
           "2010-11"
          ],
          [
           23.6,
           "2009-12"
          ],
          [
           6.5,
           "2011-10"
          ],
          [
           4.25,
           "2011-03"
          ],
          [
           13.200000000000001,
           "2010-03"
          ],
          [
           15.9,
           "2010-11"
          ],
          [
           2.5,
           "2010-03"
          ],
          [
           6.300000000000001,
           "2011-03"
          ],
          [
           237.60000000000002,
           "2011-07"
          ],
          [
           19.799999999999997,
           "2011-11"
          ],
          [
           2.5,
           "2010-11"
          ],
          [
           17.700000000000003,
           "2010-09"
          ],
          [
           5.95,
           "2011-04"
          ],
          [
           1.95,
           "2010-02"
          ],
          [
           25.200000000000003,
           "2010-10"
          ],
          [
           11.9,
           "2010-10"
          ],
          [
           4.25,
           "2010-08"
          ],
          [
           1.25,
           "2010-02"
          ],
          [
           19.5,
           "2011-01"
          ],
          [
           9.36,
           "2011-11"
          ],
          [
           3.75,
           "2010-11"
          ],
          [
           5.85,
           "2010-04"
          ],
          [
           3.3,
           "2010-04"
          ],
          [
           19.5,
           "2011-06"
          ],
          [
           19.799999999999997,
           "2010-08"
          ],
          [
           13.5,
           "2010-01"
          ],
          [
           32.849999999999994,
           "2010-12"
          ],
          [
           20.8,
           "2011-10"
          ],
          [
           89.69999999999999,
           "2010-09"
          ],
          [
           13.5,
           "2010-11"
          ],
          [
           5.04,
           "2011-02"
          ],
          [
           16.5,
           "2011-05"
          ],
          [
           16.5,
           "2011-12"
          ],
          [
           3.75,
           "2010-11"
          ],
          [
           3.4,
           "2009-12"
          ],
          [
           1.68,
           "2011-11"
          ],
          [
           61.2,
           "2010-05"
          ],
          [
           15.9,
           "2010-09"
          ],
          [
           45,
           "2011-06"
          ],
          [
           30,
           "2010-04"
          ],
          [
           11.9,
           "2010-10"
          ],
          [
           8.7,
           "2011-02"
          ],
          [
           1.25,
           "2011-11"
          ],
          [
           4.95,
           "2009-12"
          ],
          [
           7.5,
           "2010-08"
          ],
          [
           11.8,
           "2011-09"
          ],
          [
           7.95,
           "2010-10"
          ],
          [
           0.84,
           "2010-03"
          ],
          [
           2.55,
           "2010-02"
          ],
          [
           8.25,
           "2011-09"
          ],
          [
           17.700000000000003,
           "2010-08"
          ],
          [
           2.95,
           "2010-04"
          ],
          [
           7.5,
           "2010-02"
          ],
          [
           15,
           "2010-10"
          ],
          [
           10.08,
           "2010-11"
          ],
          [
           15.9,
           "2011-04"
          ],
          [
           12.5,
           "2011-06"
          ],
          [
           8.5,
           "2010-10"
          ],
          [
           12.75,
           "2010-11"
          ],
          [
           5.95,
           "2010-12"
          ],
          [
           13.5,
           "2010-09"
          ],
          [
           8.5,
           "2010-12"
          ],
          [
           2.95,
           "2010-11"
          ],
          [
           30,
           "2011-01"
          ],
          [
           27.04,
           "2010-03"
          ],
          [
           1.65,
           "2010-11"
          ],
          [
           9.75,
           "2010-01"
          ],
          [
           11.7,
           "2011-03"
          ],
          [
           45,
           "2011-06"
          ],
          [
           12.5,
           "2011-05"
          ],
          [
           4.16,
           "2011-08"
          ],
          [
           31.9,
           "2010-05"
          ],
          [
           21.9,
           "2010-12"
          ],
          [
           15,
           "2010-04"
          ],
          [
           1.65,
           "2011-09"
          ],
          [
           13.919999999999998,
           "2011-11"
          ],
          [
           19.5,
           "2011-10"
          ],
          [
           0.83,
           "2011-11"
          ],
          [
           2.08,
           "2011-06"
          ],
          [
           2.55,
           "2010-04"
          ],
          [
           15,
           "2010-01"
          ],
          [
           15,
           "2011-10"
          ],
          [
           7.25,
           "2010-10"
          ],
          [
           9.95,
           "2011-03"
          ],
          [
           4.35,
           "2010-09"
          ],
          [
           1.25,
           "2011-11"
          ],
          [
           1.25,
           "2011-11"
          ],
          [
           9.95,
           "2010-04"
          ],
          [
           4,
           "2011-12"
          ],
          [
           2.55,
           "2011-11"
          ],
          [
           3.25,
           "2011-11"
          ],
          [
           15,
           "2011-12"
          ],
          [
           1.95,
           "2010-10"
          ],
          [
           19.799999999999997,
           "2011-02"
          ],
          [
           0.78,
           "2011-10"
          ],
          [
           9.48,
           "2011-10"
          ],
          [
           15.95,
           "2010-06"
          ],
          [
           16.5,
           "2010-08"
          ],
          [
           3.75,
           "2010-03"
          ],
          [
           59.400000000000006,
           "2010-09"
          ],
          [
           12.5,
           "2011-10"
          ],
          [
           7.95,
           "2010-03"
          ],
          [
           2.5,
           "2010-10"
          ],
          [
           2.95,
           "2010-04"
          ],
          [
           35.400000000000006,
           "2010-08"
          ],
          [
           0.85,
           "2010-08"
          ],
          [
           1.44,
           "2011-10"
          ],
          [
           10.2,
           "2011-07"
          ],
          [
           17,
           "2011-11"
          ],
          [
           1.65,
           "2010-05"
          ],
          [
           6.8,
           "2011-05"
          ],
          [
           1.45,
           "2009-12"
          ],
          [
           15,
           "2010-10"
          ],
          [
           31.8,
           "2011-01"
          ],
          [
           1.68,
           "2010-04"
          ],
          [
           19.799999999999997,
           "2010-12"
          ],
          [
           312,
           "2010-06"
          ],
          [
           75.60000000000001,
           "2010-07"
          ],
          [
           22.5,
           "2009-12"
          ],
          [
           3.75,
           "2010-11"
          ],
          [
           10.5,
           "2011-11"
          ],
          [
           6.300000000000001,
           "2010-10"
          ],
          [
           7.9,
           "2011-07"
          ],
          [
           15,
           "2010-04"
          ],
          [
           5.04,
           "2011-07"
          ],
          [
           13.52,
           "2011-03"
          ],
          [
           68,
           "2011-08"
          ],
          [
           17.700000000000003,
           "2010-10"
          ],
          [
           4.949999999999999,
           "2010-10"
          ],
          [
           2.95,
           "2010-11"
          ],
          [
           17.700000000000003,
           "2010-05"
          ],
          [
           33,
           "2011-12"
          ],
          [
           4.25,
           "2010-09"
          ],
          [
           21.599999999999998,
           "2011-09"
          ],
          [
           15,
           "2010-11"
          ],
          [
           2.5,
           "2010-06"
          ],
          [
           5.78,
           "2011-06"
          ],
          [
           6.6,
           "2010-11"
          ],
          [
           9.9,
           "2010-07"
          ],
          [
           11.9,
           "2010-10"
          ],
          [
           1.95,
           "2009-12"
          ],
          [
           3.75,
           "2011-11"
          ],
          [
           30,
           "2011-06"
          ],
          [
           34.56,
           "2011-08"
          ],
          [
           10.2,
           "2011-07"
          ],
          [
           12.75,
           "2010-06"
          ],
          [
           10,
           "2010-09"
          ],
          [
           38.7,
           "2010-11"
          ],
          [
           102,
           "2011-12"
          ],
          [
           9.3,
           "2011-10"
          ],
          [
           15,
           "2010-09"
          ],
          [
           0.95,
           "2010-11"
          ],
          [
           8.850000000000001,
           "2010-07"
          ],
          [
           0.85,
           "2011-03"
          ],
          [
           2.88,
           "2011-09"
          ],
          [
           1.65,
           "2011-06"
          ],
          [
           81.6,
           "2011-11"
          ],
          [
           81.6,
           "2011-09"
          ],
          [
           29.5,
           "2010-12"
          ],
          [
           2.1,
           "2010-12"
          ],
          [
           2.5,
           "2011-10"
          ],
          [
           7.800000000000001,
           "2011-02"
          ],
          [
           0.65,
           "2011-10"
          ],
          [
           17.700000000000003,
           "2010-09"
          ],
          [
           29.96,
           "2010-02"
          ],
          [
           1.25,
           "2010-08"
          ],
          [
           2.34,
           "2011-11"
          ],
          [
           21.3,
           "2010-10"
          ],
          [
           2.2,
           "2010-09"
          ],
          [
           2.95,
           "2011-03"
          ],
          [
           5.8500000000000005,
           "2011-10"
          ],
          [
           0.85,
           "2010-11"
          ],
          [
           12.5,
           "2011-11"
          ],
          [
           39.6,
           "2010-09"
          ],
          [
           13.5,
           "2011-12"
          ],
          [
           10,
           "2011-08"
          ],
          [
           3.95,
           "2010-12"
          ],
          [
           4.949999999999999,
           "2011-07"
          ],
          [
           3.75,
           "2010-02"
          ],
          [
           3.75,
           "2010-07"
          ],
          [
           6.24,
           "2011-11"
          ],
          [
           15,
           "2010-11"
          ],
          [
           9.9,
           "2011-05"
          ],
          [
           17,
           "2011-06"
          ],
          [
           9.899999999999999,
           "2011-11"
          ],
          [
           2.08,
           "2011-11"
          ],
          [
           16.5,
           "2011-09"
          ],
          [
           2.5,
           "2010-05"
          ],
          [
           4.949999999999999,
           "2010-03"
          ],
          [
           30,
           "2010-03"
          ],
          [
           8.25,
           "2011-03"
          ],
          [
           5,
           "2010-12"
          ],
          [
           5.1,
           "2010-10"
          ],
          [
           5,
           "2011-05"
          ],
          [
           14.850000000000001,
           "2011-01"
          ],
          [
           20.28,
           "2010-06"
          ],
          [
           1.95,
           "2010-06"
          ],
          [
           50,
           "2010-01"
          ],
          [
           14.75,
           "2011-04"
          ],
          [
           23.85,
           "2010-09"
          ],
          [
           1.9500000000000002,
           "2011-11"
          ],
          [
           1.68,
           "2011-08"
          ],
          [
           2.5,
           "2011-05"
          ],
          [
           1.58,
           "2011-12"
          ],
          [
           15,
           "2010-03"
          ],
          [
           731.52,
           "2010-01"
          ],
          [
           28.9,
           "2011-11"
          ],
          [
           12.5,
           "2010-12"
          ],
          [
           15,
           "2010-01"
          ],
          [
           916,
           "2011-06"
          ],
          [
           17.700000000000003,
           "2010-07"
          ],
          [
           30,
           "2010-11"
          ],
          [
           39.8,
           "2011-05"
          ],
          [
           12.75,
           "2011-07"
          ],
          [
           23.4,
           "2009-12"
          ],
          [
           24.900000000000002,
           "2011-11"
          ],
          [
           15.8,
           "2011-08"
          ],
          [
           2.5,
           "2010-09"
          ],
          [
           0.36,
           "2011-10"
          ],
          [
           12.5,
           "2011-07"
          ],
          [
           20.8,
           "2010-07"
          ],
          [
           8.5,
           "2010-10"
          ],
          [
           10.2,
           "2011-06"
          ],
          [
           1.7,
           "2010-07"
          ],
          [
           12.5,
           "2010-10"
          ],
          [
           259,
           "2010-03"
          ],
          [
           8.5,
           "2010-10"
          ],
          [
           1.95,
           "2010-12"
          ],
          [
           12.5,
           "2011-11"
          ],
          [
           4.25,
           "2010-10"
          ],
          [
           2.1,
           "2009-12"
          ],
          [
           2.5,
           "2010-05"
          ],
          [
           42.5,
           "2009-12"
          ],
          [
           20.8,
           "2011-10"
          ],
          [
           4.2,
           "2011-10"
          ],
          [
           3.9,
           "2010-05"
          ],
          [
           17.700000000000003,
           "2010-10"
          ],
          [
           39.599999999999994,
           "2010-06"
          ],
          [
           0.84,
           "2011-09"
          ],
          [
           8.67,
           "2011-07"
          ],
          [
           15,
           "2010-05"
          ],
          [
           14.940000000000001,
           "2011-10"
          ],
          [
           49.800000000000004,
           "2011-07"
          ],
          [
           16.5,
           "2011-04"
          ],
          [
           11.8,
           "2009-12"
          ],
          [
           0.85,
           "2010-11"
          ],
          [
           1.68,
           "2010-02"
          ],
          [
           7.5,
           "2010-09"
          ],
          [
           1.25,
           "2010-09"
          ],
          [
           204,
           "2010-10"
          ],
          [
           14.850000000000001,
           "2010-03"
          ],
          [
           6.6,
           "2011-10"
          ],
          [
           15.9,
           "2010-11"
          ],
          [
           15.299999999999999,
           "2010-01"
          ],
          [
           17,
           "2010-07"
          ],
          [
           7.5,
           "2011-10"
          ],
          [
           17.700000000000003,
           "2010-01"
          ],
          [
           10.5,
           "2010-06"
          ],
          [
           7.5,
           "2010-10"
          ],
          [
           5.1,
           "2010-06"
          ],
          [
           1.65,
           "2010-07"
          ],
          [
           2.5,
           "2011-03"
          ],
          [
           9.95,
           "2011-08"
          ],
          [
           15.8,
           "2011-07"
          ],
          [
           20.4,
           "2010-10"
          ],
          [
           2.5,
           "2011-10"
          ],
          [
           16.6,
           "2011-08"
          ],
          [
           3.75,
           "2010-06"
          ],
          [
           10.5,
           "2011-06"
          ],
          [
           25.5,
           "2011-01"
          ],
          [
           19.8,
           "2011-11"
          ],
          [
           2.55,
           "2010-11"
          ],
          [
           15,
           "2011-01"
          ],
          [
           2.55,
           "2011-10"
          ],
          [
           30,
           "2009-12"
          ],
          [
           15,
           "2011-05"
          ],
          [
           25.200000000000003,
           "2010-09"
          ],
          [
           5.85,
           "2009-12"
          ],
          [
           33,
           "2010-03"
          ],
          [
           4.16,
           "2011-09"
          ],
          [
           19.8,
           "2011-05"
          ],
          [
           20,
           "2011-10"
          ],
          [
           40.8,
           "2011-09"
          ],
          [
           40.56,
           "2010-10"
          ],
          [
           53.1,
           "2010-11"
          ],
          [
           1.25,
           "2010-03"
          ],
          [
           1.25,
           "2010-03"
          ],
          [
           6.959999999999999,
           "2011-05"
          ],
          [
           10.2,
           "2010-07"
          ],
          [
           12.600000000000001,
           "2010-02"
          ],
          [
           10.2,
           "2011-11"
          ],
          [
           21,
           "2010-03"
          ],
          [
           10.2,
           "2010-03"
          ],
          [
           15,
           "2011-10"
          ],
          [
           5.95,
           "2010-09"
          ],
          [
           51,
           "2011-11"
          ],
          [
           10.5,
           "2009-12"
          ],
          [
           19.799999999999997,
           "2010-02"
          ],
          [
           3.9,
           "2010-06"
          ],
          [
           10.2,
           "2011-08"
          ],
          [
           15,
           "2010-12"
          ],
          [
           8.5,
           "2011-05"
          ],
          [
           2.55,
           "2011-03"
          ],
          [
           1.25,
           "2010-09"
          ],
          [
           1.26,
           "2010-01"
          ],
          [
           7.6499999999999995,
           "2011-10"
          ],
          [
           76.5,
           "2010-09"
          ],
          [
           15,
           "2010-11"
          ],
          [
           13.5,
           "2010-11"
          ],
          [
           4.95,
           "2011-11"
          ],
          [
           13.8,
           "2010-08"
          ],
          [
           2.5,
           "2010-03"
          ],
          [
           7.5,
           "2011-04"
          ],
          [
           1.26,
           "2009-12"
          ],
          [
           19.5,
           "2011-08"
          ],
          [
           5.9,
           "2011-10"
          ],
          [
           39,
           "2010-07"
          ],
          [
           5,
           "2010-10"
          ],
          [
           20.4,
           "2011-09"
          ],
          [
           2.1,
           "2010-12"
          ],
          [
           1.25,
           "2010-11"
          ],
          [
           12.600000000000001,
           "2011-10"
          ],
          [
           10.5,
           "2011-11"
          ],
          [
           8.850000000000001,
           "2010-02"
          ],
          [
           10.4,
           "2010-08"
          ],
          [
           30,
           "2011-09"
          ],
          [
           1.6500000000000001,
           "2010-07"
          ],
          [
           11.8,
           "2011-11"
          ],
          [
           20.8,
           "2011-10"
          ],
          [
           2.1,
           "2010-03"
          ],
          [
           2.55,
           "2010-03"
          ],
          [
           13.200000000000001,
           "2010-02"
          ],
          [
           19.799999999999997,
           "2010-10"
          ],
          [
           20.28,
           "2011-12"
          ],
          [
           0.65,
           "2011-06"
          ],
          [
           5.1,
           "2009-12"
          ],
          [
           9.899999999999999,
           "2010-04"
          ],
          [
           2.5,
           "2011-03"
          ],
          [
           2.95,
           "2010-06"
          ],
          [
           10.2,
           "2011-11"
          ],
          [
           15,
           "2010-10"
          ],
          [
           3.75,
           "2011-08"
          ],
          [
           1.66,
           "2011-11"
          ],
          [
           1.25,
           "2010-12"
          ],
          [
           1.25,
           "2010-05"
          ],
          [
           15,
           "2010-10"
          ],
          [
           9.3,
           "2010-11"
          ],
          [
           12.600000000000001,
           "2011-10"
          ],
          [
           3.3,
           "2010-09"
          ],
          [
           15,
           "2011-07"
          ],
          [
           19.5,
           "2010-03"
          ],
          [
           1.95,
           "2010-12"
          ],
          [
           1.65,
           "2011-11"
          ],
          [
           1.17,
           "2011-11"
          ],
          [
           5,
           "2011-11"
          ],
          [
           0.83,
           "2011-06"
          ],
          [
           10,
           "2010-07"
          ],
          [
           8.5,
           "2011-07"
          ],
          [
           1.25,
           "2010-12"
          ],
          [
           14.98,
           "2010-04"
          ],
          [
           4.949999999999999,
           "2010-10"
          ],
          [
           39.5,
           "2011-07"
          ],
          [
           16.35,
           "2010-11"
          ],
          [
           15.299999999999999,
           "2011-09"
          ],
          [
           17.700000000000003,
           "2011-02"
          ],
          [
           3.4,
           "2010-04"
          ],
          [
           5.9,
           "2010-02"
          ]
         ],
         "hovertemplate": "Country=United Kingdom<br>Quantity=%{x}<br>Price=%{y}<br>Revenue=%{customdata[0]}<br>Month=%{customdata[1]}<extra></extra>",
         "legendgroup": "United Kingdom",
         "marker": {
          "color": "#636efa",
          "size": {
           "bdata": "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",
           "dtype": "f8"
          },
          "sizemode": "area",
          "sizeref": 2.29,
          "symbol": "circle"
         },
         "mode": "markers",
         "name": "United Kingdom",
         "orientation": "v",
         "showlegend": true,
         "type": "scatter",
         "x": {
          "bdata": "DAACAAEAGAAGAAYABAAKAAIADAAMAAIACgADAAQAAQACAAEAAgABAAEAGAACAAYAAQABABgADAAGAAIABgAUAAIAAQABAAwABgAEACQADAAEAAwAGQAFAAYABgAEAAEADAAMAAQAAgADAAEAEAAMABgAAQAKAAIAAgABAAwAAgAMAAIADAAYAAMADAAEADIABAAIAAIAAQAMAAwAAwAGAAEAYAAMAAMAJwAEAAIADAABAAwABwACAAwAAgAGAAQAAQABAAoAAwAkAAgAAgABABAAAQAYAAoAAgABAAoAAwAYAAEADAABAAEABgABAAQAAwAMAAwAMAAIAAYAAwAGAAwAAQAMABgAAQAGAAoACAAMADAAAQAFAAYAAwAEAAoABAAIAAwABgABAAEADAAkAAIABgACAAQAFAAHACAABAAGAAMADAABAAEAAQAPABgAAQAGAAYABgAIAAEABgAYABgABAABAAQAAQABAAQAAQAYAAEADAACAB4AAgAGABgAAQABAAEAAgAFABgAAgABAAMACAAGAAwAAgASAAwAAQACAAIADAACAGQAAQAgAAEACgAMAAoAFAAGAAwABgACAAEAAgACAAwAZAABAAEAFQACAAYACgAwAAwAAwAMAAUAAQACAAYAAgAEAB4ACgAQAAwADAACAAQAAQAKAAYACAACAAQABAAEAAEACAACAAEAAgADAAEABgAGAAwAAQAIACAACAACABgABAAMAAMAAgACAAEABQAFAAEAFAAMAAMAGAAYAAwAAgAKAAoAAgAMAAYABgAMAAwAFAAMAAEABAAKAAQAHAAZAAYADAACAAEAFAACAAcABgAKAAEAAgAMAAEAGAAKAAEAAQAYAAIAMAACAAEAAQAMAAIAAwACADAABgAIAAMAAQAGAAYABAAMAAEAGQAEAAYAAQAEAAQADAABAAIABQABAAEAGAACAAoAAQAEAAwAAQADAAYAGAACAAwABAABABIABAADAAEABwAZAAYABgACAAcAAwBgABgADAAMAAUABAAMAAEADwAMAAgADwABAAQAJAAIAAwABAAMAAkADAABAAwAGQADAAIAAQACAAwAAQACAEgABAAMAAEAAQACAAwAAwAGAAQAGAAEAAQADAACAAwAJAAYABkAAgACAAEAAgAMAAoABQAEAAwABQABABQACgACAAEACgAIAAYAAQAFAAMAAQAGAAMABQACAAgAAQABAAEABQASAAQADAABAAYAAQAEAAMACgAMAAMASAACABgAZAADAAUADAACAAEABgAEAAYABAAGAAQAGAAKAAEAAQACADAAAgACAAoACgACAAoAAQBIAAoABgABAAoAJAADAAEAPAACAMgAAgAMAAQABgAMAAEAAgABAAwABAAYAAEAAwABAAwALAEBAAMADACQAAUADAAUAAMABAABABgACAACAAEAGAACAAIAAwAwAAwAAgAGAAEAAQAMAAIABQABAAoAGAABAAMAAgAGAAwAAgADAAoABgAGAAwACgACAAEABAAEAAgAAgAMABgAAgAGAAEAAQAGAAQAAQACAAEABQAGAAEABgAMABgAAgACAAEAAwABAAYAAQABABgAEAABAAMABgAkAAoAAgACAAIADAABADAACgABAAEAAwAEAAQABQABAAMAAQABAAEAZAABAAEABAABAAwAAgAMAAEACgADAAwAAgABAAIAAQAMAAEADAAMAAIAAQAIAAEADAAEAAQADABYAiQAEgABABkAAwACAAQADAAIAAgABgADAAEABgAEAAEAHgAEAAIAAgAEAAIAAgABAAMAGAAwAAwAAQAIAAYAKAACAAwAAQADAAEAMAABACAAIAAKAAEAAgAMAAEABgAEAAEABgACAAQAAQAPAAEAAgAIAAIACAABAAMAAQABAAMADAASAAQABgABAAIAAgADABgAAQAEAAIABAADAAwAAQAoAAUAAwADAAQAAgACAAwAwAAiAAoADADIAAYAGAAEAAEADAAGABQAAgADAAIAIAAKAAwAAgAKAIwACgABAAoAAQABAAIAMgAKAAIAAgAGABgAAgADAAwABgAMAAIABAABAAQABgABABgAAwAEAAIAEgAUAAYABgAFAAYABgABAAIAAQAEABgAAgAEAAMAGQAGAAQAAwAEAAMACAAEAAwAAwAUAAIABAAQADAAGAASAAEAAQAYAAwABgAMAAoADAAMAAEADAAZAAwAAgAMAAwAAQADAAEAAwADAAYADAACAAEABAACAAYAAwAGAAIAFAAEABgAAQABAAYAGQADABAAGAADAAQACgABAAMAGAAMAAwAAQAGAAYAAgABAAwADAADAAIAAQABAAQAAgAGAAIADAAKAAEAAQADAAQAAQAIAAoAAQACAAMACgADAAYABgAEAAIA",
          "dtype": "i2"
         },
         "xaxis": "x",
         "y": {
          "bdata": "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",
          "dtype": "f8"
         },
         "yaxis": "y"
        },
        {
         "customdata": [
          [
           13.2,
           "2010-06"
          ],
          [
           10.5,
           "2010-01"
          ],
          [
           50.400000000000006,
           "2011-10"
          ],
          [
           35.400000000000006,
           "2011-05"
          ],
          [
           108,
           "2010-12"
          ],
          [
           1.1,
           "2011-06"
          ],
          [
           17.700000000000003,
           "2011-11"
          ],
          [
           145,
           "2011-05"
          ],
          [
           52.5,
           "2011-09"
          ],
          [
           8.5,
           "2011-12"
          ],
          [
           13.2,
           "2011-09"
          ],
          [
           53,
           "2011-11"
          ],
          [
           17.700000000000003,
           "2010-06"
          ],
          [
           16.5,
           "2011-03"
          ],
          [
           17.700000000000003,
           "2011-07"
          ],
          [
           15.299999999999999,
           "2011-09"
          ],
          [
           27.04,
           "2010-10"
          ],
          [
           7.800000000000001,
           "2010-04"
          ],
          [
           15.600000000000001,
           "2010-06"
          ],
          [
           11.7,
           "2011-03"
          ],
          [
           15.299999999999999,
           "2011-05"
          ],
          [
           14.850000000000001,
           "2009-12"
          ],
          [
           15.299999999999999,
           "2011-03"
          ],
          [
           15,
           "2009-12"
          ],
          [
           10.08,
           "2011-09"
          ],
          [
           10.2,
           "2010-02"
          ]
         ],
         "hovertemplate": "Country=Germany<br>Quantity=%{x}<br>Price=%{y}<br>Revenue=%{customdata[0]}<br>Month=%{customdata[1]}<extra></extra>",
         "legendgroup": "Germany",
         "marker": {
          "color": "#EF553B",
          "size": {
           "bdata": "ZmZmZmZmKkAAAAAAAAAlQDQzMzMzM0lANDMzMzOzQUAAAAAAAABbQJqZmZmZmfE/NDMzMzOzMUAAAAAAACBiQAAAAAAAQEpAAAAAAAAAIUBmZmZmZmYqQAAAAAAAgEpANDMzMzOzMUAAAAAAAIAwQDQzMzMzszFAmZmZmZmZLkAK16NwPQo7QDQzMzMzMx9ANDMzMzMzL0BmZmZmZmYnQJmZmZmZmS5ANDMzMzOzLUCZmZmZmZkuQAAAAAAAAC5AKVyPwvUoJEBmZmZmZmYkQA==",
           "dtype": "f8"
          },
          "sizemode": "area",
          "sizeref": 2.29,
          "symbol": "circle"
         },
         "mode": "markers",
         "name": "Germany",
         "orientation": "v",
         "showlegend": true,
         "type": "scatter",
         "x": {
          "bdata": "CBkYDAYCBmR9CggyBgIGBhAMGAYGAwYMGAw=",
          "dtype": "i1"
         },
         "xaxis": "x",
         "y": {
          "bdata": "ZmZmZmZm+j/hehSuR+HaP83MzMzMzABAmpmZmZmZB0AAAAAAAAAyQJqZmZmZmeE/mpmZmZmZB0AzMzMzMzP3P+F6FK5H4do/MzMzMzMz6z9mZmZmZmb6P/YoXI/C9fA/mpmZmZmZB0AAAAAAAIAgQJqZmZmZmQdAZmZmZmZmBEAK16NwPQr7P83MzMzMzOQ/zczMzMzM5D8zMzMzMzP/P2ZmZmZmZgRAzczMzMzME0BmZmZmZmYEQAAAAAAAAPQ/4XoUrkfh2j8zMzMzMzPrPw==",
          "dtype": "f8"
         },
         "yaxis": "y"
        },
        {
         "customdata": [
          [
           19.5,
           "2010-05"
          ],
          [
           35.8,
           "2011-05"
          ]
         ],
         "hovertemplate": "Country=Channel Islands<br>Quantity=%{x}<br>Price=%{y}<br>Revenue=%{customdata[0]}<br>Month=%{customdata[1]}<extra></extra>",
         "legendgroup": "Channel Islands",
         "marker": {
          "color": "#00cc96",
          "size": {
           "bdata": "AAAAAACAM0BmZmZmZuZBQA==",
           "dtype": "f8"
          },
          "sizemode": "area",
          "sizeref": 2.29,
          "symbol": "circle"
         },
         "mode": "markers",
         "name": "Channel Islands",
         "orientation": "v",
         "showlegend": true,
         "type": "scatter",
         "x": {
          "bdata": "CgQ=",
          "dtype": "i1"
         },
         "xaxis": "x",
         "y": {
          "bdata": "MzMzMzMz/z9mZmZmZuYhQA==",
          "dtype": "f8"
         },
         "yaxis": "y"
        },
        {
         "customdata": [
          [
           20,
           "2011-10"
          ],
          [
           15,
           "2011-10"
          ],
          [
           10.2,
           "2010-05"
          ],
          [
           17.700000000000003,
           "2011-01"
          ]
         ],
         "hovertemplate": "Country=Switzerland<br>Quantity=%{x}<br>Price=%{y}<br>Revenue=%{customdata[0]}<br>Month=%{customdata[1]}<extra></extra>",
         "legendgroup": "Switzerland",
         "marker": {
          "color": "#ab63fa",
          "size": {
           "bdata": "AAAAAAAANEAAAAAAAAAuQGZmZmZmZiRANDMzMzOzMUA=",
           "dtype": "f8"
          },
          "sizemode": "area",
          "sizeref": 2.29,
          "symbol": "circle"
         },
         "mode": "markers",
         "name": "Switzerland",
         "orientation": "v",
         "showlegend": true,
         "type": "scatter",
         "x": {
          "bdata": "EAwMBg==",
          "dtype": "i1"
         },
         "xaxis": "x",
         "y": {
          "bdata": "AAAAAAAA9D8AAAAAAAD0PzMzMzMzM+s/mpmZmZmZB0A=",
          "dtype": "f8"
         },
         "yaxis": "y"
        },
        {
         "customdata": [
          [
           23.4,
           "2010-07"
          ],
          [
           17.700000000000003,
           "2011-04"
          ],
          [
           19.9,
           "2010-09"
          ],
          [
           15.299999999999999,
           "2010-06"
          ]
         ],
         "hovertemplate": "Country=Belgium<br>Quantity=%{x}<br>Price=%{y}<br>Revenue=%{customdata[0]}<br>Month=%{customdata[1]}<extra></extra>",
         "legendgroup": "Belgium",
         "marker": {
          "color": "#FFA15A",
          "size": {
           "bdata": "ZmZmZmZmN0A0MzMzM7MxQGZmZmZm5jNAmZmZmZmZLkA=",
           "dtype": "f8"
          },
          "sizemode": "area",
          "sizeref": 2.29,
          "symbol": "circle"
         },
         "mode": "markers",
         "name": "Belgium",
         "orientation": "v",
         "showlegend": true,
         "type": "scatter",
         "x": {
          "bdata": "DAYCBg==",
          "dtype": "i1"
         },
         "xaxis": "x",
         "y": {
          "bdata": "MzMzMzMz/z+amZmZmZkHQGZmZmZm5iNAZmZmZmZmBEA=",
          "dtype": "f8"
         },
         "yaxis": "y"
        },
        {
         "customdata": [
          [
           17,
           "2010-10"
          ],
          [
           10.2,
           "2010-10"
          ]
         ],
         "hovertemplate": "Country=Greece<br>Quantity=%{x}<br>Price=%{y}<br>Revenue=%{customdata[0]}<br>Month=%{customdata[1]}<extra></extra>",
         "legendgroup": "Greece",
         "marker": {
          "color": "#19d3f3",
          "size": {
           "bdata": "AAAAAAAAMUBmZmZmZmYkQA==",
           "dtype": "f8"
          },
          "sizemode": "area",
          "sizeref": 2.29,
          "symbol": "circle"
         },
         "mode": "markers",
         "name": "Greece",
         "orientation": "v",
         "showlegend": true,
         "type": "scatter",
         "x": {
          "bdata": "BAw=",
          "dtype": "i1"
         },
         "xaxis": "x",
         "y": {
          "bdata": "AAAAAAAAEUAzMzMzMzPrPw==",
          "dtype": "f8"
         },
         "yaxis": "y"
        },
        {
         "customdata": [
          [
           84,
           "2010-09"
          ],
          [
           17.700000000000003,
           "2011-09"
          ]
         ],
         "hovertemplate": "Country=Spain<br>Quantity=%{x}<br>Price=%{y}<br>Revenue=%{customdata[0]}<br>Month=%{customdata[1]}<extra></extra>",
         "legendgroup": "Spain",
         "marker": {
          "color": "#FF6692",
          "size": {
           "bdata": "AAAAAAAAVUA0MzMzM7MxQA==",
           "dtype": "f8"
          },
          "sizemode": "area",
          "sizeref": 2.29,
          "symbol": "circle"
         },
         "mode": "markers",
         "name": "Spain",
         "orientation": "v",
         "showlegend": true,
         "type": "scatter",
         "x": {
          "bdata": "AwY=",
          "dtype": "i1"
         },
         "xaxis": "x",
         "y": {
          "bdata": "AAAAAAAAPECamZmZmZkHQA==",
          "dtype": "f8"
         },
         "yaxis": "y"
        },
        {
         "customdata": [
          [
           33,
           "2011-10"
          ],
          [
           30,
           "2010-01"
          ],
          [
           19.799999999999997,
           "2010-06"
          ],
          [
           13.200000000000001,
           "2010-03"
          ],
          [
           486.71999999999997,
           "2010-03"
          ],
          [
           17,
           "2010-06"
          ],
          [
           50,
           "2010-07"
          ],
          [
           69.12,
           "2010-09"
          ],
          [
           15,
           "2010-07"
          ],
          [
           12.75,
           "2011-07"
          ],
          [
           27.839999999999996,
           "2011-07"
          ],
          [
           15,
           "2010-05"
          ],
          [
           15.299999999999999,
           "2010-02"
          ],
          [
           19.799999999999997,
           "2010-10"
          ],
          [
           261.6,
           "2010-03"
          ],
          [
           15.12,
           "2011-08"
          ],
          [
           23,
           "2011-11"
          ]
         ],
         "hovertemplate": "Country=EIRE<br>Quantity=%{x}<br>Price=%{y}<br>Revenue=%{customdata[0]}<br>Month=%{customdata[1]}<extra></extra>",
         "legendgroup": "EIRE",
         "marker": {
          "color": "#B6E880",
          "size": {
           "bdata": "AAAAAACAQEAAAAAAAAA+QMzMzMzMzDNAZ2ZmZmZmKkDrUbgehWt+QAAAAAAAADFAAAAAAAAASUBI4XoUrkdRQAAAAAAAAC5AAAAAAACAKUDWo3A9Ctc7QAAAAAAAAC5AmZmZmZmZLkDMzMzMzMwzQJqZmZmZWXBAPQrXo3A9LkAAAAAAAAA3QA==",
           "dtype": "f8"
          },
          "sizemode": "area",
          "sizeref": 2.29,
          "symbol": "circle"
         },
         "mode": "markers",
         "name": "EIRE",
         "orientation": "v",
         "showlegend": true,
         "type": "scatter",
         "x": {
          "bdata": "FAAYAAwAGAAgAQIAAQBgAAwAAQBgAAwABgAMADAAJAAEAA==",
          "dtype": "i2"
         },
         "xaxis": "x",
         "y": {
          "bdata": "ZmZmZmZm+j8AAAAAAAD0P2ZmZmZmZvo/mpmZmZmZ4T8K16NwPQr7PwAAAAAAACFAAAAAAAAASUAK16NwPQrnPwAAAAAAAPQ/AAAAAACAKUCPwvUoXI/SPwAAAAAAAPQ/ZmZmZmZmBEBmZmZmZmb6P83MzMzMzBVA4XoUrkfh2j8AAAAAAAAXQA==",
          "dtype": "f8"
         },
         "yaxis": "y"
        },
        {
         "customdata": [
          [
           22.5,
           "2011-07"
          ]
         ],
         "hovertemplate": "Country=Unspecified<br>Quantity=%{x}<br>Price=%{y}<br>Revenue=%{customdata[0]}<br>Month=%{customdata[1]}<extra></extra>",
         "legendgroup": "Unspecified",
         "marker": {
          "color": "#FF97FF",
          "size": {
           "bdata": "AAAAAACANkA=",
           "dtype": "f8"
          },
          "sizemode": "area",
          "sizeref": 2.29,
          "symbol": "circle"
         },
         "mode": "markers",
         "name": "Unspecified",
         "orientation": "v",
         "showlegend": true,
         "type": "scatter",
         "x": {
          "bdata": "Eg==",
          "dtype": "i1"
         },
         "xaxis": "x",
         "y": {
          "bdata": "AAAAAAAA9D8=",
          "dtype": "f8"
         },
         "yaxis": "y"
        },
        {
         "customdata": [
          [
           25.200000000000003,
           "2011-10"
          ]
         ],
         "hovertemplate": "Country=RSA<br>Quantity=%{x}<br>Price=%{y}<br>Revenue=%{customdata[0]}<br>Month=%{customdata[1]}<extra></extra>",
         "legendgroup": "RSA",
         "marker": {
          "color": "#FECB52",
          "size": {
           "bdata": "NDMzMzMzOUA=",
           "dtype": "f8"
          },
          "sizemode": "area",
          "sizeref": 2.29,
          "symbol": "circle"
         },
         "mode": "markers",
         "name": "RSA",
         "orientation": "v",
         "showlegend": true,
         "type": "scatter",
         "x": {
          "bdata": "DA==",
          "dtype": "i1"
         },
         "xaxis": "x",
         "y": {
          "bdata": "zczMzMzMAEA=",
          "dtype": "f8"
         },
         "yaxis": "y"
        },
        {
         "customdata": [
          [
           15,
           "2009-12"
          ]
         ],
         "hovertemplate": "Country=Cyprus<br>Quantity=%{x}<br>Price=%{y}<br>Revenue=%{customdata[0]}<br>Month=%{customdata[1]}<extra></extra>",
         "legendgroup": "Cyprus",
         "marker": {
          "color": "#636efa",
          "size": {
           "bdata": "AAAAAAAALkA=",
           "dtype": "f8"
          },
          "sizemode": "area",
          "sizeref": 2.29,
          "symbol": "circle"
         },
         "mode": "markers",
         "name": "Cyprus",
         "orientation": "v",
         "showlegend": true,
         "type": "scatter",
         "x": {
          "bdata": "DA==",
          "dtype": "i1"
         },
         "xaxis": "x",
         "y": {
          "bdata": "AAAAAAAA9D8=",
          "dtype": "f8"
         },
         "yaxis": "y"
        },
        {
         "customdata": [
          [
           2.55,
           "2011-10"
          ],
          [
           21.3,
           "2010-06"
          ]
         ],
         "hovertemplate": "Country=Portugal<br>Quantity=%{x}<br>Price=%{y}<br>Revenue=%{customdata[0]}<br>Month=%{customdata[1]}<extra></extra>",
         "legendgroup": "Portugal",
         "marker": {
          "color": "#EF553B",
          "size": {
           "bdata": "ZmZmZmZmBEDNzMzMzEw1QA==",
           "dtype": "f8"
          },
          "sizemode": "area",
          "sizeref": 2.29,
          "symbol": "circle"
         },
         "mode": "markers",
         "name": "Portugal",
         "orientation": "v",
         "showlegend": true,
         "type": "scatter",
         "x": {
          "bdata": "AwI=",
          "dtype": "i1"
         },
         "xaxis": "x",
         "y": {
          "bdata": "MzMzMzMz6z/NzMzMzEwlQA==",
          "dtype": "f8"
         },
         "yaxis": "y"
        },
        {
         "customdata": [
          [
           35.400000000000006,
           "2011-03"
          ],
          [
           20.4,
           "2010-03"
          ],
          [
           10.2,
           "2011-09"
          ],
          [
           10.2,
           "2011-03"
          ],
          [
           4.5600000000000005,
           "2011-06"
          ],
          [
           18,
           "2011-11"
          ],
          [
           16.95,
           "2011-04"
          ],
          [
           17.700000000000003,
           "2011-05"
          ],
          [
           10.2,
           "2011-02"
          ],
          [
           4.25,
           "2010-10"
          ],
          [
           16.5,
           "2011-05"
          ]
         ],
         "hovertemplate": "Country=France<br>Quantity=%{x}<br>Price=%{y}<br>Revenue=%{customdata[0]}<br>Month=%{customdata[1]}<extra></extra>",
         "legendgroup": "France",
         "marker": {
          "color": "#00cc96",
          "size": {
           "bdata": "NDMzMzOzQUBmZmZmZmY0QGZmZmZmZiRAZmZmZmZmJEA+CtejcD0SQAAAAAAAADJAMzMzMzPzMEA0MzMzM7MxQGZmZmZmZiRAAAAAAAAAEUAAAAAAAIAwQA==",
           "dtype": "f8"
          },
          "sizemode": "area",
          "sizeref": 2.29,
          "symbol": "circle"
         },
         "mode": "markers",
         "name": "France",
         "orientation": "v",
         "showlegend": true,
         "type": "scatter",
         "x": {
          "bdata": "DBgMDBgBAQYMAQo=",
          "dtype": "i1"
         },
         "xaxis": "x",
         "y": {
          "bdata": "mpmZmZmZB0AzMzMzMzPrPzMzMzMzM+s/MzMzMzMz6z9SuB6F61HIPwAAAAAAADJAMzMzMzPzMECamZmZmZkHQDMzMzMzM+s/AAAAAAAAEUBmZmZmZmb6Pw==",
          "dtype": "f8"
         },
         "yaxis": "y"
        },
        {
         "customdata": [
          [
           10.2,
           "2010-04"
          ],
          [
           17.700000000000003,
           "2010-04"
          ]
         ],
         "hovertemplate": "Country=Finland<br>Quantity=%{x}<br>Price=%{y}<br>Revenue=%{customdata[0]}<br>Month=%{customdata[1]}<extra></extra>",
         "legendgroup": "Finland",
         "marker": {
          "color": "#ab63fa",
          "size": {
           "bdata": "ZmZmZmZmJEA0MzMzM7MxQA==",
           "dtype": "f8"
          },
          "sizemode": "area",
          "sizeref": 2.29,
          "symbol": "circle"
         },
         "mode": "markers",
         "name": "Finland",
         "orientation": "v",
         "showlegend": true,
         "type": "scatter",
         "x": {
          "bdata": "DAY=",
          "dtype": "i1"
         },
         "xaxis": "x",
         "y": {
          "bdata": "MzMzMzMz6z+amZmZmZkHQA==",
          "dtype": "f8"
         },
         "yaxis": "y"
        },
        {
         "customdata": [
          [
           19.799999999999997,
           "2011-07"
          ]
         ],
         "hovertemplate": "Country=Canada<br>Quantity=%{x}<br>Price=%{y}<br>Revenue=%{customdata[0]}<br>Month=%{customdata[1]}<extra></extra>",
         "legendgroup": "Canada",
         "marker": {
          "color": "#FFA15A",
          "size": {
           "bdata": "zMzMzMzMM0A=",
           "dtype": "f8"
          },
          "sizemode": "area",
          "sizeref": 2.29,
          "symbol": "circle"
         },
         "mode": "markers",
         "name": "Canada",
         "orientation": "v",
         "showlegend": true,
         "type": "scatter",
         "x": {
          "bdata": "DA==",
          "dtype": "i1"
         },
         "xaxis": "x",
         "y": {
          "bdata": "ZmZmZmZm+j8=",
          "dtype": "f8"
         },
         "yaxis": "y"
        },
        {
         "customdata": [
          [
           145,
           "2010-04"
          ],
          [
           15,
           "2010-07"
          ],
          [
           100.8,
           "2011-10"
          ],
          [
           10.08,
           "2011-11"
          ],
          [
           79.19999999999999,
           "2011-01"
          ]
         ],
         "hovertemplate": "Country=Sweden<br>Quantity=%{x}<br>Price=%{y}<br>Revenue=%{customdata[0]}<br>Month=%{customdata[1]}<extra></extra>",
         "legendgroup": "Sweden",
         "marker": {
          "color": "#19d3f3",
          "size": {
           "bdata": "AAAAAAAgYkAAAAAAAAAuQDMzMzMzM1lAKVyPwvUoJEDMzMzMzMxTQA==",
           "dtype": "f8"
          },
          "sizemode": "area",
          "sizeref": 2.29,
          "symbol": "circle"
         },
         "mode": "markers",
         "name": "Sweden",
         "orientation": "v",
         "showlegend": true,
         "type": "scatter",
         "x": {
          "bdata": "ZAAMAPAAGAAwAA==",
          "dtype": "i2"
         },
         "xaxis": "x",
         "y": {
          "bdata": "MzMzMzMz9z8AAAAAAAD0P+F6FK5H4do/4XoUrkfh2j9mZmZmZmb6Pw==",
          "dtype": "f8"
         },
         "yaxis": "y"
        },
        {
         "customdata": [
          [
           7.800000000000001,
           "2010-10"
          ]
         ],
         "hovertemplate": "Country=Iceland<br>Quantity=%{x}<br>Price=%{y}<br>Revenue=%{customdata[0]}<br>Month=%{customdata[1]}<extra></extra>",
         "legendgroup": "Iceland",
         "marker": {
          "color": "#FF6692",
          "size": {
           "bdata": "NDMzMzMzH0A=",
           "dtype": "f8"
          },
          "sizemode": "area",
          "sizeref": 2.29,
          "symbol": "circle"
         },
         "mode": "markers",
         "name": "Iceland",
         "orientation": "v",
         "showlegend": true,
         "type": "scatter",
         "x": {
          "bdata": "DA==",
          "dtype": "i1"
         },
         "xaxis": "x",
         "y": {
          "bdata": "zczMzMzM5D8=",
          "dtype": "f8"
         },
         "yaxis": "y"
        },
        {
         "customdata": [
          [
           17,
           "2010-05"
          ],
          [
           61.199999999999996,
           "2011-08"
          ]
         ],
         "hovertemplate": "Country=Netherlands<br>Quantity=%{x}<br>Price=%{y}<br>Revenue=%{customdata[0]}<br>Month=%{customdata[1]}<extra></extra>",
         "legendgroup": "Netherlands",
         "marker": {
          "color": "#B6E880",
          "size": {
           "bdata": "AAAAAAAAMUCZmZmZmZlOQA==",
           "dtype": "f8"
          },
          "sizemode": "area",
          "sizeref": 2.29,
          "symbol": "circle"
         },
         "mode": "markers",
         "name": "Netherlands",
         "orientation": "v",
         "showlegend": true,
         "type": "scatter",
         "x": {
          "bdata": "FBg=",
          "dtype": "i1"
         },
         "xaxis": "x",
         "y": {
          "bdata": "MzMzMzMz6z9mZmZmZmYEQA==",
          "dtype": "f8"
         },
         "yaxis": "y"
        },
        {
         "customdata": [
          [
           13.200000000000001,
           "2010-01"
          ],
          [
           15.299999999999999,
           "2011-10"
          ]
         ],
         "hovertemplate": "Country=USA<br>Quantity=%{x}<br>Price=%{y}<br>Revenue=%{customdata[0]}<br>Month=%{customdata[1]}<extra></extra>",
         "legendgroup": "USA",
         "marker": {
          "color": "#FF97FF",
          "size": {
           "bdata": "Z2ZmZmZmKkCZmZmZmZkuQA==",
           "dtype": "f8"
          },
          "sizemode": "area",
          "sizeref": 2.29,
          "symbol": "circle"
         },
         "mode": "markers",
         "name": "USA",
         "orientation": "v",
         "showlegend": true,
         "type": "scatter",
         "x": {
          "bdata": "GAY=",
          "dtype": "i1"
         },
         "xaxis": "x",
         "y": {
          "bdata": "mpmZmZmZ4T9mZmZmZmYEQA==",
          "dtype": "f8"
         },
         "yaxis": "y"
        },
        {
         "customdata": [
          [
           15.9,
           "2009-12"
          ],
          [
           15.600000000000001,
           "2010-09"
          ]
         ],
         "hovertemplate": "Country=Austria<br>Quantity=%{x}<br>Price=%{y}<br>Revenue=%{customdata[0]}<br>Month=%{customdata[1]}<extra></extra>",
         "legendgroup": "Austria",
         "marker": {
          "color": "#FECB52",
          "size": {
           "bdata": "zczMzMzML0A0MzMzMzMvQA==",
           "dtype": "f8"
          },
          "sizemode": "area",
          "sizeref": 2.29,
          "symbol": "circle"
         },
         "mode": "markers",
         "name": "Austria",
         "orientation": "v",
         "showlegend": true,
         "type": "scatter",
         "x": {
          "bdata": "Ahg=",
          "dtype": "i1"
         },
         "xaxis": "x",
         "y": {
          "bdata": "zczMzMzMH0DNzMzMzMzkPw==",
          "dtype": "f8"
         },
         "yaxis": "y"
        },
        {
         "customdata": [
          [
           13.6,
           "2011-09"
          ]
         ],
         "hovertemplate": "Country=Australia<br>Quantity=%{x}<br>Price=%{y}<br>Revenue=%{customdata[0]}<br>Month=%{customdata[1]}<extra></extra>",
         "legendgroup": "Australia",
         "marker": {
          "color": "#636efa",
          "size": {
           "bdata": "MzMzMzMzK0A=",
           "dtype": "f8"
          },
          "sizemode": "area",
          "sizeref": 2.29,
          "symbol": "circle"
         },
         "mode": "markers",
         "name": "Australia",
         "orientation": "v",
         "showlegend": true,
         "type": "scatter",
         "x": {
          "bdata": "EA==",
          "dtype": "i1"
         },
         "xaxis": "x",
         "y": {
          "bdata": "MzMzMzMz6z8=",
          "dtype": "f8"
         },
         "yaxis": "y"
        },
        {
         "customdata": [
          [
           20.28,
           "2010-02"
          ]
         ],
         "hovertemplate": "Country=United Arab Emirates<br>Quantity=%{x}<br>Price=%{y}<br>Revenue=%{customdata[0]}<br>Month=%{customdata[1]}<extra></extra>",
         "legendgroup": "United Arab Emirates",
         "marker": {
          "color": "#EF553B",
          "size": {
           "bdata": "SOF6FK5HNEA=",
           "dtype": "f8"
          },
          "sizemode": "area",
          "sizeref": 2.29,
          "symbol": "circle"
         },
         "mode": "markers",
         "name": "United Arab Emirates",
         "orientation": "v",
         "showlegend": true,
         "type": "scatter",
         "x": {
          "bdata": "DA==",
          "dtype": "i1"
         },
         "xaxis": "x",
         "y": {
          "bdata": "CtejcD0K+z8=",
          "dtype": "f8"
         },
         "yaxis": "y"
        },
        {
         "customdata": [
          [
           10,
           "2011-07"
          ],
          [
           15,
           "2010-12"
          ]
         ],
         "hovertemplate": "Country=Norway<br>Quantity=%{x}<br>Price=%{y}<br>Revenue=%{customdata[0]}<br>Month=%{customdata[1]}<extra></extra>",
         "legendgroup": "Norway",
         "marker": {
          "color": "#00cc96",
          "size": {
           "bdata": "AAAAAAAAJEAAAAAAAAAuQA==",
           "dtype": "f8"
          },
          "sizemode": "area",
          "sizeref": 2.29,
          "symbol": "circle"
         },
         "mode": "markers",
         "name": "Norway",
         "orientation": "v",
         "showlegend": true,
         "type": "scatter",
         "x": {
          "bdata": "CAw=",
          "dtype": "i1"
         },
         "xaxis": "x",
         "y": {
          "bdata": "AAAAAAAA9D8AAAAAAAD0Pw==",
          "dtype": "f8"
         },
         "yaxis": "y"
        },
        {
         "customdata": [
          [
           11.7,
           "2010-10"
          ],
          [
           12.5,
           "2010-03"
          ]
         ],
         "hovertemplate": "Country=Italy<br>Quantity=%{x}<br>Price=%{y}<br>Revenue=%{customdata[0]}<br>Month=%{customdata[1]}<extra></extra>",
         "legendgroup": "Italy",
         "marker": {
          "color": "#ab63fa",
          "size": {
           "bdata": "ZmZmZmZmJ0AAAAAAAAApQA==",
           "dtype": "f8"
          },
          "sizemode": "area",
          "sizeref": 2.29,
          "symbol": "circle"
         },
         "mode": "markers",
         "name": "Italy",
         "orientation": "v",
         "showlegend": true,
         "type": "scatter",
         "x": {
          "bdata": "Bgo=",
          "dtype": "i1"
         },
         "xaxis": "x",
         "y": {
          "bdata": "MzMzMzMz/z8AAAAAAAD0Pw==",
          "dtype": "f8"
         },
         "yaxis": "y"
        }
       ],
       "layout": {
        "font": {
         "color": "black",
         "family": "Verdana",
         "size": 14
        },
        "legend": {
         "itemsizing": "constant",
         "title": {
          "text": "Country"
         },
         "tracegroupgap": 0
        },
        "margin": {
         "t": 60
        },
        "template": {
         "data": {
          "bar": [
           {
            "error_x": {
             "color": "#2a3f5f"
            },
            "error_y": {
             "color": "#2a3f5f"
            },
            "marker": {
             "line": {
              "color": "#E5ECF6",
              "width": 0.5
             },
             "pattern": {
              "fillmode": "overlay",
              "size": 10,
              "solidity": 0.2
             }
            },
            "type": "bar"
           }
          ],
          "barpolar": [
           {
            "marker": {
             "line": {
              "color": "#E5ECF6",
              "width": 0.5
             },
             "pattern": {
              "fillmode": "overlay",
              "size": 10,
              "solidity": 0.2
             }
            },
            "type": "barpolar"
           }
          ],
          "carpet": [
           {
            "aaxis": {
             "endlinecolor": "#2a3f5f",
             "gridcolor": "white",
             "linecolor": "white",
             "minorgridcolor": "white",
             "startlinecolor": "#2a3f5f"
            },
            "baxis": {
             "endlinecolor": "#2a3f5f",
             "gridcolor": "white",
             "linecolor": "white",
             "minorgridcolor": "white",
             "startlinecolor": "#2a3f5f"
            },
            "type": "carpet"
           }
          ],
          "choropleth": [
           {
            "colorbar": {
             "outlinewidth": 0,
             "ticks": ""
            },
            "type": "choropleth"
           }
          ],
          "contour": [
           {
            "colorbar": {
             "outlinewidth": 0,
             "ticks": ""
            },
            "colorscale": [
             [
              0,
              "#0d0887"
             ],
             [
              0.1111111111111111,
              "#46039f"
             ],
             [
              0.2222222222222222,
              "#7201a8"
             ],
             [
              0.3333333333333333,
              "#9c179e"
             ],
             [
              0.4444444444444444,
              "#bd3786"
             ],
             [
              0.5555555555555556,
              "#d8576b"
             ],
             [
              0.6666666666666666,
              "#ed7953"
             ],
             [
              0.7777777777777778,
              "#fb9f3a"
             ],
             [
              0.8888888888888888,
              "#fdca26"
             ],
             [
              1,
              "#f0f921"
             ]
            ],
            "type": "contour"
           }
          ],
          "contourcarpet": [
           {
            "colorbar": {
             "outlinewidth": 0,
             "ticks": ""
            },
            "type": "contourcarpet"
           }
          ],
          "heatmap": [
           {
            "colorbar": {
             "outlinewidth": 0,
             "ticks": ""
            },
            "colorscale": [
             [
              0,
              "#0d0887"
             ],
             [
              0.1111111111111111,
              "#46039f"
             ],
             [
              0.2222222222222222,
              "#7201a8"
             ],
             [
              0.3333333333333333,
              "#9c179e"
             ],
             [
              0.4444444444444444,
              "#bd3786"
             ],
             [
              0.5555555555555556,
              "#d8576b"
             ],
             [
              0.6666666666666666,
              "#ed7953"
             ],
             [
              0.7777777777777778,
              "#fb9f3a"
             ],
             [
              0.8888888888888888,
              "#fdca26"
             ],
             [
              1,
              "#f0f921"
             ]
            ],
            "type": "heatmap"
           }
          ],
          "histogram": [
           {
            "marker": {
             "pattern": {
              "fillmode": "overlay",
              "size": 10,
              "solidity": 0.2
             }
            },
            "type": "histogram"
           }
          ],
          "histogram2d": [
           {
            "colorbar": {
             "outlinewidth": 0,
             "ticks": ""
            },
            "colorscale": [
             [
              0,
              "#0d0887"
             ],
             [
              0.1111111111111111,
              "#46039f"
             ],
             [
              0.2222222222222222,
              "#7201a8"
             ],
             [
              0.3333333333333333,
              "#9c179e"
             ],
             [
              0.4444444444444444,
              "#bd3786"
             ],
             [
              0.5555555555555556,
              "#d8576b"
             ],
             [
              0.6666666666666666,
              "#ed7953"
             ],
             [
              0.7777777777777778,
              "#fb9f3a"
             ],
             [
              0.8888888888888888,
              "#fdca26"
             ],
             [
              1,
              "#f0f921"
             ]
            ],
            "type": "histogram2d"
           }
          ],
          "histogram2dcontour": [
           {
            "colorbar": {
             "outlinewidth": 0,
             "ticks": ""
            },
            "colorscale": [
             [
              0,
              "#0d0887"
             ],
             [
              0.1111111111111111,
              "#46039f"
             ],
             [
              0.2222222222222222,
              "#7201a8"
             ],
             [
              0.3333333333333333,
              "#9c179e"
             ],
             [
              0.4444444444444444,
              "#bd3786"
             ],
             [
              0.5555555555555556,
              "#d8576b"
             ],
             [
              0.6666666666666666,
              "#ed7953"
             ],
             [
              0.7777777777777778,
              "#fb9f3a"
             ],
             [
              0.8888888888888888,
              "#fdca26"
             ],
             [
              1,
              "#f0f921"
             ]
            ],
            "type": "histogram2dcontour"
           }
          ],
          "mesh3d": [
           {
            "colorbar": {
             "outlinewidth": 0,
             "ticks": ""
            },
            "type": "mesh3d"
           }
          ],
          "parcoords": [
           {
            "line": {
             "colorbar": {
              "outlinewidth": 0,
              "ticks": ""
             }
            },
            "type": "parcoords"
           }
          ],
          "pie": [
           {
            "automargin": true,
            "type": "pie"
           }
          ],
          "scatter": [
           {
            "fillpattern": {
             "fillmode": "overlay",
             "size": 10,
             "solidity": 0.2
            },
            "type": "scatter"
           }
          ],
          "scatter3d": [
           {
            "line": {
             "colorbar": {
              "outlinewidth": 0,
              "ticks": ""
             }
            },
            "marker": {
             "colorbar": {
              "outlinewidth": 0,
              "ticks": ""
             }
            },
            "type": "scatter3d"
           }
          ],
          "scattercarpet": [
           {
            "marker": {
             "colorbar": {
              "outlinewidth": 0,
              "ticks": ""
             }
            },
            "type": "scattercarpet"
           }
          ],
          "scattergeo": [
           {
            "marker": {
             "colorbar": {
              "outlinewidth": 0,
              "ticks": ""
             }
            },
            "type": "scattergeo"
           }
          ],
          "scattergl": [
           {
            "marker": {
             "colorbar": {
              "outlinewidth": 0,
              "ticks": ""
             }
            },
            "type": "scattergl"
           }
          ],
          "scattermap": [
           {
            "marker": {
             "colorbar": {
              "outlinewidth": 0,
              "ticks": ""
             }
            },
            "type": "scattermap"
           }
          ],
          "scattermapbox": [
           {
            "marker": {
             "colorbar": {
              "outlinewidth": 0,
              "ticks": ""
             }
            },
            "type": "scattermapbox"
           }
          ],
          "scatterpolar": [
           {
            "marker": {
             "colorbar": {
              "outlinewidth": 0,
              "ticks": ""
             }
            },
            "type": "scatterpolar"
           }
          ],
          "scatterpolargl": [
           {
            "marker": {
             "colorbar": {
              "outlinewidth": 0,
              "ticks": ""
             }
            },
            "type": "scatterpolargl"
           }
          ],
          "scatterternary": [
           {
            "marker": {
             "colorbar": {
              "outlinewidth": 0,
              "ticks": ""
             }
            },
            "type": "scatterternary"
           }
          ],
          "surface": [
           {
            "colorbar": {
             "outlinewidth": 0,
             "ticks": ""
            },
            "colorscale": [
             [
              0,
              "#0d0887"
             ],
             [
              0.1111111111111111,
              "#46039f"
             ],
             [
              0.2222222222222222,
              "#7201a8"
             ],
             [
              0.3333333333333333,
              "#9c179e"
             ],
             [
              0.4444444444444444,
              "#bd3786"
             ],
             [
              0.5555555555555556,
              "#d8576b"
             ],
             [
              0.6666666666666666,
              "#ed7953"
             ],
             [
              0.7777777777777778,
              "#fb9f3a"
             ],
             [
              0.8888888888888888,
              "#fdca26"
             ],
             [
              1,
              "#f0f921"
             ]
            ],
            "type": "surface"
           }
          ],
          "table": [
           {
            "cells": {
             "fill": {
              "color": "#EBF0F8"
             },
             "line": {
              "color": "white"
             }
            },
            "header": {
             "fill": {
              "color": "#C8D4E3"
             },
             "line": {
              "color": "white"
             }
            },
            "type": "table"
           }
          ]
         },
         "layout": {
          "annotationdefaults": {
           "arrowcolor": "#2a3f5f",
           "arrowhead": 0,
           "arrowwidth": 1
          },
          "autotypenumbers": "strict",
          "coloraxis": {
           "colorbar": {
            "outlinewidth": 0,
            "ticks": ""
           }
          },
          "colorscale": {
           "diverging": [
            [
             0,
             "#8e0152"
            ],
            [
             0.1,
             "#c51b7d"
            ],
            [
             0.2,
             "#de77ae"
            ],
            [
             0.3,
             "#f1b6da"
            ],
            [
             0.4,
             "#fde0ef"
            ],
            [
             0.5,
             "#f7f7f7"
            ],
            [
             0.6,
             "#e6f5d0"
            ],
            [
             0.7,
             "#b8e186"
            ],
            [
             0.8,
             "#7fbc41"
            ],
            [
             0.9,
             "#4d9221"
            ],
            [
             1,
             "#276419"
            ]
           ],
           "sequential": [
            [
             0,
             "#0d0887"
            ],
            [
             0.1111111111111111,
             "#46039f"
            ],
            [
             0.2222222222222222,
             "#7201a8"
            ],
            [
             0.3333333333333333,
             "#9c179e"
            ],
            [
             0.4444444444444444,
             "#bd3786"
            ],
            [
             0.5555555555555556,
             "#d8576b"
            ],
            [
             0.6666666666666666,
             "#ed7953"
            ],
            [
             0.7777777777777778,
             "#fb9f3a"
            ],
            [
             0.8888888888888888,
             "#fdca26"
            ],
            [
             1,
             "#f0f921"
            ]
           ],
           "sequentialminus": [
            [
             0,
             "#0d0887"
            ],
            [
             0.1111111111111111,
             "#46039f"
            ],
            [
             0.2222222222222222,
             "#7201a8"
            ],
            [
             0.3333333333333333,
             "#9c179e"
            ],
            [
             0.4444444444444444,
             "#bd3786"
            ],
            [
             0.5555555555555556,
             "#d8576b"
            ],
            [
             0.6666666666666666,
             "#ed7953"
            ],
            [
             0.7777777777777778,
             "#fb9f3a"
            ],
            [
             0.8888888888888888,
             "#fdca26"
            ],
            [
             1,
             "#f0f921"
            ]
           ]
          },
          "colorway": [
           "#636efa",
           "#EF553B",
           "#00cc96",
           "#ab63fa",
           "#FFA15A",
           "#19d3f3",
           "#FF6692",
           "#B6E880",
           "#FF97FF",
           "#FECB52"
          ],
          "font": {
           "color": "#2a3f5f"
          },
          "geo": {
           "bgcolor": "white",
           "lakecolor": "white",
           "landcolor": "#E5ECF6",
           "showlakes": true,
           "showland": true,
           "subunitcolor": "white"
          },
          "hoverlabel": {
           "align": "left"
          },
          "hovermode": "closest",
          "mapbox": {
           "style": "light"
          },
          "paper_bgcolor": "white",
          "plot_bgcolor": "#E5ECF6",
          "polar": {
           "angularaxis": {
            "gridcolor": "white",
            "linecolor": "white",
            "ticks": ""
           },
           "bgcolor": "#E5ECF6",
           "radialaxis": {
            "gridcolor": "white",
            "linecolor": "white",
            "ticks": ""
           }
          },
          "scene": {
           "xaxis": {
            "backgroundcolor": "#E5ECF6",
            "gridcolor": "white",
            "gridwidth": 2,
            "linecolor": "white",
            "showbackground": true,
            "ticks": "",
            "zerolinecolor": "white"
           },
           "yaxis": {
            "backgroundcolor": "#E5ECF6",
            "gridcolor": "white",
            "gridwidth": 2,
            "linecolor": "white",
            "showbackground": true,
            "ticks": "",
            "zerolinecolor": "white"
           },
           "zaxis": {
            "backgroundcolor": "#E5ECF6",
            "gridcolor": "white",
            "gridwidth": 2,
            "linecolor": "white",
            "showbackground": true,
            "ticks": "",
            "zerolinecolor": "white"
           }
          },
          "shapedefaults": {
           "line": {
            "color": "#2a3f5f"
           }
          },
          "ternary": {
           "aaxis": {
            "gridcolor": "white",
            "linecolor": "white",
            "ticks": ""
           },
           "baxis": {
            "gridcolor": "white",
            "linecolor": "white",
            "ticks": ""
           },
           "bgcolor": "#E5ECF6",
           "caxis": {
            "gridcolor": "white",
            "linecolor": "white",
            "ticks": ""
           }
          },
          "title": {
           "x": 0.05
          },
          "xaxis": {
           "automargin": true,
           "gridcolor": "white",
           "linecolor": "white",
           "ticks": "",
           "title": {
            "standoff": 15
           },
           "zerolinecolor": "white",
           "zerolinewidth": 2
          },
          "yaxis": {
           "automargin": true,
           "gridcolor": "white",
           "linecolor": "white",
           "ticks": "",
           "title": {
            "standoff": 15
           },
           "zerolinecolor": "white",
           "zerolinewidth": 2
          }
         }
        },
        "title": {
         "font": {
          "color": "darkblue",
          "family": "Arial",
          "size": 20
         },
         "text": "Styled Top Countries by Revenue",
         "x": 0.5
        },
        "xaxis": {
         "anchor": "y",
         "domain": [
          0,
          1
         ],
         "title": {
          "text": "Quantity"
         }
        },
        "yaxis": {
         "anchor": "x",
         "domain": [
          0,
          1
         ],
         "title": {
          "text": "Price"
         }
        }
       }
      }
     },
     "metadata": {},
     "output_type": "display_data"
    }
   ],
   "source": [
    "fig = px.scatter(df_sample.sample(1000),\n",
    "                 x='Quantity', y='Price',\n",
    "                 color='Country',\n",
    "                 size='Revenue',\n",
    "                 hover_data=['Revenue', 'Month'])\n",
    "\n",
    "fig.update_layout(\n",
    "    title=dict(\n",
    "        text=\"Styled Top Countries by Revenue\",\n",
    "        font=dict(size=20, color='darkblue', family='Arial'),\n",
    "        x=0.5  # center the title\n",
    "    ),\n",
    "    font=dict(family=\"Verdana\", size=14, color=\"black\"),\n",
    ")\n",
    "\n",
    "fig.show()\n"
   ]
  },
  {
   "cell_type": "markdown",
   "id": "0f628daf",
   "metadata": {},
   "source": [
    "# Grouped Bar chart"
   ]
  },
  {
   "cell_type": "code",
   "execution_count": 60,
   "id": "f7daef28",
   "metadata": {},
   "outputs": [
    {
     "data": {
      "text/html": [
       "<div>\n",
       "<style scoped>\n",
       "    .dataframe tbody tr th:only-of-type {\n",
       "        vertical-align: middle;\n",
       "    }\n",
       "\n",
       "    .dataframe tbody tr th {\n",
       "        vertical-align: top;\n",
       "    }\n",
       "\n",
       "    .dataframe thead th {\n",
       "        text-align: right;\n",
       "    }\n",
       "</style>\n",
       "<table border=\"1\" class=\"dataframe\">\n",
       "  <thead>\n",
       "    <tr style=\"text-align: right;\">\n",
       "      <th></th>\n",
       "      <th>Quantity</th>\n",
       "      <th>Price</th>\n",
       "      <th>Revenue</th>\n",
       "      <th>Country</th>\n",
       "      <th>Month</th>\n",
       "    </tr>\n",
       "  </thead>\n",
       "  <tbody>\n",
       "    <tr>\n",
       "      <th>0</th>\n",
       "      <td>12</td>\n",
       "      <td>6.95</td>\n",
       "      <td>83.4</td>\n",
       "      <td>United Kingdom</td>\n",
       "      <td>2009-12</td>\n",
       "    </tr>\n",
       "    <tr>\n",
       "      <th>1</th>\n",
       "      <td>12</td>\n",
       "      <td>6.75</td>\n",
       "      <td>81.0</td>\n",
       "      <td>United Kingdom</td>\n",
       "      <td>2009-12</td>\n",
       "    </tr>\n",
       "    <tr>\n",
       "      <th>2</th>\n",
       "      <td>12</td>\n",
       "      <td>6.75</td>\n",
       "      <td>81.0</td>\n",
       "      <td>United Kingdom</td>\n",
       "      <td>2009-12</td>\n",
       "    </tr>\n",
       "    <tr>\n",
       "      <th>3</th>\n",
       "      <td>48</td>\n",
       "      <td>2.10</td>\n",
       "      <td>100.8</td>\n",
       "      <td>United Kingdom</td>\n",
       "      <td>2009-12</td>\n",
       "    </tr>\n",
       "    <tr>\n",
       "      <th>4</th>\n",
       "      <td>24</td>\n",
       "      <td>1.25</td>\n",
       "      <td>30.0</td>\n",
       "      <td>United Kingdom</td>\n",
       "      <td>2009-12</td>\n",
       "    </tr>\n",
       "  </tbody>\n",
       "</table>\n",
       "</div>"
      ],
      "text/plain": [
       "   Quantity  Price  Revenue         Country    Month\n",
       "0        12   6.95     83.4  United Kingdom  2009-12\n",
       "1        12   6.75     81.0  United Kingdom  2009-12\n",
       "2        12   6.75     81.0  United Kingdom  2009-12\n",
       "3        48   2.10    100.8  United Kingdom  2009-12\n",
       "4        24   1.25     30.0  United Kingdom  2009-12"
      ]
     },
     "execution_count": 60,
     "metadata": {},
     "output_type": "execute_result"
    }
   ],
   "source": [
    "filtered_df = df_sample[(df_sample['Revenue'] < 1000) & (df_sample['Revenue'] > 0)]\n",
    "filtered_df.head()"
   ]
  },
  {
   "cell_type": "code",
   "execution_count": 61,
   "id": "e1b83eda",
   "metadata": {},
   "outputs": [],
   "source": [
    "monthly_revenue = (\n",
    "    filtered_df.groupby(['Country', 'Month'])['Revenue']\n",
    "    .sum()\n",
    "    .reset_index()\n",
    ")\n",
    "\n",
    "# Focus on top 5 countries only\n",
    "top_countries = monthly_revenue.groupby('Country')['Revenue'].sum().nlargest(5).index\n",
    "monthly_revenue_top5 = monthly_revenue[monthly_revenue['Country'].isin(top_countries)]"
   ]
  },
  {
   "cell_type": "code",
   "execution_count": 64,
   "id": "ee17eb2a",
   "metadata": {},
   "outputs": [
    {
     "data": {
      "application/vnd.plotly.v1+json": {
       "config": {
        "plotlyServerURL": "https://plot.ly"
       },
       "data": [
        {
         "alignmentgroup": "True",
         "hovertemplate": "Country=EIRE<br>Month=%{x}<br>Revenue=%{y}<extra></extra>",
         "legendgroup": "EIRE",
         "marker": {
          "color": "#636efa",
          "pattern": {
           "shape": ""
          }
         },
         "name": "EIRE",
         "offsetgroup": "EIRE",
         "orientation": "v",
         "showlegend": true,
         "textposition": "auto",
         "type": "bar",
         "x": [
          "2009-12",
          "2010-01",
          "2010-02",
          "2010-03",
          "2010-04",
          "2010-05",
          "2010-06",
          "2010-07",
          "2010-08",
          "2010-09",
          "2010-10",
          "2010-11",
          "2010-12",
          "2011-01",
          "2011-02",
          "2011-03",
          "2011-04",
          "2011-05",
          "2011-06",
          "2011-07",
          "2011-08",
          "2011-09",
          "2011-10",
          "2011-11",
          "2011-12"
         ],
         "xaxis": "x",
         "y": {
          "bdata": "CtejcJ2+0UAK16Nw7dfqQArXo3Cdu9NACtejcF1z1kDsUbgeBS/UQNejcD36A9JAKVyPwpVl1kC4HoXrQT7YQKRwPQrXYdZAj8L1KOQQ4UAAAAAAiE7iQIXrUbhuEdtArkfhetR1ykBcj8L12IHRQPYoXI9Cx8NAexSuRwGt0EAAAAAAgJK9QB+F61EYN89Aw/UoXP9e00BmZmZm/rjhQB+F61HYkdBA4XoUrm8E5EAVrkfhembWQNejcD1ayNxAUrgehetCu0A=",
          "dtype": "f8"
         },
         "yaxis": "y"
        },
        {
         "alignmentgroup": "True",
         "hovertemplate": "Country=France<br>Month=%{x}<br>Revenue=%{y}<extra></extra>",
         "legendgroup": "France",
         "marker": {
          "color": "#EF553B",
          "pattern": {
           "shape": ""
          }
         },
         "name": "France",
         "offsetgroup": "France",
         "orientation": "v",
         "showlegend": true,
         "textposition": "auto",
         "type": "bar",
         "x": [
          "2009-12",
          "2010-01",
          "2010-02",
          "2010-03",
          "2010-04",
          "2010-05",
          "2010-06",
          "2010-07",
          "2010-08",
          "2010-09",
          "2010-10",
          "2010-11",
          "2010-12",
          "2011-01",
          "2011-02",
          "2011-03",
          "2011-04",
          "2011-05",
          "2011-06",
          "2011-07",
          "2011-08",
          "2011-09",
          "2011-10",
          "2011-11",
          "2011-12"
         ],
         "xaxis": "x",
         "y": {
          "bdata": "PQrXo7B5uUA9Ctej0IjAQK5H4XoUoMFAUrgehcvowEBI4XoULu28QDMzMzMTQ8tA7FG4HkXqwUBmZmZmpnW+QJqZmZmZIs1A16NwPcpRykD2KFyP4rXNQMP1KFyfjdJACtejcF0Rz0DhehSuB1PRQBSuR+H6ocBAZmZmZsZ+zEDD9ShcTymxQB+F61G4M9FAj8L1KHxnz0AfhetRGIjDQBSuR+F6+cpA9ihcjwLh1kBmZmZmtvrWQClcj8JFmt5AUrgehet+vEA=",
          "dtype": "f8"
         },
         "yaxis": "y"
        },
        {
         "alignmentgroup": "True",
         "hovertemplate": "Country=Germany<br>Month=%{x}<br>Revenue=%{y}<extra></extra>",
         "legendgroup": "Germany",
         "marker": {
          "color": "#00cc96",
          "pattern": {
           "shape": ""
          }
         },
         "name": "Germany",
         "offsetgroup": "Germany",
         "orientation": "v",
         "showlegend": true,
         "textposition": "auto",
         "type": "bar",
         "x": [
          "2009-12",
          "2010-01",
          "2010-02",
          "2010-03",
          "2010-04",
          "2010-05",
          "2010-06",
          "2010-07",
          "2010-08",
          "2010-09",
          "2010-10",
          "2010-11",
          "2010-12",
          "2011-01",
          "2011-02",
          "2011-03",
          "2011-04",
          "2011-05",
          "2011-06",
          "2011-07",
          "2011-08",
          "2011-09",
          "2011-10",
          "2011-11",
          "2011-12"
         ],
         "xaxis": "x",
         "y": {
          "bdata": "zczMzGy4w0BI4XoUDonIQAAAAAAg0sFA7FG4HoVO0EBYObTIziDXQEjhehQuysFAPgrXo1CfzkD2KFyPkszTQML1KFyPa8NAUrgehQtT0UAfhetRaA7VQD0K16MgiN1ASOF6FE5v1EApXI/CtYPQQGZmZmaGtsJAH4XrUVgczEDsUbgexQ3IQM3MzMzMJdlAzczMzAztyUCF61G4Pg7QQHsUrkcxxdJASOF6FM6q0UAUrkfhmuXeQHsUrkdBXttAUrgehSswv0A=",
          "dtype": "f8"
         },
         "yaxis": "y"
        },
        {
         "alignmentgroup": "True",
         "hovertemplate": "Country=Netherlands<br>Month=%{x}<br>Revenue=%{y}<extra></extra>",
         "legendgroup": "Netherlands",
         "marker": {
          "color": "#ab63fa",
          "pattern": {
           "shape": ""
          }
         },
         "name": "Netherlands",
         "offsetgroup": "Netherlands",
         "orientation": "v",
         "showlegend": true,
         "textposition": "auto",
         "type": "bar",
         "x": [
          "2009-12",
          "2010-01",
          "2010-02",
          "2010-03",
          "2010-04",
          "2010-05",
          "2010-06",
          "2010-07",
          "2010-08",
          "2010-09",
          "2010-10",
          "2010-11",
          "2010-12",
          "2011-01",
          "2011-02",
          "2011-03",
          "2011-04",
          "2011-05",
          "2011-06",
          "2011-07",
          "2011-08",
          "2011-09",
          "2011-10",
          "2011-11",
          "2011-12"
         ],
         "xaxis": "x",
         "y": {
          "bdata": "CtejcF1Oy0DhehSul9fZQLgeheuxRc1AhetRuP7a1kDhehSux+i6QLgehesh5NVAPQrXoyCo10DXo3A9Sp61QI/C9SgsP9dArkfheiQz5UBmZmZmdtzQQOF6FK5Xm+FA16NwPYqIwUDXo3A9yvzZQNejcD36eNZAwvUoXB/U00CF61G4HkGnQB+F61F4JNtAKVyPwoU62kCF61G4HgU6QLgehev5sONAPQrXo1BO2kDhehSuD9XgQD0K16OARNlAKVyPwjXfwUA=",
          "dtype": "f8"
         },
         "yaxis": "y"
        },
        {
         "alignmentgroup": "True",
         "hovertemplate": "Country=United Kingdom<br>Month=%{x}<br>Revenue=%{y}<extra></extra>",
         "legendgroup": "United Kingdom",
         "marker": {
          "color": "#FFA15A",
          "pattern": {
           "shape": ""
          }
         },
         "name": "United Kingdom",
         "offsetgroup": "United Kingdom",
         "orientation": "v",
         "showlegend": true,
         "textposition": "auto",
         "type": "bar",
         "x": [
          "2009-12",
          "2010-01",
          "2010-02",
          "2010-03",
          "2010-04",
          "2010-05",
          "2010-06",
          "2010-07",
          "2010-08",
          "2010-09",
          "2010-10",
          "2010-11",
          "2010-12",
          "2011-01",
          "2011-02",
          "2011-03",
          "2011-04",
          "2011-05",
          "2011-06",
          "2011-07",
          "2011-08",
          "2011-09",
          "2011-10",
          "2011-11",
          "2011-12"
         ],
         "xaxis": "x",
         "y": {
          "bdata": "j8L1KKRoIUFKDAIrcH4XQbTIdr49BBlBbxKDACXMIEHTTWKQoGEeQeF6FK4FYh1BCtejcBYEH0GamZmZl0wcQYXrUbjbHB1B1Xjp5vWjIkF7FK5H8LYoQQaBlUNYCCxB9ihcj5Q3JUF7FK5H8c4TQbgehevMlxRB9ihcjxERG0ElBoEVxhEXQVK4HoU2eh9BAAAAAFT2GkElBoEVdxAcQexRuB6FtBxBWDm0yPmCJUHsUbieFjgnQZqZmRkrzSxBmpmZmXCiEEE=",
          "dtype": "f8"
         },
         "yaxis": "y"
        }
       ],
       "layout": {
        "barmode": "group",
        "legend": {
         "title": {
          "text": "Country"
         },
         "tracegroupgap": 0
        },
        "template": {
         "data": {
          "bar": [
           {
            "error_x": {
             "color": "#2a3f5f"
            },
            "error_y": {
             "color": "#2a3f5f"
            },
            "marker": {
             "line": {
              "color": "#E5ECF6",
              "width": 0.5
             },
             "pattern": {
              "fillmode": "overlay",
              "size": 10,
              "solidity": 0.2
             }
            },
            "type": "bar"
           }
          ],
          "barpolar": [
           {
            "marker": {
             "line": {
              "color": "#E5ECF6",
              "width": 0.5
             },
             "pattern": {
              "fillmode": "overlay",
              "size": 10,
              "solidity": 0.2
             }
            },
            "type": "barpolar"
           }
          ],
          "carpet": [
           {
            "aaxis": {
             "endlinecolor": "#2a3f5f",
             "gridcolor": "white",
             "linecolor": "white",
             "minorgridcolor": "white",
             "startlinecolor": "#2a3f5f"
            },
            "baxis": {
             "endlinecolor": "#2a3f5f",
             "gridcolor": "white",
             "linecolor": "white",
             "minorgridcolor": "white",
             "startlinecolor": "#2a3f5f"
            },
            "type": "carpet"
           }
          ],
          "choropleth": [
           {
            "colorbar": {
             "outlinewidth": 0,
             "ticks": ""
            },
            "type": "choropleth"
           }
          ],
          "contour": [
           {
            "colorbar": {
             "outlinewidth": 0,
             "ticks": ""
            },
            "colorscale": [
             [
              0,
              "#0d0887"
             ],
             [
              0.1111111111111111,
              "#46039f"
             ],
             [
              0.2222222222222222,
              "#7201a8"
             ],
             [
              0.3333333333333333,
              "#9c179e"
             ],
             [
              0.4444444444444444,
              "#bd3786"
             ],
             [
              0.5555555555555556,
              "#d8576b"
             ],
             [
              0.6666666666666666,
              "#ed7953"
             ],
             [
              0.7777777777777778,
              "#fb9f3a"
             ],
             [
              0.8888888888888888,
              "#fdca26"
             ],
             [
              1,
              "#f0f921"
             ]
            ],
            "type": "contour"
           }
          ],
          "contourcarpet": [
           {
            "colorbar": {
             "outlinewidth": 0,
             "ticks": ""
            },
            "type": "contourcarpet"
           }
          ],
          "heatmap": [
           {
            "colorbar": {
             "outlinewidth": 0,
             "ticks": ""
            },
            "colorscale": [
             [
              0,
              "#0d0887"
             ],
             [
              0.1111111111111111,
              "#46039f"
             ],
             [
              0.2222222222222222,
              "#7201a8"
             ],
             [
              0.3333333333333333,
              "#9c179e"
             ],
             [
              0.4444444444444444,
              "#bd3786"
             ],
             [
              0.5555555555555556,
              "#d8576b"
             ],
             [
              0.6666666666666666,
              "#ed7953"
             ],
             [
              0.7777777777777778,
              "#fb9f3a"
             ],
             [
              0.8888888888888888,
              "#fdca26"
             ],
             [
              1,
              "#f0f921"
             ]
            ],
            "type": "heatmap"
           }
          ],
          "histogram": [
           {
            "marker": {
             "pattern": {
              "fillmode": "overlay",
              "size": 10,
              "solidity": 0.2
             }
            },
            "type": "histogram"
           }
          ],
          "histogram2d": [
           {
            "colorbar": {
             "outlinewidth": 0,
             "ticks": ""
            },
            "colorscale": [
             [
              0,
              "#0d0887"
             ],
             [
              0.1111111111111111,
              "#46039f"
             ],
             [
              0.2222222222222222,
              "#7201a8"
             ],
             [
              0.3333333333333333,
              "#9c179e"
             ],
             [
              0.4444444444444444,
              "#bd3786"
             ],
             [
              0.5555555555555556,
              "#d8576b"
             ],
             [
              0.6666666666666666,
              "#ed7953"
             ],
             [
              0.7777777777777778,
              "#fb9f3a"
             ],
             [
              0.8888888888888888,
              "#fdca26"
             ],
             [
              1,
              "#f0f921"
             ]
            ],
            "type": "histogram2d"
           }
          ],
          "histogram2dcontour": [
           {
            "colorbar": {
             "outlinewidth": 0,
             "ticks": ""
            },
            "colorscale": [
             [
              0,
              "#0d0887"
             ],
             [
              0.1111111111111111,
              "#46039f"
             ],
             [
              0.2222222222222222,
              "#7201a8"
             ],
             [
              0.3333333333333333,
              "#9c179e"
             ],
             [
              0.4444444444444444,
              "#bd3786"
             ],
             [
              0.5555555555555556,
              "#d8576b"
             ],
             [
              0.6666666666666666,
              "#ed7953"
             ],
             [
              0.7777777777777778,
              "#fb9f3a"
             ],
             [
              0.8888888888888888,
              "#fdca26"
             ],
             [
              1,
              "#f0f921"
             ]
            ],
            "type": "histogram2dcontour"
           }
          ],
          "mesh3d": [
           {
            "colorbar": {
             "outlinewidth": 0,
             "ticks": ""
            },
            "type": "mesh3d"
           }
          ],
          "parcoords": [
           {
            "line": {
             "colorbar": {
              "outlinewidth": 0,
              "ticks": ""
             }
            },
            "type": "parcoords"
           }
          ],
          "pie": [
           {
            "automargin": true,
            "type": "pie"
           }
          ],
          "scatter": [
           {
            "fillpattern": {
             "fillmode": "overlay",
             "size": 10,
             "solidity": 0.2
            },
            "type": "scatter"
           }
          ],
          "scatter3d": [
           {
            "line": {
             "colorbar": {
              "outlinewidth": 0,
              "ticks": ""
             }
            },
            "marker": {
             "colorbar": {
              "outlinewidth": 0,
              "ticks": ""
             }
            },
            "type": "scatter3d"
           }
          ],
          "scattercarpet": [
           {
            "marker": {
             "colorbar": {
              "outlinewidth": 0,
              "ticks": ""
             }
            },
            "type": "scattercarpet"
           }
          ],
          "scattergeo": [
           {
            "marker": {
             "colorbar": {
              "outlinewidth": 0,
              "ticks": ""
             }
            },
            "type": "scattergeo"
           }
          ],
          "scattergl": [
           {
            "marker": {
             "colorbar": {
              "outlinewidth": 0,
              "ticks": ""
             }
            },
            "type": "scattergl"
           }
          ],
          "scattermap": [
           {
            "marker": {
             "colorbar": {
              "outlinewidth": 0,
              "ticks": ""
             }
            },
            "type": "scattermap"
           }
          ],
          "scattermapbox": [
           {
            "marker": {
             "colorbar": {
              "outlinewidth": 0,
              "ticks": ""
             }
            },
            "type": "scattermapbox"
           }
          ],
          "scatterpolar": [
           {
            "marker": {
             "colorbar": {
              "outlinewidth": 0,
              "ticks": ""
             }
            },
            "type": "scatterpolar"
           }
          ],
          "scatterpolargl": [
           {
            "marker": {
             "colorbar": {
              "outlinewidth": 0,
              "ticks": ""
             }
            },
            "type": "scatterpolargl"
           }
          ],
          "scatterternary": [
           {
            "marker": {
             "colorbar": {
              "outlinewidth": 0,
              "ticks": ""
             }
            },
            "type": "scatterternary"
           }
          ],
          "surface": [
           {
            "colorbar": {
             "outlinewidth": 0,
             "ticks": ""
            },
            "colorscale": [
             [
              0,
              "#0d0887"
             ],
             [
              0.1111111111111111,
              "#46039f"
             ],
             [
              0.2222222222222222,
              "#7201a8"
             ],
             [
              0.3333333333333333,
              "#9c179e"
             ],
             [
              0.4444444444444444,
              "#bd3786"
             ],
             [
              0.5555555555555556,
              "#d8576b"
             ],
             [
              0.6666666666666666,
              "#ed7953"
             ],
             [
              0.7777777777777778,
              "#fb9f3a"
             ],
             [
              0.8888888888888888,
              "#fdca26"
             ],
             [
              1,
              "#f0f921"
             ]
            ],
            "type": "surface"
           }
          ],
          "table": [
           {
            "cells": {
             "fill": {
              "color": "#EBF0F8"
             },
             "line": {
              "color": "white"
             }
            },
            "header": {
             "fill": {
              "color": "#C8D4E3"
             },
             "line": {
              "color": "white"
             }
            },
            "type": "table"
           }
          ]
         },
         "layout": {
          "annotationdefaults": {
           "arrowcolor": "#2a3f5f",
           "arrowhead": 0,
           "arrowwidth": 1
          },
          "autotypenumbers": "strict",
          "coloraxis": {
           "colorbar": {
            "outlinewidth": 0,
            "ticks": ""
           }
          },
          "colorscale": {
           "diverging": [
            [
             0,
             "#8e0152"
            ],
            [
             0.1,
             "#c51b7d"
            ],
            [
             0.2,
             "#de77ae"
            ],
            [
             0.3,
             "#f1b6da"
            ],
            [
             0.4,
             "#fde0ef"
            ],
            [
             0.5,
             "#f7f7f7"
            ],
            [
             0.6,
             "#e6f5d0"
            ],
            [
             0.7,
             "#b8e186"
            ],
            [
             0.8,
             "#7fbc41"
            ],
            [
             0.9,
             "#4d9221"
            ],
            [
             1,
             "#276419"
            ]
           ],
           "sequential": [
            [
             0,
             "#0d0887"
            ],
            [
             0.1111111111111111,
             "#46039f"
            ],
            [
             0.2222222222222222,
             "#7201a8"
            ],
            [
             0.3333333333333333,
             "#9c179e"
            ],
            [
             0.4444444444444444,
             "#bd3786"
            ],
            [
             0.5555555555555556,
             "#d8576b"
            ],
            [
             0.6666666666666666,
             "#ed7953"
            ],
            [
             0.7777777777777778,
             "#fb9f3a"
            ],
            [
             0.8888888888888888,
             "#fdca26"
            ],
            [
             1,
             "#f0f921"
            ]
           ],
           "sequentialminus": [
            [
             0,
             "#0d0887"
            ],
            [
             0.1111111111111111,
             "#46039f"
            ],
            [
             0.2222222222222222,
             "#7201a8"
            ],
            [
             0.3333333333333333,
             "#9c179e"
            ],
            [
             0.4444444444444444,
             "#bd3786"
            ],
            [
             0.5555555555555556,
             "#d8576b"
            ],
            [
             0.6666666666666666,
             "#ed7953"
            ],
            [
             0.7777777777777778,
             "#fb9f3a"
            ],
            [
             0.8888888888888888,
             "#fdca26"
            ],
            [
             1,
             "#f0f921"
            ]
           ]
          },
          "colorway": [
           "#636efa",
           "#EF553B",
           "#00cc96",
           "#ab63fa",
           "#FFA15A",
           "#19d3f3",
           "#FF6692",
           "#B6E880",
           "#FF97FF",
           "#FECB52"
          ],
          "font": {
           "color": "#2a3f5f"
          },
          "geo": {
           "bgcolor": "white",
           "lakecolor": "white",
           "landcolor": "#E5ECF6",
           "showlakes": true,
           "showland": true,
           "subunitcolor": "white"
          },
          "hoverlabel": {
           "align": "left"
          },
          "hovermode": "closest",
          "mapbox": {
           "style": "light"
          },
          "paper_bgcolor": "white",
          "plot_bgcolor": "#E5ECF6",
          "polar": {
           "angularaxis": {
            "gridcolor": "white",
            "linecolor": "white",
            "ticks": ""
           },
           "bgcolor": "#E5ECF6",
           "radialaxis": {
            "gridcolor": "white",
            "linecolor": "white",
            "ticks": ""
           }
          },
          "scene": {
           "xaxis": {
            "backgroundcolor": "#E5ECF6",
            "gridcolor": "white",
            "gridwidth": 2,
            "linecolor": "white",
            "showbackground": true,
            "ticks": "",
            "zerolinecolor": "white"
           },
           "yaxis": {
            "backgroundcolor": "#E5ECF6",
            "gridcolor": "white",
            "gridwidth": 2,
            "linecolor": "white",
            "showbackground": true,
            "ticks": "",
            "zerolinecolor": "white"
           },
           "zaxis": {
            "backgroundcolor": "#E5ECF6",
            "gridcolor": "white",
            "gridwidth": 2,
            "linecolor": "white",
            "showbackground": true,
            "ticks": "",
            "zerolinecolor": "white"
           }
          },
          "shapedefaults": {
           "line": {
            "color": "#2a3f5f"
           }
          },
          "ternary": {
           "aaxis": {
            "gridcolor": "white",
            "linecolor": "white",
            "ticks": ""
           },
           "baxis": {
            "gridcolor": "white",
            "linecolor": "white",
            "ticks": ""
           },
           "bgcolor": "#E5ECF6",
           "caxis": {
            "gridcolor": "white",
            "linecolor": "white",
            "ticks": ""
           }
          },
          "title": {
           "x": 0.05
          },
          "xaxis": {
           "automargin": true,
           "gridcolor": "white",
           "linecolor": "white",
           "ticks": "",
           "title": {
            "standoff": 15
           },
           "zerolinecolor": "white",
           "zerolinewidth": 2
          },
          "yaxis": {
           "automargin": true,
           "gridcolor": "white",
           "linecolor": "white",
           "ticks": "",
           "title": {
            "standoff": 15
           },
           "zerolinecolor": "white",
           "zerolinewidth": 2
          }
         }
        },
        "title": {
         "text": "Monthly Revenue (Top 5 Countries, Filtered Revenue < 1000)"
        },
        "xaxis": {
         "anchor": "y",
         "domain": [
          0,
          1
         ],
         "tickangle": 45,
         "title": {
          "text": "Month"
         }
        },
        "yaxis": {
         "anchor": "x",
         "domain": [
          0,
          1
         ],
         "title": {
          "text": "Revenue"
         }
        }
       }
      }
     },
     "metadata": {},
     "output_type": "display_data"
    }
   ],
   "source": [
    "fig = px.bar(\n",
    "    monthly_revenue_top5,\n",
    "    x='Month',\n",
    "    y='Revenue',\n",
    "    color='Country',\n",
    "    title='Monthly Revenue (Top 5 Countries, Filtered Revenue < 1000)',\n",
    "    barmode='group' # Groups bars for each month side-by-side (instead of stacking them).\n",
    "    # barmode='stack', it would stack the countries’ bars on top of each other for each month instead.\n",
    ")\n",
    "\n",
    "fig.update_layout(\n",
    "    xaxis_title='Month',\n",
    "    yaxis_title='Revenue',\n",
    "    xaxis_tickangle=45\n",
    ")\n",
    "\n",
    "fig.show()"
   ]
  },
  {
   "cell_type": "markdown",
   "id": "673592f8",
   "metadata": {},
   "source": [
    "# Pie Chart\n",
    "### Country Revenue Share\n",
    "### Each country's share of total revenue"
   ]
  },
  {
   "cell_type": "code",
   "execution_count": 72,
   "id": "e37c6d22",
   "metadata": {},
   "outputs": [
    {
     "data": {
      "application/vnd.plotly.v1+json": {
       "config": {
        "plotlyServerURL": "https://plot.ly"
       },
       "data": [
        {
         "domain": {
          "x": [
           0,
           1
          ],
          "y": [
           0,
           1
          ]
         },
         "hole": 0.4,
         "hovertemplate": "Country=%{label}<br>Revenue=%{value}<extra></extra>",
         "labels": [
          "United Kingdom",
          "EIRE",
          "Netherlands",
          "Germany",
          "France"
         ],
         "legendgroup": "",
         "name": "",
         "showlegend": true,
         "textinfo": "percent+label",
         "type": "pie",
         "values": {
          "bdata": "lkOLcAkVbEGF61E4fvgiQeF6FK7w6SBBTmIQ2HlSGkEUrkfh5a4VQQ==",
          "dtype": "f8"
         }
        }
       ],
       "layout": {
        "legend": {
         "tracegroupgap": 0
        },
        "template": {
         "data": {
          "bar": [
           {
            "error_x": {
             "color": "#2a3f5f"
            },
            "error_y": {
             "color": "#2a3f5f"
            },
            "marker": {
             "line": {
              "color": "#E5ECF6",
              "width": 0.5
             },
             "pattern": {
              "fillmode": "overlay",
              "size": 10,
              "solidity": 0.2
             }
            },
            "type": "bar"
           }
          ],
          "barpolar": [
           {
            "marker": {
             "line": {
              "color": "#E5ECF6",
              "width": 0.5
             },
             "pattern": {
              "fillmode": "overlay",
              "size": 10,
              "solidity": 0.2
             }
            },
            "type": "barpolar"
           }
          ],
          "carpet": [
           {
            "aaxis": {
             "endlinecolor": "#2a3f5f",
             "gridcolor": "white",
             "linecolor": "white",
             "minorgridcolor": "white",
             "startlinecolor": "#2a3f5f"
            },
            "baxis": {
             "endlinecolor": "#2a3f5f",
             "gridcolor": "white",
             "linecolor": "white",
             "minorgridcolor": "white",
             "startlinecolor": "#2a3f5f"
            },
            "type": "carpet"
           }
          ],
          "choropleth": [
           {
            "colorbar": {
             "outlinewidth": 0,
             "ticks": ""
            },
            "type": "choropleth"
           }
          ],
          "contour": [
           {
            "colorbar": {
             "outlinewidth": 0,
             "ticks": ""
            },
            "colorscale": [
             [
              0,
              "#0d0887"
             ],
             [
              0.1111111111111111,
              "#46039f"
             ],
             [
              0.2222222222222222,
              "#7201a8"
             ],
             [
              0.3333333333333333,
              "#9c179e"
             ],
             [
              0.4444444444444444,
              "#bd3786"
             ],
             [
              0.5555555555555556,
              "#d8576b"
             ],
             [
              0.6666666666666666,
              "#ed7953"
             ],
             [
              0.7777777777777778,
              "#fb9f3a"
             ],
             [
              0.8888888888888888,
              "#fdca26"
             ],
             [
              1,
              "#f0f921"
             ]
            ],
            "type": "contour"
           }
          ],
          "contourcarpet": [
           {
            "colorbar": {
             "outlinewidth": 0,
             "ticks": ""
            },
            "type": "contourcarpet"
           }
          ],
          "heatmap": [
           {
            "colorbar": {
             "outlinewidth": 0,
             "ticks": ""
            },
            "colorscale": [
             [
              0,
              "#0d0887"
             ],
             [
              0.1111111111111111,
              "#46039f"
             ],
             [
              0.2222222222222222,
              "#7201a8"
             ],
             [
              0.3333333333333333,
              "#9c179e"
             ],
             [
              0.4444444444444444,
              "#bd3786"
             ],
             [
              0.5555555555555556,
              "#d8576b"
             ],
             [
              0.6666666666666666,
              "#ed7953"
             ],
             [
              0.7777777777777778,
              "#fb9f3a"
             ],
             [
              0.8888888888888888,
              "#fdca26"
             ],
             [
              1,
              "#f0f921"
             ]
            ],
            "type": "heatmap"
           }
          ],
          "histogram": [
           {
            "marker": {
             "pattern": {
              "fillmode": "overlay",
              "size": 10,
              "solidity": 0.2
             }
            },
            "type": "histogram"
           }
          ],
          "histogram2d": [
           {
            "colorbar": {
             "outlinewidth": 0,
             "ticks": ""
            },
            "colorscale": [
             [
              0,
              "#0d0887"
             ],
             [
              0.1111111111111111,
              "#46039f"
             ],
             [
              0.2222222222222222,
              "#7201a8"
             ],
             [
              0.3333333333333333,
              "#9c179e"
             ],
             [
              0.4444444444444444,
              "#bd3786"
             ],
             [
              0.5555555555555556,
              "#d8576b"
             ],
             [
              0.6666666666666666,
              "#ed7953"
             ],
             [
              0.7777777777777778,
              "#fb9f3a"
             ],
             [
              0.8888888888888888,
              "#fdca26"
             ],
             [
              1,
              "#f0f921"
             ]
            ],
            "type": "histogram2d"
           }
          ],
          "histogram2dcontour": [
           {
            "colorbar": {
             "outlinewidth": 0,
             "ticks": ""
            },
            "colorscale": [
             [
              0,
              "#0d0887"
             ],
             [
              0.1111111111111111,
              "#46039f"
             ],
             [
              0.2222222222222222,
              "#7201a8"
             ],
             [
              0.3333333333333333,
              "#9c179e"
             ],
             [
              0.4444444444444444,
              "#bd3786"
             ],
             [
              0.5555555555555556,
              "#d8576b"
             ],
             [
              0.6666666666666666,
              "#ed7953"
             ],
             [
              0.7777777777777778,
              "#fb9f3a"
             ],
             [
              0.8888888888888888,
              "#fdca26"
             ],
             [
              1,
              "#f0f921"
             ]
            ],
            "type": "histogram2dcontour"
           }
          ],
          "mesh3d": [
           {
            "colorbar": {
             "outlinewidth": 0,
             "ticks": ""
            },
            "type": "mesh3d"
           }
          ],
          "parcoords": [
           {
            "line": {
             "colorbar": {
              "outlinewidth": 0,
              "ticks": ""
             }
            },
            "type": "parcoords"
           }
          ],
          "pie": [
           {
            "automargin": true,
            "type": "pie"
           }
          ],
          "scatter": [
           {
            "fillpattern": {
             "fillmode": "overlay",
             "size": 10,
             "solidity": 0.2
            },
            "type": "scatter"
           }
          ],
          "scatter3d": [
           {
            "line": {
             "colorbar": {
              "outlinewidth": 0,
              "ticks": ""
             }
            },
            "marker": {
             "colorbar": {
              "outlinewidth": 0,
              "ticks": ""
             }
            },
            "type": "scatter3d"
           }
          ],
          "scattercarpet": [
           {
            "marker": {
             "colorbar": {
              "outlinewidth": 0,
              "ticks": ""
             }
            },
            "type": "scattercarpet"
           }
          ],
          "scattergeo": [
           {
            "marker": {
             "colorbar": {
              "outlinewidth": 0,
              "ticks": ""
             }
            },
            "type": "scattergeo"
           }
          ],
          "scattergl": [
           {
            "marker": {
             "colorbar": {
              "outlinewidth": 0,
              "ticks": ""
             }
            },
            "type": "scattergl"
           }
          ],
          "scattermap": [
           {
            "marker": {
             "colorbar": {
              "outlinewidth": 0,
              "ticks": ""
             }
            },
            "type": "scattermap"
           }
          ],
          "scattermapbox": [
           {
            "marker": {
             "colorbar": {
              "outlinewidth": 0,
              "ticks": ""
             }
            },
            "type": "scattermapbox"
           }
          ],
          "scatterpolar": [
           {
            "marker": {
             "colorbar": {
              "outlinewidth": 0,
              "ticks": ""
             }
            },
            "type": "scatterpolar"
           }
          ],
          "scatterpolargl": [
           {
            "marker": {
             "colorbar": {
              "outlinewidth": 0,
              "ticks": ""
             }
            },
            "type": "scatterpolargl"
           }
          ],
          "scatterternary": [
           {
            "marker": {
             "colorbar": {
              "outlinewidth": 0,
              "ticks": ""
             }
            },
            "type": "scatterternary"
           }
          ],
          "surface": [
           {
            "colorbar": {
             "outlinewidth": 0,
             "ticks": ""
            },
            "colorscale": [
             [
              0,
              "#0d0887"
             ],
             [
              0.1111111111111111,
              "#46039f"
             ],
             [
              0.2222222222222222,
              "#7201a8"
             ],
             [
              0.3333333333333333,
              "#9c179e"
             ],
             [
              0.4444444444444444,
              "#bd3786"
             ],
             [
              0.5555555555555556,
              "#d8576b"
             ],
             [
              0.6666666666666666,
              "#ed7953"
             ],
             [
              0.7777777777777778,
              "#fb9f3a"
             ],
             [
              0.8888888888888888,
              "#fdca26"
             ],
             [
              1,
              "#f0f921"
             ]
            ],
            "type": "surface"
           }
          ],
          "table": [
           {
            "cells": {
             "fill": {
              "color": "#EBF0F8"
             },
             "line": {
              "color": "white"
             }
            },
            "header": {
             "fill": {
              "color": "#C8D4E3"
             },
             "line": {
              "color": "white"
             }
            },
            "type": "table"
           }
          ]
         },
         "layout": {
          "annotationdefaults": {
           "arrowcolor": "#2a3f5f",
           "arrowhead": 0,
           "arrowwidth": 1
          },
          "autotypenumbers": "strict",
          "coloraxis": {
           "colorbar": {
            "outlinewidth": 0,
            "ticks": ""
           }
          },
          "colorscale": {
           "diverging": [
            [
             0,
             "#8e0152"
            ],
            [
             0.1,
             "#c51b7d"
            ],
            [
             0.2,
             "#de77ae"
            ],
            [
             0.3,
             "#f1b6da"
            ],
            [
             0.4,
             "#fde0ef"
            ],
            [
             0.5,
             "#f7f7f7"
            ],
            [
             0.6,
             "#e6f5d0"
            ],
            [
             0.7,
             "#b8e186"
            ],
            [
             0.8,
             "#7fbc41"
            ],
            [
             0.9,
             "#4d9221"
            ],
            [
             1,
             "#276419"
            ]
           ],
           "sequential": [
            [
             0,
             "#0d0887"
            ],
            [
             0.1111111111111111,
             "#46039f"
            ],
            [
             0.2222222222222222,
             "#7201a8"
            ],
            [
             0.3333333333333333,
             "#9c179e"
            ],
            [
             0.4444444444444444,
             "#bd3786"
            ],
            [
             0.5555555555555556,
             "#d8576b"
            ],
            [
             0.6666666666666666,
             "#ed7953"
            ],
            [
             0.7777777777777778,
             "#fb9f3a"
            ],
            [
             0.8888888888888888,
             "#fdca26"
            ],
            [
             1,
             "#f0f921"
            ]
           ],
           "sequentialminus": [
            [
             0,
             "#0d0887"
            ],
            [
             0.1111111111111111,
             "#46039f"
            ],
            [
             0.2222222222222222,
             "#7201a8"
            ],
            [
             0.3333333333333333,
             "#9c179e"
            ],
            [
             0.4444444444444444,
             "#bd3786"
            ],
            [
             0.5555555555555556,
             "#d8576b"
            ],
            [
             0.6666666666666666,
             "#ed7953"
            ],
            [
             0.7777777777777778,
             "#fb9f3a"
            ],
            [
             0.8888888888888888,
             "#fdca26"
            ],
            [
             1,
             "#f0f921"
            ]
           ]
          },
          "colorway": [
           "#636efa",
           "#EF553B",
           "#00cc96",
           "#ab63fa",
           "#FFA15A",
           "#19d3f3",
           "#FF6692",
           "#B6E880",
           "#FF97FF",
           "#FECB52"
          ],
          "font": {
           "color": "#2a3f5f"
          },
          "geo": {
           "bgcolor": "white",
           "lakecolor": "white",
           "landcolor": "#E5ECF6",
           "showlakes": true,
           "showland": true,
           "subunitcolor": "white"
          },
          "hoverlabel": {
           "align": "left"
          },
          "hovermode": "closest",
          "mapbox": {
           "style": "light"
          },
          "paper_bgcolor": "white",
          "plot_bgcolor": "#E5ECF6",
          "polar": {
           "angularaxis": {
            "gridcolor": "white",
            "linecolor": "white",
            "ticks": ""
           },
           "bgcolor": "#E5ECF6",
           "radialaxis": {
            "gridcolor": "white",
            "linecolor": "white",
            "ticks": ""
           }
          },
          "scene": {
           "xaxis": {
            "backgroundcolor": "#E5ECF6",
            "gridcolor": "white",
            "gridwidth": 2,
            "linecolor": "white",
            "showbackground": true,
            "ticks": "",
            "zerolinecolor": "white"
           },
           "yaxis": {
            "backgroundcolor": "#E5ECF6",
            "gridcolor": "white",
            "gridwidth": 2,
            "linecolor": "white",
            "showbackground": true,
            "ticks": "",
            "zerolinecolor": "white"
           },
           "zaxis": {
            "backgroundcolor": "#E5ECF6",
            "gridcolor": "white",
            "gridwidth": 2,
            "linecolor": "white",
            "showbackground": true,
            "ticks": "",
            "zerolinecolor": "white"
           }
          },
          "shapedefaults": {
           "line": {
            "color": "#2a3f5f"
           }
          },
          "ternary": {
           "aaxis": {
            "gridcolor": "white",
            "linecolor": "white",
            "ticks": ""
           },
           "baxis": {
            "gridcolor": "white",
            "linecolor": "white",
            "ticks": ""
           },
           "bgcolor": "#E5ECF6",
           "caxis": {
            "gridcolor": "white",
            "linecolor": "white",
            "ticks": ""
           }
          },
          "title": {
           "x": 0.05
          },
          "xaxis": {
           "automargin": true,
           "gridcolor": "white",
           "linecolor": "white",
           "ticks": "",
           "title": {
            "standoff": 15
           },
           "zerolinecolor": "white",
           "zerolinewidth": 2
          },
          "yaxis": {
           "automargin": true,
           "gridcolor": "white",
           "linecolor": "white",
           "ticks": "",
           "title": {
            "standoff": 15
           },
           "zerolinecolor": "white",
           "zerolinewidth": 2
          }
         }
        },
        "title": {
         "text": "Top 5 Countries by Revenue Share"
        }
       }
      }
     },
     "metadata": {},
     "output_type": "display_data"
    }
   ],
   "source": [
    "country_rev = df_sample.groupby('Country')['Revenue'].sum().nlargest(5).reset_index() # Data Aggregation\n",
    "# .nlargest(5) selects the top 5 countries with the highest total revenue.\n",
    "# country_rev = df_sample.groupby('Country')['Revenue'].sum().sort_values(ascending = False).head(5).reset_index() # can be done like this as well\n",
    "\n",
    "fig = px.pie(country_rev, \n",
    "             names='Country', # Each wedge represents a country.\n",
    "             values='Revenue', # Size of each wedge is based on that country's total revenue.\n",
    "             title='Top 5 Countries by Revenue Share',\n",
    "             hole=0.4)  # Donut Chart\n",
    "\n",
    "fig.update_traces(textinfo='percent+label')\n",
    "# Controls what text is shown on each wedge.\n",
    "# 'percent+label' - Show percentage of total revenue, Show country name (label)\n",
    "\n",
    "fig.show()"
   ]
  },
  {
   "cell_type": "markdown",
   "id": "b337ed4f",
   "metadata": {},
   "source": [
    "# Treemap\n",
    "### Revenue by Country and Month"
   ]
  },
  {
   "cell_type": "code",
   "execution_count": 73,
   "id": "47cb8640",
   "metadata": {},
   "outputs": [
    {
     "data": {
      "application/vnd.plotly.v1+json": {
       "config": {
        "plotlyServerURL": "https://plot.ly"
       },
       "data": [
        {
         "branchvalues": "total",
         "domain": {
          "x": [
           0,
           1
          ],
          "y": [
           0,
           1
          ]
         },
         "hovertemplate": "labels=%{label}<br>Revenue=%{value}<br>parent=%{parent}<br>id=%{id}<extra></extra>",
         "ids": [
          "EIRE/2009-12",
          "EIRE/2010-01",
          "EIRE/2010-02",
          "EIRE/2010-03",
          "EIRE/2010-04",
          "EIRE/2010-05",
          "EIRE/2010-06",
          "EIRE/2010-07",
          "EIRE/2010-08",
          "EIRE/2010-09",
          "EIRE/2010-10",
          "EIRE/2010-11",
          "EIRE/2010-12",
          "EIRE/2011-01",
          "EIRE/2011-02",
          "EIRE/2011-03",
          "EIRE/2011-04",
          "EIRE/2011-05",
          "EIRE/2011-06",
          "EIRE/2011-07",
          "EIRE/2011-08",
          "EIRE/2011-09",
          "EIRE/2011-10",
          "EIRE/2011-11",
          "EIRE/2011-12",
          "France/2009-12",
          "France/2010-01",
          "France/2010-02",
          "France/2010-03",
          "France/2010-04",
          "France/2010-05",
          "France/2010-06",
          "France/2010-07",
          "France/2010-08",
          "France/2010-09",
          "France/2010-10",
          "France/2010-11",
          "France/2010-12",
          "France/2011-01",
          "France/2011-02",
          "France/2011-03",
          "France/2011-04",
          "France/2011-05",
          "France/2011-06",
          "France/2011-07",
          "France/2011-08",
          "France/2011-09",
          "France/2011-10",
          "France/2011-11",
          "France/2011-12",
          "Germany/2009-12",
          "Germany/2010-01",
          "Germany/2010-02",
          "Germany/2010-03",
          "Germany/2010-04",
          "Germany/2010-05",
          "Germany/2010-06",
          "Germany/2010-07",
          "Germany/2010-08",
          "Germany/2010-09",
          "Germany/2010-10",
          "Germany/2010-11",
          "Germany/2010-12",
          "Germany/2011-01",
          "Germany/2011-02",
          "Germany/2011-03",
          "Germany/2011-04",
          "Germany/2011-05",
          "Germany/2011-06",
          "Germany/2011-07",
          "Germany/2011-08",
          "Germany/2011-09",
          "Germany/2011-10",
          "Germany/2011-11",
          "Germany/2011-12",
          "Netherlands/2009-12",
          "Netherlands/2010-01",
          "Netherlands/2010-02",
          "Netherlands/2010-03",
          "Netherlands/2010-04",
          "Netherlands/2010-05",
          "Netherlands/2010-06",
          "Netherlands/2010-07",
          "Netherlands/2010-08",
          "Netherlands/2010-09",
          "Netherlands/2010-10",
          "Netherlands/2010-11",
          "Netherlands/2010-12",
          "Netherlands/2011-01",
          "Netherlands/2011-02",
          "Netherlands/2011-03",
          "Netherlands/2011-04",
          "Netherlands/2011-05",
          "Netherlands/2011-06",
          "Netherlands/2011-07",
          "Netherlands/2011-08",
          "Netherlands/2011-09",
          "Netherlands/2011-10",
          "Netherlands/2011-11",
          "Netherlands/2011-12",
          "United Kingdom/2009-12",
          "United Kingdom/2010-01",
          "United Kingdom/2010-02",
          "United Kingdom/2010-03",
          "United Kingdom/2010-04",
          "United Kingdom/2010-05",
          "United Kingdom/2010-06",
          "United Kingdom/2010-07",
          "United Kingdom/2010-08",
          "United Kingdom/2010-09",
          "United Kingdom/2010-10",
          "United Kingdom/2010-11",
          "United Kingdom/2010-12",
          "United Kingdom/2011-01",
          "United Kingdom/2011-02",
          "United Kingdom/2011-03",
          "United Kingdom/2011-04",
          "United Kingdom/2011-05",
          "United Kingdom/2011-06",
          "United Kingdom/2011-07",
          "United Kingdom/2011-08",
          "United Kingdom/2011-09",
          "United Kingdom/2011-10",
          "United Kingdom/2011-11",
          "United Kingdom/2011-12",
          "EIRE",
          "France",
          "Germany",
          "Netherlands",
          "United Kingdom"
         ],
         "labels": [
          "2009-12",
          "2010-01",
          "2010-02",
          "2010-03",
          "2010-04",
          "2010-05",
          "2010-06",
          "2010-07",
          "2010-08",
          "2010-09",
          "2010-10",
          "2010-11",
          "2010-12",
          "2011-01",
          "2011-02",
          "2011-03",
          "2011-04",
          "2011-05",
          "2011-06",
          "2011-07",
          "2011-08",
          "2011-09",
          "2011-10",
          "2011-11",
          "2011-12",
          "2009-12",
          "2010-01",
          "2010-02",
          "2010-03",
          "2010-04",
          "2010-05",
          "2010-06",
          "2010-07",
          "2010-08",
          "2010-09",
          "2010-10",
          "2010-11",
          "2010-12",
          "2011-01",
          "2011-02",
          "2011-03",
          "2011-04",
          "2011-05",
          "2011-06",
          "2011-07",
          "2011-08",
          "2011-09",
          "2011-10",
          "2011-11",
          "2011-12",
          "2009-12",
          "2010-01",
          "2010-02",
          "2010-03",
          "2010-04",
          "2010-05",
          "2010-06",
          "2010-07",
          "2010-08",
          "2010-09",
          "2010-10",
          "2010-11",
          "2010-12",
          "2011-01",
          "2011-02",
          "2011-03",
          "2011-04",
          "2011-05",
          "2011-06",
          "2011-07",
          "2011-08",
          "2011-09",
          "2011-10",
          "2011-11",
          "2011-12",
          "2009-12",
          "2010-01",
          "2010-02",
          "2010-03",
          "2010-04",
          "2010-05",
          "2010-06",
          "2010-07",
          "2010-08",
          "2010-09",
          "2010-10",
          "2010-11",
          "2010-12",
          "2011-01",
          "2011-02",
          "2011-03",
          "2011-04",
          "2011-05",
          "2011-06",
          "2011-07",
          "2011-08",
          "2011-09",
          "2011-10",
          "2011-11",
          "2011-12",
          "2009-12",
          "2010-01",
          "2010-02",
          "2010-03",
          "2010-04",
          "2010-05",
          "2010-06",
          "2010-07",
          "2010-08",
          "2010-09",
          "2010-10",
          "2010-11",
          "2010-12",
          "2011-01",
          "2011-02",
          "2011-03",
          "2011-04",
          "2011-05",
          "2011-06",
          "2011-07",
          "2011-08",
          "2011-09",
          "2011-10",
          "2011-11",
          "2011-12",
          "EIRE",
          "France",
          "Germany",
          "Netherlands",
          "United Kingdom"
         ],
         "name": "",
         "parents": [
          "EIRE",
          "EIRE",
          "EIRE",
          "EIRE",
          "EIRE",
          "EIRE",
          "EIRE",
          "EIRE",
          "EIRE",
          "EIRE",
          "EIRE",
          "EIRE",
          "EIRE",
          "EIRE",
          "EIRE",
          "EIRE",
          "EIRE",
          "EIRE",
          "EIRE",
          "EIRE",
          "EIRE",
          "EIRE",
          "EIRE",
          "EIRE",
          "EIRE",
          "France",
          "France",
          "France",
          "France",
          "France",
          "France",
          "France",
          "France",
          "France",
          "France",
          "France",
          "France",
          "France",
          "France",
          "France",
          "France",
          "France",
          "France",
          "France",
          "France",
          "France",
          "France",
          "France",
          "France",
          "France",
          "Germany",
          "Germany",
          "Germany",
          "Germany",
          "Germany",
          "Germany",
          "Germany",
          "Germany",
          "Germany",
          "Germany",
          "Germany",
          "Germany",
          "Germany",
          "Germany",
          "Germany",
          "Germany",
          "Germany",
          "Germany",
          "Germany",
          "Germany",
          "Germany",
          "Germany",
          "Germany",
          "Germany",
          "Germany",
          "Netherlands",
          "Netherlands",
          "Netherlands",
          "Netherlands",
          "Netherlands",
          "Netherlands",
          "Netherlands",
          "Netherlands",
          "Netherlands",
          "Netherlands",
          "Netherlands",
          "Netherlands",
          "Netherlands",
          "Netherlands",
          "Netherlands",
          "Netherlands",
          "Netherlands",
          "Netherlands",
          "Netherlands",
          "Netherlands",
          "Netherlands",
          "Netherlands",
          "Netherlands",
          "Netherlands",
          "Netherlands",
          "United Kingdom",
          "United Kingdom",
          "United Kingdom",
          "United Kingdom",
          "United Kingdom",
          "United Kingdom",
          "United Kingdom",
          "United Kingdom",
          "United Kingdom",
          "United Kingdom",
          "United Kingdom",
          "United Kingdom",
          "United Kingdom",
          "United Kingdom",
          "United Kingdom",
          "United Kingdom",
          "United Kingdom",
          "United Kingdom",
          "United Kingdom",
          "United Kingdom",
          "United Kingdom",
          "United Kingdom",
          "United Kingdom",
          "United Kingdom",
          "United Kingdom",
          "",
          "",
          "",
          "",
          ""
         ],
         "type": "treemap",
         "values": {
          "bdata": "CtejcJ2+0UDsUbge7cDvQArXo3Cdu9NACtejcF1z1kDsUbgeBS/UQNejcD36A9JAKVyPwpVl1kCF61G4zjzfQKRwPQrXYdZAj8L1KKS/4UBSuB6FO3PlQIXrUbhuEdtArkfhetR1ykCPwvUoDGTVQPYoXI9Cx8NApHA9Cpcq1UAAAAAAgJK9QB+F61EYN89Aw/UoXP9e00DNzMzMJPnjQB+F61HYkdBA4XoUrm8E5EAVrkfher/XQNejcD1ayNxAUrgehetCu0A9CtejsHm5QD0K16PQiMBArkfhehSgwUBSuB6Fy+jAQEjhehQu7bxAMzMzMxNDy0DsUbgeRerBQDMzMzMTSMZArkfhepQu0EDXo3A9qmHMQPYoXI/itc1Aw/UoXJ+N0kAK16NwXRHPQOF6FK4HU9FAFK5H4fqhwEBmZmZmxn7MQI/C9SicmbVAH4XrUbgz0UCPwvUofGfPQB+F61EYiMNAFK5H4Xr5ykD2KFyPAuHWQGZmZmauWeBAKVyPwkWa3kBSuB6F6368QM3MzMxsuMNASOF6FA6JyEAAAAAAINLBQOxRuB6FTtBAWDm0yM4g10BI4XoULsrBQD4K16NQn85A9ihcj5LM00DC9Shcj2vDQFK4HoULU9FAH4XrUWgO1UA9CtejIIjdQEjhehROb9RAKVyPwrWD0EBmZmZmhrbCQB+F61FYHMxA7FG4HsUNyEDNzMzMzCXZQM3MzMwM7clAhetRuD4O0EB7FK5HMcXSQEjhehTOqtFAFK5H4Zrl3kB7FK5HQV7bQFK4HoUrML9ACtejcF2yzUB7FK5HsYvcQFyPwvXY2dBAhetRuP7f10DhehSux+i6QLgehesh5NVAPQrXoyCo10DXo3A9Sp61QI/C9SgscdhArkfheqT95UBmZmZmdtzQQOF6FK5Xm+FA16NwPYqIwUDXo3A9yvzZQNejcD36eNZAwvUoXB/k1UCF61G4HkGnQB+F61F4gNxAKVyPwoU62kCF61G4HgU6QLgehev5sONAPQrXo1BO2kDNzMzMlODjQD0K16OARNlA9ihcjwLoxkDNzMzMvbYiQRfZzvfsbRlBtMh2vhcXGUHByqEFOv8hQTm0yPYGuh5Brkfheuy6HkGF61G4W4UgQeF6FK6/xh5Bw/UoXCAJH0ESg8CK48wkQWZmZuaq1CpBBoGVQ/oELkF7FK5Hy7gnQdejcD04/RpBUrgehR61FUHD9Shc+oMcQdNNYpBc/xhBPQrXoyHVIEFcj8L15gQgQd0kBgGxox1BexSuR1VsHkGBlUOL2FAoQQrXo3B8KylBAAAAgEvtLUHiehSuANUcQYXrUTh++CJBFK5H4eWuFUFOYhDYeVIaQeF6FK7w6SBBlkOLcAkVbEE=",
          "dtype": "f8"
         }
        }
       ],
       "layout": {
        "legend": {
         "tracegroupgap": 0
        },
        "template": {
         "data": {
          "bar": [
           {
            "error_x": {
             "color": "#2a3f5f"
            },
            "error_y": {
             "color": "#2a3f5f"
            },
            "marker": {
             "line": {
              "color": "#E5ECF6",
              "width": 0.5
             },
             "pattern": {
              "fillmode": "overlay",
              "size": 10,
              "solidity": 0.2
             }
            },
            "type": "bar"
           }
          ],
          "barpolar": [
           {
            "marker": {
             "line": {
              "color": "#E5ECF6",
              "width": 0.5
             },
             "pattern": {
              "fillmode": "overlay",
              "size": 10,
              "solidity": 0.2
             }
            },
            "type": "barpolar"
           }
          ],
          "carpet": [
           {
            "aaxis": {
             "endlinecolor": "#2a3f5f",
             "gridcolor": "white",
             "linecolor": "white",
             "minorgridcolor": "white",
             "startlinecolor": "#2a3f5f"
            },
            "baxis": {
             "endlinecolor": "#2a3f5f",
             "gridcolor": "white",
             "linecolor": "white",
             "minorgridcolor": "white",
             "startlinecolor": "#2a3f5f"
            },
            "type": "carpet"
           }
          ],
          "choropleth": [
           {
            "colorbar": {
             "outlinewidth": 0,
             "ticks": ""
            },
            "type": "choropleth"
           }
          ],
          "contour": [
           {
            "colorbar": {
             "outlinewidth": 0,
             "ticks": ""
            },
            "colorscale": [
             [
              0,
              "#0d0887"
             ],
             [
              0.1111111111111111,
              "#46039f"
             ],
             [
              0.2222222222222222,
              "#7201a8"
             ],
             [
              0.3333333333333333,
              "#9c179e"
             ],
             [
              0.4444444444444444,
              "#bd3786"
             ],
             [
              0.5555555555555556,
              "#d8576b"
             ],
             [
              0.6666666666666666,
              "#ed7953"
             ],
             [
              0.7777777777777778,
              "#fb9f3a"
             ],
             [
              0.8888888888888888,
              "#fdca26"
             ],
             [
              1,
              "#f0f921"
             ]
            ],
            "type": "contour"
           }
          ],
          "contourcarpet": [
           {
            "colorbar": {
             "outlinewidth": 0,
             "ticks": ""
            },
            "type": "contourcarpet"
           }
          ],
          "heatmap": [
           {
            "colorbar": {
             "outlinewidth": 0,
             "ticks": ""
            },
            "colorscale": [
             [
              0,
              "#0d0887"
             ],
             [
              0.1111111111111111,
              "#46039f"
             ],
             [
              0.2222222222222222,
              "#7201a8"
             ],
             [
              0.3333333333333333,
              "#9c179e"
             ],
             [
              0.4444444444444444,
              "#bd3786"
             ],
             [
              0.5555555555555556,
              "#d8576b"
             ],
             [
              0.6666666666666666,
              "#ed7953"
             ],
             [
              0.7777777777777778,
              "#fb9f3a"
             ],
             [
              0.8888888888888888,
              "#fdca26"
             ],
             [
              1,
              "#f0f921"
             ]
            ],
            "type": "heatmap"
           }
          ],
          "histogram": [
           {
            "marker": {
             "pattern": {
              "fillmode": "overlay",
              "size": 10,
              "solidity": 0.2
             }
            },
            "type": "histogram"
           }
          ],
          "histogram2d": [
           {
            "colorbar": {
             "outlinewidth": 0,
             "ticks": ""
            },
            "colorscale": [
             [
              0,
              "#0d0887"
             ],
             [
              0.1111111111111111,
              "#46039f"
             ],
             [
              0.2222222222222222,
              "#7201a8"
             ],
             [
              0.3333333333333333,
              "#9c179e"
             ],
             [
              0.4444444444444444,
              "#bd3786"
             ],
             [
              0.5555555555555556,
              "#d8576b"
             ],
             [
              0.6666666666666666,
              "#ed7953"
             ],
             [
              0.7777777777777778,
              "#fb9f3a"
             ],
             [
              0.8888888888888888,
              "#fdca26"
             ],
             [
              1,
              "#f0f921"
             ]
            ],
            "type": "histogram2d"
           }
          ],
          "histogram2dcontour": [
           {
            "colorbar": {
             "outlinewidth": 0,
             "ticks": ""
            },
            "colorscale": [
             [
              0,
              "#0d0887"
             ],
             [
              0.1111111111111111,
              "#46039f"
             ],
             [
              0.2222222222222222,
              "#7201a8"
             ],
             [
              0.3333333333333333,
              "#9c179e"
             ],
             [
              0.4444444444444444,
              "#bd3786"
             ],
             [
              0.5555555555555556,
              "#d8576b"
             ],
             [
              0.6666666666666666,
              "#ed7953"
             ],
             [
              0.7777777777777778,
              "#fb9f3a"
             ],
             [
              0.8888888888888888,
              "#fdca26"
             ],
             [
              1,
              "#f0f921"
             ]
            ],
            "type": "histogram2dcontour"
           }
          ],
          "mesh3d": [
           {
            "colorbar": {
             "outlinewidth": 0,
             "ticks": ""
            },
            "type": "mesh3d"
           }
          ],
          "parcoords": [
           {
            "line": {
             "colorbar": {
              "outlinewidth": 0,
              "ticks": ""
             }
            },
            "type": "parcoords"
           }
          ],
          "pie": [
           {
            "automargin": true,
            "type": "pie"
           }
          ],
          "scatter": [
           {
            "fillpattern": {
             "fillmode": "overlay",
             "size": 10,
             "solidity": 0.2
            },
            "type": "scatter"
           }
          ],
          "scatter3d": [
           {
            "line": {
             "colorbar": {
              "outlinewidth": 0,
              "ticks": ""
             }
            },
            "marker": {
             "colorbar": {
              "outlinewidth": 0,
              "ticks": ""
             }
            },
            "type": "scatter3d"
           }
          ],
          "scattercarpet": [
           {
            "marker": {
             "colorbar": {
              "outlinewidth": 0,
              "ticks": ""
             }
            },
            "type": "scattercarpet"
           }
          ],
          "scattergeo": [
           {
            "marker": {
             "colorbar": {
              "outlinewidth": 0,
              "ticks": ""
             }
            },
            "type": "scattergeo"
           }
          ],
          "scattergl": [
           {
            "marker": {
             "colorbar": {
              "outlinewidth": 0,
              "ticks": ""
             }
            },
            "type": "scattergl"
           }
          ],
          "scattermap": [
           {
            "marker": {
             "colorbar": {
              "outlinewidth": 0,
              "ticks": ""
             }
            },
            "type": "scattermap"
           }
          ],
          "scattermapbox": [
           {
            "marker": {
             "colorbar": {
              "outlinewidth": 0,
              "ticks": ""
             }
            },
            "type": "scattermapbox"
           }
          ],
          "scatterpolar": [
           {
            "marker": {
             "colorbar": {
              "outlinewidth": 0,
              "ticks": ""
             }
            },
            "type": "scatterpolar"
           }
          ],
          "scatterpolargl": [
           {
            "marker": {
             "colorbar": {
              "outlinewidth": 0,
              "ticks": ""
             }
            },
            "type": "scatterpolargl"
           }
          ],
          "scatterternary": [
           {
            "marker": {
             "colorbar": {
              "outlinewidth": 0,
              "ticks": ""
             }
            },
            "type": "scatterternary"
           }
          ],
          "surface": [
           {
            "colorbar": {
             "outlinewidth": 0,
             "ticks": ""
            },
            "colorscale": [
             [
              0,
              "#0d0887"
             ],
             [
              0.1111111111111111,
              "#46039f"
             ],
             [
              0.2222222222222222,
              "#7201a8"
             ],
             [
              0.3333333333333333,
              "#9c179e"
             ],
             [
              0.4444444444444444,
              "#bd3786"
             ],
             [
              0.5555555555555556,
              "#d8576b"
             ],
             [
              0.6666666666666666,
              "#ed7953"
             ],
             [
              0.7777777777777778,
              "#fb9f3a"
             ],
             [
              0.8888888888888888,
              "#fdca26"
             ],
             [
              1,
              "#f0f921"
             ]
            ],
            "type": "surface"
           }
          ],
          "table": [
           {
            "cells": {
             "fill": {
              "color": "#EBF0F8"
             },
             "line": {
              "color": "white"
             }
            },
            "header": {
             "fill": {
              "color": "#C8D4E3"
             },
             "line": {
              "color": "white"
             }
            },
            "type": "table"
           }
          ]
         },
         "layout": {
          "annotationdefaults": {
           "arrowcolor": "#2a3f5f",
           "arrowhead": 0,
           "arrowwidth": 1
          },
          "autotypenumbers": "strict",
          "coloraxis": {
           "colorbar": {
            "outlinewidth": 0,
            "ticks": ""
           }
          },
          "colorscale": {
           "diverging": [
            [
             0,
             "#8e0152"
            ],
            [
             0.1,
             "#c51b7d"
            ],
            [
             0.2,
             "#de77ae"
            ],
            [
             0.3,
             "#f1b6da"
            ],
            [
             0.4,
             "#fde0ef"
            ],
            [
             0.5,
             "#f7f7f7"
            ],
            [
             0.6,
             "#e6f5d0"
            ],
            [
             0.7,
             "#b8e186"
            ],
            [
             0.8,
             "#7fbc41"
            ],
            [
             0.9,
             "#4d9221"
            ],
            [
             1,
             "#276419"
            ]
           ],
           "sequential": [
            [
             0,
             "#0d0887"
            ],
            [
             0.1111111111111111,
             "#46039f"
            ],
            [
             0.2222222222222222,
             "#7201a8"
            ],
            [
             0.3333333333333333,
             "#9c179e"
            ],
            [
             0.4444444444444444,
             "#bd3786"
            ],
            [
             0.5555555555555556,
             "#d8576b"
            ],
            [
             0.6666666666666666,
             "#ed7953"
            ],
            [
             0.7777777777777778,
             "#fb9f3a"
            ],
            [
             0.8888888888888888,
             "#fdca26"
            ],
            [
             1,
             "#f0f921"
            ]
           ],
           "sequentialminus": [
            [
             0,
             "#0d0887"
            ],
            [
             0.1111111111111111,
             "#46039f"
            ],
            [
             0.2222222222222222,
             "#7201a8"
            ],
            [
             0.3333333333333333,
             "#9c179e"
            ],
            [
             0.4444444444444444,
             "#bd3786"
            ],
            [
             0.5555555555555556,
             "#d8576b"
            ],
            [
             0.6666666666666666,
             "#ed7953"
            ],
            [
             0.7777777777777778,
             "#fb9f3a"
            ],
            [
             0.8888888888888888,
             "#fdca26"
            ],
            [
             1,
             "#f0f921"
            ]
           ]
          },
          "colorway": [
           "#636efa",
           "#EF553B",
           "#00cc96",
           "#ab63fa",
           "#FFA15A",
           "#19d3f3",
           "#FF6692",
           "#B6E880",
           "#FF97FF",
           "#FECB52"
          ],
          "font": {
           "color": "#2a3f5f"
          },
          "geo": {
           "bgcolor": "white",
           "lakecolor": "white",
           "landcolor": "#E5ECF6",
           "showlakes": true,
           "showland": true,
           "subunitcolor": "white"
          },
          "hoverlabel": {
           "align": "left"
          },
          "hovermode": "closest",
          "mapbox": {
           "style": "light"
          },
          "paper_bgcolor": "white",
          "plot_bgcolor": "#E5ECF6",
          "polar": {
           "angularaxis": {
            "gridcolor": "white",
            "linecolor": "white",
            "ticks": ""
           },
           "bgcolor": "#E5ECF6",
           "radialaxis": {
            "gridcolor": "white",
            "linecolor": "white",
            "ticks": ""
           }
          },
          "scene": {
           "xaxis": {
            "backgroundcolor": "#E5ECF6",
            "gridcolor": "white",
            "gridwidth": 2,
            "linecolor": "white",
            "showbackground": true,
            "ticks": "",
            "zerolinecolor": "white"
           },
           "yaxis": {
            "backgroundcolor": "#E5ECF6",
            "gridcolor": "white",
            "gridwidth": 2,
            "linecolor": "white",
            "showbackground": true,
            "ticks": "",
            "zerolinecolor": "white"
           },
           "zaxis": {
            "backgroundcolor": "#E5ECF6",
            "gridcolor": "white",
            "gridwidth": 2,
            "linecolor": "white",
            "showbackground": true,
            "ticks": "",
            "zerolinecolor": "white"
           }
          },
          "shapedefaults": {
           "line": {
            "color": "#2a3f5f"
           }
          },
          "ternary": {
           "aaxis": {
            "gridcolor": "white",
            "linecolor": "white",
            "ticks": ""
           },
           "baxis": {
            "gridcolor": "white",
            "linecolor": "white",
            "ticks": ""
           },
           "bgcolor": "#E5ECF6",
           "caxis": {
            "gridcolor": "white",
            "linecolor": "white",
            "ticks": ""
           }
          },
          "title": {
           "x": 0.05
          },
          "xaxis": {
           "automargin": true,
           "gridcolor": "white",
           "linecolor": "white",
           "ticks": "",
           "title": {
            "standoff": 15
           },
           "zerolinecolor": "white",
           "zerolinewidth": 2
          },
          "yaxis": {
           "automargin": true,
           "gridcolor": "white",
           "linecolor": "white",
           "ticks": "",
           "title": {
            "standoff": 15
           },
           "zerolinecolor": "white",
           "zerolinewidth": 2
          }
         }
        },
        "title": {
         "text": "Revenue by Country and Month"
        }
       }
      }
     },
     "metadata": {},
     "output_type": "display_data"
    }
   ],
   "source": [
    "df_tree = df_sample.groupby(['Country', 'Month'])['Revenue'].sum().reset_index()\n",
    "top_countries = df_tree.groupby('Country')['Revenue'].sum().nlargest(5).index\n",
    "df_tree = df_tree[df_tree['Country'].isin(top_countries)]\n",
    "\n",
    "fig = px.treemap(df_tree, path=['Country', 'Month'], values='Revenue',\n",
    "                 title='Revenue by Country and Month')\n",
    "\n",
    "# Creates a Treemap — a chart for hierarchical, part-to-whole data.\n",
    "# path=['Country', 'Month']: First level: Country | Second level: Month\n",
    "# values='Revenue': Size of each box is determined by total Revenue.\n",
    "\n",
    "# Treemap Show - Big rectangles for each country, sized by total revenue.\n",
    "# Within each country rectangle, smaller boxes show monthly revenue breakdown\n",
    "\n",
    "fig.show()"
   ]
  },
  {
   "cell_type": "markdown",
   "id": "4a0739ba",
   "metadata": {},
   "source": [
    "#  Sunburst Chart \n",
    "### (Same as Treemap, but Circular)"
   ]
  },
  {
   "cell_type": "code",
   "execution_count": 74,
   "id": "c5ecc69e",
   "metadata": {},
   "outputs": [
    {
     "data": {
      "application/vnd.plotly.v1+json": {
       "config": {
        "plotlyServerURL": "https://plot.ly"
       },
       "data": [
        {
         "branchvalues": "total",
         "domain": {
          "x": [
           0,
           1
          ],
          "y": [
           0,
           1
          ]
         },
         "hovertemplate": "labels=%{label}<br>Revenue=%{value}<br>parent=%{parent}<br>id=%{id}<extra></extra>",
         "ids": [
          "EIRE/2009-12",
          "EIRE/2010-01",
          "EIRE/2010-02",
          "EIRE/2010-03",
          "EIRE/2010-04",
          "EIRE/2010-05",
          "EIRE/2010-06",
          "EIRE/2010-07",
          "EIRE/2010-08",
          "EIRE/2010-09",
          "EIRE/2010-10",
          "EIRE/2010-11",
          "EIRE/2010-12",
          "EIRE/2011-01",
          "EIRE/2011-02",
          "EIRE/2011-03",
          "EIRE/2011-04",
          "EIRE/2011-05",
          "EIRE/2011-06",
          "EIRE/2011-07",
          "EIRE/2011-08",
          "EIRE/2011-09",
          "EIRE/2011-10",
          "EIRE/2011-11",
          "EIRE/2011-12",
          "France/2009-12",
          "France/2010-01",
          "France/2010-02",
          "France/2010-03",
          "France/2010-04",
          "France/2010-05",
          "France/2010-06",
          "France/2010-07",
          "France/2010-08",
          "France/2010-09",
          "France/2010-10",
          "France/2010-11",
          "France/2010-12",
          "France/2011-01",
          "France/2011-02",
          "France/2011-03",
          "France/2011-04",
          "France/2011-05",
          "France/2011-06",
          "France/2011-07",
          "France/2011-08",
          "France/2011-09",
          "France/2011-10",
          "France/2011-11",
          "France/2011-12",
          "Germany/2009-12",
          "Germany/2010-01",
          "Germany/2010-02",
          "Germany/2010-03",
          "Germany/2010-04",
          "Germany/2010-05",
          "Germany/2010-06",
          "Germany/2010-07",
          "Germany/2010-08",
          "Germany/2010-09",
          "Germany/2010-10",
          "Germany/2010-11",
          "Germany/2010-12",
          "Germany/2011-01",
          "Germany/2011-02",
          "Germany/2011-03",
          "Germany/2011-04",
          "Germany/2011-05",
          "Germany/2011-06",
          "Germany/2011-07",
          "Germany/2011-08",
          "Germany/2011-09",
          "Germany/2011-10",
          "Germany/2011-11",
          "Germany/2011-12",
          "Netherlands/2009-12",
          "Netherlands/2010-01",
          "Netherlands/2010-02",
          "Netherlands/2010-03",
          "Netherlands/2010-04",
          "Netherlands/2010-05",
          "Netherlands/2010-06",
          "Netherlands/2010-07",
          "Netherlands/2010-08",
          "Netherlands/2010-09",
          "Netherlands/2010-10",
          "Netherlands/2010-11",
          "Netherlands/2010-12",
          "Netherlands/2011-01",
          "Netherlands/2011-02",
          "Netherlands/2011-03",
          "Netherlands/2011-04",
          "Netherlands/2011-05",
          "Netherlands/2011-06",
          "Netherlands/2011-07",
          "Netherlands/2011-08",
          "Netherlands/2011-09",
          "Netherlands/2011-10",
          "Netherlands/2011-11",
          "Netherlands/2011-12",
          "United Kingdom/2009-12",
          "United Kingdom/2010-01",
          "United Kingdom/2010-02",
          "United Kingdom/2010-03",
          "United Kingdom/2010-04",
          "United Kingdom/2010-05",
          "United Kingdom/2010-06",
          "United Kingdom/2010-07",
          "United Kingdom/2010-08",
          "United Kingdom/2010-09",
          "United Kingdom/2010-10",
          "United Kingdom/2010-11",
          "United Kingdom/2010-12",
          "United Kingdom/2011-01",
          "United Kingdom/2011-02",
          "United Kingdom/2011-03",
          "United Kingdom/2011-04",
          "United Kingdom/2011-05",
          "United Kingdom/2011-06",
          "United Kingdom/2011-07",
          "United Kingdom/2011-08",
          "United Kingdom/2011-09",
          "United Kingdom/2011-10",
          "United Kingdom/2011-11",
          "United Kingdom/2011-12",
          "EIRE",
          "France",
          "Germany",
          "Netherlands",
          "United Kingdom"
         ],
         "labels": [
          "2009-12",
          "2010-01",
          "2010-02",
          "2010-03",
          "2010-04",
          "2010-05",
          "2010-06",
          "2010-07",
          "2010-08",
          "2010-09",
          "2010-10",
          "2010-11",
          "2010-12",
          "2011-01",
          "2011-02",
          "2011-03",
          "2011-04",
          "2011-05",
          "2011-06",
          "2011-07",
          "2011-08",
          "2011-09",
          "2011-10",
          "2011-11",
          "2011-12",
          "2009-12",
          "2010-01",
          "2010-02",
          "2010-03",
          "2010-04",
          "2010-05",
          "2010-06",
          "2010-07",
          "2010-08",
          "2010-09",
          "2010-10",
          "2010-11",
          "2010-12",
          "2011-01",
          "2011-02",
          "2011-03",
          "2011-04",
          "2011-05",
          "2011-06",
          "2011-07",
          "2011-08",
          "2011-09",
          "2011-10",
          "2011-11",
          "2011-12",
          "2009-12",
          "2010-01",
          "2010-02",
          "2010-03",
          "2010-04",
          "2010-05",
          "2010-06",
          "2010-07",
          "2010-08",
          "2010-09",
          "2010-10",
          "2010-11",
          "2010-12",
          "2011-01",
          "2011-02",
          "2011-03",
          "2011-04",
          "2011-05",
          "2011-06",
          "2011-07",
          "2011-08",
          "2011-09",
          "2011-10",
          "2011-11",
          "2011-12",
          "2009-12",
          "2010-01",
          "2010-02",
          "2010-03",
          "2010-04",
          "2010-05",
          "2010-06",
          "2010-07",
          "2010-08",
          "2010-09",
          "2010-10",
          "2010-11",
          "2010-12",
          "2011-01",
          "2011-02",
          "2011-03",
          "2011-04",
          "2011-05",
          "2011-06",
          "2011-07",
          "2011-08",
          "2011-09",
          "2011-10",
          "2011-11",
          "2011-12",
          "2009-12",
          "2010-01",
          "2010-02",
          "2010-03",
          "2010-04",
          "2010-05",
          "2010-06",
          "2010-07",
          "2010-08",
          "2010-09",
          "2010-10",
          "2010-11",
          "2010-12",
          "2011-01",
          "2011-02",
          "2011-03",
          "2011-04",
          "2011-05",
          "2011-06",
          "2011-07",
          "2011-08",
          "2011-09",
          "2011-10",
          "2011-11",
          "2011-12",
          "EIRE",
          "France",
          "Germany",
          "Netherlands",
          "United Kingdom"
         ],
         "name": "",
         "parents": [
          "EIRE",
          "EIRE",
          "EIRE",
          "EIRE",
          "EIRE",
          "EIRE",
          "EIRE",
          "EIRE",
          "EIRE",
          "EIRE",
          "EIRE",
          "EIRE",
          "EIRE",
          "EIRE",
          "EIRE",
          "EIRE",
          "EIRE",
          "EIRE",
          "EIRE",
          "EIRE",
          "EIRE",
          "EIRE",
          "EIRE",
          "EIRE",
          "EIRE",
          "France",
          "France",
          "France",
          "France",
          "France",
          "France",
          "France",
          "France",
          "France",
          "France",
          "France",
          "France",
          "France",
          "France",
          "France",
          "France",
          "France",
          "France",
          "France",
          "France",
          "France",
          "France",
          "France",
          "France",
          "France",
          "Germany",
          "Germany",
          "Germany",
          "Germany",
          "Germany",
          "Germany",
          "Germany",
          "Germany",
          "Germany",
          "Germany",
          "Germany",
          "Germany",
          "Germany",
          "Germany",
          "Germany",
          "Germany",
          "Germany",
          "Germany",
          "Germany",
          "Germany",
          "Germany",
          "Germany",
          "Germany",
          "Germany",
          "Germany",
          "Netherlands",
          "Netherlands",
          "Netherlands",
          "Netherlands",
          "Netherlands",
          "Netherlands",
          "Netherlands",
          "Netherlands",
          "Netherlands",
          "Netherlands",
          "Netherlands",
          "Netherlands",
          "Netherlands",
          "Netherlands",
          "Netherlands",
          "Netherlands",
          "Netherlands",
          "Netherlands",
          "Netherlands",
          "Netherlands",
          "Netherlands",
          "Netherlands",
          "Netherlands",
          "Netherlands",
          "Netherlands",
          "United Kingdom",
          "United Kingdom",
          "United Kingdom",
          "United Kingdom",
          "United Kingdom",
          "United Kingdom",
          "United Kingdom",
          "United Kingdom",
          "United Kingdom",
          "United Kingdom",
          "United Kingdom",
          "United Kingdom",
          "United Kingdom",
          "United Kingdom",
          "United Kingdom",
          "United Kingdom",
          "United Kingdom",
          "United Kingdom",
          "United Kingdom",
          "United Kingdom",
          "United Kingdom",
          "United Kingdom",
          "United Kingdom",
          "United Kingdom",
          "United Kingdom",
          "",
          "",
          "",
          "",
          ""
         ],
         "type": "sunburst",
         "values": {
          "bdata": "CtejcJ2+0UDsUbge7cDvQArXo3Cdu9NACtejcF1z1kDsUbgeBS/UQNejcD36A9JAKVyPwpVl1kCF61G4zjzfQKRwPQrXYdZAj8L1KKS/4UBSuB6FO3PlQIXrUbhuEdtArkfhetR1ykCPwvUoDGTVQPYoXI9Cx8NApHA9Cpcq1UAAAAAAgJK9QB+F61EYN89Aw/UoXP9e00DNzMzMJPnjQB+F61HYkdBA4XoUrm8E5EAVrkfher/XQNejcD1ayNxAUrgehetCu0A9CtejsHm5QD0K16PQiMBArkfhehSgwUBSuB6Fy+jAQEjhehQu7bxAMzMzMxNDy0DsUbgeRerBQDMzMzMTSMZArkfhepQu0EDXo3A9qmHMQPYoXI/itc1Aw/UoXJ+N0kAK16NwXRHPQOF6FK4HU9FAFK5H4fqhwEBmZmZmxn7MQI/C9SicmbVAH4XrUbgz0UCPwvUofGfPQB+F61EYiMNAFK5H4Xr5ykD2KFyPAuHWQGZmZmauWeBAKVyPwkWa3kBSuB6F6368QM3MzMxsuMNASOF6FA6JyEAAAAAAINLBQOxRuB6FTtBAWDm0yM4g10BI4XoULsrBQD4K16NQn85A9ihcj5LM00DC9Shcj2vDQFK4HoULU9FAH4XrUWgO1UA9CtejIIjdQEjhehROb9RAKVyPwrWD0EBmZmZmhrbCQB+F61FYHMxA7FG4HsUNyEDNzMzMzCXZQM3MzMwM7clAhetRuD4O0EB7FK5HMcXSQEjhehTOqtFAFK5H4Zrl3kB7FK5HQV7bQFK4HoUrML9ACtejcF2yzUB7FK5HsYvcQFyPwvXY2dBAhetRuP7f10DhehSux+i6QLgehesh5NVAPQrXoyCo10DXo3A9Sp61QI/C9SgscdhArkfheqT95UBmZmZmdtzQQOF6FK5Xm+FA16NwPYqIwUDXo3A9yvzZQNejcD36eNZAwvUoXB/k1UCF61G4HkGnQB+F61F4gNxAKVyPwoU62kCF61G4HgU6QLgehev5sONAPQrXo1BO2kDNzMzMlODjQD0K16OARNlA9ihcjwLoxkDNzMzMvbYiQRfZzvfsbRlBtMh2vhcXGUHByqEFOv8hQTm0yPYGuh5Brkfheuy6HkGF61G4W4UgQeF6FK6/xh5Bw/UoXCAJH0ESg8CK48wkQWZmZuaq1CpBBoGVQ/oELkF7FK5Hy7gnQdejcD04/RpBUrgehR61FUHD9Shc+oMcQdNNYpBc/xhBPQrXoyHVIEFcj8L15gQgQd0kBgGxox1BexSuR1VsHkGBlUOL2FAoQQrXo3B8KylBAAAAgEvtLUHiehSuANUcQYXrUTh++CJBFK5H4eWuFUFOYhDYeVIaQeF6FK7w6SBBlkOLcAkVbEE=",
          "dtype": "f8"
         }
        }
       ],
       "layout": {
        "legend": {
         "tracegroupgap": 0
        },
        "template": {
         "data": {
          "bar": [
           {
            "error_x": {
             "color": "#2a3f5f"
            },
            "error_y": {
             "color": "#2a3f5f"
            },
            "marker": {
             "line": {
              "color": "#E5ECF6",
              "width": 0.5
             },
             "pattern": {
              "fillmode": "overlay",
              "size": 10,
              "solidity": 0.2
             }
            },
            "type": "bar"
           }
          ],
          "barpolar": [
           {
            "marker": {
             "line": {
              "color": "#E5ECF6",
              "width": 0.5
             },
             "pattern": {
              "fillmode": "overlay",
              "size": 10,
              "solidity": 0.2
             }
            },
            "type": "barpolar"
           }
          ],
          "carpet": [
           {
            "aaxis": {
             "endlinecolor": "#2a3f5f",
             "gridcolor": "white",
             "linecolor": "white",
             "minorgridcolor": "white",
             "startlinecolor": "#2a3f5f"
            },
            "baxis": {
             "endlinecolor": "#2a3f5f",
             "gridcolor": "white",
             "linecolor": "white",
             "minorgridcolor": "white",
             "startlinecolor": "#2a3f5f"
            },
            "type": "carpet"
           }
          ],
          "choropleth": [
           {
            "colorbar": {
             "outlinewidth": 0,
             "ticks": ""
            },
            "type": "choropleth"
           }
          ],
          "contour": [
           {
            "colorbar": {
             "outlinewidth": 0,
             "ticks": ""
            },
            "colorscale": [
             [
              0,
              "#0d0887"
             ],
             [
              0.1111111111111111,
              "#46039f"
             ],
             [
              0.2222222222222222,
              "#7201a8"
             ],
             [
              0.3333333333333333,
              "#9c179e"
             ],
             [
              0.4444444444444444,
              "#bd3786"
             ],
             [
              0.5555555555555556,
              "#d8576b"
             ],
             [
              0.6666666666666666,
              "#ed7953"
             ],
             [
              0.7777777777777778,
              "#fb9f3a"
             ],
             [
              0.8888888888888888,
              "#fdca26"
             ],
             [
              1,
              "#f0f921"
             ]
            ],
            "type": "contour"
           }
          ],
          "contourcarpet": [
           {
            "colorbar": {
             "outlinewidth": 0,
             "ticks": ""
            },
            "type": "contourcarpet"
           }
          ],
          "heatmap": [
           {
            "colorbar": {
             "outlinewidth": 0,
             "ticks": ""
            },
            "colorscale": [
             [
              0,
              "#0d0887"
             ],
             [
              0.1111111111111111,
              "#46039f"
             ],
             [
              0.2222222222222222,
              "#7201a8"
             ],
             [
              0.3333333333333333,
              "#9c179e"
             ],
             [
              0.4444444444444444,
              "#bd3786"
             ],
             [
              0.5555555555555556,
              "#d8576b"
             ],
             [
              0.6666666666666666,
              "#ed7953"
             ],
             [
              0.7777777777777778,
              "#fb9f3a"
             ],
             [
              0.8888888888888888,
              "#fdca26"
             ],
             [
              1,
              "#f0f921"
             ]
            ],
            "type": "heatmap"
           }
          ],
          "histogram": [
           {
            "marker": {
             "pattern": {
              "fillmode": "overlay",
              "size": 10,
              "solidity": 0.2
             }
            },
            "type": "histogram"
           }
          ],
          "histogram2d": [
           {
            "colorbar": {
             "outlinewidth": 0,
             "ticks": ""
            },
            "colorscale": [
             [
              0,
              "#0d0887"
             ],
             [
              0.1111111111111111,
              "#46039f"
             ],
             [
              0.2222222222222222,
              "#7201a8"
             ],
             [
              0.3333333333333333,
              "#9c179e"
             ],
             [
              0.4444444444444444,
              "#bd3786"
             ],
             [
              0.5555555555555556,
              "#d8576b"
             ],
             [
              0.6666666666666666,
              "#ed7953"
             ],
             [
              0.7777777777777778,
              "#fb9f3a"
             ],
             [
              0.8888888888888888,
              "#fdca26"
             ],
             [
              1,
              "#f0f921"
             ]
            ],
            "type": "histogram2d"
           }
          ],
          "histogram2dcontour": [
           {
            "colorbar": {
             "outlinewidth": 0,
             "ticks": ""
            },
            "colorscale": [
             [
              0,
              "#0d0887"
             ],
             [
              0.1111111111111111,
              "#46039f"
             ],
             [
              0.2222222222222222,
              "#7201a8"
             ],
             [
              0.3333333333333333,
              "#9c179e"
             ],
             [
              0.4444444444444444,
              "#bd3786"
             ],
             [
              0.5555555555555556,
              "#d8576b"
             ],
             [
              0.6666666666666666,
              "#ed7953"
             ],
             [
              0.7777777777777778,
              "#fb9f3a"
             ],
             [
              0.8888888888888888,
              "#fdca26"
             ],
             [
              1,
              "#f0f921"
             ]
            ],
            "type": "histogram2dcontour"
           }
          ],
          "mesh3d": [
           {
            "colorbar": {
             "outlinewidth": 0,
             "ticks": ""
            },
            "type": "mesh3d"
           }
          ],
          "parcoords": [
           {
            "line": {
             "colorbar": {
              "outlinewidth": 0,
              "ticks": ""
             }
            },
            "type": "parcoords"
           }
          ],
          "pie": [
           {
            "automargin": true,
            "type": "pie"
           }
          ],
          "scatter": [
           {
            "fillpattern": {
             "fillmode": "overlay",
             "size": 10,
             "solidity": 0.2
            },
            "type": "scatter"
           }
          ],
          "scatter3d": [
           {
            "line": {
             "colorbar": {
              "outlinewidth": 0,
              "ticks": ""
             }
            },
            "marker": {
             "colorbar": {
              "outlinewidth": 0,
              "ticks": ""
             }
            },
            "type": "scatter3d"
           }
          ],
          "scattercarpet": [
           {
            "marker": {
             "colorbar": {
              "outlinewidth": 0,
              "ticks": ""
             }
            },
            "type": "scattercarpet"
           }
          ],
          "scattergeo": [
           {
            "marker": {
             "colorbar": {
              "outlinewidth": 0,
              "ticks": ""
             }
            },
            "type": "scattergeo"
           }
          ],
          "scattergl": [
           {
            "marker": {
             "colorbar": {
              "outlinewidth": 0,
              "ticks": ""
             }
            },
            "type": "scattergl"
           }
          ],
          "scattermap": [
           {
            "marker": {
             "colorbar": {
              "outlinewidth": 0,
              "ticks": ""
             }
            },
            "type": "scattermap"
           }
          ],
          "scattermapbox": [
           {
            "marker": {
             "colorbar": {
              "outlinewidth": 0,
              "ticks": ""
             }
            },
            "type": "scattermapbox"
           }
          ],
          "scatterpolar": [
           {
            "marker": {
             "colorbar": {
              "outlinewidth": 0,
              "ticks": ""
             }
            },
            "type": "scatterpolar"
           }
          ],
          "scatterpolargl": [
           {
            "marker": {
             "colorbar": {
              "outlinewidth": 0,
              "ticks": ""
             }
            },
            "type": "scatterpolargl"
           }
          ],
          "scatterternary": [
           {
            "marker": {
             "colorbar": {
              "outlinewidth": 0,
              "ticks": ""
             }
            },
            "type": "scatterternary"
           }
          ],
          "surface": [
           {
            "colorbar": {
             "outlinewidth": 0,
             "ticks": ""
            },
            "colorscale": [
             [
              0,
              "#0d0887"
             ],
             [
              0.1111111111111111,
              "#46039f"
             ],
             [
              0.2222222222222222,
              "#7201a8"
             ],
             [
              0.3333333333333333,
              "#9c179e"
             ],
             [
              0.4444444444444444,
              "#bd3786"
             ],
             [
              0.5555555555555556,
              "#d8576b"
             ],
             [
              0.6666666666666666,
              "#ed7953"
             ],
             [
              0.7777777777777778,
              "#fb9f3a"
             ],
             [
              0.8888888888888888,
              "#fdca26"
             ],
             [
              1,
              "#f0f921"
             ]
            ],
            "type": "surface"
           }
          ],
          "table": [
           {
            "cells": {
             "fill": {
              "color": "#EBF0F8"
             },
             "line": {
              "color": "white"
             }
            },
            "header": {
             "fill": {
              "color": "#C8D4E3"
             },
             "line": {
              "color": "white"
             }
            },
            "type": "table"
           }
          ]
         },
         "layout": {
          "annotationdefaults": {
           "arrowcolor": "#2a3f5f",
           "arrowhead": 0,
           "arrowwidth": 1
          },
          "autotypenumbers": "strict",
          "coloraxis": {
           "colorbar": {
            "outlinewidth": 0,
            "ticks": ""
           }
          },
          "colorscale": {
           "diverging": [
            [
             0,
             "#8e0152"
            ],
            [
             0.1,
             "#c51b7d"
            ],
            [
             0.2,
             "#de77ae"
            ],
            [
             0.3,
             "#f1b6da"
            ],
            [
             0.4,
             "#fde0ef"
            ],
            [
             0.5,
             "#f7f7f7"
            ],
            [
             0.6,
             "#e6f5d0"
            ],
            [
             0.7,
             "#b8e186"
            ],
            [
             0.8,
             "#7fbc41"
            ],
            [
             0.9,
             "#4d9221"
            ],
            [
             1,
             "#276419"
            ]
           ],
           "sequential": [
            [
             0,
             "#0d0887"
            ],
            [
             0.1111111111111111,
             "#46039f"
            ],
            [
             0.2222222222222222,
             "#7201a8"
            ],
            [
             0.3333333333333333,
             "#9c179e"
            ],
            [
             0.4444444444444444,
             "#bd3786"
            ],
            [
             0.5555555555555556,
             "#d8576b"
            ],
            [
             0.6666666666666666,
             "#ed7953"
            ],
            [
             0.7777777777777778,
             "#fb9f3a"
            ],
            [
             0.8888888888888888,
             "#fdca26"
            ],
            [
             1,
             "#f0f921"
            ]
           ],
           "sequentialminus": [
            [
             0,
             "#0d0887"
            ],
            [
             0.1111111111111111,
             "#46039f"
            ],
            [
             0.2222222222222222,
             "#7201a8"
            ],
            [
             0.3333333333333333,
             "#9c179e"
            ],
            [
             0.4444444444444444,
             "#bd3786"
            ],
            [
             0.5555555555555556,
             "#d8576b"
            ],
            [
             0.6666666666666666,
             "#ed7953"
            ],
            [
             0.7777777777777778,
             "#fb9f3a"
            ],
            [
             0.8888888888888888,
             "#fdca26"
            ],
            [
             1,
             "#f0f921"
            ]
           ]
          },
          "colorway": [
           "#636efa",
           "#EF553B",
           "#00cc96",
           "#ab63fa",
           "#FFA15A",
           "#19d3f3",
           "#FF6692",
           "#B6E880",
           "#FF97FF",
           "#FECB52"
          ],
          "font": {
           "color": "#2a3f5f"
          },
          "geo": {
           "bgcolor": "white",
           "lakecolor": "white",
           "landcolor": "#E5ECF6",
           "showlakes": true,
           "showland": true,
           "subunitcolor": "white"
          },
          "hoverlabel": {
           "align": "left"
          },
          "hovermode": "closest",
          "mapbox": {
           "style": "light"
          },
          "paper_bgcolor": "white",
          "plot_bgcolor": "#E5ECF6",
          "polar": {
           "angularaxis": {
            "gridcolor": "white",
            "linecolor": "white",
            "ticks": ""
           },
           "bgcolor": "#E5ECF6",
           "radialaxis": {
            "gridcolor": "white",
            "linecolor": "white",
            "ticks": ""
           }
          },
          "scene": {
           "xaxis": {
            "backgroundcolor": "#E5ECF6",
            "gridcolor": "white",
            "gridwidth": 2,
            "linecolor": "white",
            "showbackground": true,
            "ticks": "",
            "zerolinecolor": "white"
           },
           "yaxis": {
            "backgroundcolor": "#E5ECF6",
            "gridcolor": "white",
            "gridwidth": 2,
            "linecolor": "white",
            "showbackground": true,
            "ticks": "",
            "zerolinecolor": "white"
           },
           "zaxis": {
            "backgroundcolor": "#E5ECF6",
            "gridcolor": "white",
            "gridwidth": 2,
            "linecolor": "white",
            "showbackground": true,
            "ticks": "",
            "zerolinecolor": "white"
           }
          },
          "shapedefaults": {
           "line": {
            "color": "#2a3f5f"
           }
          },
          "ternary": {
           "aaxis": {
            "gridcolor": "white",
            "linecolor": "white",
            "ticks": ""
           },
           "baxis": {
            "gridcolor": "white",
            "linecolor": "white",
            "ticks": ""
           },
           "bgcolor": "#E5ECF6",
           "caxis": {
            "gridcolor": "white",
            "linecolor": "white",
            "ticks": ""
           }
          },
          "title": {
           "x": 0.05
          },
          "xaxis": {
           "automargin": true,
           "gridcolor": "white",
           "linecolor": "white",
           "ticks": "",
           "title": {
            "standoff": 15
           },
           "zerolinecolor": "white",
           "zerolinewidth": 2
          },
          "yaxis": {
           "automargin": true,
           "gridcolor": "white",
           "linecolor": "white",
           "ticks": "",
           "title": {
            "standoff": 15
           },
           "zerolinecolor": "white",
           "zerolinewidth": 2
          }
         }
        },
        "title": {
         "text": "Sunburst of Revenue by Country/Month"
        }
       }
      }
     },
     "metadata": {},
     "output_type": "display_data"
    }
   ],
   "source": [
    "fig = px.sunburst(df_tree, path=['Country', 'Month'], values='Revenue',\n",
    "                  title='Sunburst of Revenue by Country/Month')\n",
    "fig.show()"
   ]
  },
  {
   "cell_type": "markdown",
   "id": "5a8e04b0",
   "metadata": {},
   "source": [
    "### We have created a seprate dashboard project to practice \"Dash by Plotly\"."
   ]
  }
 ],
 "metadata": {
  "kernelspec": {
   "display_name": "myenv",
   "language": "python",
   "name": "python3"
  },
  "language_info": {
   "codemirror_mode": {
    "name": "ipython",
    "version": 3
   },
   "file_extension": ".py",
   "mimetype": "text/x-python",
   "name": "python",
   "nbconvert_exporter": "python",
   "pygments_lexer": "ipython3",
   "version": "3.13.5"
  }
 },
 "nbformat": 4,
 "nbformat_minor": 5
}
